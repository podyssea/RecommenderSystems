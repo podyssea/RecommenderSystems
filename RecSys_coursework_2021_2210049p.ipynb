{
  "nbformat": 4,
  "nbformat_minor": 0,
  "metadata": {
    "colab": {
      "name": "RecSys coursework 2021_2210049p.ipynb",
      "provenance": [],
      "collapsed_sections": [],
      "include_colab_link": true
    },
    "kernelspec": {
      "name": "python3",
      "display_name": "Python 3"
    }
  },
  "cells": [
    {
      "cell_type": "markdown",
      "metadata": {
        "id": "view-in-github",
        "colab_type": "text"
      },
      "source": [
        "<a href=\"https://colab.research.google.com/github/podyssea/RecommenderSystems/blob/main/RecSys_coursework_2021_2210049p.ipynb\" target=\"_parent\"><img src=\"https://colab.research.google.com/assets/colab-badge.svg\" alt=\"Open In Colab\"/></a>"
      ]
    },
    {
      "cell_type": "markdown",
      "metadata": {
        "id": "THQFNe3zdt1f"
      },
      "source": [
        "# Assessed Coursework Template Notebook\n",
        "\n",
        "This is the template notebook for the RecSys(H) 2021 coursework. It deals with data preparation and evaluation only.\n",
        "\n",
        "Please note:\n",
        " - use H1 text headings for grouping together blocks of cells. You can then hide these while working on other blocks\n",
        " - leave the cell output visible when you submit the notebook\n",
        "\n"
      ]
    },
    {
      "cell_type": "markdown",
      "metadata": {
        "id": "Ww--_kl9-ndn"
      },
      "source": [
        "## Setup block\n",
        "\n",
        "Setup the data files, Python etc."
      ]
    },
    {
      "cell_type": "code",
      "metadata": {
        "id": "iFgYpbhh0tkX",
        "colab": {
          "base_uri": "https://localhost:8080/"
        },
        "outputId": "b8b4675e-994d-4b5f-953b-1b5719be30ca"
      },
      "source": [
        "!rm -rf ratings* books* to_read* test*\n",
        "\n",
        "!curl -o ratings.csv \"http://www.dcs.gla.ac.uk/~craigm/recsysH/coursework/final-ratings.csv\" \n",
        "!curl -o books.csv \"http://www.dcs.gla.ac.uk/~craigm/recsysH/coursework/final-books.csv\"\n",
        "!curl -o to_read.csv \"http://www.dcs.gla.ac.uk/~craigm/recsysH/coursework/final-to_read.csv\"\n",
        "!curl -o test.csv \"http://www.dcs.gla.ac.uk/~craigm/recsysH/coursework/final-test.csv\""
      ],
      "execution_count": 59,
      "outputs": [
        {
          "output_type": "stream",
          "text": [
            "  % Total    % Received % Xferd  Average Speed   Time    Time     Time  Current\n",
            "                                 Dload  Upload   Total   Spent    Left  Speed\n",
            "100 7631k  100 7631k    0     0  3586k      0  0:00:02  0:00:02 --:--:-- 3586k\n",
            "  % Total    % Received % Xferd  Average Speed   Time    Time     Time  Current\n",
            "                                 Dload  Upload   Total   Spent    Left  Speed\n",
            "100 2366k  100 2366k    0     0  1788k      0  0:00:01  0:00:01 --:--:-- 1788k\n",
            "  % Total    % Received % Xferd  Average Speed   Time    Time     Time  Current\n",
            "                                 Dload  Upload   Total   Spent    Left  Speed\n",
            "100 7581k  100 7581k    0     0  4597k      0  0:00:01  0:00:01 --:--:-- 4597k\n",
            "  % Total    % Received % Xferd  Average Speed   Time    Time     Time  Current\n",
            "                                 Dload  Upload   Total   Spent    Left  Speed\n",
            "100 1895k  100 1895k    0     0  1194k      0  0:00:01  0:00:01 --:--:-- 1195k\n"
          ],
          "name": "stdout"
        }
      ]
    },
    {
      "cell_type": "code",
      "metadata": {
        "id": "1VpVnNrZ1EiX",
        "colab": {
          "base_uri": "https://localhost:8080/"
        },
        "outputId": "c7fdc2e2-6afb-4a4f-c24b-a7722c546217"
      },
      "source": [
        "#Standard setup\n",
        "import pandas as pd\n",
        "import numpy as np\n",
        "import torch\n",
        "!pip install git+https://github.com/cmacdonald/spotlight.git@master#egg=spotlight\n",
        "from spotlight.interactions import Interactions\n",
        "SEED=42"
      ],
      "execution_count": 60,
      "outputs": [
        {
          "output_type": "stream",
          "text": [
            "Requirement already satisfied: spotlight from git+https://github.com/cmacdonald/spotlight.git@master#egg=spotlight in /usr/local/lib/python3.7/dist-packages (0.1.6)\n",
            "Requirement already satisfied: torch>=0.4.0 in /usr/local/lib/python3.7/dist-packages (from spotlight) (1.8.0+cu101)\n",
            "Requirement already satisfied: typing-extensions in /usr/local/lib/python3.7/dist-packages (from torch>=0.4.0->spotlight) (3.7.4.3)\n",
            "Requirement already satisfied: numpy in /usr/local/lib/python3.7/dist-packages (from torch>=0.4.0->spotlight) (1.19.5)\n"
          ],
          "name": "stdout"
        }
      ]
    },
    {
      "cell_type": "markdown",
      "metadata": {
        "id": "RtJO0e0m-hun"
      },
      "source": [
        "# data preparation"
      ]
    },
    {
      "cell_type": "code",
      "metadata": {
        "id": "qKAb25iw1MYw"
      },
      "source": [
        "#load in the csv files\n",
        "ratings_df = pd.read_csv(\"ratings.csv\")\n",
        "books_df = pd.read_csv(\"books.csv\")\n",
        "to_read_df = pd.read_csv(\"to_read.csv\")\n",
        "test = pd.read_csv(\"test.csv\")"
      ],
      "execution_count": 61,
      "outputs": []
    },
    {
      "cell_type": "code",
      "metadata": {
        "id": "W6rqfn53OhDC"
      },
      "source": [
        "#cut down the number of items and users\n",
        "counts=ratings_df[ratings_df[\"book_id\"] < 2000].groupby([\"book_id\"]).count().reset_index()\n",
        "valid_books=counts[counts[\"user_id\"] >= 10][[\"book_id\"]]\n",
        "\n",
        "books_df = books_df.merge(valid_books, on=\"book_id\")\n",
        "ratings_df = ratings_df[ratings_df[\"user_id\"] < 2000].merge(valid_books, on=\"book_id\")\n",
        "to_read_df = to_read_df[to_read_df[\"user_id\"] < 2000].merge(valid_books, on=\"book_id\")\n",
        "test = test[test[\"user_id\"] < 2000].merge(valid_books, on=\"book_id\")\n",
        "\n",
        "\n",
        "#stringify the id columns\n",
        "def str_col(df):\n",
        "  if \"user_id\" in df.columns:\n",
        "    df[\"user_id\"] = \"u\" + df.user_id.astype(str)\n",
        "  if \"book_id\" in df.columns:\n",
        "    df[\"book_id\"] = \"b\" + df.book_id.astype(str)\n",
        "\n",
        "str_col(books_df)\n",
        "str_col(ratings_df)\n",
        "str_col(to_read_df)\n",
        "str_col(test)\n",
        "\n"
      ],
      "execution_count": 62,
      "outputs": []
    },
    {
      "cell_type": "markdown",
      "metadata": {
        "id": "5Rqh9hFM6k20"
      },
      "source": [
        "# Implicit"
      ]
    },
    {
      "cell_type": "code",
      "metadata": {
        "colab": {
          "base_uri": "https://localhost:8080/",
          "height": 399
        },
        "id": "jujqfHPH56tB",
        "outputId": "04e7caca-9eb6-411e-89cb-386541275205"
      },
      "source": [
        "to_read_df"
      ],
      "execution_count": 63,
      "outputs": [
        {
          "output_type": "execute_result",
          "data": {
            "text/html": [
              "<div>\n",
              "<style scoped>\n",
              "    .dataframe tbody tr th:only-of-type {\n",
              "        vertical-align: middle;\n",
              "    }\n",
              "\n",
              "    .dataframe tbody tr th {\n",
              "        vertical-align: top;\n",
              "    }\n",
              "\n",
              "    .dataframe thead th {\n",
              "        text-align: right;\n",
              "    }\n",
              "</style>\n",
              "<table border=\"1\" class=\"dataframe\">\n",
              "  <thead>\n",
              "    <tr style=\"text-align: right;\">\n",
              "      <th></th>\n",
              "      <th>Unnamed: 0</th>\n",
              "      <th>user_id</th>\n",
              "      <th>book_id</th>\n",
              "    </tr>\n",
              "  </thead>\n",
              "  <tbody>\n",
              "    <tr>\n",
              "      <th>0</th>\n",
              "      <td>386014</td>\n",
              "      <td>u1333</td>\n",
              "      <td>b1797</td>\n",
              "    </tr>\n",
              "    <tr>\n",
              "      <th>1</th>\n",
              "      <td>36194</td>\n",
              "      <td>u765</td>\n",
              "      <td>b1797</td>\n",
              "    </tr>\n",
              "    <tr>\n",
              "      <th>2</th>\n",
              "      <td>25568</td>\n",
              "      <td>u1042</td>\n",
              "      <td>b1797</td>\n",
              "    </tr>\n",
              "    <tr>\n",
              "      <th>3</th>\n",
              "      <td>596738</td>\n",
              "      <td>u1360</td>\n",
              "      <td>b1797</td>\n",
              "    </tr>\n",
              "    <tr>\n",
              "      <th>4</th>\n",
              "      <td>52814</td>\n",
              "      <td>u1782</td>\n",
              "      <td>b1797</td>\n",
              "    </tr>\n",
              "    <tr>\n",
              "      <th>...</th>\n",
              "      <td>...</td>\n",
              "      <td>...</td>\n",
              "      <td>...</td>\n",
              "    </tr>\n",
              "    <tr>\n",
              "      <th>135610</th>\n",
              "      <td>444981</td>\n",
              "      <td>u556</td>\n",
              "      <td>b1157</td>\n",
              "    </tr>\n",
              "    <tr>\n",
              "      <th>135611</th>\n",
              "      <td>428922</td>\n",
              "      <td>u343</td>\n",
              "      <td>b1157</td>\n",
              "    </tr>\n",
              "    <tr>\n",
              "      <th>135612</th>\n",
              "      <td>457472</td>\n",
              "      <td>u1193</td>\n",
              "      <td>b1743</td>\n",
              "    </tr>\n",
              "    <tr>\n",
              "      <th>135613</th>\n",
              "      <td>487831</td>\n",
              "      <td>u1121</td>\n",
              "      <td>b1743</td>\n",
              "    </tr>\n",
              "    <tr>\n",
              "      <th>135614</th>\n",
              "      <td>466860</td>\n",
              "      <td>u1511</td>\n",
              "      <td>b1743</td>\n",
              "    </tr>\n",
              "  </tbody>\n",
              "</table>\n",
              "<p>135615 rows × 3 columns</p>\n",
              "</div>"
            ],
            "text/plain": [
              "        Unnamed: 0 user_id book_id\n",
              "0           386014   u1333   b1797\n",
              "1            36194    u765   b1797\n",
              "2            25568   u1042   b1797\n",
              "3           596738   u1360   b1797\n",
              "4            52814   u1782   b1797\n",
              "...            ...     ...     ...\n",
              "135610      444981    u556   b1157\n",
              "135611      428922    u343   b1157\n",
              "135612      457472   u1193   b1743\n",
              "135613      487831   u1121   b1743\n",
              "135614      466860   u1511   b1743\n",
              "\n",
              "[135615 rows x 3 columns]"
            ]
          },
          "metadata": {
            "tags": []
          },
          "execution_count": 63
        }
      ]
    },
    {
      "cell_type": "markdown",
      "metadata": {
        "id": "q8K38Kb86sZ9"
      },
      "source": [
        "#explicit"
      ]
    },
    {
      "cell_type": "code",
      "metadata": {
        "colab": {
          "base_uri": "https://localhost:8080/",
          "height": 399
        },
        "id": "FNVhxoEg6vX7",
        "outputId": "31c1ec6f-669d-4423-ea4e-430a48eb90d1"
      },
      "source": [
        "ratings_df"
      ],
      "execution_count": 64,
      "outputs": [
        {
          "output_type": "execute_result",
          "data": {
            "text/html": [
              "<div>\n",
              "<style scoped>\n",
              "    .dataframe tbody tr th:only-of-type {\n",
              "        vertical-align: middle;\n",
              "    }\n",
              "\n",
              "    .dataframe tbody tr th {\n",
              "        vertical-align: top;\n",
              "    }\n",
              "\n",
              "    .dataframe thead th {\n",
              "        text-align: right;\n",
              "    }\n",
              "</style>\n",
              "<table border=\"1\" class=\"dataframe\">\n",
              "  <thead>\n",
              "    <tr style=\"text-align: right;\">\n",
              "      <th></th>\n",
              "      <th>Unnamed: 0</th>\n",
              "      <th>user_id</th>\n",
              "      <th>book_id</th>\n",
              "      <th>rating</th>\n",
              "    </tr>\n",
              "  </thead>\n",
              "  <tbody>\n",
              "    <tr>\n",
              "      <th>0</th>\n",
              "      <td>0</td>\n",
              "      <td>u1</td>\n",
              "      <td>b258</td>\n",
              "      <td>5</td>\n",
              "    </tr>\n",
              "    <tr>\n",
              "      <th>1</th>\n",
              "      <td>130</td>\n",
              "      <td>u11</td>\n",
              "      <td>b258</td>\n",
              "      <td>3</td>\n",
              "    </tr>\n",
              "    <tr>\n",
              "      <th>2</th>\n",
              "      <td>1998</td>\n",
              "      <td>u143</td>\n",
              "      <td>b258</td>\n",
              "      <td>4</td>\n",
              "    </tr>\n",
              "    <tr>\n",
              "      <th>3</th>\n",
              "      <td>4731</td>\n",
              "      <td>u325</td>\n",
              "      <td>b258</td>\n",
              "      <td>4</td>\n",
              "    </tr>\n",
              "    <tr>\n",
              "      <th>4</th>\n",
              "      <td>5510</td>\n",
              "      <td>u362</td>\n",
              "      <td>b258</td>\n",
              "      <td>2</td>\n",
              "    </tr>\n",
              "    <tr>\n",
              "      <th>...</th>\n",
              "      <td>...</td>\n",
              "      <td>...</td>\n",
              "      <td>...</td>\n",
              "      <td>...</td>\n",
              "    </tr>\n",
              "    <tr>\n",
              "      <th>124757</th>\n",
              "      <td>438735</td>\n",
              "      <td>u1920</td>\n",
              "      <td>b1499</td>\n",
              "      <td>4</td>\n",
              "    </tr>\n",
              "    <tr>\n",
              "      <th>124758</th>\n",
              "      <td>439348</td>\n",
              "      <td>u334</td>\n",
              "      <td>b1499</td>\n",
              "      <td>2</td>\n",
              "    </tr>\n",
              "    <tr>\n",
              "      <th>124759</th>\n",
              "      <td>439505</td>\n",
              "      <td>u927</td>\n",
              "      <td>b1499</td>\n",
              "      <td>4</td>\n",
              "    </tr>\n",
              "    <tr>\n",
              "      <th>124760</th>\n",
              "      <td>439728</td>\n",
              "      <td>u1298</td>\n",
              "      <td>b1499</td>\n",
              "      <td>4</td>\n",
              "    </tr>\n",
              "    <tr>\n",
              "      <th>124761</th>\n",
              "      <td>439730</td>\n",
              "      <td>u416</td>\n",
              "      <td>b1499</td>\n",
              "      <td>3</td>\n",
              "    </tr>\n",
              "  </tbody>\n",
              "</table>\n",
              "<p>124762 rows × 4 columns</p>\n",
              "</div>"
            ],
            "text/plain": [
              "        Unnamed: 0 user_id book_id  rating\n",
              "0                0      u1    b258       5\n",
              "1              130     u11    b258       3\n",
              "2             1998    u143    b258       4\n",
              "3             4731    u325    b258       4\n",
              "4             5510    u362    b258       2\n",
              "...            ...     ...     ...     ...\n",
              "124757      438735   u1920   b1499       4\n",
              "124758      439348    u334   b1499       2\n",
              "124759      439505    u927   b1499       4\n",
              "124760      439728   u1298   b1499       4\n",
              "124761      439730    u416   b1499       3\n",
              "\n",
              "[124762 rows x 4 columns]"
            ]
          },
          "metadata": {
            "tags": []
          },
          "execution_count": 64
        }
      ]
    },
    {
      "cell_type": "markdown",
      "metadata": {
        "id": "sHx_Q7Sz61Tj"
      },
      "source": [
        "#test"
      ]
    },
    {
      "cell_type": "code",
      "metadata": {
        "colab": {
          "base_uri": "https://localhost:8080/",
          "height": 399
        },
        "id": "GDWNC4ko62tO",
        "outputId": "782ce5c8-8701-4126-d01f-6f2b35ac5993"
      },
      "source": [
        "test"
      ],
      "execution_count": 65,
      "outputs": [
        {
          "output_type": "execute_result",
          "data": {
            "text/html": [
              "<div>\n",
              "<style scoped>\n",
              "    .dataframe tbody tr th:only-of-type {\n",
              "        vertical-align: middle;\n",
              "    }\n",
              "\n",
              "    .dataframe tbody tr th {\n",
              "        vertical-align: top;\n",
              "    }\n",
              "\n",
              "    .dataframe thead th {\n",
              "        text-align: right;\n",
              "    }\n",
              "</style>\n",
              "<table border=\"1\" class=\"dataframe\">\n",
              "  <thead>\n",
              "    <tr style=\"text-align: right;\">\n",
              "      <th></th>\n",
              "      <th>Unnamed: 0</th>\n",
              "      <th>user_id</th>\n",
              "      <th>book_id</th>\n",
              "    </tr>\n",
              "  </thead>\n",
              "  <tbody>\n",
              "    <tr>\n",
              "      <th>0</th>\n",
              "      <td>26204</td>\n",
              "      <td>u978</td>\n",
              "      <td>b323</td>\n",
              "    </tr>\n",
              "    <tr>\n",
              "      <th>1</th>\n",
              "      <td>74616</td>\n",
              "      <td>u109</td>\n",
              "      <td>b323</td>\n",
              "    </tr>\n",
              "    <tr>\n",
              "      <th>2</th>\n",
              "      <td>334583</td>\n",
              "      <td>u1721</td>\n",
              "      <td>b323</td>\n",
              "    </tr>\n",
              "    <tr>\n",
              "      <th>3</th>\n",
              "      <td>297262</td>\n",
              "      <td>u429</td>\n",
              "      <td>b323</td>\n",
              "    </tr>\n",
              "    <tr>\n",
              "      <th>4</th>\n",
              "      <td>30956</td>\n",
              "      <td>u339</td>\n",
              "      <td>b323</td>\n",
              "    </tr>\n",
              "    <tr>\n",
              "      <th>...</th>\n",
              "      <td>...</td>\n",
              "      <td>...</td>\n",
              "      <td>...</td>\n",
              "    </tr>\n",
              "    <tr>\n",
              "      <th>33912</th>\n",
              "      <td>347299</td>\n",
              "      <td>u272</td>\n",
              "      <td>b1545</td>\n",
              "    </tr>\n",
              "    <tr>\n",
              "      <th>33913</th>\n",
              "      <td>1881</td>\n",
              "      <td>u126</td>\n",
              "      <td>b1333</td>\n",
              "    </tr>\n",
              "    <tr>\n",
              "      <th>33914</th>\n",
              "      <td>400826</td>\n",
              "      <td>u1841</td>\n",
              "      <td>b1513</td>\n",
              "    </tr>\n",
              "    <tr>\n",
              "      <th>33915</th>\n",
              "      <td>518727</td>\n",
              "      <td>u1599</td>\n",
              "      <td>b1513</td>\n",
              "    </tr>\n",
              "    <tr>\n",
              "      <th>33916</th>\n",
              "      <td>54189</td>\n",
              "      <td>u1854</td>\n",
              "      <td>b1448</td>\n",
              "    </tr>\n",
              "  </tbody>\n",
              "</table>\n",
              "<p>33917 rows × 3 columns</p>\n",
              "</div>"
            ],
            "text/plain": [
              "       Unnamed: 0 user_id book_id\n",
              "0           26204    u978    b323\n",
              "1           74616    u109    b323\n",
              "2          334583   u1721    b323\n",
              "3          297262    u429    b323\n",
              "4           30956    u339    b323\n",
              "...           ...     ...     ...\n",
              "33912      347299    u272   b1545\n",
              "33913        1881    u126   b1333\n",
              "33914      400826   u1841   b1513\n",
              "33915      518727   u1599   b1513\n",
              "33916       54189   u1854   b1448\n",
              "\n",
              "[33917 rows x 3 columns]"
            ]
          },
          "metadata": {
            "tags": []
          },
          "execution_count": 65
        }
      ]
    },
    {
      "cell_type": "markdown",
      "metadata": {
        "id": "uitG5dl069Dm"
      },
      "source": [
        "#books"
      ]
    },
    {
      "cell_type": "code",
      "metadata": {
        "colab": {
          "base_uri": "https://localhost:8080/",
          "height": 943
        },
        "id": "eke1nbYq6-in",
        "outputId": "d073e03a-a05b-4166-a97b-bca6c9cc93f3"
      },
      "source": [
        "books_df"
      ],
      "execution_count": 66,
      "outputs": [
        {
          "output_type": "execute_result",
          "data": {
            "text/html": [
              "<div>\n",
              "<style scoped>\n",
              "    .dataframe tbody tr th:only-of-type {\n",
              "        vertical-align: middle;\n",
              "    }\n",
              "\n",
              "    .dataframe tbody tr th {\n",
              "        vertical-align: top;\n",
              "    }\n",
              "\n",
              "    .dataframe thead th {\n",
              "        text-align: right;\n",
              "    }\n",
              "</style>\n",
              "<table border=\"1\" class=\"dataframe\">\n",
              "  <thead>\n",
              "    <tr style=\"text-align: right;\">\n",
              "      <th></th>\n",
              "      <th>Unnamed: 0</th>\n",
              "      <th>book_id</th>\n",
              "      <th>goodreads_book_id</th>\n",
              "      <th>best_book_id</th>\n",
              "      <th>work_id</th>\n",
              "      <th>books_count</th>\n",
              "      <th>isbn</th>\n",
              "      <th>isbn13</th>\n",
              "      <th>authors</th>\n",
              "      <th>original_publication_year</th>\n",
              "      <th>original_title</th>\n",
              "      <th>title</th>\n",
              "      <th>language_code</th>\n",
              "      <th>average_rating</th>\n",
              "      <th>ratings_count</th>\n",
              "      <th>work_ratings_count</th>\n",
              "      <th>work_text_reviews_count</th>\n",
              "      <th>ratings_1</th>\n",
              "      <th>ratings_2</th>\n",
              "      <th>ratings_3</th>\n",
              "      <th>ratings_4</th>\n",
              "      <th>ratings_5</th>\n",
              "      <th>image_url</th>\n",
              "      <th>small_image_url</th>\n",
              "    </tr>\n",
              "  </thead>\n",
              "  <tbody>\n",
              "    <tr>\n",
              "      <th>0</th>\n",
              "      <td>0</td>\n",
              "      <td>b1</td>\n",
              "      <td>2767052</td>\n",
              "      <td>2767052</td>\n",
              "      <td>2792775</td>\n",
              "      <td>272</td>\n",
              "      <td>439023483</td>\n",
              "      <td>9.780439e+12</td>\n",
              "      <td>Suzanne Collins</td>\n",
              "      <td>2008.0</td>\n",
              "      <td>The Hunger Games</td>\n",
              "      <td>The Hunger Games (The Hunger Games, #1)</td>\n",
              "      <td>eng</td>\n",
              "      <td>4.34</td>\n",
              "      <td>4780653</td>\n",
              "      <td>4942365</td>\n",
              "      <td>155254</td>\n",
              "      <td>66715</td>\n",
              "      <td>127936</td>\n",
              "      <td>560092</td>\n",
              "      <td>1481305</td>\n",
              "      <td>2706317</td>\n",
              "      <td>https://images.gr-assets.com/books/1447303603m...</td>\n",
              "      <td>https://images.gr-assets.com/books/1447303603s...</td>\n",
              "    </tr>\n",
              "    <tr>\n",
              "      <th>1</th>\n",
              "      <td>1</td>\n",
              "      <td>b2</td>\n",
              "      <td>3</td>\n",
              "      <td>3</td>\n",
              "      <td>4640799</td>\n",
              "      <td>491</td>\n",
              "      <td>439554934</td>\n",
              "      <td>9.780440e+12</td>\n",
              "      <td>J.K. Rowling, Mary GrandPré</td>\n",
              "      <td>1997.0</td>\n",
              "      <td>Harry Potter and the Philosopher's Stone</td>\n",
              "      <td>Harry Potter and the Sorcerer's Stone (Harry P...</td>\n",
              "      <td>eng</td>\n",
              "      <td>4.44</td>\n",
              "      <td>4602479</td>\n",
              "      <td>4800065</td>\n",
              "      <td>75867</td>\n",
              "      <td>75504</td>\n",
              "      <td>101676</td>\n",
              "      <td>455024</td>\n",
              "      <td>1156318</td>\n",
              "      <td>3011543</td>\n",
              "      <td>https://images.gr-assets.com/books/1474154022m...</td>\n",
              "      <td>https://images.gr-assets.com/books/1474154022s...</td>\n",
              "    </tr>\n",
              "    <tr>\n",
              "      <th>2</th>\n",
              "      <td>2</td>\n",
              "      <td>b3</td>\n",
              "      <td>41865</td>\n",
              "      <td>41865</td>\n",
              "      <td>3212258</td>\n",
              "      <td>226</td>\n",
              "      <td>316015849</td>\n",
              "      <td>9.780316e+12</td>\n",
              "      <td>Stephenie Meyer</td>\n",
              "      <td>2005.0</td>\n",
              "      <td>Twilight</td>\n",
              "      <td>Twilight (Twilight, #1)</td>\n",
              "      <td>en-US</td>\n",
              "      <td>3.57</td>\n",
              "      <td>3866839</td>\n",
              "      <td>3916824</td>\n",
              "      <td>95009</td>\n",
              "      <td>456191</td>\n",
              "      <td>436802</td>\n",
              "      <td>793319</td>\n",
              "      <td>875073</td>\n",
              "      <td>1355439</td>\n",
              "      <td>https://images.gr-assets.com/books/1361039443m...</td>\n",
              "      <td>https://images.gr-assets.com/books/1361039443s...</td>\n",
              "    </tr>\n",
              "    <tr>\n",
              "      <th>3</th>\n",
              "      <td>3</td>\n",
              "      <td>b4</td>\n",
              "      <td>2657</td>\n",
              "      <td>2657</td>\n",
              "      <td>3275794</td>\n",
              "      <td>487</td>\n",
              "      <td>61120081</td>\n",
              "      <td>9.780061e+12</td>\n",
              "      <td>Harper Lee</td>\n",
              "      <td>1960.0</td>\n",
              "      <td>To Kill a Mockingbird</td>\n",
              "      <td>To Kill a Mockingbird</td>\n",
              "      <td>eng</td>\n",
              "      <td>4.25</td>\n",
              "      <td>3198671</td>\n",
              "      <td>3340896</td>\n",
              "      <td>72586</td>\n",
              "      <td>60427</td>\n",
              "      <td>117415</td>\n",
              "      <td>446835</td>\n",
              "      <td>1001952</td>\n",
              "      <td>1714267</td>\n",
              "      <td>https://images.gr-assets.com/books/1361975680m...</td>\n",
              "      <td>https://images.gr-assets.com/books/1361975680s...</td>\n",
              "    </tr>\n",
              "    <tr>\n",
              "      <th>4</th>\n",
              "      <td>4</td>\n",
              "      <td>b5</td>\n",
              "      <td>4671</td>\n",
              "      <td>4671</td>\n",
              "      <td>245494</td>\n",
              "      <td>1356</td>\n",
              "      <td>743273567</td>\n",
              "      <td>9.780743e+12</td>\n",
              "      <td>F. Scott Fitzgerald</td>\n",
              "      <td>1925.0</td>\n",
              "      <td>The Great Gatsby</td>\n",
              "      <td>The Great Gatsby</td>\n",
              "      <td>eng</td>\n",
              "      <td>3.89</td>\n",
              "      <td>2683664</td>\n",
              "      <td>2773745</td>\n",
              "      <td>51992</td>\n",
              "      <td>86236</td>\n",
              "      <td>197621</td>\n",
              "      <td>606158</td>\n",
              "      <td>936012</td>\n",
              "      <td>947718</td>\n",
              "      <td>https://images.gr-assets.com/books/1490528560m...</td>\n",
              "      <td>https://images.gr-assets.com/books/1490528560s...</td>\n",
              "    </tr>\n",
              "    <tr>\n",
              "      <th>...</th>\n",
              "      <td>...</td>\n",
              "      <td>...</td>\n",
              "      <td>...</td>\n",
              "      <td>...</td>\n",
              "      <td>...</td>\n",
              "      <td>...</td>\n",
              "      <td>...</td>\n",
              "      <td>...</td>\n",
              "      <td>...</td>\n",
              "      <td>...</td>\n",
              "      <td>...</td>\n",
              "      <td>...</td>\n",
              "      <td>...</td>\n",
              "      <td>...</td>\n",
              "      <td>...</td>\n",
              "      <td>...</td>\n",
              "      <td>...</td>\n",
              "      <td>...</td>\n",
              "      <td>...</td>\n",
              "      <td>...</td>\n",
              "      <td>...</td>\n",
              "      <td>...</td>\n",
              "      <td>...</td>\n",
              "      <td>...</td>\n",
              "    </tr>\n",
              "    <tr>\n",
              "      <th>1821</th>\n",
              "      <td>1989</td>\n",
              "      <td>b1990</td>\n",
              "      <td>11331421</td>\n",
              "      <td>11331421</td>\n",
              "      <td>6504537</td>\n",
              "      <td>83</td>\n",
              "      <td>1590514637</td>\n",
              "      <td>9.781591e+12</td>\n",
              "      <td>Jan-Philipp Sendker, Kevin Wiliarty</td>\n",
              "      <td>2002.0</td>\n",
              "      <td>Das Herzenhören</td>\n",
              "      <td>The Art of Hearing Heartbeats</td>\n",
              "      <td>eng</td>\n",
              "      <td>3.98</td>\n",
              "      <td>41647</td>\n",
              "      <td>50338</td>\n",
              "      <td>5650</td>\n",
              "      <td>704</td>\n",
              "      <td>2697</td>\n",
              "      <td>10330</td>\n",
              "      <td>19670</td>\n",
              "      <td>16937</td>\n",
              "      <td>https://images.gr-assets.com/books/1320437247m...</td>\n",
              "      <td>https://images.gr-assets.com/books/1320437247s...</td>\n",
              "    </tr>\n",
              "    <tr>\n",
              "      <th>1822</th>\n",
              "      <td>1990</td>\n",
              "      <td>b1991</td>\n",
              "      <td>8935689</td>\n",
              "      <td>8935689</td>\n",
              "      <td>14366</td>\n",
              "      <td>50</td>\n",
              "      <td>1857231384</td>\n",
              "      <td>9.781857e+12</td>\n",
              "      <td>Iain M. Banks</td>\n",
              "      <td>1987.0</td>\n",
              "      <td>Consider Phlebas</td>\n",
              "      <td>Consider Phlebas (Culture, #1)</td>\n",
              "      <td>eng</td>\n",
              "      <td>3.85</td>\n",
              "      <td>48649</td>\n",
              "      <td>53499</td>\n",
              "      <td>2666</td>\n",
              "      <td>1083</td>\n",
              "      <td>3656</td>\n",
              "      <td>12772</td>\n",
              "      <td>20533</td>\n",
              "      <td>15455</td>\n",
              "      <td>https://images.gr-assets.com/books/1327951890m...</td>\n",
              "      <td>https://images.gr-assets.com/books/1327951890s...</td>\n",
              "    </tr>\n",
              "    <tr>\n",
              "      <th>1823</th>\n",
              "      <td>1992</td>\n",
              "      <td>b1993</td>\n",
              "      <td>31332</td>\n",
              "      <td>31332</td>\n",
              "      <td>2925979</td>\n",
              "      <td>63</td>\n",
              "      <td>345434803</td>\n",
              "      <td>9.780345e+12</td>\n",
              "      <td>Anne Rice</td>\n",
              "      <td>1998.0</td>\n",
              "      <td>The Vampire Armand</td>\n",
              "      <td>The Vampire Armand (The Vampire Chronicles, #6)</td>\n",
              "      <td>en-US</td>\n",
              "      <td>3.75</td>\n",
              "      <td>54919</td>\n",
              "      <td>57566</td>\n",
              "      <td>756</td>\n",
              "      <td>1129</td>\n",
              "      <td>4866</td>\n",
              "      <td>17158</td>\n",
              "      <td>18670</td>\n",
              "      <td>15743</td>\n",
              "      <td>https://s.gr-assets.com/assets/nophoto/book/11...</td>\n",
              "      <td>https://s.gr-assets.com/assets/nophoto/book/50...</td>\n",
              "    </tr>\n",
              "    <tr>\n",
              "      <th>1824</th>\n",
              "      <td>1996</td>\n",
              "      <td>b1997</td>\n",
              "      <td>9565548</td>\n",
              "      <td>9565548</td>\n",
              "      <td>14452295</td>\n",
              "      <td>33</td>\n",
              "      <td>054762834X</td>\n",
              "      <td>9.780548e+12</td>\n",
              "      <td>Robin LaFevers</td>\n",
              "      <td>2012.0</td>\n",
              "      <td>Grave Mercy</td>\n",
              "      <td>Grave Mercy (His Fair Assassin, #1)</td>\n",
              "      <td>eng</td>\n",
              "      <td>3.92</td>\n",
              "      <td>70476</td>\n",
              "      <td>74683</td>\n",
              "      <td>7661</td>\n",
              "      <td>2257</td>\n",
              "      <td>4487</td>\n",
              "      <td>15591</td>\n",
              "      <td>27223</td>\n",
              "      <td>25125</td>\n",
              "      <td>https://images.gr-assets.com/books/1320269319m...</td>\n",
              "      <td>https://images.gr-assets.com/books/1320269319s...</td>\n",
              "    </tr>\n",
              "    <tr>\n",
              "      <th>1825</th>\n",
              "      <td>1998</td>\n",
              "      <td>b1999</td>\n",
              "      <td>249</td>\n",
              "      <td>249</td>\n",
              "      <td>543143</td>\n",
              "      <td>205</td>\n",
              "      <td>802131786</td>\n",
              "      <td>9.780802e+12</td>\n",
              "      <td>Henry Miller</td>\n",
              "      <td>1934.0</td>\n",
              "      <td>Tropic of Cancer</td>\n",
              "      <td>Tropic of Cancer</td>\n",
              "      <td>eng</td>\n",
              "      <td>3.71</td>\n",
              "      <td>45518</td>\n",
              "      <td>49701</td>\n",
              "      <td>2526</td>\n",
              "      <td>2313</td>\n",
              "      <td>4591</td>\n",
              "      <td>12278</td>\n",
              "      <td>16494</td>\n",
              "      <td>14025</td>\n",
              "      <td>https://images.gr-assets.com/books/1408753140m...</td>\n",
              "      <td>https://images.gr-assets.com/books/1408753140s...</td>\n",
              "    </tr>\n",
              "  </tbody>\n",
              "</table>\n",
              "<p>1826 rows × 24 columns</p>\n",
              "</div>"
            ],
            "text/plain": [
              "      Unnamed: 0  ...                                    small_image_url\n",
              "0              0  ...  https://images.gr-assets.com/books/1447303603s...\n",
              "1              1  ...  https://images.gr-assets.com/books/1474154022s...\n",
              "2              2  ...  https://images.gr-assets.com/books/1361039443s...\n",
              "3              3  ...  https://images.gr-assets.com/books/1361975680s...\n",
              "4              4  ...  https://images.gr-assets.com/books/1490528560s...\n",
              "...          ...  ...                                                ...\n",
              "1821        1989  ...  https://images.gr-assets.com/books/1320437247s...\n",
              "1822        1990  ...  https://images.gr-assets.com/books/1327951890s...\n",
              "1823        1992  ...  https://s.gr-assets.com/assets/nophoto/book/50...\n",
              "1824        1996  ...  https://images.gr-assets.com/books/1320269319s...\n",
              "1825        1998  ...  https://images.gr-assets.com/books/1408753140s...\n",
              "\n",
              "[1826 rows x 24 columns]"
            ]
          },
          "metadata": {
            "tags": []
          },
          "execution_count": 66
        }
      ]
    },
    {
      "cell_type": "code",
      "metadata": {
        "colab": {
          "base_uri": "https://localhost:8080/",
          "height": 670
        },
        "id": "g1ld1dBdoyLT",
        "outputId": "deb9bb58-d1e9-4088-a79f-0f7bcc92f36b"
      },
      "source": [
        "books_df.sort_values('average_rating', ascending=False).head(5)"
      ],
      "execution_count": 67,
      "outputs": [
        {
          "output_type": "execute_result",
          "data": {
            "text/html": [
              "<div>\n",
              "<style scoped>\n",
              "    .dataframe tbody tr th:only-of-type {\n",
              "        vertical-align: middle;\n",
              "    }\n",
              "\n",
              "    .dataframe tbody tr th {\n",
              "        vertical-align: top;\n",
              "    }\n",
              "\n",
              "    .dataframe thead th {\n",
              "        text-align: right;\n",
              "    }\n",
              "</style>\n",
              "<table border=\"1\" class=\"dataframe\">\n",
              "  <thead>\n",
              "    <tr style=\"text-align: right;\">\n",
              "      <th></th>\n",
              "      <th>Unnamed: 0</th>\n",
              "      <th>book_id</th>\n",
              "      <th>goodreads_book_id</th>\n",
              "      <th>best_book_id</th>\n",
              "      <th>work_id</th>\n",
              "      <th>books_count</th>\n",
              "      <th>isbn</th>\n",
              "      <th>isbn13</th>\n",
              "      <th>authors</th>\n",
              "      <th>original_publication_year</th>\n",
              "      <th>original_title</th>\n",
              "      <th>title</th>\n",
              "      <th>language_code</th>\n",
              "      <th>average_rating</th>\n",
              "      <th>ratings_count</th>\n",
              "      <th>work_ratings_count</th>\n",
              "      <th>work_text_reviews_count</th>\n",
              "      <th>ratings_1</th>\n",
              "      <th>ratings_2</th>\n",
              "      <th>ratings_3</th>\n",
              "      <th>ratings_4</th>\n",
              "      <th>ratings_5</th>\n",
              "      <th>image_url</th>\n",
              "      <th>small_image_url</th>\n",
              "    </tr>\n",
              "  </thead>\n",
              "  <tbody>\n",
              "    <tr>\n",
              "      <th>839</th>\n",
              "      <td>861</td>\n",
              "      <td>b862</td>\n",
              "      <td>17332218</td>\n",
              "      <td>17332218</td>\n",
              "      <td>16482835</td>\n",
              "      <td>34</td>\n",
              "      <td>765326361</td>\n",
              "      <td>9.780765e+12</td>\n",
              "      <td>Brandon Sanderson</td>\n",
              "      <td>2014.0</td>\n",
              "      <td>Words of Radiance</td>\n",
              "      <td>Words of Radiance (The Stormlight Archive, #2)</td>\n",
              "      <td>eng</td>\n",
              "      <td>4.77</td>\n",
              "      <td>73572</td>\n",
              "      <td>108176</td>\n",
              "      <td>7261</td>\n",
              "      <td>154</td>\n",
              "      <td>404</td>\n",
              "      <td>2653</td>\n",
              "      <td>18272</td>\n",
              "      <td>86693</td>\n",
              "      <td>https://images.gr-assets.com/books/1391535251m...</td>\n",
              "      <td>https://images.gr-assets.com/books/1391535251s...</td>\n",
              "    </tr>\n",
              "    <tr>\n",
              "      <th>420</th>\n",
              "      <td>421</td>\n",
              "      <td>b422</td>\n",
              "      <td>862041</td>\n",
              "      <td>862041</td>\n",
              "      <td>2962492</td>\n",
              "      <td>76</td>\n",
              "      <td>545044251</td>\n",
              "      <td>9.780545e+12</td>\n",
              "      <td>J.K. Rowling</td>\n",
              "      <td>1998.0</td>\n",
              "      <td>Complete Harry Potter Boxed Set</td>\n",
              "      <td>Harry Potter Boxset (Harry Potter, #1-7)</td>\n",
              "      <td>eng</td>\n",
              "      <td>4.74</td>\n",
              "      <td>190050</td>\n",
              "      <td>204125</td>\n",
              "      <td>6508</td>\n",
              "      <td>1105</td>\n",
              "      <td>1285</td>\n",
              "      <td>7020</td>\n",
              "      <td>30666</td>\n",
              "      <td>164049</td>\n",
              "      <td>https://images.gr-assets.com/books/1392579059m...</td>\n",
              "      <td>https://images.gr-assets.com/books/1392579059s...</td>\n",
              "    </tr>\n",
              "    <tr>\n",
              "      <th>1243</th>\n",
              "      <td>1307</td>\n",
              "      <td>b1308</td>\n",
              "      <td>17927395</td>\n",
              "      <td>17927395</td>\n",
              "      <td>25126749</td>\n",
              "      <td>39</td>\n",
              "      <td>NaN</td>\n",
              "      <td>NaN</td>\n",
              "      <td>Sarah J. Maas</td>\n",
              "      <td>2016.0</td>\n",
              "      <td>A Court of Mist and Fury</td>\n",
              "      <td>A Court of Mist and Fury (A Court of Thorns an...</td>\n",
              "      <td>eng</td>\n",
              "      <td>4.72</td>\n",
              "      <td>108384</td>\n",
              "      <td>126491</td>\n",
              "      <td>22700</td>\n",
              "      <td>931</td>\n",
              "      <td>1420</td>\n",
              "      <td>4725</td>\n",
              "      <td>18000</td>\n",
              "      <td>101415</td>\n",
              "      <td>https://images.gr-assets.com/books/1485259138m...</td>\n",
              "      <td>https://images.gr-assets.com/books/1485259138s...</td>\n",
              "    </tr>\n",
              "    <tr>\n",
              "      <th>974</th>\n",
              "      <td>1009</td>\n",
              "      <td>b1010</td>\n",
              "      <td>43070</td>\n",
              "      <td>43070</td>\n",
              "      <td>2244438</td>\n",
              "      <td>26</td>\n",
              "      <td>836218051</td>\n",
              "      <td>9.780836e+12</td>\n",
              "      <td>Bill Watterson</td>\n",
              "      <td>1988.0</td>\n",
              "      <td>The Essential Calvin and Hobbes: A Calvin and ...</td>\n",
              "      <td>The Essential Calvin and Hobbes: A Calvin and ...</td>\n",
              "      <td>en-US</td>\n",
              "      <td>4.65</td>\n",
              "      <td>93001</td>\n",
              "      <td>95543</td>\n",
              "      <td>598</td>\n",
              "      <td>717</td>\n",
              "      <td>895</td>\n",
              "      <td>5387</td>\n",
              "      <td>17566</td>\n",
              "      <td>70978</td>\n",
              "      <td>https://s.gr-assets.com/assets/nophoto/book/11...</td>\n",
              "      <td>https://s.gr-assets.com/assets/nophoto/book/50...</td>\n",
              "    </tr>\n",
              "    <tr>\n",
              "      <th>555</th>\n",
              "      <td>561</td>\n",
              "      <td>b562</td>\n",
              "      <td>7235533</td>\n",
              "      <td>7235533</td>\n",
              "      <td>8134945</td>\n",
              "      <td>48</td>\n",
              "      <td>765326353</td>\n",
              "      <td>9.780765e+12</td>\n",
              "      <td>Brandon Sanderson</td>\n",
              "      <td>2010.0</td>\n",
              "      <td>The Way of Kings</td>\n",
              "      <td>The Way of Kings (The Stormlight Archive, #1)</td>\n",
              "      <td>eng</td>\n",
              "      <td>4.64</td>\n",
              "      <td>144822</td>\n",
              "      <td>164477</td>\n",
              "      <td>10947</td>\n",
              "      <td>1085</td>\n",
              "      <td>1827</td>\n",
              "      <td>7661</td>\n",
              "      <td>33962</td>\n",
              "      <td>119942</td>\n",
              "      <td>https://images.gr-assets.com/books/1388184640m...</td>\n",
              "      <td>https://images.gr-assets.com/books/1388184640s...</td>\n",
              "    </tr>\n",
              "  </tbody>\n",
              "</table>\n",
              "</div>"
            ],
            "text/plain": [
              "      Unnamed: 0  ...                                    small_image_url\n",
              "839          861  ...  https://images.gr-assets.com/books/1391535251s...\n",
              "420          421  ...  https://images.gr-assets.com/books/1392579059s...\n",
              "1243        1307  ...  https://images.gr-assets.com/books/1485259138s...\n",
              "974         1009  ...  https://s.gr-assets.com/assets/nophoto/book/50...\n",
              "555          561  ...  https://images.gr-assets.com/books/1388184640s...\n",
              "\n",
              "[5 rows x 24 columns]"
            ]
          },
          "metadata": {
            "tags": []
          },
          "execution_count": 67
        }
      ]
    },
    {
      "cell_type": "markdown",
      "metadata": {
        "id": "C7cgXhmYUXIn"
      },
      "source": [
        "Here we construct the Interactions objects from `ratings.csv`, `to_read.csv` and `test.csv`. We manually specify the num_users and num_items parameters to all Interaction objects, in case the test set differs from your training sets."
      ]
    },
    {
      "cell_type": "code",
      "metadata": {
        "id": "15ClgJOdTTt1",
        "colab": {
          "base_uri": "https://localhost:8080/"
        },
        "outputId": "15f976c6-47b8-47f9-b3a3-8a1791ff2e89"
      },
      "source": [
        "from collections import defaultdict\n",
        "from itertools import count, combinations\n",
        "\n",
        "from spotlight.cross_validation import random_train_test_split\n",
        "\n",
        "iid_map = defaultdict(count().__next__)\n",
        "\n",
        "\n",
        "rating_iids = np.array([iid_map[iid] for iid in ratings_df[\"book_id\"].values], dtype = np.int32)\n",
        "test_iids = np.array([iid_map[iid] for iid in test[\"book_id\"].values], dtype = np.int32)\n",
        "toread_iids = np.array([iid_map[iid] for iid in to_read_df[\"book_id\"].values], dtype = np.int32)\n",
        "\n",
        "\n",
        "uid_map = defaultdict(count().__next__)\n",
        "\n",
        "test_uids = np.array([uid_map[uid] for uid in test[\"user_id\"].values], dtype = np.int32)\n",
        "rating_uids = np.array([uid_map[uid] for uid in ratings_df[\"user_id\"].values], dtype = np.int32)\n",
        "toread_uids = np.array([uid_map[iid] for iid in to_read_df[\"user_id\"].values], dtype = np.int32)\n",
        "\n",
        "\n",
        "uid_rev_map = {v: k for k, v in uid_map.items()}\n",
        "iid_rev_map = {v: k for k, v in iid_map.items()}\n",
        "\n",
        "\n",
        "rating_dataset = Interactions(user_ids=rating_uids,\n",
        "                               item_ids=rating_iids,\n",
        "                               ratings=ratings_df[\"rating\"].values,\n",
        "                               num_users=len(uid_rev_map),\n",
        "                               num_items=len(iid_rev_map))\n",
        "\n",
        "toread_dataset = Interactions(user_ids=toread_uids,\n",
        "                               item_ids=toread_iids,\n",
        "                               num_users=len(uid_rev_map),\n",
        "                               num_items=len(iid_rev_map))\n",
        "\n",
        "test_dataset = Interactions(user_ids=test_uids,\n",
        "                               item_ids=test_iids,\n",
        "                               num_users=len(uid_rev_map),\n",
        "                               num_items=len(iid_rev_map))\n",
        "\n",
        "print(rating_dataset)\n",
        "print(toread_dataset)\n",
        "print(test_dataset)\n",
        "\n",
        "#here we define the validation set\n",
        "toread_dataset_train, validation = random_train_test_split(toread_dataset, random_state=np.random.RandomState(SEED))\n",
        "print(validation)\n",
        "\n",
        "num_items = test_dataset.num_items\n",
        "num_users = test_dataset.num_users"
      ],
      "execution_count": 68,
      "outputs": [
        {
          "output_type": "stream",
          "text": [
            "<Interactions dataset (1999 users x 1826 items x 124762 interactions)>\n",
            "<Interactions dataset (1999 users x 1826 items x 135615 interactions)>\n",
            "<Interactions dataset (1999 users x 1826 items x 33917 interactions)>\n",
            "<Interactions dataset (1999 users x 1826 items x 27123 interactions)>\n"
          ],
          "name": "stdout"
        }
      ]
    },
    {
      "cell_type": "code",
      "metadata": {
        "colab": {
          "base_uri": "https://localhost:8080/"
        },
        "id": "cO3KrKeICGC8",
        "outputId": "3ea41344-878b-47df-c25e-0d05b32173ab"
      },
      "source": [
        "print(toread_dataset_train)"
      ],
      "execution_count": 69,
      "outputs": [
        {
          "output_type": "stream",
          "text": [
            "<Interactions dataset (1999 users x 1826 items x 108492 interactions)>\n"
          ],
          "name": "stdout"
        }
      ]
    },
    {
      "cell_type": "code",
      "metadata": {
        "id": "1mJr6xPE7rgj",
        "colab": {
          "base_uri": "https://localhost:8080/"
        },
        "outputId": "f673313a-667e-43c4-d589-51cbdeb10538"
      },
      "source": [
        "print(num_items)"
      ],
      "execution_count": 70,
      "outputs": [
        {
          "output_type": "stream",
          "text": [
            "1826\n"
          ],
          "name": "stdout"
        }
      ]
    },
    {
      "cell_type": "markdown",
      "metadata": {
        "id": "Kt4I2C5DTUL5"
      },
      "source": [
        "#Example code\n",
        "\n",
        "To evaluate soem of your hand-implemented recommender systems (e.g. Q1, Q4), you will need to instantiate objects that match the specification of a Spotlight model, which `mrr_score()` expects.\n",
        "\n",
        "\n",
        "Here is an example recommender object that returns 0 for each item, regardless of user."
      ]
    },
    {
      "cell_type": "code",
      "metadata": {
        "id": "s2eaxy_hakbC",
        "colab": {
          "base_uri": "https://localhost:8080/"
        },
        "outputId": "474bfb76-cb6b-4a81-972f-7c912a425e60"
      },
      "source": [
        "from spotlight.evaluation import mrr_score, rmse_score\n",
        "\n",
        "\n",
        "class dummymodel:\n",
        "  \n",
        "  def __init__(self, numitems):\n",
        "    self.predictions=np.zeros(numitems)\n",
        "  \n",
        "  #uid is the user we are requesting recommendations for;\n",
        "  #returns an array of scores, one for each item\n",
        "  def predict(self, uid):\n",
        "    #this model returns all zeros, regardless of userid\n",
        "    return( self.predictions )\n",
        "\n",
        "#lets evaluate how the effeciveness of dummymodel\n",
        "\n",
        "dummymodel(num_items)\n",
        "\n",
        "# print(mrr_score(dummymodel(num_items), test_dataset, train=rating_dataset, k=100).mean())\n",
        "#as expected, a recommendation model that gives 0 scores for all items obtains a MRR score of 0\n",
        "\n"
      ],
      "execution_count": 71,
      "outputs": [
        {
          "output_type": "execute_result",
          "data": {
            "text/plain": [
              "<__main__.dummymodel at 0x7f5623747450>"
            ]
          },
          "metadata": {
            "tags": []
          },
          "execution_count": 71
        }
      ]
    },
    {
      "cell_type": "code",
      "metadata": {
        "id": "ZQTJOmS5dB3i",
        "colab": {
          "base_uri": "https://localhost:8080/"
        },
        "outputId": "c3ee0746-c9ba-4901-a979-b96ea615842c"
      },
      "source": [
        "\n",
        "#note that the latest copy of Craig's Spotlight displays a progress bar if you set verbose=True\n",
        "print(mrr_score(dummymodel(num_items), test_dataset, train=rating_dataset, k=100, verbose=True).mean())\n"
      ],
      "execution_count": 72,
      "outputs": [
        {
          "output_type": "stream",
          "text": [
            "1999it [00:00, 3306.90it/s]"
          ],
          "name": "stderr"
        },
        {
          "output_type": "stream",
          "text": [
            "0.0\n"
          ],
          "name": "stdout"
        },
        {
          "output_type": "stream",
          "text": [
            "\n"
          ],
          "name": "stderr"
        }
      ]
    },
    {
      "cell_type": "markdown",
      "metadata": {
        "id": "SyvGgW_3ZjLV"
      },
      "source": [
        "#Question 1\n",
        "\n",
        "Non personalised baselines for ranking books based on statistics"
      ]
    },
    {
      "cell_type": "code",
      "metadata": {
        "id": "q0aSv5xLy1Rj",
        "colab": {
          "base_uri": "https://localhost:8080/"
        },
        "outputId": "a4746e72-0860-4c2c-db58-29c95af4991a"
      },
      "source": [
        "#group the ratings by book id and display only book id and rating then take the average for each book\r\n",
        "# and pass the rating column into a list\r\n",
        "average_rating = ratings_df[[\"book_id\", \"rating\"]].groupby([\"book_id\"]).mean()\r\n",
        "non_personalised_ar = average_rating['rating'].tolist()\r\n",
        "\r\n",
        "#pass them into a similar model to dummy model and take predictions\r\n",
        "# this process will remain the same throughout non-personalised based models\r\n",
        "class average_rating:\r\n",
        "  \r\n",
        "  def __init__(self, numitems):\r\n",
        "    self.predictions=np.ones(numitems) * non_personalised_ar\r\n",
        "  \r\n",
        "  #uid is the user we are requesting recommendations for;\r\n",
        "  #returns an array of scores, one for each item\r\n",
        "  def predict(self, uid):\r\n",
        "    #this model returns all zeros, regardless of userid\r\n",
        "    return( self.predictions )\r\n",
        "\r\n",
        "\r\n",
        "#take the mrr score\r\n",
        "print(mrr_score(average_rating(num_items), test_dataset, train=rating_dataset, k=100, verbose=True).mean())"
      ],
      "execution_count": 73,
      "outputs": [
        {
          "output_type": "stream",
          "text": [
            "1999it [00:00, 2580.30it/s]"
          ],
          "name": "stderr"
        },
        {
          "output_type": "stream",
          "text": [
            "0.0370085786108787\n"
          ],
          "name": "stdout"
        },
        {
          "output_type": "stream",
          "text": [
            "\n"
          ],
          "name": "stderr"
        }
      ]
    },
    {
      "cell_type": "code",
      "metadata": {
        "id": "08rDcHdZzP1f",
        "colab": {
          "base_uri": "https://localhost:8080/"
        },
        "outputId": "0164f6fe-0ac5-4ed8-e7b9-9c652f203366"
      },
      "source": [
        "#group by book id and display book id and rating counts from the book_df and take the sum of the ratings for each book\r\n",
        "# and pass the rating counts into a list\r\n",
        "number_of_ratings = books_df[[\"book_id\", \"ratings_count\"]].groupby([\"book_id\"]).sum()\r\n",
        "non_personalised_nor = number_of_ratings['ratings_count'].tolist()\r\n",
        "\r\n",
        "class number_of_ratings:\r\n",
        "  \r\n",
        "  def __init__(self, numitems):\r\n",
        "    self.predictions=np.ones(numitems) * non_personalised_nor\r\n",
        "  \r\n",
        "  #uid is the user we are requesting recommendations for;\r\n",
        "  #returns an array of scores, one for each item\r\n",
        "  def predict(self, uid):\r\n",
        "    #this model returns all zeros, regardless of userid\r\n",
        "    return( self.predictions )\r\n",
        "\r\n",
        "\r\n",
        "print(mrr_score(number_of_ratings(num_items), test_dataset, train=rating_dataset, k=100, verbose=True).mean())"
      ],
      "execution_count": 74,
      "outputs": [
        {
          "output_type": "stream",
          "text": [
            "1999it [00:00, 2666.89it/s]"
          ],
          "name": "stderr"
        },
        {
          "output_type": "stream",
          "text": [
            "0.0458981602236436\n"
          ],
          "name": "stdout"
        },
        {
          "output_type": "stream",
          "text": [
            "\n"
          ],
          "name": "stderr"
        }
      ]
    },
    {
      "cell_type": "code",
      "metadata": {
        "id": "pjKvLxfJ1nvw",
        "colab": {
          "base_uri": "https://localhost:8080/"
        },
        "outputId": "9a824222-9a67-439d-d68f-161931927032"
      },
      "source": [
        "#take the number of 5 star ratings from the books df and pass them into the model\r\n",
        "star5_ratings = books_df['ratings_5'].tolist()\r\n",
        "\r\n",
        "class number_of_5_star_ratings:\r\n",
        "  \r\n",
        "  def __init__(self, numitems):\r\n",
        "    self.predictions=np.ones(numitems) * star5_ratings\r\n",
        "  \r\n",
        "  #uid is the user we are requesting recommendations for;\r\n",
        "  #returns an array of scores, one for each item\r\n",
        "  def predict(self, uid):\r\n",
        "    #this model returns all zeros, regardless of userid\r\n",
        "    return( self.predictions )\r\n",
        "    \r\n",
        "\r\n",
        "print(mrr_score(number_of_5_star_ratings(num_items), test_dataset, train=rating_dataset, k=100, verbose=True).mean())\r\n"
      ],
      "execution_count": 75,
      "outputs": [
        {
          "output_type": "stream",
          "text": [
            "1999it [00:00, 2645.70it/s]"
          ],
          "name": "stderr"
        },
        {
          "output_type": "stream",
          "text": [
            "0.09851435310152991\n"
          ],
          "name": "stdout"
        },
        {
          "output_type": "stream",
          "text": [
            "\n"
          ],
          "name": "stderr"
        }
      ]
    },
    {
      "cell_type": "code",
      "metadata": {
        "id": "dJAPojDD3ZvM",
        "colab": {
          "base_uri": "https://localhost:8080/"
        },
        "outputId": "8b3a8df1-773c-4580-e85f-7b0974466dd3"
      },
      "source": [
        "#divide the number of 5 star ratings by the number of ratings for a specific item\r\n",
        "fractions_of_ratings = np.asarray(star5_ratings) / np.asarray(non_personalised_nor)\r\n",
        "\r\n",
        "class fractions_of_5_star:\r\n",
        "  \r\n",
        "  def __init__(self, numitems):\r\n",
        "    self.predictions=np.ones(numitems) * fractions_of_ratings\r\n",
        "  \r\n",
        "  #uid is the user we are requesting recommendations for;\r\n",
        "  #returns an array of scores, one for each item\r\n",
        "  def predict(self, uid):\r\n",
        "    #this model returns all zeros, regardless of userid\r\n",
        "    return( self.predictions )\r\n",
        "    \r\n",
        "\r\n",
        "print(mrr_score(fractions_of_5_star(num_items), test_dataset, train=rating_dataset, k=100, verbose=True).mean())"
      ],
      "execution_count": 76,
      "outputs": [
        {
          "output_type": "stream",
          "text": [
            "1999it [00:00, 2646.18it/s]"
          ],
          "name": "stderr"
        },
        {
          "output_type": "stream",
          "text": [
            "0.15971513656750713\n"
          ],
          "name": "stdout"
        },
        {
          "output_type": "stream",
          "text": [
            "\n"
          ],
          "name": "stderr"
        }
      ]
    },
    {
      "cell_type": "markdown",
      "metadata": {
        "id": "b6LgG2lCVtz0"
      },
      "source": [
        "# Question 2"
      ]
    },
    {
      "cell_type": "code",
      "metadata": {
        "id": "fhskxrunFmXg"
      },
      "source": [
        "#import necessary modules\r\n",
        "from spotlight.interactions import Interactions\r\n",
        "from spotlight.cross_validation import random_train_test_split\r\n",
        "from spotlight.factorization.explicit import ExplicitFactorizationModel\r\n",
        "from spotlight.factorization.implicit import ImplicitFactorizationModel\r\n",
        "from collections import defaultdict\r\n",
        "from itertools import count\r\n",
        "import itertools\r\n",
        "import time\r\n",
        "from scipy.stats import rankdata\r\n",
        "import random"
      ],
      "execution_count": 77,
      "outputs": []
    },
    {
      "cell_type": "code",
      "metadata": {
        "id": "H9GIhUi9Ep5h"
      },
      "source": [
        "#define the latent factors\r\n",
        "latent_factors = [8,16,32,64]"
      ],
      "execution_count": 78,
      "outputs": []
    },
    {
      "cell_type": "code",
      "metadata": {
        "colab": {
          "base_uri": "https://localhost:8080/"
        },
        "id": "J0ubnRoHNy-G",
        "outputId": "bc0fd635-f8dd-4eca-e840-ea95353943eb"
      },
      "source": [
        "#train both the Implicit and Explicit model on the explicit dataset\r\n",
        "\r\n",
        "##Implicit\r\n",
        "emodel = ExplicitFactorizationModel(n_iter=5,\r\n",
        "                                use_cuda=False,\r\n",
        "                                random_state=np.random.RandomState(SEED) # ensure results are repeatable\r\n",
        ")\r\n",
        "\r\n",
        "emodel.fit(rating_dataset)\r\n",
        "\r\n",
        "print(\"======== MRR For Explicit Model on Explicit Data ========================================\")\r\n",
        "print(mrr_score(emodel, test_dataset).mean())\r\n",
        "print(\"=====================================================)\")\r\n",
        "\r\n",
        "\r\n",
        "##Explicit\r\n",
        "imodel = ImplicitFactorizationModel(loss=\"bpr\",n_iter=5, \r\n",
        "                                  use_cuda=False,\r\n",
        "                                  random_state=np.random.RandomState(SEED) # ensure results are repeatable\r\n",
        ")\r\n",
        "\r\n",
        "imodel.fit(rating_dataset)\r\n",
        "\r\n",
        "print(\"======== MRR  Implicit Model on Explicit Data =========\")\r\n",
        "print(mrr_score(imodel, test_dataset).mean())\r\n",
        "print(\"=====================================================)\")"
      ],
      "execution_count": 79,
      "outputs": [
        {
          "output_type": "stream",
          "text": [
            "======== MRR For Explicit Model on Explicit Data ========================================\n",
            "0.039530082501568246\n",
            "=====================================================)\n",
            "======== MRR  Implicit Model on Explicit Data =========\n",
            "0.2213606803401701\n",
            "=====================================================)\n"
          ],
          "name": "stdout"
        }
      ]
    },
    {
      "cell_type": "code",
      "metadata": {
        "id": "zofngZHIY61K",
        "colab": {
          "base_uri": "https://localhost:8080/"
        },
        "outputId": "73cd332f-4f37-4652-ae3e-65971d62a88e"
      },
      "source": [
        "#for every latent factor in the latent factor set train an implicit model and fit\r\n",
        "# it using the explicit data validate.\r\n",
        "\r\n",
        "#then print the MRR score for evaluation using the test dataset provided\r\n",
        "for factor in latent_factors:\r\n",
        "  imodel = ImplicitFactorizationModel(loss=\"bpr\",n_iter=5,\r\n",
        "                                      embedding_dim = factor, \r\n",
        "                                      use_cuda=False,\r\n",
        "                                      random_state=np.random.RandomState(SEED) # ensure results are repeatable\r\n",
        ")\r\n",
        "  \r\n",
        "  imodel.fit(rating_dataset)\r\n",
        "\r\n",
        "  print(\"Implicit Factorization Model with\", factor, \"latent factor\")\r\n",
        "  print(\"MRR Score:\", mrr_score(imodel, validation).mean())\r\n",
        "  print()"
      ],
      "execution_count": 80,
      "outputs": [
        {
          "output_type": "stream",
          "text": [
            "Implicit Factorization Model with 8 latent factor\n",
            "MRR Score: 0.1934298498455577\n",
            "\n",
            "Implicit Factorization Model with 16 latent factor\n",
            "MRR Score: 0.21417395205539277\n",
            "\n",
            "Implicit Factorization Model with 32 latent factor\n",
            "MRR Score: 0.221480780072576\n",
            "\n",
            "Implicit Factorization Model with 64 latent factor\n",
            "MRR Score: 0.2468835608280331\n",
            "\n"
          ],
          "name": "stdout"
        }
      ]
    },
    {
      "cell_type": "code",
      "metadata": {
        "id": "lvp5-9rqjuM6",
        "colab": {
          "base_uri": "https://localhost:8080/"
        },
        "outputId": "e9c0f262-ba42-474d-9597-7a389bd38114"
      },
      "source": [
        "#train and validate which latent factor is closer to the actual model\r\n",
        "imodel_closer_to_validation = ImplicitFactorizationModel(loss=\"bpr\",n_iter=5,\r\n",
        "                                      embedding_dim = 32, \r\n",
        "                                      use_cuda=False,\r\n",
        "                                      random_state=np.random.RandomState(SEED) # ensure results are repeatable\r\n",
        ")\r\n",
        "imodel_closer_to_validation.fit(rating_dataset)\r\n",
        "print(\"MRR Score:\", mrr_score(imodel_closer_to_validation, test_dataset).mean())"
      ],
      "execution_count": 81,
      "outputs": [
        {
          "output_type": "stream",
          "text": [
            "MRR Score: 0.2213606803401701\n"
          ],
          "name": "stdout"
        }
      ]
    },
    {
      "cell_type": "markdown",
      "metadata": {
        "id": "GdumyHtgZnMH"
      },
      "source": [
        "# Question 3 (a)"
      ]
    },
    {
      "cell_type": "code",
      "metadata": {
        "colab": {
          "base_uri": "https://localhost:8080/"
        },
        "id": "xYguO9opBn6G",
        "outputId": "2f7d3082-86d8-45a5-cf83-0e2290d99240"
      },
      "source": [
        "#instantiate an implicit model for every latent factor in the latent factor set using the implicit dataset\r\n",
        "# train and fit it on the implicit train set which is already defined and get the MRR score using the validation set\r\n",
        "\r\n",
        "#get the MRR using the test dataset to evaluate\r\n",
        "for factor in latent_factors:\r\n",
        "\r\n",
        "  implicit_model = ImplicitFactorizationModel(loss=\"bpr\",n_iter=5, \r\n",
        "                                              embedding_dim=factor, \r\n",
        "                                              use_cuda=False, \r\n",
        "                                              random_state=np.random.RandomState(SEED))\r\n",
        "  \r\n",
        "  implicit_model.fit(toread_dataset_train)\r\n",
        "  \r\n",
        "  print(\"Implicit Factorization Model with\", factor, \"latent factor\")\r\n",
        "  print(\"MRR Score:\", mrr_score(implicit_model, validation).mean())\r\n",
        "  print()"
      ],
      "execution_count": 82,
      "outputs": [
        {
          "output_type": "stream",
          "text": [
            "Implicit Factorization Model with 8 latent factor\n",
            "MRR Score: 0.18753583140776736\n",
            "\n",
            "Implicit Factorization Model with 16 latent factor\n",
            "MRR Score: 0.19200373996522072\n",
            "\n",
            "Implicit Factorization Model with 32 latent factor\n",
            "MRR Score: 0.18776868593026674\n",
            "\n",
            "Implicit Factorization Model with 64 latent factor\n",
            "MRR Score: 0.16480204387908243\n",
            "\n"
          ],
          "name": "stdout"
        }
      ]
    },
    {
      "cell_type": "code",
      "metadata": {
        "id": "VnBbymkFZmBQ",
        "colab": {
          "base_uri": "https://localhost:8080/"
        },
        "outputId": "00ae3716-2cde-4a25-ecb8-5c5338010b1a"
      },
      "source": [
        "#find the best implicit model, using the validation data \r\n",
        "implicit_model_closer_to_validation = ImplicitFactorizationModel(loss=\"bpr\",n_iter=5,\r\n",
        "                                      embedding_dim = 16, \r\n",
        "                                      use_cuda=False,\r\n",
        "                                      random_state=np.random.RandomState(SEED) # ensure results are repeatable\r\n",
        ")\r\n",
        "implicit_model_closer_to_validation.fit(toread_dataset_train)\r\n",
        "print(\"MRR Score:\", mrr_score(implicit_model_closer_to_validation, test_dataset).mean())"
      ],
      "execution_count": 83,
      "outputs": [
        {
          "output_type": "stream",
          "text": [
            "MRR Score: 0.22662620993036198\n"
          ],
          "name": "stdout"
        }
      ]
    },
    {
      "cell_type": "markdown",
      "metadata": {
        "id": "_AGrtKZeILSa"
      },
      "source": [
        "# Question 3 (b)"
      ]
    },
    {
      "cell_type": "code",
      "metadata": {
        "id": "mgEX1t4Bbq5I"
      },
      "source": [
        "# here we are creating a replication of the books-df to use for this question\r\n",
        "# we do this because we need a column renamed to item_id\r\n",
        "books_df_replicate = books_df.copy()\r\n",
        "books_df_replicate.rename(columns = {\"Unnamed: 0\" : \"item_id\"}, inplace = True)\r\n"
      ],
      "execution_count": 84,
      "outputs": []
    },
    {
      "cell_type": "code",
      "metadata": {
        "id": "oYVzjYnP959r"
      },
      "source": [
        "#define a function which takes in an item id and looks in the above created df to return the title of that item\r\n",
        "def item_to_titles(item_ids):\r\n",
        "  return books_df_replicate.loc[books_df_replicate[\"item_id\"].isin(item_ids)][\"title\"]\r\n",
        "\r\n",
        "#define a function which takes 3 sets of item item ids, finds the titles and returns which of them \r\n",
        "# are common between the first and predictions, and second and predictions\r\n",
        "def find_common_titles(a,b, predictions):\r\n",
        "\r\n",
        "  previously_vs_predicted = item_to_titles(np.intersect1d(a, predictions))\r\n",
        "  print(\"These titles were predicted to be previously shelved correctly\")\r\n",
        "  print(previously_vs_predicted)\r\n",
        "\r\n",
        "  currently_vs_predicted = item_to_titles(np.intersect1d(b, predictions))\r\n",
        "  print(\"\\n\\nThese titles were predicted to be currently shelved correctly\")\r\n",
        "  print(currently_vs_predicted)\r\n",
        "  \r\n",
        "#define a function to get the predictions given a user id\r\n",
        "# the function looks into the toread dataset (previously shelved) and finds the indexes of that user\r\n",
        "# it stores the items into a list by accessing the toread dataset using those indexes - same applies for currently shelved using the test dataset and predictions\r\n",
        "# then the function uses the find_common_titles function to return the common titles between the the previously, currently shelved and predicted\r\n",
        "def get_predictions_for_highest_rated_user(user_id):\r\n",
        "  item_ids_indexes_prev = np.where(toread_dataset.user_ids == user_id)\r\n",
        "  previously_shelved = toread_dataset.item_ids[item_ids_indexes_prev]\r\n",
        "\r\n",
        "  item_ids_indexes_curr = np.where(test_dataset.user_ids == user_id)\r\n",
        "  currently_shelved = test_dataset.item_ids[item_ids_indexes_curr]\r\n",
        "\r\n",
        "  predictions = implicit_model.predict(user_id)\r\n",
        "  predicted_shelved = np.where(predictions > 0)[0]\r\n",
        "\r\n",
        "  shelved_items = [previously_shelved, currently_shelved, predicted_shelved]\r\n",
        "\r\n",
        "  return find_common_titles(previously_shelved, currently_shelved, predicted_shelved)\r\n",
        "\r\n",
        "# #Train the best model in terms of MRR from Q3\r\n",
        "# best_implicit_model = ImplicitFactorizationModel(loss=\"bpr\",n_iter=5, \r\n",
        "#                                             embedding_dim=16, \r\n",
        "#                                             use_cuda=False, \r\n",
        "#                                             random_state=np.random.RandomState(SEED))\r\n",
        "\r\n",
        "# best_implicit_model.fit(toread_dataset_train, verbose=False)\r\n"
      ],
      "execution_count": 85,
      "outputs": []
    },
    {
      "cell_type": "code",
      "metadata": {
        "colab": {
          "base_uri": "https://localhost:8080/"
        },
        "id": "4MXHsKGK957W",
        "outputId": "9b697fbd-5a2c-4c6a-ef14-287166fc3278"
      },
      "source": [
        "#get the mrr scores using the implicit model created above on the test dataset\r\n",
        "mrr_scores = mrr_score(implicit_model_closer_to_validation, test_dataset)\r\n",
        "\r\n",
        "#find the maximum of the mrr scores and the indexes at which this highest occurs in the mrr scores\r\n",
        "m = max(mrr_scores)\r\n",
        "indexes_of_highest = [i for i, j in enumerate(mrr_scores) if j == m]\r\n",
        "\r\n",
        "#from the test dataset find the uids of the highest rated users\r\n",
        "uids = test_dataset.user_ids[indexes_of_highest]\r\n",
        "\r\n",
        "#for each uid in uids found above convert the uid to user_id using the reverse mapping\r\n",
        "#appending to an empty list to get a list of user ids with the highest RR\r\n",
        "index_to_user_id = []\r\n",
        "for uid in uids:\r\n",
        "  user_id_convert = uid_rev_map.get(uid)\r\n",
        "  index_to_user_id.append(user_id_convert)\r\n",
        "\r\n",
        "#print the top 5 rated uer ids\r\n",
        "print(\"To 5 highest rated users are: \", index_to_user_id[:5], \"with uids \", uids[:5])"
      ],
      "execution_count": 86,
      "outputs": [
        {
          "output_type": "stream",
          "text": [
            "To 5 highest rated users are:  ['u531', 'u305', 'u1916', 'u142', 'u809'] with uids  [11 26 31 44 52]\n"
          ],
          "name": "stdout"
        }
      ]
    },
    {
      "cell_type": "code",
      "metadata": {
        "id": "2r2Y9LePDCTI",
        "colab": {
          "base_uri": "https://localhost:8080/"
        },
        "outputId": "90696ff6-7d7e-43ab-84b0-e1f974ab2457"
      },
      "source": [
        "#call the above created function to get the common titles predicted and actually shelved for each uid found\r\n",
        "for uid in uids[:5]:\r\n",
        "  print(\"Results for\", uid_rev_map.get(uid))\r\n",
        "  get_predictions_for_highest_rated_user(uid)\r\n",
        "  print(\"============================================================\\n\\n\\n\")"
      ],
      "execution_count": 87,
      "outputs": [
        {
          "output_type": "stream",
          "text": [
            "Results for u531\n",
            "These titles were predicted to be previously shelved correctly\n",
            "3                                   To Kill a Mockingbird\n",
            "7                                  The Catcher in the Rye\n",
            "8                   Angels & Demons  (Robert Langdon, #1)\n",
            "10                                        The Kite Runner\n",
            "11                              Divergent (Divergent, #1)\n",
            "                              ...                        \n",
            "871                       Rendezvous with Rama (Rama, #1)\n",
            "899                         I Am Legend and Other Stories\n",
            "917               The Fires of Heaven (Wheel of Time, #5)\n",
            "1009    The Perfect Storm: A True Story of Men Against...\n",
            "1058    90 Minutes in Heaven: A True Story of Death an...\n",
            "Name: title, Length: 80, dtype: object\n",
            "\n",
            "\n",
            "These titles were predicted to be currently shelved correctly\n",
            "9                                    Pride and Prejudice\n",
            "23     Harry Potter and the Goblet of Fire (Harry Pot...\n",
            "31                                       Of Mice and Men\n",
            "34                                         The Alchemist\n",
            "52                    Eragon (The Inheritance Cycle, #1)\n",
            "106                                   A Walk to Remember\n",
            "147                            Girl with a Pearl Earring\n",
            "189    Wild: From Lost to Found on the Pacific Crest ...\n",
            "287                  Watership Down (Watership Down, #1)\n",
            "438             Fall of Giants (The Century Trilogy, #1)\n",
            "532              Midnight in the Garden of Good and Evil\n",
            "639              Definitely Dead (Sookie Stackhouse, #6)\n",
            "711                                           The Reader\n",
            "986                    Lord of Chaos (Wheel of Time, #6)\n",
            "Name: title, dtype: object\n",
            "============================================================\n",
            "\n",
            "\n",
            "\n",
            "Results for u305\n",
            "These titles were predicted to be previously shelved correctly\n",
            "7                                  The Catcher in the Rye\n",
            "8                   Angels & Demons  (Robert Langdon, #1)\n",
            "9                                     Pride and Prejudice\n",
            "11                              Divergent (Divergent, #1)\n",
            "21                                       The Lovely Bones\n",
            "                              ...                        \n",
            "1428                             A Canticle for Leibowitz\n",
            "1472                                      It Ends with Us\n",
            "1518                      Without Fail (Jack Reacher, #6)\n",
            "1524                                               Nausea\n",
            "1533    The Magician (The Secrets of the Immortal Nich...\n",
            "Name: title, Length: 73, dtype: object\n",
            "\n",
            "\n",
            "These titles were predicted to be currently shelved correctly\n",
            "4                                        The Great Gatsby\n",
            "10                                        The Kite Runner\n",
            "23      Harry Potter and the Goblet of Fire (Harry Pot...\n",
            "26      Harry Potter and the Half-Blood Prince (Harry ...\n",
            "27                                      Lord of the Flies\n",
            "131                    The Five People You Meet in Heaven\n",
            "147                             Girl with a Pearl Earring\n",
            "230                                           Sarah's Key\n",
            "248                   Extremely Loud and Incredibly Close\n",
            "426        The Mark of Athena (The Heroes of Olympus, #3)\n",
            "430                                 I, Robot (Robot #0.1)\n",
            "453                              A Streetcar Named Desire\n",
            "1309      Anne Rice's The Vampire Lestat: A Graphic Novel\n",
            "1339    The Lean Startup: How Today's Entrepreneurs Us...\n",
            "1459                      Ptolemy's Gate (Bartimaeus, #3)\n",
            "Name: title, dtype: object\n",
            "============================================================\n",
            "\n",
            "\n",
            "\n",
            "Results for u1916\n",
            "These titles were predicted to be previously shelved correctly\n",
            "6                                              The Hobbit\n",
            "21                                       The Lovely Bones\n",
            "25                 The Da Vinci Code (Robert Langdon, #2)\n",
            "26      Harry Potter and the Half-Blood Prince (Harry ...\n",
            "31                                        Of Mice and Men\n",
            "                              ...                        \n",
            "1635            Keys to the Demon Prison (Fablehaven, #5)\n",
            "1641                                The Sky Is Everywhere\n",
            "1645          The Black Stallion (The Black Stallion, #1)\n",
            "1680           One Foot in the Grave (Night Huntress, #2)\n",
            "1681                                 The Last Anniversary\n",
            "Name: title, Length: 86, dtype: object\n",
            "\n",
            "\n",
            "These titles were predicted to be currently shelved correctly\n",
            "45                                    Water for Elephants\n",
            "147                             Girl with a Pearl Earring\n",
            "174     The Last Olympian (Percy Jackson and the Olymp...\n",
            "191     The Name of the Wind (The Kingkiller Chronicle...\n",
            "225                                           Dark Places\n",
            "226                                            The Client\n",
            "228     Alice's Adventures in Wonderland & Through the...\n",
            "268                                               Rebecca\n",
            "463                  The Brief Wondrous Life of Oscar Wao\n",
            "469                In the Woods (Dublin Murder Squad, #1)\n",
            "754     In the Garden of Beasts: Love, Terror, and an ...\n",
            "1016                                  Midnight's Children\n",
            "1212                          The Signature of All Things\n",
            "1217                                  The Case for Christ\n",
            "1238    The Road Less Traveled: A New Psychology of Lo...\n",
            "1242                                    How to Be a Woman\n",
            "1273                    Dead Beat (The Dresden Files, #7)\n",
            "1317                              Inkspell (Inkworld, #2)\n",
            "1414    Days of Blood & Starlight (Daughter of Smoke &...\n",
            "1476                       Dream Country (The Sandman #3)\n",
            "1555                                    Fantastic Mr. Fox\n",
            "1586    Captivating: Unveiling the Mystery of a Woman'...\n",
            "1591                 South of the Border, West of the Sun\n",
            "1602                               The Kitchen God's Wife\n",
            "Name: title, dtype: object\n",
            "============================================================\n",
            "\n",
            "\n",
            "\n",
            "Results for u142\n",
            "These titles were predicted to be previously shelved correctly\n",
            "3                                   To Kill a Mockingbird\n",
            "4                                        The Great Gatsby\n",
            "17      Harry Potter and the Prisoner of Azkaban (Harr...\n",
            "23      Harry Potter and the Goblet of Fire (Harry Pot...\n",
            "24      Harry Potter and the Deathly Hallows (Harry Po...\n",
            "                              ...                        \n",
            "1300                        Fun Home: A Family Tragicomic\n",
            "1318    Sex, Drugs, and Cocoa Puffs: A Low Culture Man...\n",
            "1338     True Believer (Jeremy Marsh & Lexie Darnell, #1)\n",
            "1339    The Lean Startup: How Today's Entrepreneurs Us...\n",
            "1398           The Fall of Hyperion (Hyperion Cantos, #2)\n",
            "Name: title, Length: 67, dtype: object\n",
            "\n",
            "\n",
            "These titles were predicted to be currently shelved correctly\n",
            "21                               The Lovely Bones\n",
            "27                              Lord of the Flies\n",
            "67                The Perks of Being a Wallflower\n",
            "131            The Five People You Meet in Heaven\n",
            "147                     Girl with a Pearl Earring\n",
            "199                      And Then There Were None\n",
            "345     Prince Caspian (Chronicles of Narnia, #2)\n",
            "389                                     The Lorax\n",
            "428                            Kafka on the Shore\n",
            "430                         I, Robot (Robot #0.1)\n",
            "1075                                A Stolen Life\n",
            "Name: title, dtype: object\n",
            "============================================================\n",
            "\n",
            "\n",
            "\n",
            "Results for u809\n",
            "These titles were predicted to be previously shelved correctly\n",
            "21                                       The Lovely Bones\n",
            "23      Harry Potter and the Goblet of Fire (Harry Pot...\n",
            "32                                    Memoirs of a Geisha\n",
            "33                Fifty Shades of Grey (Fifty Shades, #1)\n",
            "35                              The Giver (The Giver, #1)\n",
            "52                     Eragon (The Inheritance Cycle, #1)\n",
            "58                                        Charlotte's Web\n",
            "108                                        Les Misérables\n",
            "156                                    Green Eggs and Ham\n",
            "157     Charlie and the Chocolate Factory (Charlie Buc...\n",
            "159                                    Great Expectations\n",
            "162             The Lost Hero (The Heroes of Olympus, #1)\n",
            "163                                        Eleanor & Park\n",
            "164        A Feast for Crows (A Song of Ice and Fire, #4)\n",
            "166                     American Gods (American Gods, #1)\n",
            "193                               Moby-Dick or, The Whale\n",
            "202                    Beautiful Disaster (Beautiful, #1)\n",
            "232                           Love in the Time of Cholera\n",
            "233                                                 Speak\n",
            "234                                  The Husband's Secret\n",
            "263                              A Tree Grows in Brooklyn\n",
            "342                                                 Naked\n",
            "343                    Eldest (The Inheritance Cycle, #2)\n",
            "364                                            John Adams\n",
            "422                                  The Name of the Rose\n",
            "423                                          Go Ask Alice\n",
            "441                                           Just Listen\n",
            "456                                      A Man Called Ove\n",
            "480                                                 Choke\n",
            "486     Maus I: A Survivor's Tale: My Father Bleeds Hi...\n",
            "487                          Untamed (House of Night, #4)\n",
            "499             2001: A Space Odyssey (Space Odyssey, #1)\n",
            "501                         Left Behind (Left Behind, #1)\n",
            "502                           The One (The Selection, #3)\n",
            "503     The Hunger Games Trilogy Boxset (The Hunger Ga...\n",
            "504      Nickel and Dimed: On (Not) Getting By in America\n",
            "505                                          Remember Me?\n",
            "508     The Hiding Place: The Triumphant True Story of...\n",
            "511             The Amazing Adventures of Kavalier & Clay\n",
            "517                               The Things They Carried\n",
            "535                               The Truth About Forever\n",
            "596                Are You There, Vodka? It's Me, Chelsea\n",
            "597                           Jonathan Livingston Seagull\n",
            "604                                             The Trial\n",
            "659     Murder on the Orient Express (Hercule Poirot, ...\n",
            "675                                       Beautiful Ruins\n",
            "710                The Bone Collector (Lincoln Rhyme, #1)\n",
            "718                 Roots: The Saga of an American Family\n",
            "721             A Long Way Gone: Memoirs of a Boy Soldier\n",
            "737                                     Half Broke Horses\n",
            "741            Stiff: The Curious Lives of Human Cadavers\n",
            "780                                              Watchers\n",
            "781                                  The Story of My Life\n",
            "812                         Midnight Sun (Twilight, #1.5)\n",
            "813     The Unlikely Pilgrimage of Harold Fry (Harold ...\n",
            "814                             Every Day (Every Day, #1)\n",
            "823                                    Animal Farm / 1984\n",
            "899                         I Am Legend and Other Stories\n",
            "958     All Creatures Great and Small (All Creatures G...\n",
            "1026                 Career of Evil (Cormoran Strike, #3)\n",
            "Name: title, dtype: object\n",
            "\n",
            "\n",
            "These titles were predicted to be currently shelved correctly\n",
            "36     The Lion, the Witch, and the Wardrobe (Chronic...\n",
            "48                               New Moon (Twilight, #2)\n",
            "112                                             Catch-22\n",
            "158    The Battle of the Labyrinth (Percy Jackson and...\n",
            "161                                         The Stranger\n",
            "167                                            The Stand\n",
            "231                  The Gunslinger (The Dark Tower, #1)\n",
            "265                                      The Nightingale\n",
            "266                                      Never Let Me Go\n",
            "267                                      P.S. I Love You\n",
            "269                                 Flowers for Algernon\n",
            "303                                         Pet Sematary\n",
            "461                       Holy Bible: King James Version\n",
            "485                                          The Prophet\n",
            "507                       The Complete Stories and Poems\n",
            "510                                  The Prince of Tides\n",
            "637                                    Uncle Tom's Cabin\n",
            "666    Think and Grow Rich: The Landmark Bestseller -...\n",
            "669                                   A Bend in the Road\n",
            "724     The Little House Collection (Little House, #1-9)\n",
            "Name: title, dtype: object\n",
            "============================================================\n",
            "\n",
            "\n",
            "\n"
          ],
          "name": "stdout"
        }
      ]
    },
    {
      "cell_type": "markdown",
      "metadata": {
        "id": "ngwO6En5ltlM"
      },
      "source": [
        "# Question 3c"
      ]
    },
    {
      "cell_type": "code",
      "metadata": {
        "id": "7h1AQrluwMvH",
        "outputId": "025420f6-a0d0-4a57-c6c3-6682403917f6",
        "colab": {
          "base_uri": "https://localhost:8080/"
        }
      },
      "source": [
        "best_user = uids[0]\r\n",
        "best_user"
      ],
      "execution_count": 117,
      "outputs": [
        {
          "output_type": "execute_result",
          "data": {
            "text/plain": [
              "11"
            ]
          },
          "metadata": {
            "tags": []
          },
          "execution_count": 117
        }
      ]
    },
    {
      "cell_type": "code",
      "metadata": {
        "id": "ctWlGfpGwqkM",
        "outputId": "4aa646d5-014b-4d45-fdfd-69b1ca303384",
        "colab": {
          "base_uri": "https://localhost:8080/"
        }
      },
      "source": [
        "import scipy.stats as st\r\n",
        "\r\n",
        "def books_for_best_user(user, k=5):\r\n",
        "\r\n",
        "  top_5_uids = []\r\n",
        "\r\n",
        "  ranks = st.rankdata(-imodel.predict(user))  \r\n",
        "  for iid in np.argwhere(ranks <= k):\r\n",
        "    top_5_uids.append(iid_map.get(iid_rev_map[iid.item(0)]))\r\n",
        "\r\n",
        "  return top_5_uids\r\n",
        "\r\n",
        "\r\n",
        "\r\n",
        "\r\n",
        "books_for_best_user(best_user)"
      ],
      "execution_count": 141,
      "outputs": [
        {
          "output_type": "execute_result",
          "data": {
            "text/plain": [
              "[16, 21, 23, 33, 108]"
            ]
          },
          "metadata": {
            "tags": []
          },
          "execution_count": 141
        }
      ]
    },
    {
      "cell_type": "code",
      "metadata": {
        "id": "8Y8rI6Z7yFEG",
        "outputId": "90ca965b-cefe-4a10-902d-b437010ee6d4",
        "colab": {
          "base_uri": "https://localhost:8080/"
        }
      },
      "source": [
        "print(iid_rev_map)"
      ],
      "execution_count": 142,
      "outputs": [
        {
          "output_type": "stream",
          "text": [
            "{0: 'b258', 1: 'b260', 2: 'b315', 3: 'b33', 4: 'b301', 5: 'b70', 6: 'b264', 7: 'b18', 8: 'b21', 9: 'b2', 10: 'b23', 11: 'b24', 12: 'b964', 13: 'b103', 14: 'b255', 15: 'b287', 16: 'b26', 17: 'b58', 18: 'b1117', 19: 'b660', 20: 'b111', 21: 'b5', 22: 'b413', 23: 'b8', 24: 'b65', 25: 'b45', 26: 'b113', 27: 'b325', 28: 'b476', 29: 'b1432', 30: 'b479', 31: 'b614', 32: 'b194', 33: 'b14', 34: 'b55', 35: 'b1937', 36: 'b493', 37: 'b1967', 38: 'b529', 39: 'b102', 40: 'b222', 41: 'b640', 42: 'b575', 43: 'b268', 44: 'b1796', 45: 'b867', 46: 'b47', 47: 'b1296', 48: 'b50', 49: 'b87', 50: 'b86', 51: 'b123', 52: 'b28', 53: 'b42', 54: 'b158', 55: 'b373', 56: 'b184', 57: 'b492', 58: 'b219', 59: 'b288', 60: 'b245', 61: 'b1057', 62: 'b596', 63: 'b782', 64: 'b426', 65: 'b397', 66: 'b658', 67: 'b101', 68: 'b344', 69: 'b372', 70: 'b943', 71: 'b1923', 72: 'b122', 73: 'b212', 74: 'b1642', 75: 'b9', 76: 'b81', 77: 'b60', 78: 'b494', 79: 'b238', 80: 'b570', 81: 'b11', 82: 'b1055', 83: 'b181', 84: 'b119', 85: 'b1221', 86: 'b1301', 87: 'b1986', 88: 'b1037', 89: 'b963', 90: 'b1388', 91: 'b1407', 92: 'b227', 93: 'b213', 94: 'b587', 95: 'b664', 96: 'b407', 97: 'b10', 98: 'b76', 99: 'b171', 100: 'b94', 101: 'b522', 102: 'b495', 103: 'b574', 104: 'b233', 105: 'b1853', 106: 'b115', 107: 'b177', 108: 'b4', 109: 'b230', 110: 'b471', 111: 'b483', 112: 'b167', 113: 'b326', 114: 'b304', 115: 'b337', 116: 'b92', 117: 'b887', 118: 'b465', 119: 'b1329', 120: 'b795', 121: 'b241', 122: 'b68', 123: 'b1144', 124: 'b941', 125: 'b1217', 126: 'b688', 127: 'b550', 128: 'b36', 129: 'b572', 130: 'b1102', 131: 'b48', 132: 'b95', 133: 'b1311', 134: 'b387', 135: 'b497', 136: 'b1733', 137: 'b489', 138: 'b1380', 139: 'b221', 140: 'b401', 141: 'b131', 142: 'b662', 143: 'b13', 144: 'b1544', 145: 'b405', 146: 'b350', 147: 'b323', 148: 'b100', 149: 'b1752', 150: 'b860', 151: 'b1031', 152: 'b948', 153: 'b1936', 154: 'b442', 155: 'b1142', 156: 'b176', 157: 'b349', 158: 'b232', 159: 'b1589', 160: 'b1900', 161: 'b670', 162: 'b1498', 163: 'b739', 164: 'b488', 165: 'b865', 166: 'b1987', 167: 'b168', 168: 'b1236', 169: 'b653', 170: 'b872', 171: 'b977', 172: 'b136', 173: 'b78', 174: 'b186', 175: 'b398', 176: 'b450', 177: 'b741', 178: 'b758', 179: 'b150', 180: 'b66', 181: 'b1272', 182: 'b848', 183: 'b236', 184: 'b306', 185: 'b114', 186: 'b132', 187: 'b22', 188: 'b431', 189: 'b27', 190: 'b606', 191: 'b85', 192: 'b416', 193: 'b32', 194: 'b1383', 195: 'b179', 196: 'b75', 197: 'b1131', 198: 'b371', 199: 'b162', 200: 'b89', 201: 'b424', 202: 'b611', 203: 'b1312', 204: 'b391', 205: 'b408', 206: 'b958', 207: 'b296', 208: 'b740', 209: 'b1657', 210: 'b121', 211: 'b547', 212: 'b400', 213: 'b690', 214: 'b1184', 215: 'b436', 216: 'b659', 217: 'b63', 218: 'b249', 219: 'b687', 220: 'b598', 221: 'b1018', 222: 'b1246', 223: 'b633', 224: 'b743', 225: 'b39', 226: 'b165', 227: 'b135', 228: 'b110', 229: 'b1299', 230: 'b360', 231: 'b1053', 232: 'b612', 233: 'b1261', 234: 'b725', 235: 'b289', 236: 'b499', 237: 'b1868', 238: 'b1656', 239: 'b937', 240: 'b709', 241: 'b1843', 242: 'b217', 243: 'b270', 244: 'b80', 245: 'b130', 246: 'b883', 247: 'b1806', 248: 'b520', 249: 'b672', 250: 'b1410', 251: 'b43', 252: 'b200', 253: 'b1058', 254: 'b57', 255: 'b273', 256: 'b172', 257: 'b546', 258: 'b1664', 259: 'b701', 260: 'b148', 261: 'b189', 262: 'b786', 263: 'b125', 264: 'b161', 265: 'b129', 266: 'b155', 267: 'b953', 268: 'b936', 269: 'b305', 270: 'b806', 271: 'b35', 272: 'b199', 273: 'b59', 274: 'b857', 275: 'b160', 276: 'b530', 277: 'b321', 278: 'b138', 279: 'b531', 280: 'b629', 281: 'b1835', 282: 'b1506', 283: 'b154', 284: 'b29', 285: 'b353', 286: 'b770', 287: 'b839', 288: 'b248', 289: 'b773', 290: 'b118', 291: 'b935', 292: 'b820', 293: 'b1970', 294: 'b178', 295: 'b427', 296: 'b180', 297: 'b829', 298: 'b1949', 299: 'b478', 300: 'b1421', 301: 'b646', 302: 'b173', 303: 'b71', 304: 'b97', 305: 'b618', 306: 'b1206', 307: 'b582', 308: 'b378', 309: 'b718', 310: 'b468', 311: 'b1663', 312: 'b1373', 313: 'b117', 314: 'b1113', 315: 'b621', 316: 'b999', 317: 'b1714', 318: 'b599', 319: 'b54', 320: 'b955', 321: 'b498', 322: 'b925', 323: 'b669', 324: 'b828', 325: 'b1167', 326: 'b972', 327: 'b64', 328: 'b1159', 329: 'b772', 330: 'b272', 331: 'b395', 332: 'b934', 333: 'b706', 334: 'b1234', 335: 'b516', 336: 'b1096', 337: 'b354', 338: 'b310', 339: 'b383', 340: 'b284', 341: 'b1269', 342: 'b592', 343: 'b7', 344: 'b19', 345: 'b1705', 346: 'b380', 347: 'b127', 348: 'b969', 349: 'b1624', 350: 'b1683', 351: 'b1135', 352: 'b959', 353: 'b278', 354: 'b83', 355: 'b590', 356: 'b361', 357: 'b714', 358: 'b1079', 359: 'b984', 360: 'b885', 361: 'b311', 362: 'b38', 363: 'b485', 364: 'b512', 365: 'b282', 366: 'b1938', 367: 'b335', 368: 'b635', 369: 'b196', 370: 'b1133', 371: 'b736', 372: 'b1411', 373: 'b879', 374: 'b1106', 375: 'b37', 376: 'b602', 377: 'b332', 378: 'b347', 379: 'b641', 380: 'b542', 381: 'b1521', 382: 'b1255', 383: 'b1458', 384: 'b1186', 385: 'b1679', 386: 'b560', 387: 'b1041', 388: 'b1961', 389: 'b878', 390: 'b211', 391: 'b281', 392: 'b1597', 393: 'b453', 394: 'b1005', 395: 'b228', 396: 'b763', 397: 'b198', 398: 'b1480', 399: 'b1857', 400: 'b1845', 401: 'b1503', 402: 'b496', 403: 'b463', 404: 'b712', 405: 'b620', 406: 'b515', 407: 'b1590', 408: 'b728', 409: 'b1239', 410: 'b891', 411: 'b951', 412: 'b1318', 413: 'b1357', 414: 'b1444', 415: 'b1571', 416: 'b1074', 417: 'b1124', 418: 'b1969', 419: 'b1283', 420: 'b297', 421: 'b501', 422: 'b751', 423: 'b1368', 424: 'b1768', 425: 'b1258', 426: 'b1025', 427: 'b523', 428: 'b276', 429: 'b474', 430: 'b1349', 431: 'b1238', 432: 'b374', 433: 'b1224', 434: 'b1280', 435: 'b126', 436: 'b760', 437: 'b40', 438: 'b956', 439: 'b265', 440: 'b84', 441: 'b1888', 442: 'b15', 443: 'b292', 444: 'b1646', 445: 'b1213', 446: 'b838', 447: 'b730', 448: 'b1580', 449: 'b715', 450: 'b503', 451: 'b1178', 452: 'b90', 453: 'b145', 454: 'b116', 455: 'b1121', 456: 'b1179', 457: 'b487', 458: 'b593', 459: 'b341', 460: 'b375', 461: 'b1384', 462: 'b729', 463: 'b429', 464: 'b982', 465: 'b1862', 466: 'b239', 467: 'b1755', 468: 'b1530', 469: 'b1465', 470: 'b266', 471: 'b242', 472: 'b410', 473: 'b448', 474: 'b661', 475: 'b430', 476: 'b1500', 477: 'b1703', 478: 'b916', 479: 'b1365', 480: 'b1250', 481: 'b358', 482: 'b576', 483: 'b283', 484: 'b1704', 485: 'b1676', 486: 'b789', 487: 'b432', 488: 'b322', 489: 'b766', 490: 'b1895', 491: 'b1847', 492: 'b456', 493: 'b454', 494: 'b793', 495: 'b1928', 496: 'b699', 497: 'b1547', 498: 'b1205', 499: 'b1088', 500: 'b559', 501: 'b1364', 502: 'b1727', 503: 'b1014', 504: 'b1042', 505: 'b1332', 506: 'b237', 507: 'b944', 508: 'b818', 509: 'b556', 510: 'b578', 511: 'b1139', 512: 'b915', 513: 'b705', 514: 'b553', 515: 'b1248', 516: 'b205', 517: 'b696', 518: 'b898', 519: 'b1533', 520: 'b1993', 521: 'b1633', 522: 'b229', 523: 'b364', 524: 'b798', 525: 'b1154', 526: 'b339', 527: 'b804', 528: 'b855', 529: 'b514', 530: 'b824', 531: 'b439', 532: 'b601', 533: 'b557', 534: 'b1999', 535: 'b628', 536: 'b785', 537: 'b93', 538: 'b1100', 539: 'b451', 540: 'b691', 541: 'b109', 542: 'b595', 543: 'b1681', 544: 'b79', 545: 'b899', 546: 'b317', 547: 'b225', 548: 'b1305', 549: 'b1518', 550: 'b1622', 551: 'b44', 552: 'b1168', 553: 'b737', 554: 'b1650', 555: 'b1797', 556: 'b1435', 557: 'b868', 558: 'b388', 559: 'b1691', 560: 'b1885', 561: 'b1644', 562: 'b316', 563: 'b1976', 564: 'b998', 565: 'b1370', 566: 'b209', 567: 'b274', 568: 'b1844', 569: 'b1138', 570: 'b82', 571: 'b1145', 572: 'b386', 573: 'b357', 574: 'b1477', 575: 'b819', 576: 'b1313', 577: 'b1570', 578: 'b1048', 579: 'b1552', 580: 'b381', 581: 'b25', 582: 'b157', 583: 'b1210', 584: 'b133', 585: 'b604', 586: 'b257', 587: 'b1486', 588: 'b1584', 589: 'b1739', 590: 'b903', 591: 'b895', 592: 'b508', 593: 'b1441', 594: 'b377', 595: 'b1314', 596: 'b639', 597: 'b390', 598: 'b708', 599: 'b1146', 600: 'b484', 601: 'b854', 602: 'b784', 603: 'b120', 604: 'b1591', 605: 'b1574', 606: 'b308', 607: 'b1158', 608: 'b704', 609: 'b298', 610: 'b1566', 611: 'b107', 612: 'b271', 613: 'b243', 614: 'b738', 615: 'b207', 616: 'b912', 617: 'b996', 618: 'b1067', 619: 'b1181', 620: 'b1232', 621: 'b1606', 622: 'b1073', 623: 'b293', 624: 'b1592', 625: 'b1677', 626: 'b328', 627: 'b627', 628: 'b1214', 629: 'b1090', 630: 'b778', 631: 'b108', 632: 'b1436', 633: 'b1627', 634: 'b919', 635: 'b682', 636: 'b877', 637: 'b191', 638: 'b788', 639: 'b1586', 640: 'b693', 641: 'b1908', 642: 'b1927', 643: 'b1389', 644: 'b1519', 645: 'b1484', 646: 'b490', 647: 'b1265', 648: 'b1019', 649: 'b1629', 650: 'b1196', 651: 'b62', 652: 'b480', 653: 'b577', 654: 'b561', 655: 'b461', 656: 'b1392', 657: 'b1485', 658: 'b1582', 659: 'b650', 660: 'b856', 661: 'b1290', 662: 'b1865', 663: 'b524', 664: 'b356', 665: 'b1315', 666: 'b1454', 667: 'b367', 668: 'b799', 669: 'b1719', 670: 'b731', 671: 'b967', 672: 'b1856', 673: 'b1748', 674: 'b1107', 675: 'b1277', 676: 'b538', 677: 'b1094', 678: 'b1593', 679: 'b1075', 680: 'b504', 681: 'b204', 682: 'b675', 683: 'b77', 684: 'b765', 685: 'b1783', 686: 'b457', 687: 'b779', 688: 'b1089', 689: 'b1270', 690: 'b1457', 691: 'b733', 692: 'b1176', 693: 'b777', 694: 'b1149', 695: 'b1692', 696: 'b1161', 697: 'b1202', 698: 'b1892', 699: 'b1051', 700: 'b1639', 701: 'b974', 702: 'b762', 703: 'b901', 704: 'b597', 705: 'b1038', 706: 'b540', 707: 'b521', 708: 'b1672', 709: 'b1083', 710: 'b402', 711: 'b1706', 712: 'b873', 713: 'b1977', 714: 'b1225', 715: 'b1163', 716: 'b1289', 717: 'b1233', 718: 'b1476', 719: 'b1774', 720: 'b1975', 721: 'b1495', 722: 'b840', 723: 'b637', 724: 'b1641', 725: 'b72', 726: 'b663', 727: 'b768', 728: 'b616', 729: 'b1685', 730: 'b625', 731: 'b1501', 732: 'b700', 733: 'b703', 734: 'b1386', 735: 'b1675', 736: 'b609', 737: 'b1185', 738: 'b1123', 739: 'b1208', 740: 'b1573', 741: 'b568', 742: 'b846', 743: 'b588', 744: 'b46', 745: 'b997', 746: 'b1393', 747: 'b1132', 748: 'b1420', 749: 'b1381', 750: 'b1785', 751: 'b1497', 752: 'b1460', 753: 'b666', 754: 'b502', 755: 'b1155', 756: 'b1957', 757: 'b1423', 758: 'b1725', 759: 'b1204', 760: 'b1878', 761: 'b1922', 762: 'b1578', 763: 'b1709', 764: 'b851', 765: 'b1801', 766: 'b1918', 767: 'b1319', 768: 'b1707', 769: 'b1649', 770: 'b1537', 771: 'b1859', 772: 'b1555', 773: 'b994', 774: 'b1327', 775: 'b472', 776: 'b137', 777: 'b409', 778: 'b170', 779: 'b1954', 780: 'b1084', 781: 'b1509', 782: 'b722', 783: 'b1023', 784: 'b1119', 785: 'b1362', 786: 'b1278', 787: 'b510', 788: 'b1249', 789: 'b330', 790: 'b1525', 791: 'b1015', 792: 'b1913', 793: 'b1430', 794: 'b767', 795: 'b1099', 796: 'b526', 797: 'b1317', 798: 'b911', 799: 'b986', 800: 'b1218', 801: 'b833', 802: 'b1955', 803: 'b1056', 804: 'b710', 805: 'b723', 806: 'b1068', 807: 'b1222', 808: 'b1487', 809: 'b417', 810: 'b1348', 811: 'b1974', 812: 'b1963', 813: 'b1817', 814: 'b554', 815: 'b864', 816: 'b1026', 817: 'b1581', 818: 'b1260', 819: 'b1746', 820: 'b1643', 821: 'b528', 822: 'b949', 823: 'b1759', 824: 'b1071', 825: 'b1989', 826: 'b505', 827: 'b1223', 828: 'b558', 829: 'b652', 830: 'b197', 831: 'b631', 832: 'b1153', 833: 'b755', 834: 'b894', 835: 'b1337', 836: 'b1342', 837: 'b1078', 838: 'b1964', 839: 'b1426', 840: 'b1554', 841: 'b1298', 842: 'b747', 843: 'b1259', 844: 'b1003', 845: 'b1343', 846: 'b403', 847: 'b1199', 848: 'b1877', 849: 'b345', 850: 'b1802', 851: 'b888', 852: 'b346', 853: 'b1972', 854: 'b1880', 855: 'b1693', 856: 'b1105', 857: 'b1262', 858: 'b573', 859: 'b1279', 860: 'b1171', 861: 'b455', 862: 'b757', 863: 'b104', 864: 'b1103', 865: 'b847', 866: 'b1567', 867: 'b1561', 868: 'b1160', 869: 'b1085', 870: 'b1063', 871: 'b368', 872: 'b1686', 873: 'b1128', 874: 'b1605', 875: 'b1607', 876: 'b881', 877: 'b961', 878: 'b1741', 879: 'b1784', 880: 'b1564', 881: 'b817', 882: 'b469', 883: 'b1434', 884: 'b1010', 885: 'b1842', 886: 'b952', 887: 'b1526', 888: 'b594', 889: 'b683', 890: 'b1459', 891: 'b1414', 892: 'b1515', 893: 'b223', 894: 'b622', 895: 'b362', 896: 'b1378', 897: 'b1980', 898: 'b1112', 899: 'b908', 900: 'b1662', 901: 'b156', 902: 'b569', 903: 'b849', 904: 'b53', 905: 'b412', 906: 'b1245', 907: 'b1449', 908: 'b1886', 909: 'b1108', 910: 'b914', 911: 'b366', 912: 'b3', 913: 'b792', 914: 'b1635', 915: 'b866', 916: 'b929', 917: 'b1789', 918: 'b443', 919: 'b541', 920: 'b564', 921: 'b707', 922: 'b853', 923: 'b651', 924: 'b1620', 925: 'b727', 926: 'b544', 927: 'b545', 928: 'b1915', 929: 'b1758', 930: 'b1701', 931: 'b1191', 932: 'b1367', 933: 'b1623', 934: 'b343', 935: 'b369', 936: 'b1320', 937: 'b365', 938: 'b897', 939: 'b1379', 940: 'b1763', 941: 'b1858', 942: 'b674', 943: 'b726', 944: 'b261', 945: 'b234', 946: 'b896', 947: 'b1300', 948: 'b142', 949: 'b563', 950: 'b1097', 951: 'b1303', 952: 'b41', 953: 'b151', 954: 'b1598', 955: 'b1827', 956: 'b1323', 957: 'b486', 958: 'b314', 959: 'b481', 960: 'b1638', 961: 'b1940', 962: 'b336', 963: 'b1351', 964: 'b734', 965: 'b1286', 966: 'b1294', 967: 'b1193', 968: 'b420', 969: 'b552', 970: 'b513', 971: 'b1925', 972: 'b1897', 973: 'b152', 974: 'b1235', 975: 'b1493', 976: 'b586', 977: 'b823', 978: 'b1253', 979: 'b1680', 980: 'b1953', 981: 'b1466', 982: 'b1873', 983: 'b1944', 984: 'b500', 985: 'b1427', 986: 'b244', 987: 'b1678', 988: 'b1401', 989: 'b1960', 990: 'b411', 991: 'b331', 992: 'b1189', 993: 'b1924', 994: 'b1800', 995: 'b932', 996: 'b1034', 997: 'b1127', 998: 'b1228', 999: 'b1340', 1000: 'b1394', 1001: 'b1479', 1002: 'b1791', 1003: 'b1061', 1004: 'b263', 1005: 'b1452', 1006: 'b275', 1007: 'b74', 1008: 'b1572', 1009: 'b1520', 1010: 'b686', 1011: 'b187', 1012: 'b1604', 1013: 'b927', 1014: 'b800', 1015: 'b1762', 1016: 'b1795', 1017: 'b1711', 1018: 'b1534', 1019: 'b890', 1020: 'b790', 1021: 'b681', 1022: 'b1021', 1023: 'b671', 1024: 'b1757', 1025: 'b1887', 1026: 'b1872', 1027: 'b1514', 1028: 'b1528', 1029: 'b1863', 1030: 'b1431', 1031: 'b1536', 1032: 'b1931', 1033: 'b1418', 1034: 'b1049', 1035: 'b389', 1036: 'b565', 1037: 'b900', 1038: 'b1064', 1039: 'b1111', 1040: 'b1151', 1041: 'b1390', 1042: 'b1267', 1043: 'b462', 1044: 'b1020', 1045: 'b1324', 1046: 'b1910', 1047: 'b67', 1048: 'b1914', 1049: 'b269', 1050: 'b882', 1051: 'b1273', 1052: 'b1086', 1053: 'b1973', 1054: 'b300', 1055: 'b1645', 1056: 'b826', 1057: 'b1826', 1058: 'b989', 1059: 'b647', 1060: 'b1713', 1061: 'b1114', 1062: 'b1734', 1063: 'b519', 1064: 'b1722', 1065: 'b1322', 1066: 'b1698', 1067: 'b1569', 1068: 'b1282', 1069: 'b1226', 1070: 'b1207', 1071: 'b1492', 1072: 'b1548', 1073: 'b1648', 1074: 'b1350', 1075: 'b716', 1076: 'b615', 1077: 'b1215', 1078: 'b966', 1079: 'b1956', 1080: 'b1978', 1081: 'b1288', 1082: 'b1771', 1083: 'b527', 1084: 'b624', 1085: 'b1304', 1086: 'b1363', 1087: 'b753', 1088: 'b735', 1089: 'b425', 1090: 'b1087', 1091: 'b444', 1092: 'b247', 1093: 'b49', 1094: 'b1391', 1095: 'b1531', 1096: 'b256', 1097: 'b1875', 1098: 'b1625', 1099: 'b1735', 1100: 'b1007', 1101: 'b1869', 1102: 'b1488', 1103: 'b1463', 1104: 'b1396', 1105: 'b1077', 1106: 'b1545', 1107: 'b744', 1108: 'b719', 1109: 'b1445', 1110: 'b1338', 1111: 'b1175', 1112: 'b1516', 1113: 'b1659', 1114: 'b815', 1115: 'b870', 1116: 'b464', 1117: 'b518', 1118: 'b1216', 1119: 'b1775', 1120: 'b532', 1121: 'b769', 1122: 'b1695', 1123: 'b1792', 1124: 'b975', 1125: 'b446', 1126: 'b981', 1127: 'b1694', 1128: 'b1529', 1129: 'b1779', 1130: 'b1595', 1131: 'b1968', 1132: 'b1697', 1133: 'b571', 1134: 'b803', 1135: 'b1600', 1136: 'b1617', 1137: 'b1926', 1138: 'b1594', 1139: 'b51', 1140: 'b1618', 1141: 'b1601', 1142: 'b889', 1143: 'b841', 1144: 'b1881', 1145: 'b809', 1146: 'b1781', 1147: 'b1247', 1148: 'b1670', 1149: 'b1871', 1150: 'b1137', 1151: 'b1424', 1152: 'b1448', 1153: 'b923', 1154: 'b781', 1155: 'b1369', 1156: 'b875', 1157: 'b585', 1158: 'b1461', 1159: 'b1631', 1160: 'b1833', 1161: 'b52', 1162: 'b1354', 1163: 'b910', 1164: 'b679', 1165: 'b406', 1166: 'b1684', 1167: 'b1535', 1168: 'b1172', 1169: 'b918', 1170: 'b1237', 1171: 'b1333', 1172: 'b1231', 1173: 'b303', 1174: 'b192', 1175: 'b902', 1176: 'b1059', 1177: 'b1398', 1178: 'b73', 1179: 'b1896', 1180: 'b56', 1181: 'b422', 1182: 'b433', 1183: 'b980', 1184: 'b1655', 1185: 'b680', 1186: 'b1408', 1187: 'b1032', 1188: 'b1336', 1189: 'b1732', 1190: 'b467', 1191: 'b1156', 1192: 'b1468', 1193: 'b1339', 1194: 'b1450', 1195: 'b1689', 1196: 'b746', 1197: 'b1254', 1198: 'b1991', 1199: 'b1095', 1200: 'b509', 1201: 'b605', 1202: 'b214', 1203: 'b869', 1204: 'b1804', 1205: 'b591', 1206: 'b1464', 1207: 'b1583', 1208: 'b1852', 1209: 'b1494', 1210: 'b1397', 1211: 'b1060', 1212: 'b473', 1213: 'b642', 1214: 'b1188', 1215: 'b1035', 1216: 'b1417', 1217: 'b1823', 1218: 'b1011', 1219: 'b808', 1220: 'b1882', 1221: 'b1361', 1222: 'b1360', 1223: 'b656', 1224: 'b147', 1225: 'b832', 1226: 'b1850', 1227: 'b1616', 1228: 'b1335', 1229: 'b917', 1230: 'b692', 1231: 'b1101', 1232: 'b153', 1233: 'b1540', 1234: 'b392', 1235: 'b1839', 1236: 'b1310', 1237: 'b329', 1238: 'b1043', 1239: 'b174', 1240: 'b1821', 1241: 'b1909', 1242: 'b1371', 1243: 'b1832', 1244: 'b1811', 1245: 'b159', 1246: 'b694', 1247: 'b246', 1248: 'b1841', 1249: 'b534', 1250: 'b1473', 1251: 'b477', 1252: 'b188', 1253: 'b216', 1254: 'b1316', 1255: 'b1870', 1256: 'b1293', 1257: 'b1634', 1258: 'b399', 1259: 'b1613', 1260: 'b1950', 1261: 'b1325', 1262: 'b195', 1263: 'b645', 1264: 'b844', 1265: 'b880', 1266: 'b1772', 1267: 'b1764', 1268: 'b1230', 1269: 'b447', 1270: 'b1', 1271: 'b1070', 1272: 'b88', 1273: 'b312', 1274: 'b286', 1275: 'b231', 1276: 'b16', 1277: 'b1883', 1278: 'b657', 1279: 'b491', 1280: 'b834', 1281: 'b1575', 1282: 'b193', 1283: 'b992', 1284: 'b355', 1285: 'b1050', 1286: 'b98', 1287: 'b724', 1288: 'b1243', 1289: 'b1715', 1290: 'b930', 1291: 'b384', 1292: 'b1346', 1293: 'b1016', 1294: 'b1039', 1295: 'b1777', 1296: 'b1052', 1297: 'b922', 1298: 'b1889', 1299: 'b1902', 1300: 'b333', 1301: 'b1879', 1302: 'b414', 1303: 'b783', 1304: 'b210', 1305: 'b1971', 1306: 'b31', 1307: 'b1256', 1308: 'b584', 1309: 'b1630', 1310: 'b134', 1311: 'b1483', 1312: 'b201', 1313: 'b291', 1314: 'b748', 1315: 'b1024', 1316: 'b175', 1317: 'b677', 1318: 'b1467', 1319: 'b1405', 1320: 'b603', 1321: 'b1227', 1322: 'b825', 1323: 'b1522', 1324: 'b254', 1325: 'b1491', 1326: 'b1244', 1327: 'b1611', 1328: 'b1356', 1329: 'b1626', 1330: 'b394', 1331: 'b419', 1332: 'b761', 1333: 'b1229', 1334: 'b1959', 1335: 'b1803', 1336: 'b338', 1337: 'b548', 1338: 'b415', 1339: 'b613', 1340: 'b1824', 1341: 'b685', 1342: 'b17', 1343: 'b1669', 1344: 'b1557', 1345: 'b226', 1346: 'b754', 1347: 'b1738', 1348: 'b140', 1349: 'b1412', 1350: 'b1579', 1351: 'b396', 1352: 'b1291', 1353: 'b764', 1354: 'b1481', 1355: 'b1745', 1356: 'b1275', 1357: 'b1934', 1358: 'b831', 1359: 'b1194', 1360: 'b1696', 1361: 'b224', 1362: 'b801', 1363: 'b960', 1364: 'b441', 1365: 'b797', 1366: 'b1440', 1367: 'b169', 1368: 'b1344', 1369: 'b1136', 1370: 'b1069', 1371: 'b816', 1372: 'b859', 1373: 'b1429', 1374: 'b667', 1375: 'b973', 1376: 'b933', 1377: 'b1615', 1378: 'b1640', 1379: 'b91', 1380: 'b208', 1381: 'b775', 1382: 'b1815', 1383: 'b1917', 1384: 'b1399', 1385: 'b791', 1386: 'b906', 1387: 'b1587', 1388: 'b1091', 1389: 'b732', 1390: 'b20', 1391: 'b617', 1392: 'b1072', 1393: 'b1962', 1394: 'b182', 1395: 'b1760', 1396: 'b1767', 1397: 'b1403', 1398: 'b1602', 1399: 'b985', 1400: 'b382', 1401: 'b805', 1402: 'b1513', 1403: 'b418', 1404: 'b871', 1405: 'b802', 1406: 'b1621', 1407: 'b990', 1408: 'b435', 1409: 'b665', 1410: 'b787', 1411: 'b1840', 1412: 'b1911', 1413: 'b654', 1414: 'b638', 1415: 'b482', 1416: 'b1437', 1417: 'b1180', 1418: 'b1661', 1419: 'b124', 1420: 'b149', 1421: 'b1985', 1422: 'b1140', 1423: 'b968', 1424: 'b507', 1425: 'b562', 1426: 'b183', 1427: 'b1550', 1428: 'b1710', 1429: 'b988', 1430: 'b302', 1431: 'b1814', 1432: 'b1546', 1433: 'b202', 1434: 'b1576', 1435: 'b1932', 1436: 'b440', 1437: 'b163', 1438: 'b1451', 1439: 'b543', 1440: 'b1093', 1441: 'b166', 1442: 'b1309', 1443: 'b1851', 1444: 'b1838', 1445: 'b144', 1446: 'b363', 1447: 'b434', 1448: 'b1867', 1449: 'b655', 1450: 'b340', 1451: 'b957', 1452: 'b1302', 1453: 'b1744', 1454: 'b1541', 1455: 'b307', 1456: 'b299', 1457: 'b379', 1458: 'b1334', 1459: 'b421', 1460: 'b1532', 1461: 'b600', 1462: 'b1406', 1463: 'b1901', 1464: 'b1560', 1465: 'b290', 1466: 'b370', 1467: 'b1478', 1468: 'b106', 1469: 'b309', 1470: 'b1066', 1471: 'b1257', 1472: 'b1761', 1473: 'b259', 1474: 'b376', 1475: 'b1201', 1476: 'b1200', 1477: 'b771', 1478: 'b1660', 1479: 'b1848', 1480: 'b351', 1481: 'b1148', 1482: 'b1942', 1483: 'b924', 1484: 'b1665', 1485: 'b1471', 1486: 'b697', 1487: 'b139', 1488: 'b1682', 1489: 'b909', 1490: 'b475', 1491: 'b1819', 1492: 'b12', 1493: 'b280', 1494: 'b445', 1495: 'b756', 1496: 'b1115', 1497: 'b1030', 1498: 'b1190', 1499: 'b1690', 1500: 'b438', 1501: 'b215', 1502: 'b698', 1503: 'b185', 1504: 'b711', 1505: 'b1415', 1506: 'b822', 1507: 'b1008', 1508: 'b1523', 1509: 'b567', 1510: 'b1720', 1511: 'b1419', 1512: 'b1585', 1513: 'b1674', 1514: 'b1276', 1515: 'b128', 1516: 'b535', 1517: 'b295', 1518: 'b1807', 1519: 'b649', 1520: 'b220', 1521: 'b1876', 1522: 'b1608', 1523: 'b1331', 1524: 'b1162', 1525: 'b6', 1526: 'b845', 1527: 'b1241', 1528: 'b995', 1529: 'b1919', 1530: 'b1263', 1531: 'b294', 1532: 'b1830', 1533: 'b945', 1534: 'b1147', 1535: 'b1404', 1536: 'b1382', 1537: 'b1004', 1538: 'b1558', 1539: 'b1565', 1540: 'b1766', 1541: 'b1425', 1542: 'b1599', 1543: 'b947', 1544: 'b648', 1545: 'b1588', 1546: 'b428', 1547: 'b1359', 1548: 'b1854', 1549: 'b583', 1550: 'b525', 1551: 'b1192', 1552: 'b821', 1553: 'b1252', 1554: 'b1462', 1555: 'b105', 1556: 'b404', 1557: 'b327', 1558: 'b385', 1559: 'b634', 1560: 'b1054', 1561: 'b1899', 1562: 'b1164', 1563: 'b1717', 1564: 'b69', 1565: 'b34', 1566: 'b1297', 1567: 'b537', 1568: 'b1141', 1569: 'b190', 1570: 'b252', 1571: 'b112', 1572: 'b1813', 1573: 'b689', 1574: 'b1006', 1575: 'b99', 1576: 'b742', 1577: 'b96', 1578: 'b978', 1579: 'b759', 1580: 'b745', 1581: 'b843', 1582: 'b1610', 1583: 'b206', 1584: 'b991', 1585: 'b319', 1586: 'b1612', 1587: 'b30', 1588: 'b250', 1589: 'b1080', 1590: 'b1251', 1591: 'b1816', 1592: 'b1268', 1593: 'b1628', 1594: 'b203', 1595: 'b1997', 1596: 'b987', 1597: 'b320', 1598: 'b1439', 1599: 'b619', 1600: 'b1831', 1601: 'b644', 1602: 'b962', 1603: 'b993', 1604: 'b1307', 1605: 'b1001', 1606: 'b313', 1607: 'b1012', 1608: 'b218', 1609: 'b342', 1610: 'b1834', 1611: 'b1517', 1612: 'b1716', 1613: 'b1654', 1614: 'b837', 1615: 'b946', 1616: 'b1281', 1617: 'b1152', 1618: 'b1081', 1619: 'b702', 1620: 'b836', 1621: 'b928', 1622: 'b1990', 1623: 'b850', 1624: 'b1375', 1625: 'b1502', 1626: 'b796', 1627: 'b581', 1628: 'b1195', 1629: 'b334', 1630: 'b1047', 1631: 'b1455', 1632: 'b555', 1633: 'b277', 1634: 'b1029', 1635: 'b874', 1636: 'b1543', 1637: 'b1559', 1638: 'b393', 1639: 'b1000', 1640: 'b1903', 1641: 'b1157', 1642: 'b589', 1643: 'b630', 1644: 'b861', 1645: 'b164', 1646: 'b539', 1647: 'b1374', 1648: 'b1770', 1649: 'b1177', 1650: 'b1790', 1651: 'b1849', 1652: 'b713', 1653: 'b1040', 1654: 'b749', 1655: 'b1712', 1656: 'b1874', 1657: 'b1413', 1658: 'b1700', 1659: 'b931', 1660: 'b1941', 1661: 'b359', 1662: 'b1009', 1663: 'b551', 1664: 'b1894', 1665: 'b460', 1666: 'b1118', 1667: 'b1818', 1668: 'b452', 1669: 'b939', 1670: 'b235', 1671: 'b1203', 1672: 'b684', 1673: 'b1979', 1674: 'b240', 1675: 'b794', 1676: 'b1017', 1677: 'b673', 1678: 'b632', 1679: 'b318', 1680: 'b1182', 1681: 'b1212', 1682: 'b1943', 1683: 'b1474', 1684: 'b1306', 1685: 'b1416', 1686: 'b1242', 1687: 'b253', 1688: 'b1197', 1689: 'b143', 1690: 'b1782', 1691: 'b1563', 1692: 'b1082', 1693: 'b1988', 1694: 'b1898', 1695: 'b610', 1696: 'b1837', 1697: 'b324', 1698: 'b970', 1699: 'b141', 1700: 'b285', 1701: 'b807', 1702: 'b146', 1703: 'b813', 1704: 'b423', 1705: 'b1098', 1706: 'b1170', 1707: 'b1271', 1708: 'b892', 1709: 'b1920', 1710: 'b1092', 1711: 'b721', 1712: 'b470', 1713: 'b884', 1714: 'b1002', 1715: 'b752', 1716: 'b774', 1717: 'b437', 1718: 'b1512', 1719: 'b348', 1720: 'b623', 1721: 'b858', 1722: 'b886', 1723: 'b1400', 1724: 'b940', 1725: 'b1353', 1726: 'b862', 1727: 'b1730', 1728: 'b695', 1729: 'b1723', 1730: 'b1187', 1731: 'b678', 1732: 'b668', 1733: 'b827', 1734: 'b506', 1735: 'b1982', 1736: 'b1027', 1737: 'b1743', 1738: 'b1866', 1739: 'b607', 1740: 'b352', 1741: 'b262', 1742: 'b1912', 1743: 'b458', 1744: 'b1798', 1745: 'b1110', 1746: 'b1045', 1747: 'b1708', 1748: 'b1328', 1749: 'b1511', 1750: 'b1385', 1751: 'b811', 1752: 'b1668', 1753: 'b1905', 1754: 'b921', 1755: 'b1442', 1756: 'b1022', 1757: 'b950', 1758: 'b1395', 1759: 'b979', 1760: 'b1846', 1761: 'b1651', 1762: 'b1596', 1763: 'b1577', 1764: 'b1366', 1765: 'b920', 1766: 'b1347', 1767: 'b1947', 1768: 'b1527', 1769: 'b1482', 1770: 'b1326', 1771: 'b61', 1772: 'b267', 1773: 'b830', 1774: 'b1341', 1775: 'b1965', 1776: 'b459', 1777: 'b1198', 1778: 'b1952', 1779: 'b1794', 1780: 'b533', 1781: 'b1538', 1782: 'b566', 1783: 'b1729', 1784: 'b536', 1785: 'b1044', 1786: 'b926', 1787: 'b1062', 1788: 'b1808', 1789: 'b1740', 1790: 'b1490', 1791: 'b1562', 1792: 'b1453', 1793: 'b1728', 1794: 'b1104', 1795: 'b1046', 1796: 'b842', 1797: 'b983', 1798: 'b1472', 1799: 'b1345', 1800: 'b1173', 1801: 'b1948', 1802: 'b1220', 1803: 'b1508', 1804: 'b1699', 1805: 'b1810', 1806: 'b1671', 1807: 'b1065', 1808: 'b1308', 1809: 'b1904', 1810: 'b1264', 1811: 'b1688', 1812: 'b852', 1813: 'b1076', 1814: 'b279', 1815: 'b1539', 1816: 'b1737', 1817: 'b1174', 1818: 'b1028', 1819: 'b1786', 1820: 'b1551', 1821: 'b1736', 1822: 'b1568', 1823: 'b1433', 1824: 'b1524', 1825: 'b1499'}\n"
          ],
          "name": "stdout"
        }
      ]
    },
    {
      "cell_type": "code",
      "metadata": {
        "id": "5cCcDk3ExboE",
        "outputId": "ae1aaade-fb5b-48d4-c45b-246e7e272419",
        "colab": {
          "base_uri": "https://localhost:8080/"
        }
      },
      "source": [
        "all_embeddings = []\r\n",
        "for each_id in books_for_best_user(best_user):\r\n",
        "  all_embeddings.append(implicit_model_closer_to_validation.predict(each_id))\r\n",
        "\r\n",
        "\r\n",
        "all_embeddings"
      ],
      "execution_count": 197,
      "outputs": [
        {
          "output_type": "execute_result",
          "data": {
            "text/plain": [
              "[array([ 5.366771  , -2.0018942 , -0.52423644, ..., -8.821125  ,\n",
              "        -3.6716857 , -8.266758  ], dtype=float32),\n",
              " array([ 0.09341234, -3.5420356 , -4.019358  , ..., -7.713628  ,\n",
              "        -1.4202746 , -6.3754897 ], dtype=float32),\n",
              " array([ 7.399594 , -2.674912 , -1.6172255, ..., -4.7192545,  0.5317697,\n",
              "        -4.9702735], dtype=float32),\n",
              " array([ 8.567397 , -5.0880566, -3.3107822, ..., -3.9274113, -1.6615267,\n",
              "        -3.4195995], dtype=float32),\n",
              " array([  1.9664044,   2.2700286,   4.292598 , ..., -10.3897705,\n",
              "         -6.9081564, -11.204423 ], dtype=float32)]"
            ]
          },
          "metadata": {
            "tags": []
          },
          "execution_count": 197
        }
      ]
    },
    {
      "cell_type": "code",
      "metadata": {
        "id": "h_lKxy1X0dO_",
        "outputId": "6a501648-e45f-45c3-bad9-53b96720f72c",
        "colab": {
          "base_uri": "https://localhost:8080/"
        }
      },
      "source": [
        "from itertools import combinations\r\n",
        "combi_list = []\r\n",
        "for combination in itertools.combinations([0,1,2,3,4], 2):\r\n",
        "  combi_list.append(combination)\r\n",
        "\r\n",
        "print(combi_list)"
      ],
      "execution_count": 214,
      "outputs": [
        {
          "output_type": "stream",
          "text": [
            "[(0, 1), (0, 2), (0, 3), (0, 4), (1, 2), (1, 3), (1, 4), (2, 3), (2, 4), (3, 4)]\n"
          ],
          "name": "stdout"
        }
      ]
    },
    {
      "cell_type": "code",
      "metadata": {
        "id": "nJvmMaXN4YMa",
        "outputId": "653dd4b4-8b17-4ad1-9de5-31254ea931e8",
        "colab": {
          "base_uri": "https://localhost:8080/"
        }
      },
      "source": [
        "def jaccard(list1, list2):\r\n",
        "    intersection = len(list(set(list1).intersection(list2)))\r\n",
        "    union = (len(list1) + len(list2)) - intersection\r\n",
        "    return float(intersection) / union\r\n",
        "\r\n",
        "\r\n",
        "for i in range(len(combi_list)):\r\n",
        "  jaccard(all_embeddings[combi_list[i][0]], all_embeddings[combi_list[i][1]])\r\n",
        "  print((2 / 5*(5-1)) * jaccard(all_embeddings[combi_list[i][0]], all_embeddings[combi_list[i][1]]))"
      ],
      "execution_count": 218,
      "outputs": [
        {
          "output_type": "stream",
          "text": [
            "0.0\n",
            "0.0\n",
            "0.0\n",
            "0.0\n",
            "0.0\n",
            "0.0\n",
            "0.0\n",
            "0.0\n",
            "0.0\n",
            "0.00043823609969871266\n"
          ],
          "name": "stdout"
        }
      ]
    },
    {
      "cell_type": "markdown",
      "metadata": {
        "id": "C0M8fE2p4InF"
      },
      "source": [
        "#Question 4"
      ]
    },
    {
      "cell_type": "code",
      "metadata": {
        "id": "yTJuO5tZ4KgJ"
      },
      "source": [
        "#create a class which will train an explicit model on the explicit and implicit data passing in the best latent factors recorded from above trained models\r\n",
        "#fit using the training data suited for each model and allocate equal weight to both models when calling the prediction (unweighted)\r\n",
        "class unweighted_combsum:  \r\n",
        "  def __init__(self):\r\n",
        "    self.explicit = self.create_train_model(rating_dataset, 32)\r\n",
        "    self.implicit = self.create_train_model(toread_dataset_train, 16)\r\n",
        " \r\n",
        "  def create_train_model(self, train_dataset, latent):\r\n",
        "    model = ImplicitFactorizationModel(n_iter = 5, loss = \"bpr\", random_state=np.random.RandomState(SEED), embedding_dim = latent)\r\n",
        "    model.fit(train_dataset)\r\n",
        "    return model\r\n",
        "\r\n",
        "  def predict(self, uid):\r\n",
        "    # returns the combined rating\r\n",
        "    return 0.5 * self.explicit.predict(uid) + 0.5 * self.implicit.predict(uid)"
      ],
      "execution_count": 92,
      "outputs": []
    },
    {
      "cell_type": "code",
      "metadata": {
        "id": "R0VnLg6pIwLb"
      },
      "source": [
        "#call the models in a variable\r\n",
        "q4 = unweighted_combsum()"
      ],
      "execution_count": 93,
      "outputs": []
    },
    {
      "cell_type": "code",
      "metadata": {
        "id": "Q4pfxaYdIwJC"
      },
      "source": [
        "#get the MRR scores of the model\r\n",
        "q4_mrr_scores = mrr_score(q4, test_dataset)"
      ],
      "execution_count": 94,
      "outputs": []
    },
    {
      "cell_type": "code",
      "metadata": {
        "id": "3vrK5r-2sPXC",
        "colab": {
          "base_uri": "https://localhost:8080/"
        },
        "outputId": "69f1a7a5-626e-4918-df34-2833f9de0ca0"
      },
      "source": [
        "q4_mrr_scores"
      ],
      "execution_count": 95,
      "outputs": [
        {
          "output_type": "execute_result",
          "data": {
            "text/plain": [
              "array([0.        , 0.33333333, 0.        , ..., 0.11111111, 0.        ,\n",
              "       0.        ])"
            ]
          },
          "metadata": {
            "tags": []
          },
          "execution_count": 95
        }
      ]
    },
    {
      "cell_type": "code",
      "metadata": {
        "id": "sAsXRJJZAnpV",
        "colab": {
          "base_uri": "https://localhost:8080/"
        },
        "outputId": "eb94a9f8-57a1-4bf8-80b7-4f31a2efe54f"
      },
      "source": [
        "#best model from q2\r\n",
        "best_implicit_q2 = ImplicitFactorizationModel(loss=\"bpr\",n_iter=5, \r\n",
        "                                    embedding_dim=32, #this is Spotlight default\r\n",
        "                                    use_cuda=False,\r\n",
        "                                    random_state=np.random.RandomState(SEED) # ensure results are repeatable\r\n",
        ")\r\n",
        "\r\n",
        "best_implicit_q2.fit(rating_dataset)\r\n",
        "\r\n",
        "q2_mrr_scores = mrr_score(best_implicit_q2, test_dataset)\r\n",
        "print(\"======== MRR ========= for latent factor 32\")\r\n",
        "print(\"=====================================================)\")\r\n",
        "print(mrr_score(best_implicit_q2, test_dataset).mean())\r\n",
        "print(\"=====================================================)\")"
      ],
      "execution_count": 96,
      "outputs": [
        {
          "output_type": "stream",
          "text": [
            "======== MRR ========= for latent factor 32\n",
            "=====================================================)\n",
            "0.2213606803401701\n",
            "=====================================================)\n"
          ],
          "name": "stdout"
        }
      ]
    },
    {
      "cell_type": "code",
      "metadata": {
        "id": "nDbRJFTPBchx",
        "colab": {
          "base_uri": "https://localhost:8080/"
        },
        "outputId": "2e4ec94f-088f-48fc-d51e-8d84b3e6e78b"
      },
      "source": [
        "#best model from q3\r\n",
        "best_implicit_q3 = ImplicitFactorizationModel(loss=\"bpr\",n_iter=5, \r\n",
        "                                            embedding_dim=16, \r\n",
        "                                            use_cuda=False, \r\n",
        "                                            random_state=np.random.RandomState(SEED))\r\n",
        "\r\n",
        "best_implicit_q3.fit(toread_dataset_train)\r\n",
        "\r\n",
        "q3_mrr_scores = mrr_score(best_implicit_q3, test_dataset)\r\n",
        "print(\"======== MRR ========= for latent factor 16\")\r\n",
        "print(\"=====================================================)\")\r\n",
        "print(mrr_score(best_implicit_q3, test_dataset).mean())\r\n",
        "print(\"=====================================================)\")"
      ],
      "execution_count": 97,
      "outputs": [
        {
          "output_type": "stream",
          "text": [
            "======== MRR ========= for latent factor 16\n",
            "=====================================================)\n",
            "0.22662620993036198\n",
            "=====================================================)\n"
          ],
          "name": "stdout"
        }
      ]
    },
    {
      "cell_type": "code",
      "metadata": {
        "id": "C2Gf07w4B4mB",
        "colab": {
          "base_uri": "https://localhost:8080/"
        },
        "outputId": "5b08ab33-fd09-44a8-800f-eaf20ddd6111"
      },
      "source": [
        "import matplotlib.pyplot as plt\r\n",
        "\r\n",
        "#calculate the differences in the scores calucated in q2 and q3 individually to find out how many RR scores changed\r\n",
        "diff_q2_q4 = q4_mrr_scores - q2_mrr_scores # <------best\r\n",
        "diff_q3_q4 = q4_mrr_scores - q3_mrr_scores\r\n",
        "\r\n",
        "print(\"\\n=========== FROM Q2 ==========\")\r\n",
        "print(sum(i > 0 for i in diff_q2_q4), \"are better\")\r\n",
        "print(sum(i < 0 for i in diff_q2_q4), \"are worse\")\r\n",
        "print(sum(i == 0 for i in diff_q2_q4), \"have not changed\")\r\n",
        "\r\n",
        "print(\"\\n=========== FROM Q3 ==========\")\r\n",
        "print(sum(i > 0 for i in diff_q3_q4), \"are better\")\r\n",
        "print(sum(i < 0 for i in diff_q3_q4), \"are worse\")\r\n",
        "print(sum(i == 0 for i in diff_q3_q4), \"have not changed\")"
      ],
      "execution_count": 98,
      "outputs": [
        {
          "output_type": "stream",
          "text": [
            "\n",
            "=========== FROM Q2 ==========\n",
            "631 are better\n",
            "483 are worse\n",
            "885 have not changed\n",
            "\n",
            "=========== FROM Q3 ==========\n",
            "601 are better\n",
            "554 are worse\n",
            "844 have not changed\n"
          ],
          "name": "stdout"
        }
      ]
    },
    {
      "cell_type": "code",
      "metadata": {
        "id": "92VrdbzeXQ3V"
      },
      "source": [
        "#Create a dataframe that has the item ids, the previous RR and the RR obtained from the combsum model we created\r\n",
        "## we create another column named diff to pass in the difference\r\n",
        "data = {'user_ids' : uid_map.keys(), 'Previous RR': q3_mrr_scores, 'New RR': q4_mrr_scores}  \r\n",
        "RR_df = pd.DataFrame(data) \r\n",
        "RR_df[\"diff\"] = RR_df['New RR'] - RR_df['Previous RR']\r\n",
        "RR_df = RR_df[RR_df['diff'] != 0]\r\n",
        "RR_to_plot = RR_df[['user_ids', 'Previous RR', 'New RR']]"
      ],
      "execution_count": 99,
      "outputs": []
    },
    {
      "cell_type": "code",
      "metadata": {
        "id": "kW8dEROCeH7b",
        "colab": {
          "base_uri": "https://localhost:8080/",
          "height": 687
        },
        "outputId": "25e15f46-6d0c-4fad-abf0-0fe2a431adbf"
      },
      "source": [
        "#we plot a bar chart of the old RR and the new RR for each user\r\n",
        "## for the first 100 values\r\n",
        "RR_to_plot.head(80).plot.bar(x='user_ids',rot=90, figsize = (50,20))\r\n",
        "plt.xlabel('user_ids', fontsize = 20)\r\n",
        "plt.ylabel('MRR Score', fontsize = 20)\r\n",
        "plt.title('First 80 users MRR scores Previous and New', fontsize = 40)\r\n",
        "plt.show()"
      ],
      "execution_count": 100,
      "outputs": [
        {
          "output_type": "display_data",
          "data": {
            "image/png": "[encoded data removed]",
            "text/plain": [
              "<Figure size 3600x1440 with 1 Axes>"
            ]
          },
          "metadata": {
            "tags": [],
            "needs_background": "light"
          }
        }
      ]
    },
    {
      "cell_type": "markdown",
      "metadata": {
        "id": "Oje13m_ezswO"
      },
      "source": [
        "# Question 5"
      ]
    },
    {
      "cell_type": "code",
      "metadata": {
        "id": "qwTFiVHoz3rj"
      },
      "source": [
        "## Referenced from RecSys - Lab 1 Solution\r\n",
        "def calculate_lift():\r\n",
        "  positives=ratings_df[ratings_df[\"rating\"]>=4]\r\n",
        "  positives\r\n",
        "\r\n",
        "  # #join positives with itself on userId to get all pairs of books watched by a given user.\r\n",
        "\r\n",
        "  pairs=pd.merge(positives, positives, on=[\"user_id\"])\r\n",
        "  pairs\r\n",
        "\r\n",
        "  # #we dont care either A->B, or B->A\r\n",
        "  sequences=pairs[pairs['Unnamed: 0_x'] < pairs['Unnamed: 0_y']] \r\n",
        "  sequences\r\n",
        "\r\n",
        "  # #lets count the frequency of each pair of books\r\n",
        "  paircounts=sequences[[\"book_id_x\", \"book_id_y\", \"user_id\"]].groupby([\"book_id_x\", \"book_id_y\"]).count()\r\n",
        "  paircounts\r\n",
        "\r\n",
        "  #sort by the most popular pairs.\r\n",
        "  pairswithcounts_reset = paircounts.reset_index()\r\n",
        "  pairswithcounts = pairswithcounts_reset.rename(columns={'user_id' : 'count'}).sort_values(['count'], ascending=False)\r\n",
        "  pairswithcounts.head()\r\n",
        "\r\n",
        "  pairswithcounts.merge(books_df, left_on=[\"book_id_x\"], right_on=\"book_id\").merge(books_df, left_on=[\"book_id_y\"], right_on=\"book_id\")[[\"title_x\", \"title_y\"]]\r\n",
        "\r\n",
        "  # # pairswithcounts gives is the frequency of (X AND Y). \r\n",
        "\r\n",
        "  # #We therefore need the counts of books\r\n",
        "  bookCounts = positives.groupby(['book_id']).count()[['user_id']].reset_index().rename(columns={'user_id' : 'count'})\r\n",
        "  bookCounts\r\n",
        "\r\n",
        "  # #lets puts all the information in the sample dataframe.\r\n",
        "  allstats = pairswithcounts.merge(bookCounts, left_on='book_id_x', right_on='book_id').merge(bookCounts, left_on='book_id_y', right_on='book_id')\r\n",
        "  allstats\r\n",
        "\r\n",
        "  # #and drop out some unused columns\r\n",
        "  allstats = allstats[['book_id_x', 'book_id_y', 'count', 'count_x', 'count_y']]\r\n",
        "  allstats\r\n",
        "\r\n",
        "  allstats = allstats.loc[:,~allstats.columns.duplicated()]\r\n",
        "  allstats\r\n",
        "\r\n",
        "  # #to calculate probabilites we need a denominator. I used the number of total ratings\r\n",
        "  num=float(ratings_df.count()[\"rating\"])\r\n",
        "\r\n",
        "  # #we can then perform artihmetic on columns\r\n",
        "  allstats[\"lift\"] = (allstats[\"count\"] / num ) / ( (allstats[\"count_x\"] / num) * (allstats[\"count_y\"] / num))\r\n",
        "  allstats[\"loglift\"] = np.log(allstats[\"lift\"])\r\n",
        "\r\n",
        "  withtitles = allstats.merge(books_df, left_on=['book_id_x'],  right_on=\"book_id\").merge(books_df, left_on=[\"book_id_y\"], right_on=\"book_id\")\r\n",
        "  withtitles\r\n",
        "\r\n",
        "\r\n",
        "  #we add the support column\r\n",
        "  withtitles[\"support\"] = withtitles[\"count\"] / sequences[\"book_id_x\"].count()\r\n",
        "\r\n",
        "  #select the columns we want to see\r\n",
        "  withtitles[[\"title_x\", \"book_id_x\", \"book_id_y\", \"lift\", \"support\"]]\r\n",
        "  final = withtitles[[\"title_y\", \"title_x\", \"book_id_x\", \"book_id_y\", \"lift\", \"support\", \"count\", \"loglift\"]]\r\n",
        "\r\n",
        "  #remove the duplicates from the dataframe\r\n",
        "  final = final.loc[:,~final.columns.duplicated()]\r\n",
        "  return final"
      ],
      "execution_count": 101,
      "outputs": []
    },
    {
      "cell_type": "code",
      "metadata": {
        "id": "dToMipXRd61v",
        "colab": {
          "base_uri": "https://localhost:8080/",
          "height": 399
        },
        "outputId": "f9d5cee4-3d99-46ce-cd61-536b5a3321ed"
      },
      "source": [
        "#display tha dataframe\r\n",
        "calculate_lift()"
      ],
      "execution_count": 102,
      "outputs": [
        {
          "output_type": "execute_result",
          "data": {
            "text/html": [
              "<div>\n",
              "<style scoped>\n",
              "    .dataframe tbody tr th:only-of-type {\n",
              "        vertical-align: middle;\n",
              "    }\n",
              "\n",
              "    .dataframe tbody tr th {\n",
              "        vertical-align: top;\n",
              "    }\n",
              "\n",
              "    .dataframe thead th {\n",
              "        text-align: right;\n",
              "    }\n",
              "</style>\n",
              "<table border=\"1\" class=\"dataframe\">\n",
              "  <thead>\n",
              "    <tr style=\"text-align: right;\">\n",
              "      <th></th>\n",
              "      <th>title_y</th>\n",
              "      <th>title_x</th>\n",
              "      <th>book_id_x</th>\n",
              "      <th>book_id_y</th>\n",
              "      <th>lift</th>\n",
              "      <th>support</th>\n",
              "      <th>count</th>\n",
              "      <th>loglift</th>\n",
              "    </tr>\n",
              "  </thead>\n",
              "  <tbody>\n",
              "    <tr>\n",
              "      <th>0</th>\n",
              "      <td>Catching Fire (The Hunger Games, #2)</td>\n",
              "      <td>The Hunger Games (The Hunger Games, #1)</td>\n",
              "      <td>b1</td>\n",
              "      <td>b17</td>\n",
              "      <td>364.310869</td>\n",
              "      <td>1.999159e-04</td>\n",
              "      <td>365</td>\n",
              "      <td>5.898008</td>\n",
              "    </tr>\n",
              "    <tr>\n",
              "      <th>1</th>\n",
              "      <td>Catching Fire (The Hunger Games, #2)</td>\n",
              "      <td>Harry Potter and the Sorcerer's Stone (Harry P...</td>\n",
              "      <td>b2</td>\n",
              "      <td>b17</td>\n",
              "      <td>1678.391936</td>\n",
              "      <td>1.999159e-04</td>\n",
              "      <td>365</td>\n",
              "      <td>7.425591</td>\n",
              "    </tr>\n",
              "    <tr>\n",
              "      <th>2</th>\n",
              "      <td>Catching Fire (The Hunger Games, #2)</td>\n",
              "      <td>Harry Potter and the Goblet of Fire (Harry Pot...</td>\n",
              "      <td>b24</td>\n",
              "      <td>b17</td>\n",
              "      <td>1912.241959</td>\n",
              "      <td>1.999159e-04</td>\n",
              "      <td>365</td>\n",
              "      <td>7.556032</td>\n",
              "    </tr>\n",
              "    <tr>\n",
              "      <th>3</th>\n",
              "      <td>Catching Fire (The Hunger Games, #2)</td>\n",
              "      <td>Harry Potter and the Half-Blood Prince (Harry ...</td>\n",
              "      <td>b27</td>\n",
              "      <td>b17</td>\n",
              "      <td>1474.298433</td>\n",
              "      <td>1.999159e-04</td>\n",
              "      <td>365</td>\n",
              "      <td>7.295938</td>\n",
              "    </tr>\n",
              "    <tr>\n",
              "      <th>4</th>\n",
              "      <td>Catching Fire (The Hunger Games, #2)</td>\n",
              "      <td>Harry Potter and the Prisoner of Azkaban (Harr...</td>\n",
              "      <td>b18</td>\n",
              "      <td>b17</td>\n",
              "      <td>1527.715043</td>\n",
              "      <td>1.999159e-04</td>\n",
              "      <td>365</td>\n",
              "      <td>7.331528</td>\n",
              "    </tr>\n",
              "    <tr>\n",
              "      <th>...</th>\n",
              "      <td>...</td>\n",
              "      <td>...</td>\n",
              "      <td>...</td>\n",
              "      <td>...</td>\n",
              "      <td>...</td>\n",
              "      <td>...</td>\n",
              "      <td>...</td>\n",
              "      <td>...</td>\n",
              "    </tr>\n",
              "    <tr>\n",
              "      <th>721164</th>\n",
              "      <td>Piercing the Darkness (Darkness, #2)</td>\n",
              "      <td>Nights in Rodanthe</td>\n",
              "      <td>b622</td>\n",
              "      <td>b1925</td>\n",
              "      <td>17823.142857</td>\n",
              "      <td>5.477147e-07</td>\n",
              "      <td>1</td>\n",
              "      <td>9.788253</td>\n",
              "    </tr>\n",
              "    <tr>\n",
              "      <th>721165</th>\n",
              "      <td>Piercing the Darkness (Darkness, #2)</td>\n",
              "      <td>This Present Darkness (Darkness, #1)</td>\n",
              "      <td>b1218</td>\n",
              "      <td>b1925</td>\n",
              "      <td>17823.142857</td>\n",
              "      <td>5.477147e-07</td>\n",
              "      <td>1</td>\n",
              "      <td>9.788253</td>\n",
              "    </tr>\n",
              "    <tr>\n",
              "      <th>721166</th>\n",
              "      <td>Piercing the Darkness (Darkness, #2)</td>\n",
              "      <td>At First Sight (Jeremy Marsh &amp; Lexie Darnell, #2)</td>\n",
              "      <td>b1459</td>\n",
              "      <td>b1925</td>\n",
              "      <td>20793.666667</td>\n",
              "      <td>5.477147e-07</td>\n",
              "      <td>1</td>\n",
              "      <td>9.942404</td>\n",
              "    </tr>\n",
              "    <tr>\n",
              "      <th>721167</th>\n",
              "      <td>Gone (Gone, #1)</td>\n",
              "      <td>The Absolutely True Diary of a Part-Time Indian</td>\n",
              "      <td>b591</td>\n",
              "      <td>b685</td>\n",
              "      <td>1919.415385</td>\n",
              "      <td>5.477147e-07</td>\n",
              "      <td>1</td>\n",
              "      <td>7.559776</td>\n",
              "    </tr>\n",
              "    <tr>\n",
              "      <th>721168</th>\n",
              "      <td>Gone (Gone, #1)</td>\n",
              "      <td>The House of the Scorpion (Matteo Alacran, #1)</td>\n",
              "      <td>b1678</td>\n",
              "      <td>b685</td>\n",
              "      <td>8317.466667</td>\n",
              "      <td>5.477147e-07</td>\n",
              "      <td>1</td>\n",
              "      <td>9.026113</td>\n",
              "    </tr>\n",
              "  </tbody>\n",
              "</table>\n",
              "<p>721169 rows × 8 columns</p>\n",
              "</div>"
            ],
            "text/plain": [
              "                                     title_y  ...   loglift\n",
              "0       Catching Fire (The Hunger Games, #2)  ...  5.898008\n",
              "1       Catching Fire (The Hunger Games, #2)  ...  7.425591\n",
              "2       Catching Fire (The Hunger Games, #2)  ...  7.556032\n",
              "3       Catching Fire (The Hunger Games, #2)  ...  7.295938\n",
              "4       Catching Fire (The Hunger Games, #2)  ...  7.331528\n",
              "...                                      ...  ...       ...\n",
              "721164  Piercing the Darkness (Darkness, #2)  ...  9.788253\n",
              "721165  Piercing the Darkness (Darkness, #2)  ...  9.788253\n",
              "721166  Piercing the Darkness (Darkness, #2)  ...  9.942404\n",
              "721167                       Gone (Gone, #1)  ...  7.559776\n",
              "721168                       Gone (Gone, #1)  ...  9.026113\n",
              "\n",
              "[721169 rows x 8 columns]"
            ]
          },
          "metadata": {
            "tags": []
          },
          "execution_count": 102
        }
      ]
    },
    {
      "cell_type": "code",
      "metadata": {
        "id": "zvFs1TGkFMtA"
      },
      "source": [
        "#create the loglift class where we set a minimum support which we will use to evaluate\r\n",
        "#this minimum support will filter the dataframe and calculate the according lift scores\r\n",
        "class loglift:\r\n",
        "  def __init__(self, min_sup = 0):\r\n",
        "    self.minimum_support = min_sup\r\n",
        "    self.df = lifts.loc[(lifts[\"support\"] > self.minimum_support)]\r\n",
        "    self.book_ids = books_df[\"book_id\"].values\r\n",
        "    self.book_lift_scores = self.calculate_book_lift_scores()\r\n",
        " \r\n",
        "  #use this function to calculate the book lift for the given books\r\n",
        "  def calculate_book_lift_scores(self): \r\n",
        "    return np.array([self.df.loc[(self.df[\"book_id_x\"] == bookid) | (self.df[\"book_id_y\"] == bookid)][\"loglift\"].values.sum() for bookid in self.book_ids])\r\n",
        " \r\n",
        "  #call the predictions\r\n",
        "  def predict(self, uid):\r\n",
        "    userid = uid_rev_map[uid]\r\n",
        "    scores = []\r\n",
        "    scores = np.zeros(1826)\r\n",
        "\r\n",
        "    #for books that are not already rated\r\n",
        "    already_rated_books = ratings_df.loc[ratings_df[\"user_id\"] == userid][\"book_id\"].values\r\n",
        "\r\n",
        "    #get the indices of the books that are not already rated\r\n",
        "    lift_indices = np.array([i for i  in range(len(self.book_ids)) if self.book_ids[i] not in already_rated_books])\\\r\n",
        "\r\n",
        "    #calculate the scores for these books\r\n",
        "    scores[lift_indices] = self.book_lift_scores[lift_indices]\r\n",
        "\r\n",
        "    return scores"
      ],
      "execution_count": 103,
      "outputs": []
    },
    {
      "cell_type": "code",
      "metadata": {
        "id": "7tj4daukIqcC"
      },
      "source": [
        "#pass the lift dataframe in a variable\r\n",
        "lifts = calculate_lift()"
      ],
      "execution_count": 104,
      "outputs": []
    },
    {
      "cell_type": "code",
      "metadata": {
        "id": "fCzvNtOoEVMt"
      },
      "source": [
        "#initialize an empty list\r\n",
        "q5_mrr_scores =  []\r\n",
        "\r\n",
        "#get 10 values of minimum support between minimum and maximum to experiment\r\n",
        "min_supports = np.linspace(lifts[\"support\"].min(), lifts[\"support\"].max(), 10)\r\n",
        "\r\n",
        "#using the minimum support on the loglift recommender, append the MRR score calculated\r\n",
        "for min_support in min_supports:\r\n",
        "  q5_mrr_scores.append(mrr_score(loglift(min_support), validation))"
      ],
      "execution_count": 105,
      "outputs": []
    },
    {
      "cell_type": "code",
      "metadata": {
        "id": "uIuWC3YdIKnm",
        "colab": {
          "base_uri": "https://localhost:8080/"
        },
        "outputId": "74c80a0f-c2d2-4c4e-f090-39f3456d2773"
      },
      "source": [
        "#get the mean MRR for each minimum support calculated from above\r\n",
        "## this will be used for plotting\r\n",
        "mean_RR = []\r\n",
        "for each in q5_mrr_scores:\r\n",
        "  mean_RR.append(each.mean())\r\n",
        "\r\n",
        "print(mean_RR)\r\n",
        "print(q5_mrr_scores)\r\n",
        "print(min_supports)"
      ],
      "execution_count": 106,
      "outputs": [
        {
          "output_type": "stream",
          "text": [
            "[0.07603543835409768, 0.05580012228336391, 0.05725779556444889, 0.05790534155966872, 0.057036851759212935, 0.06443162057219086, 0.08278440094611339, 0.054070487624764754, 0.03266216441554111, 0.0]\n",
            "[array([0. , 0. , 0. , ..., 0. , 0. , 0.5]), array([0.  , 0.  , 0.25, ..., 0.  , 0.  , 0.25]), array([0.        , 0.        , 0.33333333, ..., 0.        , 0.        ,\n",
            "       0.25      ]), array([0.        , 0.        , 0.33333333, ..., 0.        , 0.        ,\n",
            "       0.25      ]), array([0.        , 0.        , 0.33333333, ..., 0.        , 0.        ,\n",
            "       0.25      ]), array([0.  , 0.  , 0.  , ..., 0.  , 0.  , 0.25]), array([0.        , 0.        , 0.        , ..., 0.        , 0.        ,\n",
            "       0.33333333]), array([0. , 0. , 0. , ..., 0. , 0. , 0.5]), array([0., 0., 0., ..., 0., 0., 0.]), array([0, 0, 0, ..., 0, 0, 0])]\n",
            "[5.47714715e-07 3.26194541e-05 6.46911936e-05 9.67629330e-05\n",
            " 1.28834672e-04 1.60906412e-04 1.92978151e-04 2.25049891e-04\n",
            " 2.57121630e-04 2.89193370e-04]\n"
          ],
          "name": "stdout"
        }
      ]
    },
    {
      "cell_type": "code",
      "metadata": {
        "id": "jatkQGfMjQCC",
        "colab": {
          "base_uri": "https://localhost:8080/",
          "height": 323
        },
        "outputId": "71121bb5-398a-40cc-a1f7-5665d0740150"
      },
      "source": [
        "#plot the minimum support against the mean RR of each support to see how MRR behaves\r\n",
        "plt.plot(min_supports, mean_RR, marker = 'D')\r\n",
        "plt.xticks(min_supports, rotation = 90)\r\n",
        "plt.xlabel('Supports')\r\n",
        "plt.ylabel('MRR')\r\n",
        "\r\n",
        "## store the best minimum support \r\n",
        "best_min_support = min_supports[np.argmax(mean_RR)]"
      ],
      "execution_count": 107,
      "outputs": [
        {
          "output_type": "display_data",
          "data": {
            "image/png": "[encoded data removed]",
            "text/plain": [
              "<Figure size 432x288 with 1 Axes>"
            ]
          },
          "metadata": {
            "tags": [],
            "needs_background": "light"
          }
        }
      ]
    },
    {
      "cell_type": "code",
      "metadata": {
        "id": "SbpZ8zIek6Q5",
        "colab": {
          "base_uri": "https://localhost:8080/"
        },
        "outputId": "8d0a070f-fc0e-4bcb-a546-db3607ebc684"
      },
      "source": [
        "print(mrr_score(loglift(best_min_support), test_dataset).mean())"
      ],
      "execution_count": 108,
      "outputs": [
        {
          "output_type": "stream",
          "text": [
            "0.09883937505379806\n"
          ],
          "name": "stdout"
        }
      ]
    },
    {
      "cell_type": "markdown",
      "metadata": {
        "id": "EXWyeWxAzsex"
      },
      "source": [
        "# Question 6"
      ]
    },
    {
      "cell_type": "code",
      "metadata": {
        "id": "y6vL3qNlz1de"
      },
      "source": [
        "## initiliase and train recommenders\r\n",
        "class initiliase_recommenders:\r\n",
        "  def __init__(self):\r\n",
        "    ## ===========================================Low Group========================================\r\n",
        "    self.average_rating = average_rating(num_items)\r\n",
        "    self.number_of_ratings = number_of_ratings(num_items)  \r\n",
        "    self.emodel = ExplicitFactorizationModel(n_iter=5,random_state=np.random.RandomState(SEED))\r\n",
        "    ## =========================================================================================\r\n",
        " \r\n",
        "    ## ========================================== High Group ====================================== \r\n",
        "    self.number_of_5_star_ratings = number_of_5_star_ratings(num_items)\r\n",
        "    self.loglift = loglift(best_min_support)\r\n",
        "    self.fractions_of_5_star = fractions_of_5_star(num_items)\r\n",
        "\r\n",
        "    ## ===========================================Two Best======================================\r\n",
        "    self.imodel = ImplicitFactorizationModel(n_iter = 5, loss = \"bpr\", random_state=np.random.RandomState(SEED), embedding_dim = 32)\r\n",
        "    self.best_implicit_model = ImplicitFactorizationModel(n_iter = 5, loss = \"bpr\", random_state=np.random.RandomState(SEED), embedding_dim = 16)\r\n",
        "    ## =========================================================================================\r\n",
        "\r\n",
        "\r\n",
        "    # call train function\r\n",
        "    self.train_models()\r\n",
        " \r\n",
        "\r\n",
        "    #iterate over the recommender list\r\n",
        "    self.recommender_list = self.iterate_over()\r\n",
        " \r\n",
        "  #train them\r\n",
        "  def train_models(self):\r\n",
        "    self.emodel.fit(rating_dataset)\r\n",
        "    self.imodel.fit(rating_dataset)\r\n",
        "    self.best_implicit_model.fit(toread_dataset_train)\r\n",
        " \r\n",
        "  #iterate over the recommenders and assigns a value to each one\r\n",
        "  def iterate_over(self):\r\n",
        "    recommenders = []\r\n",
        "    for attr, value in self.__dict__.items():\r\n",
        "          recommenders.append(value)\r\n",
        "    return recommenders"
      ],
      "execution_count": 109,
      "outputs": []
    },
    {
      "cell_type": "code",
      "metadata": {
        "id": "2OCvRcddVspN"
      },
      "source": [
        "#this class combines all the recommenders and takes in a list of weights for bias\r\n",
        "class combine_recommenders:\r\n",
        "  def __init__(self, recommenders, weights = []):\r\n",
        "    self.recommenders = recommenders\r\n",
        "    self.number_of_recommenders = len(recommenders)\r\n",
        "\r\n",
        "    #if we give a weights list equal to recommenders set weights equal to that list\r\n",
        "    ## else assign an equal weight to the recommender 1/number of recommenders to be equal to 1\r\n",
        "    if len(weights) == self.number_of_recommenders:\r\n",
        "      self.weights = weights\r\n",
        "    else:\r\n",
        "      self.weights = np.ones(self.number_of_recommenders) * 1/self.number_of_recommenders\r\n",
        "\r\n",
        "  #call predictions\r\n",
        "  def predict(self, uid):\r\n",
        "    predictions = 0\r\n",
        "    for rec in range(self.number_of_recommenders):\r\n",
        "      predictions += self.recommenders[rec].predict(uid) * self.weights[rec]\r\n",
        "    return predictions"
      ],
      "execution_count": 110,
      "outputs": []
    },
    {
      "cell_type": "code",
      "metadata": {
        "id": "rbURVrQJHYDK"
      },
      "source": [
        "#define a function that returns the weights based on the bias set, returns changed weight list\r\n",
        "def calculate_bias_weight(bias,indexes):\r\n",
        "  weights = np.ones(8) * (1-bias*len(indexes))/(8-len(indexes))\r\n",
        "  for i in indexes:\r\n",
        "    weights[i] = bias\r\n",
        "  return weights"
      ],
      "execution_count": 111,
      "outputs": []
    },
    {
      "cell_type": "code",
      "metadata": {
        "id": "dh-vUsnaXUNX"
      },
      "source": [
        "#initialise the recommenders\r\n",
        "trained_recommenders = initiliase_recommenders()"
      ],
      "execution_count": 112,
      "outputs": []
    },
    {
      "cell_type": "markdown",
      "metadata": {
        "id": "1x-9d1Sys2gO"
      },
      "source": [
        "#Get Weights for different Bias Values"
      ]
    },
    {
      "cell_type": "code",
      "metadata": {
        "id": "_yqgqXsGXYfF"
      },
      "source": [
        "#assing equal weights to all recommenders of 1/number of recommenders\r\n",
        "no_of_recommenders = 8\r\n",
        "weights_list_without_bias = []\r\n",
        "recommender_indices = list(range(no_of_recommenders))\r\n",
        "weights_list_without_bias.append(np.ones(no_of_recommenders) * 1/no_of_recommenders)\r\n",
        "\r\n",
        "#assign a bias of 0.3 one recommender each time in turn while experimenting\r\n",
        "bias_test = 0.3\r\n",
        "weights_list_with_bias = []\r\n",
        "for i in range(no_of_recommenders):\r\n",
        "  weights_list_with_bias.append(calculate_bias_weight(bias_test, [i]))\r\n",
        "\r\n",
        "#assing bias to the highest performing group of models\r\n",
        "highest_group_equal_weights = []\r\n",
        "for bias in [0.15, 0.18]:\r\n",
        "  highest_group_equal_weights.append(calculate_bias_weight(bias, recommender_indices[3:]))\r\n",
        "\r\n",
        "#assign bias to the two best performing models\r\n",
        "two_highest_rec_equal_weights = []\r\n",
        "for bias in [0.25,0.35,0.45]:\r\n",
        "  two_highest_rec_equal_weights.append(calculate_bias_weight(bias, recommender_indices[6:]))"
      ],
      "execution_count": 113,
      "outputs": []
    },
    {
      "cell_type": "markdown",
      "metadata": {
        "id": "JKlfCM02ss56"
      },
      "source": [
        "#Get MRR Scores for those Bias Values in order set above"
      ]
    },
    {
      "cell_type": "code",
      "metadata": {
        "id": "XZbUo1cojAc0",
        "colab": {
          "base_uri": "https://localhost:8080/"
        },
        "outputId": "c2a8a4c3-23e7-427d-bea6-348aee47ecb9"
      },
      "source": [
        "#get MRR without bias\r\n",
        "q6_mrr_scores_without_bias = mrr_score(combine_recommenders(trained_recommenders.recommender_list, weights_list_without_bias), validation).mean()\r\n",
        "print(q6_mrr_scores_without_bias)\r\n",
        "\r\n",
        "#get MRR for weight with bias\r\n",
        "q6_mmr_scores_with_bias = []\r\n",
        "for each in weights_list_with_bias:\r\n",
        "  q6_mmr_scores_with_bias.append(mrr_score(combine_recommenders(trained_recommenders.recommender_list, each), validation).mean())\r\n",
        "print(q6_mmr_scores_with_bias)\r\n",
        "\r\n",
        "#get MRR with equal bias on the best performing group\r\n",
        "q6_mmr_scores_highest_group_equal_weights = []\r\n",
        "for each in highest_group_equal_weights:\r\n",
        "  q6_mmr_scores_highest_group_equal_weights.append(mrr_score(combine_recommenders(trained_recommenders.recommender_list, each), validation).mean())\r\n",
        "print(q6_mmr_scores_highest_group_equal_weights)\r\n",
        "\r\n",
        "#get MRR with bias on top two models\r\n",
        "q6_mmr_scores_two_highest_rec_equal_weights = []\r\n",
        "for each in two_highest_rec_equal_weights:\r\n",
        "  q6_mmr_scores_two_highest_rec_equal_weights.append(mrr_score(combine_recommenders(trained_recommenders.recommender_list, each), validation).mean())\r\n",
        "print(q6_mmr_scores_two_highest_rec_equal_weights)"
      ],
      "execution_count": 114,
      "outputs": [
        {
          "output_type": "stream",
          "text": [
            "0.02878363785067137\n",
            "[0.02878363785067137, 0.028197233537403624, 0.02878363785067137, 0.055491039170378835, 0.02878363785067137, 0.02878363785067137, 0.02878363785067137, 0.02878363785067137]\n",
            "[0.04191083637056623, 0.06464740306661268]\n",
            "[0.02878363785067137, 0.02878363785067137, 0.02878363785067137]\n"
          ],
          "name": "stdout"
        }
      ]
    },
    {
      "cell_type": "markdown",
      "metadata": {
        "id": "ERT-dofgHrDA"
      },
      "source": [
        "#Get Graph"
      ]
    },
    {
      "cell_type": "code",
      "metadata": {
        "id": "zFih4RDEI55Q"
      },
      "source": [
        "#flatten the list of MRR scores to prepare data for plotting\r\n",
        "flattened_list = []\r\n",
        "flattened_list.append(q6_mrr_scores_without_bias)\r\n",
        "\r\n",
        "for each in q6_mmr_scores_with_bias:\r\n",
        "  flattened_list.append(each)\r\n",
        "\r\n",
        "for each in q6_mmr_scores_highest_group_equal_weights:\r\n",
        "  flattened_list.append(each)\r\n",
        "\r\n",
        "for each in q6_mmr_scores_two_highest_rec_equal_weights:\r\n",
        "  flattened_list.append(each)"
      ],
      "execution_count": 115,
      "outputs": []
    },
    {
      "cell_type": "code",
      "metadata": {
        "id": "ri_bVJYQiV5M",
        "colab": {
          "base_uri": "https://localhost:8080/",
          "height": 313
        },
        "outputId": "73f6df6c-81ba-4b29-9adf-5fe09a3fccd6"
      },
      "source": [
        "#Plot the graph of the MRR against experiment\r\n",
        "plt.plot(range(1,15), flattened_list)\r\n",
        "plt.ylabel('MRR Score')\r\n",
        "plt.xlabel('Bias Experiment')\r\n",
        "plt.title('MRR/Bias Experiment')\r\n"
      ],
      "execution_count": 116,
      "outputs": [
        {
          "output_type": "execute_result",
          "data": {
            "text/plain": [
              "Text(0.5, 1.0, 'MRR/Bias Experiment')"
            ]
          },
          "metadata": {
            "tags": []
          },
          "execution_count": 116
        },
        {
          "output_type": "display_data",
          "data": {
            "image/png": "[encoded data removed]",
            "text/plain": [
              "<Figure size 432x288 with 1 Axes>"
            ]
          },
          "metadata": {
            "tags": [],
            "needs_background": "light"
          }
        }
      ]
    },
    {
      "cell_type": "code",
      "metadata": {
        "id": "clUydOZ0oBOB"
      },
      "source": [
        ""
      ],
      "execution_count": 116,
      "outputs": []
    }
  ]
}