{
  "nbformat": 4,
  "nbformat_minor": 0,
  "metadata": {
    "colab": {
      "name": "RecSys coursework 2021_2210049p.ipynb",
      "provenance": [],
      "collapsed_sections": [],
      "include_colab_link": true
    },
    "kernelspec": {
      "name": "python3",
      "display_name": "Python 3"
    }
  },
  "cells": [
    {
      "cell_type": "markdown",
      "metadata": {
        "id": "view-in-github",
        "colab_type": "text"
      },
      "source": [
        "<a href=\"https://colab.research.google.com/github/podyssea/RecommenderSystems/blob/main/RecSys_coursework_2021_2210049p.ipynb\" target=\"_parent\"><img src=\"https://colab.research.google.com/assets/colab-badge.svg\" alt=\"Open In Colab\"/></a>"
      ]
    },
    {
      "cell_type": "markdown",
      "metadata": {
        "id": "THQFNe3zdt1f"
      },
      "source": [
        "# Assessed Coursework Template Notebook\n",
        "\n",
        "This is the template notebook for the RecSys(H) 2021 coursework. It deals with data preparation and evaluation only.\n",
        "\n",
        "Please note:\n",
        " - use H1 text headings for grouping together blocks of cells. You can then hide these while working on other blocks\n",
        " - leave the cell output visible when you submit the notebook\n",
        "\n"
      ]
    },
    {
      "cell_type": "markdown",
      "metadata": {
        "id": "Ww--_kl9-ndn"
      },
      "source": [
        "## Setup block\n",
        "\n",
        "Setup the data files, Python etc."
      ]
    },
    {
      "cell_type": "code",
      "metadata": {
        "id": "iFgYpbhh0tkX",
        "colab": {
          "base_uri": "https://localhost:8080/"
        },
        "outputId": "e502d9dc-9a0b-4fc4-f1ca-17d365c1ee7b"
      },
      "source": [
        "!rm -rf ratings* books* to_read* test*\n",
        "\n",
        "!curl -o ratings.csv \"http://www.dcs.gla.ac.uk/~craigm/recsysH/coursework/final-ratings.csv\" \n",
        "!curl -o books.csv \"http://www.dcs.gla.ac.uk/~craigm/recsysH/coursework/final-books.csv\"\n",
        "!curl -o to_read.csv \"http://www.dcs.gla.ac.uk/~craigm/recsysH/coursework/final-to_read.csv\"\n",
        "!curl -o test.csv \"http://www.dcs.gla.ac.uk/~craigm/recsysH/coursework/final-test.csv\""
      ],
      "execution_count": 118,
      "outputs": [
        {
          "output_type": "stream",
          "text": [
            "  % Total    % Received % Xferd  Average Speed   Time    Time     Time  Current\n",
            "                                 Dload  Upload   Total   Spent    Left  Speed\n",
            "100 7631k  100 7631k    0     0  6234k      0  0:00:01  0:00:01 --:--:-- 6234k\n",
            "  % Total    % Received % Xferd  Average Speed   Time    Time     Time  Current\n",
            "                                 Dload  Upload   Total   Spent    Left  Speed\n",
            "100 2366k  100 2366k    0     0  2617k      0 --:--:-- --:--:-- --:--:-- 2614k\n",
            "  % Total    % Received % Xferd  Average Speed   Time    Time     Time  Current\n",
            "                                 Dload  Upload   Total   Spent    Left  Speed\n",
            "100 7581k  100 7581k    0     0  6861k      0  0:00:01  0:00:01 --:--:-- 6861k\n",
            "  % Total    % Received % Xferd  Average Speed   Time    Time     Time  Current\n",
            "                                 Dload  Upload   Total   Spent    Left  Speed\n",
            "100 1895k  100 1895k    0     0  2094k      0 --:--:-- --:--:-- --:--:-- 2091k\n"
          ],
          "name": "stdout"
        }
      ]
    },
    {
      "cell_type": "code",
      "metadata": {
        "id": "1VpVnNrZ1EiX",
        "colab": {
          "base_uri": "https://localhost:8080/"
        },
        "outputId": "390d4ae8-ce26-499a-9401-26f50016bc45"
      },
      "source": [
        "#Standard setup\n",
        "import pandas as pd\n",
        "import numpy as np\n",
        "import torch\n",
        "!pip install git+https://github.com/cmacdonald/spotlight.git@master#egg=spotlight\n",
        "from spotlight.interactions import Interactions\n",
        "SEED=42"
      ],
      "execution_count": 119,
      "outputs": [
        {
          "output_type": "stream",
          "text": [
            "Requirement already satisfied: spotlight from git+https://github.com/cmacdonald/spotlight.git@master#egg=spotlight in /usr/local/lib/python3.7/dist-packages (0.1.6)\n",
            "Requirement already satisfied: torch>=0.4.0 in /usr/local/lib/python3.7/dist-packages (from spotlight) (1.8.0+cu101)\n",
            "Requirement already satisfied: numpy in /usr/local/lib/python3.7/dist-packages (from torch>=0.4.0->spotlight) (1.19.5)\n",
            "Requirement already satisfied: typing-extensions in /usr/local/lib/python3.7/dist-packages (from torch>=0.4.0->spotlight) (3.7.4.3)\n"
          ],
          "name": "stdout"
        }
      ]
    },
    {
      "cell_type": "markdown",
      "metadata": {
        "id": "RtJO0e0m-hun"
      },
      "source": [
        "# data preparation"
      ]
    },
    {
      "cell_type": "code",
      "metadata": {
        "id": "qKAb25iw1MYw"
      },
      "source": [
        "#load in the csv files\n",
        "ratings_df = pd.read_csv(\"ratings.csv\")\n",
        "books_df = pd.read_csv(\"books.csv\")\n",
        "to_read_df = pd.read_csv(\"to_read.csv\")\n",
        "test = pd.read_csv(\"test.csv\")"
      ],
      "execution_count": 120,
      "outputs": []
    },
    {
      "cell_type": "code",
      "metadata": {
        "id": "W6rqfn53OhDC"
      },
      "source": [
        "#cut down the number of items and users\n",
        "counts=ratings_df[ratings_df[\"book_id\"] < 2000].groupby([\"book_id\"]).count().reset_index()\n",
        "valid_books=counts[counts[\"user_id\"] >= 10][[\"book_id\"]]\n",
        "\n",
        "books_df = books_df.merge(valid_books, on=\"book_id\")\n",
        "ratings_df = ratings_df[ratings_df[\"user_id\"] < 2000].merge(valid_books, on=\"book_id\")\n",
        "to_read_df = to_read_df[to_read_df[\"user_id\"] < 2000].merge(valid_books, on=\"book_id\")\n",
        "test = test[test[\"user_id\"] < 2000].merge(valid_books, on=\"book_id\")\n",
        "\n",
        "\n",
        "#stringify the id columns\n",
        "def str_col(df):\n",
        "  if \"user_id\" in df.columns:\n",
        "    df[\"user_id\"] = \"u\" + df.user_id.astype(str)\n",
        "  if \"book_id\" in df.columns:\n",
        "    df[\"book_id\"] = \"b\" + df.book_id.astype(str)\n",
        "\n",
        "str_col(books_df)\n",
        "str_col(ratings_df)\n",
        "str_col(to_read_df)\n",
        "str_col(test)\n",
        "\n"
      ],
      "execution_count": 121,
      "outputs": []
    },
    {
      "cell_type": "markdown",
      "metadata": {
        "id": "5Rqh9hFM6k20"
      },
      "source": [
        "# Implicit"
      ]
    },
    {
      "cell_type": "code",
      "metadata": {
        "colab": {
          "base_uri": "https://localhost:8080/",
          "height": 399
        },
        "id": "jujqfHPH56tB",
        "outputId": "8e8b73fc-0041-4cd5-b0fb-94fbcab08afc"
      },
      "source": [
        "to_read_df"
      ],
      "execution_count": 122,
      "outputs": [
        {
          "output_type": "execute_result",
          "data": {
            "text/html": [
              "<div>\n",
              "<style scoped>\n",
              "    .dataframe tbody tr th:only-of-type {\n",
              "        vertical-align: middle;\n",
              "    }\n",
              "\n",
              "    .dataframe tbody tr th {\n",
              "        vertical-align: top;\n",
              "    }\n",
              "\n",
              "    .dataframe thead th {\n",
              "        text-align: right;\n",
              "    }\n",
              "</style>\n",
              "<table border=\"1\" class=\"dataframe\">\n",
              "  <thead>\n",
              "    <tr style=\"text-align: right;\">\n",
              "      <th></th>\n",
              "      <th>Unnamed: 0</th>\n",
              "      <th>user_id</th>\n",
              "      <th>book_id</th>\n",
              "    </tr>\n",
              "  </thead>\n",
              "  <tbody>\n",
              "    <tr>\n",
              "      <th>0</th>\n",
              "      <td>386014</td>\n",
              "      <td>u1333</td>\n",
              "      <td>b1797</td>\n",
              "    </tr>\n",
              "    <tr>\n",
              "      <th>1</th>\n",
              "      <td>36194</td>\n",
              "      <td>u765</td>\n",
              "      <td>b1797</td>\n",
              "    </tr>\n",
              "    <tr>\n",
              "      <th>2</th>\n",
              "      <td>25568</td>\n",
              "      <td>u1042</td>\n",
              "      <td>b1797</td>\n",
              "    </tr>\n",
              "    <tr>\n",
              "      <th>3</th>\n",
              "      <td>596738</td>\n",
              "      <td>u1360</td>\n",
              "      <td>b1797</td>\n",
              "    </tr>\n",
              "    <tr>\n",
              "      <th>4</th>\n",
              "      <td>52814</td>\n",
              "      <td>u1782</td>\n",
              "      <td>b1797</td>\n",
              "    </tr>\n",
              "    <tr>\n",
              "      <th>...</th>\n",
              "      <td>...</td>\n",
              "      <td>...</td>\n",
              "      <td>...</td>\n",
              "    </tr>\n",
              "    <tr>\n",
              "      <th>135610</th>\n",
              "      <td>444981</td>\n",
              "      <td>u556</td>\n",
              "      <td>b1157</td>\n",
              "    </tr>\n",
              "    <tr>\n",
              "      <th>135611</th>\n",
              "      <td>428922</td>\n",
              "      <td>u343</td>\n",
              "      <td>b1157</td>\n",
              "    </tr>\n",
              "    <tr>\n",
              "      <th>135612</th>\n",
              "      <td>457472</td>\n",
              "      <td>u1193</td>\n",
              "      <td>b1743</td>\n",
              "    </tr>\n",
              "    <tr>\n",
              "      <th>135613</th>\n",
              "      <td>487831</td>\n",
              "      <td>u1121</td>\n",
              "      <td>b1743</td>\n",
              "    </tr>\n",
              "    <tr>\n",
              "      <th>135614</th>\n",
              "      <td>466860</td>\n",
              "      <td>u1511</td>\n",
              "      <td>b1743</td>\n",
              "    </tr>\n",
              "  </tbody>\n",
              "</table>\n",
              "<p>135615 rows × 3 columns</p>\n",
              "</div>"
            ],
            "text/plain": [
              "        Unnamed: 0 user_id book_id\n",
              "0           386014   u1333   b1797\n",
              "1            36194    u765   b1797\n",
              "2            25568   u1042   b1797\n",
              "3           596738   u1360   b1797\n",
              "4            52814   u1782   b1797\n",
              "...            ...     ...     ...\n",
              "135610      444981    u556   b1157\n",
              "135611      428922    u343   b1157\n",
              "135612      457472   u1193   b1743\n",
              "135613      487831   u1121   b1743\n",
              "135614      466860   u1511   b1743\n",
              "\n",
              "[135615 rows x 3 columns]"
            ]
          },
          "metadata": {
            "tags": []
          },
          "execution_count": 122
        }
      ]
    },
    {
      "cell_type": "markdown",
      "metadata": {
        "id": "q8K38Kb86sZ9"
      },
      "source": [
        "#explicit"
      ]
    },
    {
      "cell_type": "code",
      "metadata": {
        "colab": {
          "base_uri": "https://localhost:8080/",
          "height": 399
        },
        "id": "FNVhxoEg6vX7",
        "outputId": "87482a75-463a-4abf-f24e-f60ff090e91d"
      },
      "source": [
        "ratings_df"
      ],
      "execution_count": 123,
      "outputs": [
        {
          "output_type": "execute_result",
          "data": {
            "text/html": [
              "<div>\n",
              "<style scoped>\n",
              "    .dataframe tbody tr th:only-of-type {\n",
              "        vertical-align: middle;\n",
              "    }\n",
              "\n",
              "    .dataframe tbody tr th {\n",
              "        vertical-align: top;\n",
              "    }\n",
              "\n",
              "    .dataframe thead th {\n",
              "        text-align: right;\n",
              "    }\n",
              "</style>\n",
              "<table border=\"1\" class=\"dataframe\">\n",
              "  <thead>\n",
              "    <tr style=\"text-align: right;\">\n",
              "      <th></th>\n",
              "      <th>Unnamed: 0</th>\n",
              "      <th>user_id</th>\n",
              "      <th>book_id</th>\n",
              "      <th>rating</th>\n",
              "    </tr>\n",
              "  </thead>\n",
              "  <tbody>\n",
              "    <tr>\n",
              "      <th>0</th>\n",
              "      <td>0</td>\n",
              "      <td>u1</td>\n",
              "      <td>b258</td>\n",
              "      <td>5</td>\n",
              "    </tr>\n",
              "    <tr>\n",
              "      <th>1</th>\n",
              "      <td>130</td>\n",
              "      <td>u11</td>\n",
              "      <td>b258</td>\n",
              "      <td>3</td>\n",
              "    </tr>\n",
              "    <tr>\n",
              "      <th>2</th>\n",
              "      <td>1998</td>\n",
              "      <td>u143</td>\n",
              "      <td>b258</td>\n",
              "      <td>4</td>\n",
              "    </tr>\n",
              "    <tr>\n",
              "      <th>3</th>\n",
              "      <td>4731</td>\n",
              "      <td>u325</td>\n",
              "      <td>b258</td>\n",
              "      <td>4</td>\n",
              "    </tr>\n",
              "    <tr>\n",
              "      <th>4</th>\n",
              "      <td>5510</td>\n",
              "      <td>u362</td>\n",
              "      <td>b258</td>\n",
              "      <td>2</td>\n",
              "    </tr>\n",
              "    <tr>\n",
              "      <th>...</th>\n",
              "      <td>...</td>\n",
              "      <td>...</td>\n",
              "      <td>...</td>\n",
              "      <td>...</td>\n",
              "    </tr>\n",
              "    <tr>\n",
              "      <th>124757</th>\n",
              "      <td>438735</td>\n",
              "      <td>u1920</td>\n",
              "      <td>b1499</td>\n",
              "      <td>4</td>\n",
              "    </tr>\n",
              "    <tr>\n",
              "      <th>124758</th>\n",
              "      <td>439348</td>\n",
              "      <td>u334</td>\n",
              "      <td>b1499</td>\n",
              "      <td>2</td>\n",
              "    </tr>\n",
              "    <tr>\n",
              "      <th>124759</th>\n",
              "      <td>439505</td>\n",
              "      <td>u927</td>\n",
              "      <td>b1499</td>\n",
              "      <td>4</td>\n",
              "    </tr>\n",
              "    <tr>\n",
              "      <th>124760</th>\n",
              "      <td>439728</td>\n",
              "      <td>u1298</td>\n",
              "      <td>b1499</td>\n",
              "      <td>4</td>\n",
              "    </tr>\n",
              "    <tr>\n",
              "      <th>124761</th>\n",
              "      <td>439730</td>\n",
              "      <td>u416</td>\n",
              "      <td>b1499</td>\n",
              "      <td>3</td>\n",
              "    </tr>\n",
              "  </tbody>\n",
              "</table>\n",
              "<p>124762 rows × 4 columns</p>\n",
              "</div>"
            ],
            "text/plain": [
              "        Unnamed: 0 user_id book_id  rating\n",
              "0                0      u1    b258       5\n",
              "1              130     u11    b258       3\n",
              "2             1998    u143    b258       4\n",
              "3             4731    u325    b258       4\n",
              "4             5510    u362    b258       2\n",
              "...            ...     ...     ...     ...\n",
              "124757      438735   u1920   b1499       4\n",
              "124758      439348    u334   b1499       2\n",
              "124759      439505    u927   b1499       4\n",
              "124760      439728   u1298   b1499       4\n",
              "124761      439730    u416   b1499       3\n",
              "\n",
              "[124762 rows x 4 columns]"
            ]
          },
          "metadata": {
            "tags": []
          },
          "execution_count": 123
        }
      ]
    },
    {
      "cell_type": "markdown",
      "metadata": {
        "id": "sHx_Q7Sz61Tj"
      },
      "source": [
        "#test"
      ]
    },
    {
      "cell_type": "code",
      "metadata": {
        "colab": {
          "base_uri": "https://localhost:8080/",
          "height": 399
        },
        "id": "GDWNC4ko62tO",
        "outputId": "52911035-7616-41c8-f8a7-11f016b8b157"
      },
      "source": [
        "test"
      ],
      "execution_count": 124,
      "outputs": [
        {
          "output_type": "execute_result",
          "data": {
            "text/html": [
              "<div>\n",
              "<style scoped>\n",
              "    .dataframe tbody tr th:only-of-type {\n",
              "        vertical-align: middle;\n",
              "    }\n",
              "\n",
              "    .dataframe tbody tr th {\n",
              "        vertical-align: top;\n",
              "    }\n",
              "\n",
              "    .dataframe thead th {\n",
              "        text-align: right;\n",
              "    }\n",
              "</style>\n",
              "<table border=\"1\" class=\"dataframe\">\n",
              "  <thead>\n",
              "    <tr style=\"text-align: right;\">\n",
              "      <th></th>\n",
              "      <th>Unnamed: 0</th>\n",
              "      <th>user_id</th>\n",
              "      <th>book_id</th>\n",
              "    </tr>\n",
              "  </thead>\n",
              "  <tbody>\n",
              "    <tr>\n",
              "      <th>0</th>\n",
              "      <td>26204</td>\n",
              "      <td>u978</td>\n",
              "      <td>b323</td>\n",
              "    </tr>\n",
              "    <tr>\n",
              "      <th>1</th>\n",
              "      <td>74616</td>\n",
              "      <td>u109</td>\n",
              "      <td>b323</td>\n",
              "    </tr>\n",
              "    <tr>\n",
              "      <th>2</th>\n",
              "      <td>334583</td>\n",
              "      <td>u1721</td>\n",
              "      <td>b323</td>\n",
              "    </tr>\n",
              "    <tr>\n",
              "      <th>3</th>\n",
              "      <td>297262</td>\n",
              "      <td>u429</td>\n",
              "      <td>b323</td>\n",
              "    </tr>\n",
              "    <tr>\n",
              "      <th>4</th>\n",
              "      <td>30956</td>\n",
              "      <td>u339</td>\n",
              "      <td>b323</td>\n",
              "    </tr>\n",
              "    <tr>\n",
              "      <th>...</th>\n",
              "      <td>...</td>\n",
              "      <td>...</td>\n",
              "      <td>...</td>\n",
              "    </tr>\n",
              "    <tr>\n",
              "      <th>33912</th>\n",
              "      <td>347299</td>\n",
              "      <td>u272</td>\n",
              "      <td>b1545</td>\n",
              "    </tr>\n",
              "    <tr>\n",
              "      <th>33913</th>\n",
              "      <td>1881</td>\n",
              "      <td>u126</td>\n",
              "      <td>b1333</td>\n",
              "    </tr>\n",
              "    <tr>\n",
              "      <th>33914</th>\n",
              "      <td>400826</td>\n",
              "      <td>u1841</td>\n",
              "      <td>b1513</td>\n",
              "    </tr>\n",
              "    <tr>\n",
              "      <th>33915</th>\n",
              "      <td>518727</td>\n",
              "      <td>u1599</td>\n",
              "      <td>b1513</td>\n",
              "    </tr>\n",
              "    <tr>\n",
              "      <th>33916</th>\n",
              "      <td>54189</td>\n",
              "      <td>u1854</td>\n",
              "      <td>b1448</td>\n",
              "    </tr>\n",
              "  </tbody>\n",
              "</table>\n",
              "<p>33917 rows × 3 columns</p>\n",
              "</div>"
            ],
            "text/plain": [
              "       Unnamed: 0 user_id book_id\n",
              "0           26204    u978    b323\n",
              "1           74616    u109    b323\n",
              "2          334583   u1721    b323\n",
              "3          297262    u429    b323\n",
              "4           30956    u339    b323\n",
              "...           ...     ...     ...\n",
              "33912      347299    u272   b1545\n",
              "33913        1881    u126   b1333\n",
              "33914      400826   u1841   b1513\n",
              "33915      518727   u1599   b1513\n",
              "33916       54189   u1854   b1448\n",
              "\n",
              "[33917 rows x 3 columns]"
            ]
          },
          "metadata": {
            "tags": []
          },
          "execution_count": 124
        }
      ]
    },
    {
      "cell_type": "markdown",
      "metadata": {
        "id": "uitG5dl069Dm"
      },
      "source": [
        "#books"
      ]
    },
    {
      "cell_type": "code",
      "metadata": {
        "colab": {
          "base_uri": "https://localhost:8080/",
          "height": 943
        },
        "id": "eke1nbYq6-in",
        "outputId": "06ade183-ac02-47b7-f08b-48dd5f29959c"
      },
      "source": [
        "books_df"
      ],
      "execution_count": 125,
      "outputs": [
        {
          "output_type": "execute_result",
          "data": {
            "text/html": [
              "<div>\n",
              "<style scoped>\n",
              "    .dataframe tbody tr th:only-of-type {\n",
              "        vertical-align: middle;\n",
              "    }\n",
              "\n",
              "    .dataframe tbody tr th {\n",
              "        vertical-align: top;\n",
              "    }\n",
              "\n",
              "    .dataframe thead th {\n",
              "        text-align: right;\n",
              "    }\n",
              "</style>\n",
              "<table border=\"1\" class=\"dataframe\">\n",
              "  <thead>\n",
              "    <tr style=\"text-align: right;\">\n",
              "      <th></th>\n",
              "      <th>Unnamed: 0</th>\n",
              "      <th>book_id</th>\n",
              "      <th>goodreads_book_id</th>\n",
              "      <th>best_book_id</th>\n",
              "      <th>work_id</th>\n",
              "      <th>books_count</th>\n",
              "      <th>isbn</th>\n",
              "      <th>isbn13</th>\n",
              "      <th>authors</th>\n",
              "      <th>original_publication_year</th>\n",
              "      <th>original_title</th>\n",
              "      <th>title</th>\n",
              "      <th>language_code</th>\n",
              "      <th>average_rating</th>\n",
              "      <th>ratings_count</th>\n",
              "      <th>work_ratings_count</th>\n",
              "      <th>work_text_reviews_count</th>\n",
              "      <th>ratings_1</th>\n",
              "      <th>ratings_2</th>\n",
              "      <th>ratings_3</th>\n",
              "      <th>ratings_4</th>\n",
              "      <th>ratings_5</th>\n",
              "      <th>image_url</th>\n",
              "      <th>small_image_url</th>\n",
              "    </tr>\n",
              "  </thead>\n",
              "  <tbody>\n",
              "    <tr>\n",
              "      <th>0</th>\n",
              "      <td>0</td>\n",
              "      <td>b1</td>\n",
              "      <td>2767052</td>\n",
              "      <td>2767052</td>\n",
              "      <td>2792775</td>\n",
              "      <td>272</td>\n",
              "      <td>439023483</td>\n",
              "      <td>9.780439e+12</td>\n",
              "      <td>Suzanne Collins</td>\n",
              "      <td>2008.0</td>\n",
              "      <td>The Hunger Games</td>\n",
              "      <td>The Hunger Games (The Hunger Games, #1)</td>\n",
              "      <td>eng</td>\n",
              "      <td>4.34</td>\n",
              "      <td>4780653</td>\n",
              "      <td>4942365</td>\n",
              "      <td>155254</td>\n",
              "      <td>66715</td>\n",
              "      <td>127936</td>\n",
              "      <td>560092</td>\n",
              "      <td>1481305</td>\n",
              "      <td>2706317</td>\n",
              "      <td>https://images.gr-assets.com/books/1447303603m...</td>\n",
              "      <td>https://images.gr-assets.com/books/1447303603s...</td>\n",
              "    </tr>\n",
              "    <tr>\n",
              "      <th>1</th>\n",
              "      <td>1</td>\n",
              "      <td>b2</td>\n",
              "      <td>3</td>\n",
              "      <td>3</td>\n",
              "      <td>4640799</td>\n",
              "      <td>491</td>\n",
              "      <td>439554934</td>\n",
              "      <td>9.780440e+12</td>\n",
              "      <td>J.K. Rowling, Mary GrandPré</td>\n",
              "      <td>1997.0</td>\n",
              "      <td>Harry Potter and the Philosopher's Stone</td>\n",
              "      <td>Harry Potter and the Sorcerer's Stone (Harry P...</td>\n",
              "      <td>eng</td>\n",
              "      <td>4.44</td>\n",
              "      <td>4602479</td>\n",
              "      <td>4800065</td>\n",
              "      <td>75867</td>\n",
              "      <td>75504</td>\n",
              "      <td>101676</td>\n",
              "      <td>455024</td>\n",
              "      <td>1156318</td>\n",
              "      <td>3011543</td>\n",
              "      <td>https://images.gr-assets.com/books/1474154022m...</td>\n",
              "      <td>https://images.gr-assets.com/books/1474154022s...</td>\n",
              "    </tr>\n",
              "    <tr>\n",
              "      <th>2</th>\n",
              "      <td>2</td>\n",
              "      <td>b3</td>\n",
              "      <td>41865</td>\n",
              "      <td>41865</td>\n",
              "      <td>3212258</td>\n",
              "      <td>226</td>\n",
              "      <td>316015849</td>\n",
              "      <td>9.780316e+12</td>\n",
              "      <td>Stephenie Meyer</td>\n",
              "      <td>2005.0</td>\n",
              "      <td>Twilight</td>\n",
              "      <td>Twilight (Twilight, #1)</td>\n",
              "      <td>en-US</td>\n",
              "      <td>3.57</td>\n",
              "      <td>3866839</td>\n",
              "      <td>3916824</td>\n",
              "      <td>95009</td>\n",
              "      <td>456191</td>\n",
              "      <td>436802</td>\n",
              "      <td>793319</td>\n",
              "      <td>875073</td>\n",
              "      <td>1355439</td>\n",
              "      <td>https://images.gr-assets.com/books/1361039443m...</td>\n",
              "      <td>https://images.gr-assets.com/books/1361039443s...</td>\n",
              "    </tr>\n",
              "    <tr>\n",
              "      <th>3</th>\n",
              "      <td>3</td>\n",
              "      <td>b4</td>\n",
              "      <td>2657</td>\n",
              "      <td>2657</td>\n",
              "      <td>3275794</td>\n",
              "      <td>487</td>\n",
              "      <td>61120081</td>\n",
              "      <td>9.780061e+12</td>\n",
              "      <td>Harper Lee</td>\n",
              "      <td>1960.0</td>\n",
              "      <td>To Kill a Mockingbird</td>\n",
              "      <td>To Kill a Mockingbird</td>\n",
              "      <td>eng</td>\n",
              "      <td>4.25</td>\n",
              "      <td>3198671</td>\n",
              "      <td>3340896</td>\n",
              "      <td>72586</td>\n",
              "      <td>60427</td>\n",
              "      <td>117415</td>\n",
              "      <td>446835</td>\n",
              "      <td>1001952</td>\n",
              "      <td>1714267</td>\n",
              "      <td>https://images.gr-assets.com/books/1361975680m...</td>\n",
              "      <td>https://images.gr-assets.com/books/1361975680s...</td>\n",
              "    </tr>\n",
              "    <tr>\n",
              "      <th>4</th>\n",
              "      <td>4</td>\n",
              "      <td>b5</td>\n",
              "      <td>4671</td>\n",
              "      <td>4671</td>\n",
              "      <td>245494</td>\n",
              "      <td>1356</td>\n",
              "      <td>743273567</td>\n",
              "      <td>9.780743e+12</td>\n",
              "      <td>F. Scott Fitzgerald</td>\n",
              "      <td>1925.0</td>\n",
              "      <td>The Great Gatsby</td>\n",
              "      <td>The Great Gatsby</td>\n",
              "      <td>eng</td>\n",
              "      <td>3.89</td>\n",
              "      <td>2683664</td>\n",
              "      <td>2773745</td>\n",
              "      <td>51992</td>\n",
              "      <td>86236</td>\n",
              "      <td>197621</td>\n",
              "      <td>606158</td>\n",
              "      <td>936012</td>\n",
              "      <td>947718</td>\n",
              "      <td>https://images.gr-assets.com/books/1490528560m...</td>\n",
              "      <td>https://images.gr-assets.com/books/1490528560s...</td>\n",
              "    </tr>\n",
              "    <tr>\n",
              "      <th>...</th>\n",
              "      <td>...</td>\n",
              "      <td>...</td>\n",
              "      <td>...</td>\n",
              "      <td>...</td>\n",
              "      <td>...</td>\n",
              "      <td>...</td>\n",
              "      <td>...</td>\n",
              "      <td>...</td>\n",
              "      <td>...</td>\n",
              "      <td>...</td>\n",
              "      <td>...</td>\n",
              "      <td>...</td>\n",
              "      <td>...</td>\n",
              "      <td>...</td>\n",
              "      <td>...</td>\n",
              "      <td>...</td>\n",
              "      <td>...</td>\n",
              "      <td>...</td>\n",
              "      <td>...</td>\n",
              "      <td>...</td>\n",
              "      <td>...</td>\n",
              "      <td>...</td>\n",
              "      <td>...</td>\n",
              "      <td>...</td>\n",
              "    </tr>\n",
              "    <tr>\n",
              "      <th>1821</th>\n",
              "      <td>1989</td>\n",
              "      <td>b1990</td>\n",
              "      <td>11331421</td>\n",
              "      <td>11331421</td>\n",
              "      <td>6504537</td>\n",
              "      <td>83</td>\n",
              "      <td>1590514637</td>\n",
              "      <td>9.781591e+12</td>\n",
              "      <td>Jan-Philipp Sendker, Kevin Wiliarty</td>\n",
              "      <td>2002.0</td>\n",
              "      <td>Das Herzenhören</td>\n",
              "      <td>The Art of Hearing Heartbeats</td>\n",
              "      <td>eng</td>\n",
              "      <td>3.98</td>\n",
              "      <td>41647</td>\n",
              "      <td>50338</td>\n",
              "      <td>5650</td>\n",
              "      <td>704</td>\n",
              "      <td>2697</td>\n",
              "      <td>10330</td>\n",
              "      <td>19670</td>\n",
              "      <td>16937</td>\n",
              "      <td>https://images.gr-assets.com/books/1320437247m...</td>\n",
              "      <td>https://images.gr-assets.com/books/1320437247s...</td>\n",
              "    </tr>\n",
              "    <tr>\n",
              "      <th>1822</th>\n",
              "      <td>1990</td>\n",
              "      <td>b1991</td>\n",
              "      <td>8935689</td>\n",
              "      <td>8935689</td>\n",
              "      <td>14366</td>\n",
              "      <td>50</td>\n",
              "      <td>1857231384</td>\n",
              "      <td>9.781857e+12</td>\n",
              "      <td>Iain M. Banks</td>\n",
              "      <td>1987.0</td>\n",
              "      <td>Consider Phlebas</td>\n",
              "      <td>Consider Phlebas (Culture, #1)</td>\n",
              "      <td>eng</td>\n",
              "      <td>3.85</td>\n",
              "      <td>48649</td>\n",
              "      <td>53499</td>\n",
              "      <td>2666</td>\n",
              "      <td>1083</td>\n",
              "      <td>3656</td>\n",
              "      <td>12772</td>\n",
              "      <td>20533</td>\n",
              "      <td>15455</td>\n",
              "      <td>https://images.gr-assets.com/books/1327951890m...</td>\n",
              "      <td>https://images.gr-assets.com/books/1327951890s...</td>\n",
              "    </tr>\n",
              "    <tr>\n",
              "      <th>1823</th>\n",
              "      <td>1992</td>\n",
              "      <td>b1993</td>\n",
              "      <td>31332</td>\n",
              "      <td>31332</td>\n",
              "      <td>2925979</td>\n",
              "      <td>63</td>\n",
              "      <td>345434803</td>\n",
              "      <td>9.780345e+12</td>\n",
              "      <td>Anne Rice</td>\n",
              "      <td>1998.0</td>\n",
              "      <td>The Vampire Armand</td>\n",
              "      <td>The Vampire Armand (The Vampire Chronicles, #6)</td>\n",
              "      <td>en-US</td>\n",
              "      <td>3.75</td>\n",
              "      <td>54919</td>\n",
              "      <td>57566</td>\n",
              "      <td>756</td>\n",
              "      <td>1129</td>\n",
              "      <td>4866</td>\n",
              "      <td>17158</td>\n",
              "      <td>18670</td>\n",
              "      <td>15743</td>\n",
              "      <td>https://s.gr-assets.com/assets/nophoto/book/11...</td>\n",
              "      <td>https://s.gr-assets.com/assets/nophoto/book/50...</td>\n",
              "    </tr>\n",
              "    <tr>\n",
              "      <th>1824</th>\n",
              "      <td>1996</td>\n",
              "      <td>b1997</td>\n",
              "      <td>9565548</td>\n",
              "      <td>9565548</td>\n",
              "      <td>14452295</td>\n",
              "      <td>33</td>\n",
              "      <td>054762834X</td>\n",
              "      <td>9.780548e+12</td>\n",
              "      <td>Robin LaFevers</td>\n",
              "      <td>2012.0</td>\n",
              "      <td>Grave Mercy</td>\n",
              "      <td>Grave Mercy (His Fair Assassin, #1)</td>\n",
              "      <td>eng</td>\n",
              "      <td>3.92</td>\n",
              "      <td>70476</td>\n",
              "      <td>74683</td>\n",
              "      <td>7661</td>\n",
              "      <td>2257</td>\n",
              "      <td>4487</td>\n",
              "      <td>15591</td>\n",
              "      <td>27223</td>\n",
              "      <td>25125</td>\n",
              "      <td>https://images.gr-assets.com/books/1320269319m...</td>\n",
              "      <td>https://images.gr-assets.com/books/1320269319s...</td>\n",
              "    </tr>\n",
              "    <tr>\n",
              "      <th>1825</th>\n",
              "      <td>1998</td>\n",
              "      <td>b1999</td>\n",
              "      <td>249</td>\n",
              "      <td>249</td>\n",
              "      <td>543143</td>\n",
              "      <td>205</td>\n",
              "      <td>802131786</td>\n",
              "      <td>9.780802e+12</td>\n",
              "      <td>Henry Miller</td>\n",
              "      <td>1934.0</td>\n",
              "      <td>Tropic of Cancer</td>\n",
              "      <td>Tropic of Cancer</td>\n",
              "      <td>eng</td>\n",
              "      <td>3.71</td>\n",
              "      <td>45518</td>\n",
              "      <td>49701</td>\n",
              "      <td>2526</td>\n",
              "      <td>2313</td>\n",
              "      <td>4591</td>\n",
              "      <td>12278</td>\n",
              "      <td>16494</td>\n",
              "      <td>14025</td>\n",
              "      <td>https://images.gr-assets.com/books/1408753140m...</td>\n",
              "      <td>https://images.gr-assets.com/books/1408753140s...</td>\n",
              "    </tr>\n",
              "  </tbody>\n",
              "</table>\n",
              "<p>1826 rows × 24 columns</p>\n",
              "</div>"
            ],
            "text/plain": [
              "      Unnamed: 0  ...                                    small_image_url\n",
              "0              0  ...  https://images.gr-assets.com/books/1447303603s...\n",
              "1              1  ...  https://images.gr-assets.com/books/1474154022s...\n",
              "2              2  ...  https://images.gr-assets.com/books/1361039443s...\n",
              "3              3  ...  https://images.gr-assets.com/books/1361975680s...\n",
              "4              4  ...  https://images.gr-assets.com/books/1490528560s...\n",
              "...          ...  ...                                                ...\n",
              "1821        1989  ...  https://images.gr-assets.com/books/1320437247s...\n",
              "1822        1990  ...  https://images.gr-assets.com/books/1327951890s...\n",
              "1823        1992  ...  https://s.gr-assets.com/assets/nophoto/book/50...\n",
              "1824        1996  ...  https://images.gr-assets.com/books/1320269319s...\n",
              "1825        1998  ...  https://images.gr-assets.com/books/1408753140s...\n",
              "\n",
              "[1826 rows x 24 columns]"
            ]
          },
          "metadata": {
            "tags": []
          },
          "execution_count": 125
        }
      ]
    },
    {
      "cell_type": "code",
      "metadata": {
        "colab": {
          "base_uri": "https://localhost:8080/",
          "height": 670
        },
        "id": "g1ld1dBdoyLT",
        "outputId": "3220f0d6-9583-4e01-de5b-3edb926364ee"
      },
      "source": [
        "books_df.sort_values('average_rating', ascending=False).head(5)"
      ],
      "execution_count": 126,
      "outputs": [
        {
          "output_type": "execute_result",
          "data": {
            "text/html": [
              "<div>\n",
              "<style scoped>\n",
              "    .dataframe tbody tr th:only-of-type {\n",
              "        vertical-align: middle;\n",
              "    }\n",
              "\n",
              "    .dataframe tbody tr th {\n",
              "        vertical-align: top;\n",
              "    }\n",
              "\n",
              "    .dataframe thead th {\n",
              "        text-align: right;\n",
              "    }\n",
              "</style>\n",
              "<table border=\"1\" class=\"dataframe\">\n",
              "  <thead>\n",
              "    <tr style=\"text-align: right;\">\n",
              "      <th></th>\n",
              "      <th>Unnamed: 0</th>\n",
              "      <th>book_id</th>\n",
              "      <th>goodreads_book_id</th>\n",
              "      <th>best_book_id</th>\n",
              "      <th>work_id</th>\n",
              "      <th>books_count</th>\n",
              "      <th>isbn</th>\n",
              "      <th>isbn13</th>\n",
              "      <th>authors</th>\n",
              "      <th>original_publication_year</th>\n",
              "      <th>original_title</th>\n",
              "      <th>title</th>\n",
              "      <th>language_code</th>\n",
              "      <th>average_rating</th>\n",
              "      <th>ratings_count</th>\n",
              "      <th>work_ratings_count</th>\n",
              "      <th>work_text_reviews_count</th>\n",
              "      <th>ratings_1</th>\n",
              "      <th>ratings_2</th>\n",
              "      <th>ratings_3</th>\n",
              "      <th>ratings_4</th>\n",
              "      <th>ratings_5</th>\n",
              "      <th>image_url</th>\n",
              "      <th>small_image_url</th>\n",
              "    </tr>\n",
              "  </thead>\n",
              "  <tbody>\n",
              "    <tr>\n",
              "      <th>839</th>\n",
              "      <td>861</td>\n",
              "      <td>b862</td>\n",
              "      <td>17332218</td>\n",
              "      <td>17332218</td>\n",
              "      <td>16482835</td>\n",
              "      <td>34</td>\n",
              "      <td>765326361</td>\n",
              "      <td>9.780765e+12</td>\n",
              "      <td>Brandon Sanderson</td>\n",
              "      <td>2014.0</td>\n",
              "      <td>Words of Radiance</td>\n",
              "      <td>Words of Radiance (The Stormlight Archive, #2)</td>\n",
              "      <td>eng</td>\n",
              "      <td>4.77</td>\n",
              "      <td>73572</td>\n",
              "      <td>108176</td>\n",
              "      <td>7261</td>\n",
              "      <td>154</td>\n",
              "      <td>404</td>\n",
              "      <td>2653</td>\n",
              "      <td>18272</td>\n",
              "      <td>86693</td>\n",
              "      <td>https://images.gr-assets.com/books/1391535251m...</td>\n",
              "      <td>https://images.gr-assets.com/books/1391535251s...</td>\n",
              "    </tr>\n",
              "    <tr>\n",
              "      <th>420</th>\n",
              "      <td>421</td>\n",
              "      <td>b422</td>\n",
              "      <td>862041</td>\n",
              "      <td>862041</td>\n",
              "      <td>2962492</td>\n",
              "      <td>76</td>\n",
              "      <td>545044251</td>\n",
              "      <td>9.780545e+12</td>\n",
              "      <td>J.K. Rowling</td>\n",
              "      <td>1998.0</td>\n",
              "      <td>Complete Harry Potter Boxed Set</td>\n",
              "      <td>Harry Potter Boxset (Harry Potter, #1-7)</td>\n",
              "      <td>eng</td>\n",
              "      <td>4.74</td>\n",
              "      <td>190050</td>\n",
              "      <td>204125</td>\n",
              "      <td>6508</td>\n",
              "      <td>1105</td>\n",
              "      <td>1285</td>\n",
              "      <td>7020</td>\n",
              "      <td>30666</td>\n",
              "      <td>164049</td>\n",
              "      <td>https://images.gr-assets.com/books/1392579059m...</td>\n",
              "      <td>https://images.gr-assets.com/books/1392579059s...</td>\n",
              "    </tr>\n",
              "    <tr>\n",
              "      <th>1243</th>\n",
              "      <td>1307</td>\n",
              "      <td>b1308</td>\n",
              "      <td>17927395</td>\n",
              "      <td>17927395</td>\n",
              "      <td>25126749</td>\n",
              "      <td>39</td>\n",
              "      <td>NaN</td>\n",
              "      <td>NaN</td>\n",
              "      <td>Sarah J. Maas</td>\n",
              "      <td>2016.0</td>\n",
              "      <td>A Court of Mist and Fury</td>\n",
              "      <td>A Court of Mist and Fury (A Court of Thorns an...</td>\n",
              "      <td>eng</td>\n",
              "      <td>4.72</td>\n",
              "      <td>108384</td>\n",
              "      <td>126491</td>\n",
              "      <td>22700</td>\n",
              "      <td>931</td>\n",
              "      <td>1420</td>\n",
              "      <td>4725</td>\n",
              "      <td>18000</td>\n",
              "      <td>101415</td>\n",
              "      <td>https://images.gr-assets.com/books/1485259138m...</td>\n",
              "      <td>https://images.gr-assets.com/books/1485259138s...</td>\n",
              "    </tr>\n",
              "    <tr>\n",
              "      <th>974</th>\n",
              "      <td>1009</td>\n",
              "      <td>b1010</td>\n",
              "      <td>43070</td>\n",
              "      <td>43070</td>\n",
              "      <td>2244438</td>\n",
              "      <td>26</td>\n",
              "      <td>836218051</td>\n",
              "      <td>9.780836e+12</td>\n",
              "      <td>Bill Watterson</td>\n",
              "      <td>1988.0</td>\n",
              "      <td>The Essential Calvin and Hobbes: A Calvin and ...</td>\n",
              "      <td>The Essential Calvin and Hobbes: A Calvin and ...</td>\n",
              "      <td>en-US</td>\n",
              "      <td>4.65</td>\n",
              "      <td>93001</td>\n",
              "      <td>95543</td>\n",
              "      <td>598</td>\n",
              "      <td>717</td>\n",
              "      <td>895</td>\n",
              "      <td>5387</td>\n",
              "      <td>17566</td>\n",
              "      <td>70978</td>\n",
              "      <td>https://s.gr-assets.com/assets/nophoto/book/11...</td>\n",
              "      <td>https://s.gr-assets.com/assets/nophoto/book/50...</td>\n",
              "    </tr>\n",
              "    <tr>\n",
              "      <th>555</th>\n",
              "      <td>561</td>\n",
              "      <td>b562</td>\n",
              "      <td>7235533</td>\n",
              "      <td>7235533</td>\n",
              "      <td>8134945</td>\n",
              "      <td>48</td>\n",
              "      <td>765326353</td>\n",
              "      <td>9.780765e+12</td>\n",
              "      <td>Brandon Sanderson</td>\n",
              "      <td>2010.0</td>\n",
              "      <td>The Way of Kings</td>\n",
              "      <td>The Way of Kings (The Stormlight Archive, #1)</td>\n",
              "      <td>eng</td>\n",
              "      <td>4.64</td>\n",
              "      <td>144822</td>\n",
              "      <td>164477</td>\n",
              "      <td>10947</td>\n",
              "      <td>1085</td>\n",
              "      <td>1827</td>\n",
              "      <td>7661</td>\n",
              "      <td>33962</td>\n",
              "      <td>119942</td>\n",
              "      <td>https://images.gr-assets.com/books/1388184640m...</td>\n",
              "      <td>https://images.gr-assets.com/books/1388184640s...</td>\n",
              "    </tr>\n",
              "  </tbody>\n",
              "</table>\n",
              "</div>"
            ],
            "text/plain": [
              "      Unnamed: 0  ...                                    small_image_url\n",
              "839          861  ...  https://images.gr-assets.com/books/1391535251s...\n",
              "420          421  ...  https://images.gr-assets.com/books/1392579059s...\n",
              "1243        1307  ...  https://images.gr-assets.com/books/1485259138s...\n",
              "974         1009  ...  https://s.gr-assets.com/assets/nophoto/book/50...\n",
              "555          561  ...  https://images.gr-assets.com/books/1388184640s...\n",
              "\n",
              "[5 rows x 24 columns]"
            ]
          },
          "metadata": {
            "tags": []
          },
          "execution_count": 126
        }
      ]
    },
    {
      "cell_type": "markdown",
      "metadata": {
        "id": "C7cgXhmYUXIn"
      },
      "source": [
        "Here we construct the Interactions objects from `ratings.csv`, `to_read.csv` and `test.csv`. We manually specify the num_users and num_items parameters to all Interaction objects, in case the test set differs from your training sets."
      ]
    },
    {
      "cell_type": "code",
      "metadata": {
        "id": "15ClgJOdTTt1",
        "colab": {
          "base_uri": "https://localhost:8080/"
        },
        "outputId": "b69fcba1-0d6b-469a-a06c-b78a0fca7079"
      },
      "source": [
        "from collections import defaultdict\n",
        "from itertools import count, combinations\n",
        "\n",
        "from spotlight.cross_validation import random_train_test_split\n",
        "\n",
        "iid_map = defaultdict(count().__next__)\n",
        "\n",
        "\n",
        "rating_iids = np.array([iid_map[iid] for iid in ratings_df[\"book_id\"].values], dtype = np.int32)\n",
        "test_iids = np.array([iid_map[iid] for iid in test[\"book_id\"].values], dtype = np.int32)\n",
        "toread_iids = np.array([iid_map[iid] for iid in to_read_df[\"book_id\"].values], dtype = np.int32)\n",
        "\n",
        "\n",
        "uid_map = defaultdict(count().__next__)\n",
        "\n",
        "test_uids = np.array([uid_map[uid] for uid in test[\"user_id\"].values], dtype = np.int32)\n",
        "rating_uids = np.array([uid_map[uid] for uid in ratings_df[\"user_id\"].values], dtype = np.int32)\n",
        "toread_uids = np.array([uid_map[iid] for iid in to_read_df[\"user_id\"].values], dtype = np.int32)\n",
        "\n",
        "\n",
        "uid_rev_map = {v: k for k, v in uid_map.items()}\n",
        "iid_rev_map = {v: k for k, v in iid_map.items()}\n",
        "\n",
        "\n",
        "rating_dataset = Interactions(user_ids=rating_uids,\n",
        "                               item_ids=rating_iids,\n",
        "                               ratings=ratings_df[\"rating\"].values,\n",
        "                               num_users=len(uid_rev_map),\n",
        "                               num_items=len(iid_rev_map))\n",
        "\n",
        "toread_dataset = Interactions(user_ids=toread_uids,\n",
        "                               item_ids=toread_iids,\n",
        "                               num_users=len(uid_rev_map),\n",
        "                               num_items=len(iid_rev_map))\n",
        "\n",
        "test_dataset = Interactions(user_ids=test_uids,\n",
        "                               item_ids=test_iids,\n",
        "                               num_users=len(uid_rev_map),\n",
        "                               num_items=len(iid_rev_map))\n",
        "\n",
        "print(rating_dataset)\n",
        "print(toread_dataset)\n",
        "print(test_dataset)\n",
        "\n",
        "#here we define the validation set\n",
        "toread_dataset_train, validation = random_train_test_split(toread_dataset, random_state=np.random.RandomState(SEED))\n",
        "print(validation)\n",
        "\n",
        "num_items = test_dataset.num_items\n",
        "num_users = test_dataset.num_users"
      ],
      "execution_count": 127,
      "outputs": [
        {
          "output_type": "stream",
          "text": [
            "<Interactions dataset (1999 users x 1826 items x 124762 interactions)>\n",
            "<Interactions dataset (1999 users x 1826 items x 135615 interactions)>\n",
            "<Interactions dataset (1999 users x 1826 items x 33917 interactions)>\n",
            "<Interactions dataset (1999 users x 1826 items x 27123 interactions)>\n"
          ],
          "name": "stdout"
        }
      ]
    },
    {
      "cell_type": "code",
      "metadata": {
        "colab": {
          "base_uri": "https://localhost:8080/"
        },
        "id": "cO3KrKeICGC8",
        "outputId": "be177478-a572-43cd-9ed9-5aef00dd0d3e"
      },
      "source": [
        "print(toread_dataset_train)"
      ],
      "execution_count": 128,
      "outputs": [
        {
          "output_type": "stream",
          "text": [
            "<Interactions dataset (1999 users x 1826 items x 108492 interactions)>\n"
          ],
          "name": "stdout"
        }
      ]
    },
    {
      "cell_type": "code",
      "metadata": {
        "id": "1mJr6xPE7rgj",
        "colab": {
          "base_uri": "https://localhost:8080/"
        },
        "outputId": "612ceb53-8e7c-400c-9669-28059497a197"
      },
      "source": [
        "print(num_items)"
      ],
      "execution_count": 129,
      "outputs": [
        {
          "output_type": "stream",
          "text": [
            "1826\n"
          ],
          "name": "stdout"
        }
      ]
    },
    {
      "cell_type": "markdown",
      "metadata": {
        "id": "Kt4I2C5DTUL5"
      },
      "source": [
        "#Example code\n",
        "\n",
        "To evaluate soem of your hand-implemented recommender systems (e.g. Q1, Q4), you will need to instantiate objects that match the specification of a Spotlight model, which `mrr_score()` expects.\n",
        "\n",
        "\n",
        "Here is an example recommender object that returns 0 for each item, regardless of user."
      ]
    },
    {
      "cell_type": "code",
      "metadata": {
        "id": "s2eaxy_hakbC",
        "colab": {
          "base_uri": "https://localhost:8080/"
        },
        "outputId": "0a3e82c7-ef11-4eab-9e15-65f7b58f5c90"
      },
      "source": [
        "from spotlight.evaluation import mrr_score, rmse_score\n",
        "\n",
        "\n",
        "class dummymodel:\n",
        "  \n",
        "  def __init__(self, numitems):\n",
        "    self.predictions=np.zeros(numitems)\n",
        "  \n",
        "  #uid is the user we are requesting recommendations for;\n",
        "  #returns an array of scores, one for each item\n",
        "  def predict(self, uid):\n",
        "    #this model returns all zeros, regardless of userid\n",
        "    return( self.predictions )\n",
        "\n",
        "#lets evaluate how the effeciveness of dummymodel\n",
        "\n",
        "dummymodel(num_items)\n",
        "\n",
        "# print(mrr_score(dummymodel(num_items), test_dataset, train=rating_dataset, k=100).mean())\n",
        "#as expected, a recommendation model that gives 0 scores for all items obtains a MRR score of 0\n",
        "\n"
      ],
      "execution_count": 130,
      "outputs": [
        {
          "output_type": "execute_result",
          "data": {
            "text/plain": [
              "<__main__.dummymodel at 0x7f02f8691510>"
            ]
          },
          "metadata": {
            "tags": []
          },
          "execution_count": 130
        }
      ]
    },
    {
      "cell_type": "code",
      "metadata": {
        "id": "ZQTJOmS5dB3i",
        "colab": {
          "base_uri": "https://localhost:8080/"
        },
        "outputId": "56f1cb05-a9f8-4ace-d2f9-2da67c30642a"
      },
      "source": [
        "\n",
        "#note that the latest copy of Craig's Spotlight displays a progress bar if you set verbose=True\n",
        "print(mrr_score(dummymodel(num_items), test_dataset, train=rating_dataset, k=100, verbose=True).mean())\n"
      ],
      "execution_count": 131,
      "outputs": [
        {
          "output_type": "stream",
          "text": [
            "1999it [00:00, 2738.81it/s]"
          ],
          "name": "stderr"
        },
        {
          "output_type": "stream",
          "text": [
            "0.0\n"
          ],
          "name": "stdout"
        },
        {
          "output_type": "stream",
          "text": [
            "\n"
          ],
          "name": "stderr"
        }
      ]
    },
    {
      "cell_type": "markdown",
      "metadata": {
        "id": "SyvGgW_3ZjLV"
      },
      "source": [
        "#Question 1\n",
        "\n",
        "Non personalised baselines for ranking books based on statistics"
      ]
    },
    {
      "cell_type": "code",
      "metadata": {
        "id": "q0aSv5xLy1Rj",
        "colab": {
          "base_uri": "https://localhost:8080/"
        },
        "outputId": "423c18f2-2a8d-44f5-bc40-fa8f99226306"
      },
      "source": [
        "#group the ratings by book id and display only book id and rating then take the average for each book\r\n",
        "# and pass the rating column into a list\r\n",
        "average_rating = ratings_df[[\"book_id\", \"rating\"]].groupby([\"book_id\"]).mean()\r\n",
        "non_personalised_ar = average_rating['rating'].tolist()\r\n",
        "\r\n",
        "#pass them into a similar model to dummy model and take predictions\r\n",
        "# this process will remain the same throughout non-personalised based models\r\n",
        "class average_rating:\r\n",
        "  \r\n",
        "  def __init__(self, numitems):\r\n",
        "    self.predictions=np.ones(numitems) * non_personalised_ar\r\n",
        "  \r\n",
        "  #uid is the user we are requesting recommendations for;\r\n",
        "  #returns an array of scores, one for each item\r\n",
        "  def predict(self, uid):\r\n",
        "    #this model returns all zeros, regardless of userid\r\n",
        "    return( self.predictions )\r\n",
        "\r\n",
        "\r\n",
        "#take the mrr score\r\n",
        "print(mrr_score(average_rating(num_items), test_dataset, train=rating_dataset, k=100, verbose=True).mean())"
      ],
      "execution_count": 132,
      "outputs": [
        {
          "output_type": "stream",
          "text": [
            "1999it [00:00, 2118.85it/s]"
          ],
          "name": "stderr"
        },
        {
          "output_type": "stream",
          "text": [
            "0.0370085786108787\n"
          ],
          "name": "stdout"
        },
        {
          "output_type": "stream",
          "text": [
            "\n"
          ],
          "name": "stderr"
        }
      ]
    },
    {
      "cell_type": "code",
      "metadata": {
        "id": "08rDcHdZzP1f",
        "colab": {
          "base_uri": "https://localhost:8080/"
        },
        "outputId": "e495b2fd-130f-4007-a1b2-06c14c264882"
      },
      "source": [
        "#group by book id and display book id and rating counts from the book_df and take the sum of the ratings for each book\r\n",
        "# and pass the rating counts into a list\r\n",
        "number_of_ratings = books_df[[\"book_id\", \"ratings_count\"]].groupby([\"book_id\"]).sum()\r\n",
        "non_personalised_nor = number_of_ratings['ratings_count'].tolist()\r\n",
        "\r\n",
        "class number_of_ratings:\r\n",
        "  \r\n",
        "  def __init__(self, numitems):\r\n",
        "    self.predictions=np.ones(numitems) * non_personalised_nor\r\n",
        "  \r\n",
        "  #uid is the user we are requesting recommendations for;\r\n",
        "  #returns an array of scores, one for each item\r\n",
        "  def predict(self, uid):\r\n",
        "    #this model returns all zeros, regardless of userid\r\n",
        "    return( self.predictions )\r\n",
        "\r\n",
        "\r\n",
        "print(mrr_score(number_of_ratings(num_items), test_dataset, train=rating_dataset, k=100, verbose=True).mean())"
      ],
      "execution_count": 133,
      "outputs": [
        {
          "output_type": "stream",
          "text": [
            "1999it [00:00, 2260.95it/s]"
          ],
          "name": "stderr"
        },
        {
          "output_type": "stream",
          "text": [
            "0.0458981602236436\n"
          ],
          "name": "stdout"
        },
        {
          "output_type": "stream",
          "text": [
            "\n"
          ],
          "name": "stderr"
        }
      ]
    },
    {
      "cell_type": "code",
      "metadata": {
        "id": "pjKvLxfJ1nvw",
        "colab": {
          "base_uri": "https://localhost:8080/"
        },
        "outputId": "4f76f82a-d653-46b7-b41b-789af6abef16"
      },
      "source": [
        "#take the number of 5 star ratings from the books df and pass them into the model\r\n",
        "star5_ratings = books_df['ratings_5'].tolist()\r\n",
        "\r\n",
        "class number_of_5_star_ratings:\r\n",
        "  \r\n",
        "  def __init__(self, numitems):\r\n",
        "    self.predictions=np.ones(numitems) * star5_ratings\r\n",
        "  \r\n",
        "  #uid is the user we are requesting recommendations for;\r\n",
        "  #returns an array of scores, one for each item\r\n",
        "  def predict(self, uid):\r\n",
        "    #this model returns all zeros, regardless of userid\r\n",
        "    return( self.predictions )\r\n",
        "    \r\n",
        "\r\n",
        "print(mrr_score(number_of_5_star_ratings(num_items), test_dataset, train=rating_dataset, k=100, verbose=True).mean())\r\n"
      ],
      "execution_count": 134,
      "outputs": [
        {
          "output_type": "stream",
          "text": [
            "1999it [00:00, 2201.28it/s]"
          ],
          "name": "stderr"
        },
        {
          "output_type": "stream",
          "text": [
            "0.09851435310152991\n"
          ],
          "name": "stdout"
        },
        {
          "output_type": "stream",
          "text": [
            "\n"
          ],
          "name": "stderr"
        }
      ]
    },
    {
      "cell_type": "code",
      "metadata": {
        "id": "dJAPojDD3ZvM",
        "colab": {
          "base_uri": "https://localhost:8080/"
        },
        "outputId": "7d748c68-5de0-4449-dda3-6e51dfc0861a"
      },
      "source": [
        "#divide the number of 5 star ratings by the number of ratings for a specific item\r\n",
        "fractions_of_ratings = np.asarray(star5_ratings) / np.asarray(non_personalised_nor)\r\n",
        "\r\n",
        "class fractions_of_5_star:\r\n",
        "  \r\n",
        "  def __init__(self, numitems):\r\n",
        "    self.predictions=np.ones(numitems) * fractions_of_ratings\r\n",
        "  \r\n",
        "  #uid is the user we are requesting recommendations for;\r\n",
        "  #returns an array of scores, one for each item\r\n",
        "  def predict(self, uid):\r\n",
        "    #this model returns all zeros, regardless of userid\r\n",
        "    return( self.predictions )\r\n",
        "    \r\n",
        "\r\n",
        "print(mrr_score(fractions_of_5_star(num_items), test_dataset, train=rating_dataset, k=100, verbose=True).mean())"
      ],
      "execution_count": 135,
      "outputs": [
        {
          "output_type": "stream",
          "text": [
            "1999it [00:00, 2162.39it/s]"
          ],
          "name": "stderr"
        },
        {
          "output_type": "stream",
          "text": [
            "0.15971513656750713\n"
          ],
          "name": "stdout"
        },
        {
          "output_type": "stream",
          "text": [
            "\n"
          ],
          "name": "stderr"
        }
      ]
    },
    {
      "cell_type": "markdown",
      "metadata": {
        "id": "b6LgG2lCVtz0"
      },
      "source": [
        "# Question 2"
      ]
    },
    {
      "cell_type": "code",
      "metadata": {
        "id": "fhskxrunFmXg"
      },
      "source": [
        "#import necessary modules\r\n",
        "from spotlight.interactions import Interactions\r\n",
        "from spotlight.cross_validation import random_train_test_split\r\n",
        "from spotlight.factorization.explicit import ExplicitFactorizationModel\r\n",
        "from spotlight.factorization.implicit import ImplicitFactorizationModel\r\n",
        "from collections import defaultdict\r\n",
        "from itertools import count\r\n",
        "import itertools\r\n",
        "import time\r\n",
        "from scipy.stats import rankdata\r\n",
        "import random"
      ],
      "execution_count": 136,
      "outputs": []
    },
    {
      "cell_type": "code",
      "metadata": {
        "id": "H9GIhUi9Ep5h"
      },
      "source": [
        "#define the latent factors\r\n",
        "latent_factors = [8,16,32,64]"
      ],
      "execution_count": 137,
      "outputs": []
    },
    {
      "cell_type": "code",
      "metadata": {
        "colab": {
          "base_uri": "https://localhost:8080/"
        },
        "id": "J0ubnRoHNy-G",
        "outputId": "c8f9c55e-ecc6-4312-8bdc-8c63e38b202b"
      },
      "source": [
        "#train both the Implicit and Explicit model on the explicit dataset\r\n",
        "\r\n",
        "##Implicit\r\n",
        "emodel = ExplicitFactorizationModel(n_iter=5,\r\n",
        "                                use_cuda=False,\r\n",
        "                                random_state=np.random.RandomState(SEED) # ensure results are repeatable\r\n",
        ")\r\n",
        "\r\n",
        "emodel.fit(rating_dataset)\r\n",
        "\r\n",
        "print(\"======== MRR For Explicit Model on Explicit Data ========================================\")\r\n",
        "print(mrr_score(emodel, test_dataset).mean())\r\n",
        "print(\"=====================================================)\")\r\n",
        "\r\n",
        "\r\n",
        "##Explicit\r\n",
        "imodel = ImplicitFactorizationModel(loss=\"bpr\",n_iter=5, \r\n",
        "                                  use_cuda=False,\r\n",
        "                                  random_state=np.random.RandomState(SEED) # ensure results are repeatable\r\n",
        ")\r\n",
        "\r\n",
        "imodel.fit(rating_dataset)\r\n",
        "\r\n",
        "print(\"======== MRR  Implicit Model on Explicit Data =========\")\r\n",
        "print(mrr_score(imodel, test_dataset).mean())\r\n",
        "print(\"=====================================================)\")"
      ],
      "execution_count": 138,
      "outputs": [
        {
          "output_type": "stream",
          "text": [
            "======== MRR For Explicit Model on Explicit Data ========================================\n",
            "0.039530082501568246\n",
            "=====================================================)\n",
            "======== MRR  Implicit Model on Explicit Data =========\n",
            "0.2213606803401701\n",
            "=====================================================)\n"
          ],
          "name": "stdout"
        }
      ]
    },
    {
      "cell_type": "code",
      "metadata": {
        "id": "zofngZHIY61K",
        "colab": {
          "base_uri": "https://localhost:8080/"
        },
        "outputId": "e30a87e8-87f5-4f58-dd92-98f1394e0bda"
      },
      "source": [
        "#for every latent factor in the latent factor set train an implicit model and fit\r\n",
        "# it using the explicit data validate.\r\n",
        "\r\n",
        "#then print the MRR score for evaluation using the test dataset provided\r\n",
        "for factor in latent_factors:\r\n",
        "  imodel = ImplicitFactorizationModel(loss=\"bpr\",n_iter=5,\r\n",
        "                                      embedding_dim = factor, \r\n",
        "                                      use_cuda=False,\r\n",
        "                                      random_state=np.random.RandomState(SEED) # ensure results are repeatable\r\n",
        ")\r\n",
        "  \r\n",
        "  imodel.fit(rating_dataset)\r\n",
        "\r\n",
        "  print(\"Implicit Factorization Model with\", factor, \"latent factor\")\r\n",
        "  print(\"MRR Score:\", mrr_score(imodel, validation).mean())\r\n",
        "  print()"
      ],
      "execution_count": 139,
      "outputs": [
        {
          "output_type": "stream",
          "text": [
            "Implicit Factorization Model with 8 latent factor\n",
            "MRR Score: 0.1934298498455577\n",
            "\n",
            "Implicit Factorization Model with 16 latent factor\n",
            "MRR Score: 0.21417395205539277\n",
            "\n",
            "Implicit Factorization Model with 32 latent factor\n",
            "MRR Score: 0.221480780072576\n",
            "\n",
            "Implicit Factorization Model with 64 latent factor\n",
            "MRR Score: 0.2468835608280331\n",
            "\n"
          ],
          "name": "stdout"
        }
      ]
    },
    {
      "cell_type": "code",
      "metadata": {
        "id": "lvp5-9rqjuM6",
        "colab": {
          "base_uri": "https://localhost:8080/"
        },
        "outputId": "aee2de25-f83f-4d42-ff25-020114704f92"
      },
      "source": [
        "#train and validate which latent factor is closer to the actual model\r\n",
        "imodel_closer_to_validation = ImplicitFactorizationModel(loss=\"bpr\",n_iter=5,\r\n",
        "                                      embedding_dim = 32, \r\n",
        "                                      use_cuda=False,\r\n",
        "                                      random_state=np.random.RandomState(SEED) # ensure results are repeatable\r\n",
        ")\r\n",
        "imodel_closer_to_validation.fit(rating_dataset)\r\n",
        "print(\"MRR Score:\", mrr_score(imodel_closer_to_validation, test_dataset).mean())"
      ],
      "execution_count": 140,
      "outputs": [
        {
          "output_type": "stream",
          "text": [
            "MRR Score: 0.2213606803401701\n"
          ],
          "name": "stdout"
        }
      ]
    },
    {
      "cell_type": "markdown",
      "metadata": {
        "id": "GdumyHtgZnMH"
      },
      "source": [
        "# Question 3 (a)"
      ]
    },
    {
      "cell_type": "code",
      "metadata": {
        "colab": {
          "base_uri": "https://localhost:8080/"
        },
        "id": "xYguO9opBn6G",
        "outputId": "65ff029b-9249-410f-d4c4-9f093932fa16"
      },
      "source": [
        "#instantiate an implicit model for every latent factor in the latent factor set using the implicit dataset\r\n",
        "# train and fit it on the implicit train set which is already defined and get the MRR score using the validation set\r\n",
        "\r\n",
        "#get the MRR using the test dataset to evaluate\r\n",
        "for factor in latent_factors:\r\n",
        "\r\n",
        "  implicit_model = ImplicitFactorizationModel(loss=\"bpr\",n_iter=5, \r\n",
        "                                              embedding_dim=factor, \r\n",
        "                                              use_cuda=False, \r\n",
        "                                              random_state=np.random.RandomState(SEED))\r\n",
        "  \r\n",
        "  implicit_model.fit(toread_dataset_train)\r\n",
        "  \r\n",
        "  print(\"Implicit Factorization Model with\", factor, \"latent factor\")\r\n",
        "  print(\"MRR Score:\", mrr_score(implicit_model, validation).mean())\r\n",
        "  print()"
      ],
      "execution_count": 141,
      "outputs": [
        {
          "output_type": "stream",
          "text": [
            "Implicit Factorization Model with 8 latent factor\n",
            "MRR Score: 0.18753583140776736\n",
            "\n",
            "Implicit Factorization Model with 16 latent factor\n",
            "MRR Score: 0.19200373996522072\n",
            "\n",
            "Implicit Factorization Model with 32 latent factor\n",
            "MRR Score: 0.18776868593026674\n",
            "\n",
            "Implicit Factorization Model with 64 latent factor\n",
            "MRR Score: 0.16480204387908243\n",
            "\n"
          ],
          "name": "stdout"
        }
      ]
    },
    {
      "cell_type": "code",
      "metadata": {
        "id": "VnBbymkFZmBQ",
        "colab": {
          "base_uri": "https://localhost:8080/"
        },
        "outputId": "d2165339-e85e-4bca-b308-072b922f4223"
      },
      "source": [
        "#find the best implicit model, using the validation data \r\n",
        "implicit_model_closer_to_validation = ImplicitFactorizationModel(loss=\"bpr\",n_iter=5,\r\n",
        "                                      embedding_dim = 16, \r\n",
        "                                      use_cuda=False,\r\n",
        "                                      random_state=np.random.RandomState(SEED) # ensure results are repeatable\r\n",
        ")\r\n",
        "implicit_model_closer_to_validation.fit(toread_dataset_train)\r\n",
        "print(\"MRR Score:\", mrr_score(implicit_model_closer_to_validation, test_dataset).mean())"
      ],
      "execution_count": 142,
      "outputs": [
        {
          "output_type": "stream",
          "text": [
            "MRR Score: 0.22662620993036198\n"
          ],
          "name": "stdout"
        }
      ]
    },
    {
      "cell_type": "markdown",
      "metadata": {
        "id": "_AGrtKZeILSa"
      },
      "source": [
        "# Question 3 (b)"
      ]
    },
    {
      "cell_type": "code",
      "metadata": {
        "id": "mgEX1t4Bbq5I"
      },
      "source": [
        "# here we are creating a replication of the books-df to use for this question\r\n",
        "# we do this because we need a column renamed to item_id\r\n",
        "books_df_replicate = books_df.copy()\r\n",
        "books_df_replicate.rename(columns = {\"Unnamed: 0\" : \"item_id\"}, inplace = True)\r\n"
      ],
      "execution_count": 143,
      "outputs": []
    },
    {
      "cell_type": "code",
      "metadata": {
        "id": "oYVzjYnP959r"
      },
      "source": [
        "#define a function which takes in an item id and looks in the above created df to return the title of that item\r\n",
        "def item_to_titles(item_ids):\r\n",
        "  return books_df_replicate.loc[books_df_replicate[\"item_id\"].isin(item_ids)][\"title\"]\r\n",
        "\r\n",
        "#define a function which takes 3 sets of item item ids, finds the titles and returns which of them \r\n",
        "# are common between the first and predictions, and second and predictions\r\n",
        "def find_common_titles(a,b, predictions):\r\n",
        "\r\n",
        "  previously_vs_predicted = item_to_titles(np.intersect1d(a, predictions))\r\n",
        "  print(\"These titles were predicted to be previously shelved correctly\")\r\n",
        "  print(previously_vs_predicted)\r\n",
        "\r\n",
        "  currently_vs_predicted = item_to_titles(np.intersect1d(b, predictions))\r\n",
        "  print(\"\\n\\nThese titles were predicted to be currently shelved correctly\")\r\n",
        "  print(currently_vs_predicted)\r\n",
        "  \r\n",
        "#define a function to get the predictions given a user id\r\n",
        "# the function looks into the toread dataset (previously shelved) and finds the indexes of that user\r\n",
        "# it stores the items into a list by accessing the toread dataset using those indexes - same applies for currently shelved using the test dataset and predictions\r\n",
        "# then the function uses the find_common_titles function to return the common titles between the the previously, currently shelved and predicted\r\n",
        "def get_predictions_for_highest_rated_user(user_id):\r\n",
        "  item_ids_indexes_prev = np.where(toread_dataset.user_ids == user_id)\r\n",
        "  previously_shelved = toread_dataset.item_ids[item_ids_indexes_prev]\r\n",
        "\r\n",
        "  item_ids_indexes_curr = np.where(test_dataset.user_ids == user_id)\r\n",
        "  currently_shelved = test_dataset.item_ids[item_ids_indexes_curr]\r\n",
        "\r\n",
        "  predictions = implicit_model.predict(user_id)\r\n",
        "  predicted_shelved = np.where(predictions > 0)[0]\r\n",
        "\r\n",
        "  shelved_items = [previously_shelved, currently_shelved, predicted_shelved]\r\n",
        "\r\n",
        "  return find_common_titles(previously_shelved, currently_shelved, predicted_shelved)\r\n",
        "\r\n",
        "# #Train the best model in terms of MRR from Q3\r\n",
        "# best_implicit_model = ImplicitFactorizationModel(loss=\"bpr\",n_iter=5, \r\n",
        "#                                             embedding_dim=16, \r\n",
        "#                                             use_cuda=False, \r\n",
        "#                                             random_state=np.random.RandomState(SEED))\r\n",
        "\r\n",
        "# best_implicit_model.fit(toread_dataset_train, verbose=False)\r\n"
      ],
      "execution_count": 144,
      "outputs": []
    },
    {
      "cell_type": "code",
      "metadata": {
        "colab": {
          "base_uri": "https://localhost:8080/"
        },
        "id": "4MXHsKGK957W",
        "outputId": "4c721b8d-18df-4a55-c572-c77c0682bf34"
      },
      "source": [
        "#get the mrr scores using the implicit model created above on the test dataset\r\n",
        "mrr_scores = mrr_score(implicit_model_closer_to_validation, test_dataset)\r\n",
        "\r\n",
        "#find the maximum of the mrr scores and the indexes at which this highest occurs in the mrr scores\r\n",
        "m = max(mrr_scores)\r\n",
        "indexes_of_highest = [i for i, j in enumerate(mrr_scores) if j == m]\r\n",
        "\r\n",
        "#from the test dataset find the uids of the highest rated users\r\n",
        "uids = test_dataset.user_ids[indexes_of_highest]\r\n",
        "\r\n",
        "#for each uid in uids found above convert the uid to user_id using the reverse mapping\r\n",
        "#appending to an empty list to get a list of user ids with the highest RR\r\n",
        "index_to_user_id = []\r\n",
        "for uid in uids:\r\n",
        "  user_id_convert = uid_rev_map.get(uid)\r\n",
        "  index_to_user_id.append(user_id_convert)\r\n",
        "\r\n",
        "#print the top 5 rated uer ids\r\n",
        "print(\"To 5 highest rated users are: \", index_to_user_id[:5], \"with uids \", uids[:5])"
      ],
      "execution_count": 145,
      "outputs": [
        {
          "output_type": "stream",
          "text": [
            "To 5 highest rated users are:  ['u531', 'u305', 'u1916', 'u142', 'u809'] with uids  [11 26 31 44 52]\n"
          ],
          "name": "stdout"
        }
      ]
    },
    {
      "cell_type": "code",
      "metadata": {
        "id": "2r2Y9LePDCTI",
        "colab": {
          "base_uri": "https://localhost:8080/"
        },
        "outputId": "68aa8d30-4667-42a4-c0bf-0e5c13b89193"
      },
      "source": [
        "#call the above created function to get the common titles predicted and actually shelved for each uid found\r\n",
        "for uid in uids[:5]:\r\n",
        "  print(\"Results for\", uid_rev_map.get(uid))\r\n",
        "  get_predictions_for_highest_rated_user(uid)\r\n",
        "  print(\"============================================================\\n\\n\\n\")"
      ],
      "execution_count": 146,
      "outputs": [
        {
          "output_type": "stream",
          "text": [
            "Results for u531\n",
            "These titles were predicted to be previously shelved correctly\n",
            "3                                   To Kill a Mockingbird\n",
            "7                                  The Catcher in the Rye\n",
            "8                   Angels & Demons  (Robert Langdon, #1)\n",
            "10                                        The Kite Runner\n",
            "11                              Divergent (Divergent, #1)\n",
            "                              ...                        \n",
            "871                       Rendezvous with Rama (Rama, #1)\n",
            "899                         I Am Legend and Other Stories\n",
            "917               The Fires of Heaven (Wheel of Time, #5)\n",
            "1009    The Perfect Storm: A True Story of Men Against...\n",
            "1058    90 Minutes in Heaven: A True Story of Death an...\n",
            "Name: title, Length: 80, dtype: object\n",
            "\n",
            "\n",
            "These titles were predicted to be currently shelved correctly\n",
            "9                                    Pride and Prejudice\n",
            "23     Harry Potter and the Goblet of Fire (Harry Pot...\n",
            "31                                       Of Mice and Men\n",
            "34                                         The Alchemist\n",
            "52                    Eragon (The Inheritance Cycle, #1)\n",
            "106                                   A Walk to Remember\n",
            "147                            Girl with a Pearl Earring\n",
            "189    Wild: From Lost to Found on the Pacific Crest ...\n",
            "287                  Watership Down (Watership Down, #1)\n",
            "438             Fall of Giants (The Century Trilogy, #1)\n",
            "532              Midnight in the Garden of Good and Evil\n",
            "639              Definitely Dead (Sookie Stackhouse, #6)\n",
            "711                                           The Reader\n",
            "986                    Lord of Chaos (Wheel of Time, #6)\n",
            "Name: title, dtype: object\n",
            "============================================================\n",
            "\n",
            "\n",
            "\n",
            "Results for u305\n",
            "These titles were predicted to be previously shelved correctly\n",
            "7                                  The Catcher in the Rye\n",
            "8                   Angels & Demons  (Robert Langdon, #1)\n",
            "9                                     Pride and Prejudice\n",
            "11                              Divergent (Divergent, #1)\n",
            "21                                       The Lovely Bones\n",
            "                              ...                        \n",
            "1428                             A Canticle for Leibowitz\n",
            "1472                                      It Ends with Us\n",
            "1518                      Without Fail (Jack Reacher, #6)\n",
            "1524                                               Nausea\n",
            "1533    The Magician (The Secrets of the Immortal Nich...\n",
            "Name: title, Length: 73, dtype: object\n",
            "\n",
            "\n",
            "These titles were predicted to be currently shelved correctly\n",
            "4                                        The Great Gatsby\n",
            "10                                        The Kite Runner\n",
            "23      Harry Potter and the Goblet of Fire (Harry Pot...\n",
            "26      Harry Potter and the Half-Blood Prince (Harry ...\n",
            "27                                      Lord of the Flies\n",
            "131                    The Five People You Meet in Heaven\n",
            "147                             Girl with a Pearl Earring\n",
            "230                                           Sarah's Key\n",
            "248                   Extremely Loud and Incredibly Close\n",
            "426        The Mark of Athena (The Heroes of Olympus, #3)\n",
            "430                                 I, Robot (Robot #0.1)\n",
            "453                              A Streetcar Named Desire\n",
            "1309      Anne Rice's The Vampire Lestat: A Graphic Novel\n",
            "1339    The Lean Startup: How Today's Entrepreneurs Us...\n",
            "1459                      Ptolemy's Gate (Bartimaeus, #3)\n",
            "Name: title, dtype: object\n",
            "============================================================\n",
            "\n",
            "\n",
            "\n",
            "Results for u1916\n",
            "These titles were predicted to be previously shelved correctly\n",
            "6                                              The Hobbit\n",
            "21                                       The Lovely Bones\n",
            "25                 The Da Vinci Code (Robert Langdon, #2)\n",
            "26      Harry Potter and the Half-Blood Prince (Harry ...\n",
            "31                                        Of Mice and Men\n",
            "                              ...                        \n",
            "1635            Keys to the Demon Prison (Fablehaven, #5)\n",
            "1641                                The Sky Is Everywhere\n",
            "1645          The Black Stallion (The Black Stallion, #1)\n",
            "1680           One Foot in the Grave (Night Huntress, #2)\n",
            "1681                                 The Last Anniversary\n",
            "Name: title, Length: 86, dtype: object\n",
            "\n",
            "\n",
            "These titles were predicted to be currently shelved correctly\n",
            "45                                    Water for Elephants\n",
            "147                             Girl with a Pearl Earring\n",
            "174     The Last Olympian (Percy Jackson and the Olymp...\n",
            "191     The Name of the Wind (The Kingkiller Chronicle...\n",
            "225                                           Dark Places\n",
            "226                                            The Client\n",
            "228     Alice's Adventures in Wonderland & Through the...\n",
            "268                                               Rebecca\n",
            "463                  The Brief Wondrous Life of Oscar Wao\n",
            "469                In the Woods (Dublin Murder Squad, #1)\n",
            "754     In the Garden of Beasts: Love, Terror, and an ...\n",
            "1016                                  Midnight's Children\n",
            "1212                          The Signature of All Things\n",
            "1217                                  The Case for Christ\n",
            "1238    The Road Less Traveled: A New Psychology of Lo...\n",
            "1242                                    How to Be a Woman\n",
            "1273                    Dead Beat (The Dresden Files, #7)\n",
            "1317                              Inkspell (Inkworld, #2)\n",
            "1414    Days of Blood & Starlight (Daughter of Smoke &...\n",
            "1476                       Dream Country (The Sandman #3)\n",
            "1555                                    Fantastic Mr. Fox\n",
            "1586    Captivating: Unveiling the Mystery of a Woman'...\n",
            "1591                 South of the Border, West of the Sun\n",
            "1602                               The Kitchen God's Wife\n",
            "Name: title, dtype: object\n",
            "============================================================\n",
            "\n",
            "\n",
            "\n",
            "Results for u142\n",
            "These titles were predicted to be previously shelved correctly\n",
            "3                                   To Kill a Mockingbird\n",
            "4                                        The Great Gatsby\n",
            "17      Harry Potter and the Prisoner of Azkaban (Harr...\n",
            "23      Harry Potter and the Goblet of Fire (Harry Pot...\n",
            "24      Harry Potter and the Deathly Hallows (Harry Po...\n",
            "                              ...                        \n",
            "1300                        Fun Home: A Family Tragicomic\n",
            "1318    Sex, Drugs, and Cocoa Puffs: A Low Culture Man...\n",
            "1338     True Believer (Jeremy Marsh & Lexie Darnell, #1)\n",
            "1339    The Lean Startup: How Today's Entrepreneurs Us...\n",
            "1398           The Fall of Hyperion (Hyperion Cantos, #2)\n",
            "Name: title, Length: 67, dtype: object\n",
            "\n",
            "\n",
            "These titles were predicted to be currently shelved correctly\n",
            "21                               The Lovely Bones\n",
            "27                              Lord of the Flies\n",
            "67                The Perks of Being a Wallflower\n",
            "131            The Five People You Meet in Heaven\n",
            "147                     Girl with a Pearl Earring\n",
            "199                      And Then There Were None\n",
            "345     Prince Caspian (Chronicles of Narnia, #2)\n",
            "389                                     The Lorax\n",
            "428                            Kafka on the Shore\n",
            "430                         I, Robot (Robot #0.1)\n",
            "1075                                A Stolen Life\n",
            "Name: title, dtype: object\n",
            "============================================================\n",
            "\n",
            "\n",
            "\n",
            "Results for u809\n",
            "These titles were predicted to be previously shelved correctly\n",
            "21                                       The Lovely Bones\n",
            "23      Harry Potter and the Goblet of Fire (Harry Pot...\n",
            "32                                    Memoirs of a Geisha\n",
            "33                Fifty Shades of Grey (Fifty Shades, #1)\n",
            "35                              The Giver (The Giver, #1)\n",
            "52                     Eragon (The Inheritance Cycle, #1)\n",
            "58                                        Charlotte's Web\n",
            "108                                        Les Misérables\n",
            "156                                    Green Eggs and Ham\n",
            "157     Charlie and the Chocolate Factory (Charlie Buc...\n",
            "159                                    Great Expectations\n",
            "162             The Lost Hero (The Heroes of Olympus, #1)\n",
            "163                                        Eleanor & Park\n",
            "164        A Feast for Crows (A Song of Ice and Fire, #4)\n",
            "166                     American Gods (American Gods, #1)\n",
            "193                               Moby-Dick or, The Whale\n",
            "202                    Beautiful Disaster (Beautiful, #1)\n",
            "232                           Love in the Time of Cholera\n",
            "233                                                 Speak\n",
            "234                                  The Husband's Secret\n",
            "263                              A Tree Grows in Brooklyn\n",
            "342                                                 Naked\n",
            "343                    Eldest (The Inheritance Cycle, #2)\n",
            "364                                            John Adams\n",
            "422                                  The Name of the Rose\n",
            "423                                          Go Ask Alice\n",
            "441                                           Just Listen\n",
            "456                                      A Man Called Ove\n",
            "480                                                 Choke\n",
            "486     Maus I: A Survivor's Tale: My Father Bleeds Hi...\n",
            "487                          Untamed (House of Night, #4)\n",
            "499             2001: A Space Odyssey (Space Odyssey, #1)\n",
            "501                         Left Behind (Left Behind, #1)\n",
            "502                           The One (The Selection, #3)\n",
            "503     The Hunger Games Trilogy Boxset (The Hunger Ga...\n",
            "504      Nickel and Dimed: On (Not) Getting By in America\n",
            "505                                          Remember Me?\n",
            "508     The Hiding Place: The Triumphant True Story of...\n",
            "511             The Amazing Adventures of Kavalier & Clay\n",
            "517                               The Things They Carried\n",
            "535                               The Truth About Forever\n",
            "596                Are You There, Vodka? It's Me, Chelsea\n",
            "597                           Jonathan Livingston Seagull\n",
            "604                                             The Trial\n",
            "659     Murder on the Orient Express (Hercule Poirot, ...\n",
            "675                                       Beautiful Ruins\n",
            "710                The Bone Collector (Lincoln Rhyme, #1)\n",
            "718                 Roots: The Saga of an American Family\n",
            "721             A Long Way Gone: Memoirs of a Boy Soldier\n",
            "737                                     Half Broke Horses\n",
            "741            Stiff: The Curious Lives of Human Cadavers\n",
            "780                                              Watchers\n",
            "781                                  The Story of My Life\n",
            "812                         Midnight Sun (Twilight, #1.5)\n",
            "813     The Unlikely Pilgrimage of Harold Fry (Harold ...\n",
            "814                             Every Day (Every Day, #1)\n",
            "823                                    Animal Farm / 1984\n",
            "899                         I Am Legend and Other Stories\n",
            "958     All Creatures Great and Small (All Creatures G...\n",
            "1026                 Career of Evil (Cormoran Strike, #3)\n",
            "Name: title, dtype: object\n",
            "\n",
            "\n",
            "These titles were predicted to be currently shelved correctly\n",
            "36     The Lion, the Witch, and the Wardrobe (Chronic...\n",
            "48                               New Moon (Twilight, #2)\n",
            "112                                             Catch-22\n",
            "158    The Battle of the Labyrinth (Percy Jackson and...\n",
            "161                                         The Stranger\n",
            "167                                            The Stand\n",
            "231                  The Gunslinger (The Dark Tower, #1)\n",
            "265                                      The Nightingale\n",
            "266                                      Never Let Me Go\n",
            "267                                      P.S. I Love You\n",
            "269                                 Flowers for Algernon\n",
            "303                                         Pet Sematary\n",
            "461                       Holy Bible: King James Version\n",
            "485                                          The Prophet\n",
            "507                       The Complete Stories and Poems\n",
            "510                                  The Prince of Tides\n",
            "637                                    Uncle Tom's Cabin\n",
            "666    Think and Grow Rich: The Landmark Bestseller -...\n",
            "669                                   A Bend in the Road\n",
            "724     The Little House Collection (Little House, #1-9)\n",
            "Name: title, dtype: object\n",
            "============================================================\n",
            "\n",
            "\n",
            "\n"
          ],
          "name": "stdout"
        }
      ]
    },
    {
      "cell_type": "markdown",
      "metadata": {
        "id": "ngwO6En5ltlM"
      },
      "source": [
        "# Question 3c"
      ]
    },
    {
      "cell_type": "code",
      "metadata": {
        "id": "Vh2GutqB952b"
      },
      "source": [
        "# books_df_sorted = books_df.sort_values('average_rating', ascending=False)\r\n",
        "# books_df_sorted[:5]"
      ],
      "execution_count": 147,
      "outputs": []
    },
    {
      "cell_type": "code",
      "metadata": {
        "id": "4_2JxJKB95z4"
      },
      "source": [
        "# top_5 = books_df_sorted[['average_rating', 'book_id']][:5]\r\n",
        "# top_5_bookids = top_5['book_id'].tolist()\r\n",
        "# top_5_itemids = []\r\n",
        "# for itemid in top_5_bookids:\r\n",
        "#   print(iid_map.get(itemid))\r\n",
        "#   top_5_itemids.append(iid_map.get(itemid))\r\n",
        "\r\n",
        "# top_5_itemids"
      ],
      "execution_count": 148,
      "outputs": []
    },
    {
      "cell_type": "code",
      "metadata": {
        "id": "kpLNNuj895xW"
      },
      "source": [
        "# top_5_embeddings = implicit_model._net.item_embeddings.weight[top_5_itemids]\r\n",
        "# top_5_embeddings"
      ],
      "execution_count": 149,
      "outputs": []
    },
    {
      "cell_type": "code",
      "metadata": {
        "id": "CQsQyV1a-62h"
      },
      "source": [
        "# from scipy import spatial\r\n",
        "# similarities = []\r\n",
        "\r\n",
        "# for combo in combinations(range(5),2):\r\n",
        "#   i = top_5_embeddings[combo[0]].detach().numpy()\r\n",
        "#   j = top_5_embeddings[combo[1]].detach().numpy()\r\n",
        "#   similarities.append(1-spatial.distance.cosine(i,j))\r\n",
        "\r\n",
        "# intra_list_div = 2/(5*4) * sum(similarities)\r\n",
        "# print(intra_list_div)"
      ],
      "execution_count": 150,
      "outputs": []
    },
    {
      "cell_type": "markdown",
      "metadata": {
        "id": "C0M8fE2p4InF"
      },
      "source": [
        "#Question 4"
      ]
    },
    {
      "cell_type": "code",
      "metadata": {
        "id": "yTJuO5tZ4KgJ"
      },
      "source": [
        "#create a class which will train an explicit model on the explicit and implicit data passing in the best latent factors recorded from above trained models\r\n",
        "#fit using the training data suited for each model and allocate equal weight to both models when calling the prediction (unweighted)\r\n",
        "class unweighted_combsum:  \r\n",
        "  def __init__(self):\r\n",
        "    self.explicit = self.create_train_model(rating_dataset, 32)\r\n",
        "    self.implicit = self.create_train_model(toread_dataset_train, 16)\r\n",
        " \r\n",
        "  def create_train_model(self, train_dataset, latent):\r\n",
        "    model = ImplicitFactorizationModel(n_iter = 5, loss = \"bpr\", random_state=np.random.RandomState(SEED), embedding_dim = latent)\r\n",
        "    model.fit(train_dataset)\r\n",
        "    return model\r\n",
        "\r\n",
        "  def predict(self, uid):\r\n",
        "    # returns the combined rating\r\n",
        "    return 0.5 * self.explicit.predict(uid) + 0.5 * self.implicit.predict(uid)"
      ],
      "execution_count": 151,
      "outputs": []
    },
    {
      "cell_type": "code",
      "metadata": {
        "id": "R0VnLg6pIwLb"
      },
      "source": [
        "#call the models in a variable\r\n",
        "q4 = unweighted_combsum()"
      ],
      "execution_count": 152,
      "outputs": []
    },
    {
      "cell_type": "code",
      "metadata": {
        "id": "Q4pfxaYdIwJC"
      },
      "source": [
        "#get the MRR scores of the model\r\n",
        "q4_mrr_scores = mrr_score(q4, test_dataset)"
      ],
      "execution_count": 153,
      "outputs": []
    },
    {
      "cell_type": "code",
      "metadata": {
        "id": "3vrK5r-2sPXC",
        "colab": {
          "base_uri": "https://localhost:8080/"
        },
        "outputId": "15e00ea9-a333-4986-c653-7ae8befd9d2d"
      },
      "source": [
        "q4_mrr_scores"
      ],
      "execution_count": 154,
      "outputs": [
        {
          "output_type": "execute_result",
          "data": {
            "text/plain": [
              "array([0.        , 0.33333333, 0.        , ..., 0.11111111, 0.        ,\n",
              "       0.        ])"
            ]
          },
          "metadata": {
            "tags": []
          },
          "execution_count": 154
        }
      ]
    },
    {
      "cell_type": "code",
      "metadata": {
        "id": "sAsXRJJZAnpV",
        "colab": {
          "base_uri": "https://localhost:8080/"
        },
        "outputId": "2b1479c1-5425-4340-bb96-753b1f35a9ed"
      },
      "source": [
        "#best model from q2\r\n",
        "best_implicit_q2 = ImplicitFactorizationModel(loss=\"bpr\",n_iter=5, \r\n",
        "                                    embedding_dim=32, #this is Spotlight default\r\n",
        "                                    use_cuda=False,\r\n",
        "                                    random_state=np.random.RandomState(SEED) # ensure results are repeatable\r\n",
        ")\r\n",
        "\r\n",
        "best_implicit_q2.fit(rating_dataset)\r\n",
        "\r\n",
        "q2_mrr_scores = mrr_score(best_implicit_q2, test_dataset)\r\n",
        "print(\"======== MRR ========= for latent factor 32\")\r\n",
        "print(\"=====================================================)\")\r\n",
        "print(mrr_score(best_implicit_q2, test_dataset).mean())\r\n",
        "print(\"=====================================================)\")"
      ],
      "execution_count": 155,
      "outputs": [
        {
          "output_type": "stream",
          "text": [
            "======== MRR ========= for latent factor 32\n",
            "=====================================================)\n",
            "0.2213606803401701\n",
            "=====================================================)\n"
          ],
          "name": "stdout"
        }
      ]
    },
    {
      "cell_type": "code",
      "metadata": {
        "id": "nDbRJFTPBchx",
        "colab": {
          "base_uri": "https://localhost:8080/"
        },
        "outputId": "2f3305f9-f476-4c77-9608-f3e90b2bdd51"
      },
      "source": [
        "#best model from q3\r\n",
        "best_implicit_q3 = ImplicitFactorizationModel(loss=\"bpr\",n_iter=5, \r\n",
        "                                            embedding_dim=16, \r\n",
        "                                            use_cuda=False, \r\n",
        "                                            random_state=np.random.RandomState(SEED))\r\n",
        "\r\n",
        "best_implicit_q3.fit(toread_dataset_train)\r\n",
        "\r\n",
        "q3_mrr_scores = mrr_score(best_implicit_q3, test_dataset)\r\n",
        "print(\"======== MRR ========= for latent factor 16\")\r\n",
        "print(\"=====================================================)\")\r\n",
        "print(mrr_score(best_implicit_q3, test_dataset).mean())\r\n",
        "print(\"=====================================================)\")"
      ],
      "execution_count": 156,
      "outputs": [
        {
          "output_type": "stream",
          "text": [
            "======== MRR ========= for latent factor 16\n",
            "=====================================================)\n",
            "0.22662620993036198\n",
            "=====================================================)\n"
          ],
          "name": "stdout"
        }
      ]
    },
    {
      "cell_type": "code",
      "metadata": {
        "id": "C2Gf07w4B4mB",
        "colab": {
          "base_uri": "https://localhost:8080/"
        },
        "outputId": "af387957-3d23-43a4-dcee-71102dc5399a"
      },
      "source": [
        "import matplotlib.pyplot as plt\r\n",
        "\r\n",
        "#calculate the differences in the scores calucated in q2 and q3 individually to find out how many RR scores changed\r\n",
        "diff_q2_q4 = q4_mrr_scores - q2_mrr_scores # <------best\r\n",
        "diff_q3_q4 = q4_mrr_scores - q3_mrr_scores\r\n",
        "\r\n",
        "print(\"\\n=========== FROM Q2 ==========\")\r\n",
        "print(sum(i > 0 for i in diff_q2_q4), \"are better\")\r\n",
        "print(sum(i < 0 for i in diff_q2_q4), \"are worse\")\r\n",
        "print(sum(i == 0 for i in diff_q2_q4), \"have not changed\")\r\n",
        "\r\n",
        "print(\"\\n=========== FROM Q3 ==========\")\r\n",
        "print(sum(i > 0 for i in diff_q3_q4), \"are better\")\r\n",
        "print(sum(i < 0 for i in diff_q3_q4), \"are worse\")\r\n",
        "print(sum(i == 0 for i in diff_q3_q4), \"have not changed\")"
      ],
      "execution_count": 157,
      "outputs": [
        {
          "output_type": "stream",
          "text": [
            "\n",
            "=========== FROM Q2 ==========\n",
            "631 are better\n",
            "483 are worse\n",
            "885 have not changed\n",
            "\n",
            "=========== FROM Q3 ==========\n",
            "601 are better\n",
            "554 are worse\n",
            "844 have not changed\n"
          ],
          "name": "stdout"
        }
      ]
    },
    {
      "cell_type": "code",
      "metadata": {
        "id": "92VrdbzeXQ3V"
      },
      "source": [
        "#Create a dataframe that has the item ids, the previous RR and the RR obtained from the combsum model we created\r\n",
        "## we create another column named diff to pass in the difference\r\n",
        "data = {'user_ids' : uid_map.keys(), 'Previous RR': q3_mrr_scores, 'New RR': q4_mrr_scores}  \r\n",
        "RR_df = pd.DataFrame(data) \r\n",
        "RR_df[\"diff\"] = RR_df['New RR'] - RR_df['Previous RR']\r\n",
        "RR_df = RR_df[RR_df['diff'] != 0]\r\n",
        "RR_to_plot = RR_df[['user_ids', 'Previous RR', 'New RR']]"
      ],
      "execution_count": 158,
      "outputs": []
    },
    {
      "cell_type": "code",
      "metadata": {
        "id": "kW8dEROCeH7b",
        "colab": {
          "base_uri": "https://localhost:8080/",
          "height": 687
        },
        "outputId": "c6e2942e-585b-4579-e572-d4a24002ee7c"
      },
      "source": [
        "#we plot a bar chart of the old RR and the new RR for each user\r\n",
        "## for the first 100 values\r\n",
        "RR_to_plot.head(80).plot.bar(x='user_ids',rot=90, figsize = (50,20))\r\n",
        "plt.xlabel('user_ids', fontsize = 20)\r\n",
        "plt.ylabel('MRR Score', fontsize = 20)\r\n",
        "plt.title('First 80 users MRR scores Previous and New', fontsize = 40)\r\n",
        "plt.show()"
      ],
      "execution_count": 159,
      "outputs": [
        {
          "output_type": "display_data",
          "data": {
            "image/png": "[encoded data removed]",
            "text/plain": [
              "<Figure size 3600x1440 with 1 Axes>"
            ]
          },
          "metadata": {
            "tags": [],
            "needs_background": "light"
          }
        }
      ]
    },
    {
      "cell_type": "markdown",
      "metadata": {
        "id": "Oje13m_ezswO"
      },
      "source": [
        "# Question 5"
      ]
    },
    {
      "cell_type": "code",
      "metadata": {
        "id": "qwTFiVHoz3rj"
      },
      "source": [
        "## Referenced from RecSys - Lab 1 Solution\r\n",
        "def calculate_lift():\r\n",
        "  positives=ratings_df[ratings_df[\"rating\"]>=4]\r\n",
        "  positives\r\n",
        "\r\n",
        "  # #join positives with itself on userId to get all pairs of books watched by a given user.\r\n",
        "\r\n",
        "  pairs=pd.merge(positives, positives, on=[\"user_id\"])\r\n",
        "  pairs\r\n",
        "\r\n",
        "  # #we dont care either A->B, or B->A\r\n",
        "  sequences=pairs[pairs['Unnamed: 0_x'] < pairs['Unnamed: 0_y']] \r\n",
        "  sequences\r\n",
        "\r\n",
        "  # #lets count the frequency of each pair of books\r\n",
        "  paircounts=sequences[[\"book_id_x\", \"book_id_y\", \"user_id\"]].groupby([\"book_id_x\", \"book_id_y\"]).count()\r\n",
        "  paircounts\r\n",
        "\r\n",
        "  #sort by the most popular pairs.\r\n",
        "  pairswithcounts_reset = paircounts.reset_index()\r\n",
        "  pairswithcounts = pairswithcounts_reset.rename(columns={'user_id' : 'count'}).sort_values(['count'], ascending=False)\r\n",
        "  pairswithcounts.head()\r\n",
        "\r\n",
        "  pairswithcounts.merge(books_df, left_on=[\"book_id_x\"], right_on=\"book_id\").merge(books_df, left_on=[\"book_id_y\"], right_on=\"book_id\")[[\"title_x\", \"title_y\"]]\r\n",
        "\r\n",
        "  # # pairswithcounts gives is the frequency of (X AND Y). \r\n",
        "\r\n",
        "  # #We therefore need the counts of books\r\n",
        "  bookCounts = positives.groupby(['book_id']).count()[['user_id']].reset_index().rename(columns={'user_id' : 'count'})\r\n",
        "  bookCounts\r\n",
        "\r\n",
        "  # #lets puts all the information in the sample dataframe.\r\n",
        "  allstats = pairswithcounts.merge(bookCounts, left_on='book_id_x', right_on='book_id').merge(bookCounts, left_on='book_id_y', right_on='book_id')\r\n",
        "  allstats\r\n",
        "\r\n",
        "  # #and drop out some unused columns\r\n",
        "  allstats = allstats[['book_id_x', 'book_id_y', 'count', 'count_x', 'count_y']]\r\n",
        "  allstats\r\n",
        "\r\n",
        "  allstats = allstats.loc[:,~allstats.columns.duplicated()]\r\n",
        "  allstats\r\n",
        "\r\n",
        "  # #to calculate probabilites we need a denominator. I used the number of total ratings\r\n",
        "  num=float(ratings_df.count()[\"rating\"])\r\n",
        "\r\n",
        "  # #we can then perform artihmetic on columns\r\n",
        "  allstats[\"lift\"] = (allstats[\"count\"] / num ) / ( (allstats[\"count_x\"] / num) * (allstats[\"count_y\"] / num))\r\n",
        "  allstats[\"loglift\"] = np.log(allstats[\"lift\"])\r\n",
        "\r\n",
        "  withtitles = allstats.merge(books_df, left_on=['book_id_x'],  right_on=\"book_id\").merge(books_df, left_on=[\"book_id_y\"], right_on=\"book_id\")\r\n",
        "  withtitles\r\n",
        "\r\n",
        "\r\n",
        "  #we add the support column\r\n",
        "  withtitles[\"support\"] = withtitles[\"count\"] / sequences[\"book_id_x\"].count()\r\n",
        "\r\n",
        "  #select the columns we want to see\r\n",
        "  withtitles[[\"title_x\", \"book_id_x\", \"book_id_y\", \"lift\", \"support\"]]\r\n",
        "  final = withtitles[[\"title_y\", \"title_x\", \"book_id_x\", \"book_id_y\", \"lift\", \"support\", \"count\", \"loglift\"]]\r\n",
        "\r\n",
        "  #remove the duplicates from the dataframe\r\n",
        "  final = final.loc[:,~final.columns.duplicated()]\r\n",
        "  return final"
      ],
      "execution_count": 160,
      "outputs": []
    },
    {
      "cell_type": "code",
      "metadata": {
        "id": "dToMipXRd61v",
        "colab": {
          "base_uri": "https://localhost:8080/",
          "height": 399
        },
        "outputId": "70aacb35-4c12-4a3b-9382-dfd23dde587e"
      },
      "source": [
        "#display tha dataframe\r\n",
        "calculate_lift()"
      ],
      "execution_count": 161,
      "outputs": [
        {
          "output_type": "execute_result",
          "data": {
            "text/html": [
              "<div>\n",
              "<style scoped>\n",
              "    .dataframe tbody tr th:only-of-type {\n",
              "        vertical-align: middle;\n",
              "    }\n",
              "\n",
              "    .dataframe tbody tr th {\n",
              "        vertical-align: top;\n",
              "    }\n",
              "\n",
              "    .dataframe thead th {\n",
              "        text-align: right;\n",
              "    }\n",
              "</style>\n",
              "<table border=\"1\" class=\"dataframe\">\n",
              "  <thead>\n",
              "    <tr style=\"text-align: right;\">\n",
              "      <th></th>\n",
              "      <th>title_y</th>\n",
              "      <th>title_x</th>\n",
              "      <th>book_id_x</th>\n",
              "      <th>book_id_y</th>\n",
              "      <th>lift</th>\n",
              "      <th>support</th>\n",
              "      <th>count</th>\n",
              "      <th>loglift</th>\n",
              "    </tr>\n",
              "  </thead>\n",
              "  <tbody>\n",
              "    <tr>\n",
              "      <th>0</th>\n",
              "      <td>Catching Fire (The Hunger Games, #2)</td>\n",
              "      <td>The Hunger Games (The Hunger Games, #1)</td>\n",
              "      <td>b1</td>\n",
              "      <td>b17</td>\n",
              "      <td>364.310869</td>\n",
              "      <td>1.999159e-04</td>\n",
              "      <td>365</td>\n",
              "      <td>5.898008</td>\n",
              "    </tr>\n",
              "    <tr>\n",
              "      <th>1</th>\n",
              "      <td>Catching Fire (The Hunger Games, #2)</td>\n",
              "      <td>Harry Potter and the Sorcerer's Stone (Harry P...</td>\n",
              "      <td>b2</td>\n",
              "      <td>b17</td>\n",
              "      <td>1678.391936</td>\n",
              "      <td>1.999159e-04</td>\n",
              "      <td>365</td>\n",
              "      <td>7.425591</td>\n",
              "    </tr>\n",
              "    <tr>\n",
              "      <th>2</th>\n",
              "      <td>Catching Fire (The Hunger Games, #2)</td>\n",
              "      <td>Harry Potter and the Goblet of Fire (Harry Pot...</td>\n",
              "      <td>b24</td>\n",
              "      <td>b17</td>\n",
              "      <td>1912.241959</td>\n",
              "      <td>1.999159e-04</td>\n",
              "      <td>365</td>\n",
              "      <td>7.556032</td>\n",
              "    </tr>\n",
              "    <tr>\n",
              "      <th>3</th>\n",
              "      <td>Catching Fire (The Hunger Games, #2)</td>\n",
              "      <td>Harry Potter and the Half-Blood Prince (Harry ...</td>\n",
              "      <td>b27</td>\n",
              "      <td>b17</td>\n",
              "      <td>1474.298433</td>\n",
              "      <td>1.999159e-04</td>\n",
              "      <td>365</td>\n",
              "      <td>7.295938</td>\n",
              "    </tr>\n",
              "    <tr>\n",
              "      <th>4</th>\n",
              "      <td>Catching Fire (The Hunger Games, #2)</td>\n",
              "      <td>Harry Potter and the Prisoner of Azkaban (Harr...</td>\n",
              "      <td>b18</td>\n",
              "      <td>b17</td>\n",
              "      <td>1527.715043</td>\n",
              "      <td>1.999159e-04</td>\n",
              "      <td>365</td>\n",
              "      <td>7.331528</td>\n",
              "    </tr>\n",
              "    <tr>\n",
              "      <th>...</th>\n",
              "      <td>...</td>\n",
              "      <td>...</td>\n",
              "      <td>...</td>\n",
              "      <td>...</td>\n",
              "      <td>...</td>\n",
              "      <td>...</td>\n",
              "      <td>...</td>\n",
              "      <td>...</td>\n",
              "    </tr>\n",
              "    <tr>\n",
              "      <th>721164</th>\n",
              "      <td>Piercing the Darkness (Darkness, #2)</td>\n",
              "      <td>Nights in Rodanthe</td>\n",
              "      <td>b622</td>\n",
              "      <td>b1925</td>\n",
              "      <td>17823.142857</td>\n",
              "      <td>5.477147e-07</td>\n",
              "      <td>1</td>\n",
              "      <td>9.788253</td>\n",
              "    </tr>\n",
              "    <tr>\n",
              "      <th>721165</th>\n",
              "      <td>Piercing the Darkness (Darkness, #2)</td>\n",
              "      <td>This Present Darkness (Darkness, #1)</td>\n",
              "      <td>b1218</td>\n",
              "      <td>b1925</td>\n",
              "      <td>17823.142857</td>\n",
              "      <td>5.477147e-07</td>\n",
              "      <td>1</td>\n",
              "      <td>9.788253</td>\n",
              "    </tr>\n",
              "    <tr>\n",
              "      <th>721166</th>\n",
              "      <td>Piercing the Darkness (Darkness, #2)</td>\n",
              "      <td>At First Sight (Jeremy Marsh &amp; Lexie Darnell, #2)</td>\n",
              "      <td>b1459</td>\n",
              "      <td>b1925</td>\n",
              "      <td>20793.666667</td>\n",
              "      <td>5.477147e-07</td>\n",
              "      <td>1</td>\n",
              "      <td>9.942404</td>\n",
              "    </tr>\n",
              "    <tr>\n",
              "      <th>721167</th>\n",
              "      <td>Gone (Gone, #1)</td>\n",
              "      <td>The Absolutely True Diary of a Part-Time Indian</td>\n",
              "      <td>b591</td>\n",
              "      <td>b685</td>\n",
              "      <td>1919.415385</td>\n",
              "      <td>5.477147e-07</td>\n",
              "      <td>1</td>\n",
              "      <td>7.559776</td>\n",
              "    </tr>\n",
              "    <tr>\n",
              "      <th>721168</th>\n",
              "      <td>Gone (Gone, #1)</td>\n",
              "      <td>The House of the Scorpion (Matteo Alacran, #1)</td>\n",
              "      <td>b1678</td>\n",
              "      <td>b685</td>\n",
              "      <td>8317.466667</td>\n",
              "      <td>5.477147e-07</td>\n",
              "      <td>1</td>\n",
              "      <td>9.026113</td>\n",
              "    </tr>\n",
              "  </tbody>\n",
              "</table>\n",
              "<p>721169 rows × 8 columns</p>\n",
              "</div>"
            ],
            "text/plain": [
              "                                     title_y  ...   loglift\n",
              "0       Catching Fire (The Hunger Games, #2)  ...  5.898008\n",
              "1       Catching Fire (The Hunger Games, #2)  ...  7.425591\n",
              "2       Catching Fire (The Hunger Games, #2)  ...  7.556032\n",
              "3       Catching Fire (The Hunger Games, #2)  ...  7.295938\n",
              "4       Catching Fire (The Hunger Games, #2)  ...  7.331528\n",
              "...                                      ...  ...       ...\n",
              "721164  Piercing the Darkness (Darkness, #2)  ...  9.788253\n",
              "721165  Piercing the Darkness (Darkness, #2)  ...  9.788253\n",
              "721166  Piercing the Darkness (Darkness, #2)  ...  9.942404\n",
              "721167                       Gone (Gone, #1)  ...  7.559776\n",
              "721168                       Gone (Gone, #1)  ...  9.026113\n",
              "\n",
              "[721169 rows x 8 columns]"
            ]
          },
          "metadata": {
            "tags": []
          },
          "execution_count": 161
        }
      ]
    },
    {
      "cell_type": "code",
      "metadata": {
        "id": "zvFs1TGkFMtA"
      },
      "source": [
        "#create the loglift class where we set a minimum support which we will use to evaluate\r\n",
        "#this minimum support will filter the dataframe and calculate the according lift scores\r\n",
        "class loglift:\r\n",
        "  def __init__(self, min_sup = 0):\r\n",
        "    self.minimum_support = min_sup\r\n",
        "    self.df = lifts.loc[(lifts[\"support\"] > self.minimum_support)]\r\n",
        "    self.book_ids = books_df[\"book_id\"].values\r\n",
        "    self.book_lift_scores = self.calculate_book_lift_scores()\r\n",
        " \r\n",
        "  #use this function to calculate the book lift for the given books\r\n",
        "  def calculate_book_lift_scores(self): \r\n",
        "    return np.array([self.df.loc[(self.df[\"book_id_x\"] == bookid) | (self.df[\"book_id_y\"] == bookid)][\"loglift\"].values.sum() for bookid in self.book_ids])\r\n",
        " \r\n",
        "  #call the predictions\r\n",
        "  def predict(self, uid):\r\n",
        "    userid = uid_rev_map[uid]\r\n",
        "    scores = []\r\n",
        "    scores = np.zeros(1826)\r\n",
        "\r\n",
        "    #for books that are not already rated\r\n",
        "    already_rated_books = ratings_df.loc[ratings_df[\"user_id\"] == userid][\"book_id\"].values\r\n",
        "\r\n",
        "    #get the indices of the books that are not already rated\r\n",
        "    lift_indices = np.array([i for i  in range(len(self.book_ids)) if self.book_ids[i] not in already_rated_books])\\\r\n",
        "\r\n",
        "    #calculate the scores for these books\r\n",
        "    scores[lift_indices] = self.book_lift_scores[lift_indices]\r\n",
        "\r\n",
        "    return scores"
      ],
      "execution_count": 162,
      "outputs": []
    },
    {
      "cell_type": "code",
      "metadata": {
        "id": "7tj4daukIqcC"
      },
      "source": [
        "#pass the lift dataframe in a variable\r\n",
        "lifts = calculate_lift()"
      ],
      "execution_count": 163,
      "outputs": []
    },
    {
      "cell_type": "code",
      "metadata": {
        "id": "fCzvNtOoEVMt"
      },
      "source": [
        "#initialize an empty list\r\n",
        "q5_mrr_scores =  []\r\n",
        "\r\n",
        "#get 10 values of minimum support between minimum and maximum to experiment\r\n",
        "min_supports = np.linspace(lifts[\"support\"].min(), lifts[\"support\"].max(), 10)\r\n",
        "\r\n",
        "#using the minimum support on the loglift recommender, append the MRR score calculated\r\n",
        "for min_support in min_supports:\r\n",
        "  q5_mrr_scores.append(mrr_score(loglift(min_support), validation))"
      ],
      "execution_count": 164,
      "outputs": []
    },
    {
      "cell_type": "code",
      "metadata": {
        "id": "uIuWC3YdIKnm",
        "colab": {
          "base_uri": "https://localhost:8080/"
        },
        "outputId": "44d25489-987c-4114-d61f-ba9f4a188771"
      },
      "source": [
        "#get the mean MRR for each minimum support calculated from above\r\n",
        "## this will be used for plotting\r\n",
        "mean_RR = []\r\n",
        "for each in q5_mrr_scores:\r\n",
        "  mean_RR.append(each.mean())\r\n",
        "\r\n",
        "print(mean_RR)\r\n",
        "print(min_supports)"
      ],
      "execution_count": 165,
      "outputs": [
        {
          "output_type": "stream",
          "text": [
            "[0.07603543835409768, 0.05580012228336391, 0.05725779556444889, 0.05790534155966872, 0.057036851759212935, 0.06443162057219086, 0.08278440094611339, 0.054070487624764754, 0.03266216441554111, 0.0]\n",
            "[5.47714715e-07 3.26194541e-05 6.46911936e-05 9.67629330e-05\n",
            " 1.28834672e-04 1.60906412e-04 1.92978151e-04 2.25049891e-04\n",
            " 2.57121630e-04 2.89193370e-04]\n"
          ],
          "name": "stdout"
        }
      ]
    },
    {
      "cell_type": "code",
      "metadata": {
        "id": "jatkQGfMjQCC",
        "colab": {
          "base_uri": "https://localhost:8080/",
          "height": 323
        },
        "outputId": "14696650-25b0-43b9-bcd1-9731fcc0b972"
      },
      "source": [
        "#plot the minimum support against the mean RR of each support to see how MRR behaves\r\n",
        "plt.plot(min_supports, mean_RR, marker = 'D')\r\n",
        "plt.xticks(min_supports, rotation = 90)\r\n",
        "plt.xlabel('Supports')\r\n",
        "plt.ylabel('MRR')\r\n",
        "\r\n",
        "## store the best minimum support \r\n",
        "best_min_support = min_supports[np.argmax(mean_RR)]"
      ],
      "execution_count": 166,
      "outputs": [
        {
          "output_type": "display_data",
          "data": {
            "image/png": "[encoded data removed]",
            "text/plain": [
              "<Figure size 432x288 with 1 Axes>"
            ]
          },
          "metadata": {
            "tags": [],
            "needs_background": "light"
          }
        }
      ]
    },
    {
      "cell_type": "code",
      "metadata": {
        "id": "SbpZ8zIek6Q5",
        "colab": {
          "base_uri": "https://localhost:8080/"
        },
        "outputId": "db6315c5-002c-4c65-9d5e-022813c5aaeb"
      },
      "source": [
        "print(mrr_score(loglift(best_min_support), test_dataset).mean())"
      ],
      "execution_count": 167,
      "outputs": [
        {
          "output_type": "stream",
          "text": [
            "0.09883937505379806\n"
          ],
          "name": "stdout"
        }
      ]
    },
    {
      "cell_type": "markdown",
      "metadata": {
        "id": "EXWyeWxAzsex"
      },
      "source": [
        "# Question 6"
      ]
    },
    {
      "cell_type": "code",
      "metadata": {
        "id": "y6vL3qNlz1de"
      },
      "source": [
        "## initiliase and train recommenders\r\n",
        "class initiliase_recommenders:\r\n",
        "  def __init__(self):\r\n",
        "    ## ===========================================Low Group========================================\r\n",
        "    self.average_rating = average_rating(num_items)\r\n",
        "    self.number_of_ratings = number_of_ratings(num_items)  \r\n",
        "    self.emodel = ExplicitFactorizationModel(n_iter=5,random_state=np.random.RandomState(SEED))\r\n",
        "    ## =========================================================================================\r\n",
        " \r\n",
        "    ## ========================================== High Group ====================================== \r\n",
        "    self.number_of_5_star_ratings = number_of_5_star_ratings(num_items)\r\n",
        "    self.loglift = loglift(best_min_support)\r\n",
        "    self.fractions_of_5_star = fractions_of_5_star(num_items)\r\n",
        "\r\n",
        "    ## ===========================================Two Best======================================\r\n",
        "    self.imodel = ImplicitFactorizationModel(n_iter = 5, loss = \"bpr\", random_state=np.random.RandomState(SEED), embedding_dim = 32)\r\n",
        "    self.best_implicit_model = ImplicitFactorizationModel(n_iter = 5, loss = \"bpr\", random_state=np.random.RandomState(SEED), embedding_dim = 16)\r\n",
        "    ## =========================================================================================\r\n",
        "\r\n",
        "\r\n",
        "    # call train function\r\n",
        "    self.train_models()\r\n",
        " \r\n",
        "\r\n",
        "    #iterate over the recommender list\r\n",
        "    self.recommender_list = self.iterate_over()\r\n",
        " \r\n",
        "  #train them\r\n",
        "  def train_models(self):\r\n",
        "    self.emodel.fit(rating_dataset)\r\n",
        "    self.imodel.fit(rating_dataset)\r\n",
        "    self.best_implicit_model.fit(toread_dataset_train)\r\n",
        " \r\n",
        "  #iterate over the recommenders and assigns a value to each one\r\n",
        "  def iterate_over(self):\r\n",
        "    recommenders = []\r\n",
        "    for attr, value in self.__dict__.items():\r\n",
        "          recommenders.append(value)\r\n",
        "    return recommenders"
      ],
      "execution_count": 168,
      "outputs": []
    },
    {
      "cell_type": "code",
      "metadata": {
        "id": "2OCvRcddVspN"
      },
      "source": [
        "#this class combines all the recommenders and takes in a list of weights for bias\r\n",
        "class combine_recommenders:\r\n",
        "  def __init__(self, recommenders, weights = []):\r\n",
        "    self.recommenders = recommenders\r\n",
        "    self.number_of_recommenders = len(recommenders)\r\n",
        "\r\n",
        "    #if we give a weights list equal to recommenders set weights equal to that list\r\n",
        "    ## else assign an equal weight to the recommender 1/number of recommenders to be equal to 1\r\n",
        "    if len(weights) == self.number_of_recommenders:\r\n",
        "      self.weights = weights\r\n",
        "    else:\r\n",
        "      self.weights = np.ones(self.number_of_recommenders) * 1/self.number_of_recommenders\r\n",
        "\r\n",
        "  #call predictions\r\n",
        "  def predict(self, uid):\r\n",
        "    predictions = 0\r\n",
        "    for rec in range(self.number_of_recommenders):\r\n",
        "      predictions += self.recommenders[rec].predict(uid) * self.weights[rec]\r\n",
        "    return predictions"
      ],
      "execution_count": 169,
      "outputs": []
    },
    {
      "cell_type": "code",
      "metadata": {
        "id": "rbURVrQJHYDK"
      },
      "source": [
        "#define a function that returns the weights based on the bias set, returns changed weight list\r\n",
        "def calculate_bias_weight(bias,indexes):\r\n",
        "  weights = np.ones(8) * (1-bias*len(indexes))/(8-len(indexes))\r\n",
        "  for i in indexes:\r\n",
        "    weights[i] = bias\r\n",
        "  return weights"
      ],
      "execution_count": 170,
      "outputs": []
    },
    {
      "cell_type": "code",
      "metadata": {
        "id": "dh-vUsnaXUNX"
      },
      "source": [
        "#initialise the recommenders\r\n",
        "trained_recommenders = initiliase_recommenders()"
      ],
      "execution_count": 171,
      "outputs": []
    },
    {
      "cell_type": "markdown",
      "metadata": {
        "id": "1x-9d1Sys2gO"
      },
      "source": [
        "#Get Weights for different Bias Values"
      ]
    },
    {
      "cell_type": "code",
      "metadata": {
        "id": "_yqgqXsGXYfF"
      },
      "source": [
        "#assing equal weights to all recommenders of 1/number of recommenders\r\n",
        "no_of_recommenders = 8\r\n",
        "weights_list_without_bias = []\r\n",
        "recommender_indices = list(range(no_of_recommenders))\r\n",
        "weights_list_without_bias.append(np.ones(no_of_recommenders) * 1/no_of_recommenders)\r\n",
        "\r\n",
        "#assign a bias of 0.3 one recommender each time in turn while experimenting\r\n",
        "bias_test = 0.3\r\n",
        "weights_list_with_bias = []\r\n",
        "for i in range(no_of_recommenders):\r\n",
        "  weights_list_with_bias.append(calculate_bias_weight(bias_test, [i]))\r\n",
        "\r\n",
        "#assing bias to the highest performing group of models\r\n",
        "highest_group_equal_weights = []\r\n",
        "for bias in [0.12, 0.18]:\r\n",
        "  highest_group_equal_weights.append(calculate_bias_weight(bias, recommender_indices[3:]))\r\n",
        "\r\n",
        "#assign bias to the two best performing models\r\n",
        "two_highest_rec_equal_weights = []\r\n",
        "for bias in [0.25,0.35,0.45]:\r\n",
        "  two_highest_rec_equal_weights.append(calculate_bias_weight(bias, recommender_indices[6:]))"
      ],
      "execution_count": 172,
      "outputs": []
    },
    {
      "cell_type": "markdown",
      "metadata": {
        "id": "JKlfCM02ss56"
      },
      "source": [
        "#Get MRR Scores for those Bias Values in order set above"
      ]
    },
    {
      "cell_type": "code",
      "metadata": {
        "id": "XZbUo1cojAc0",
        "colab": {
          "base_uri": "https://localhost:8080/"
        },
        "outputId": "96464e98-7f03-4c1e-d794-ab7ed5f9ca86"
      },
      "source": [
        "#get MRR without bias\r\n",
        "q6_mrr_scores_without_bias = mrr_score(combine_recommenders(trained_recommenders.recommender_list, weights_list_without_bias), validation).mean()\r\n",
        "print(q6_mrr_scores_without_bias)\r\n",
        "\r\n",
        "#get MRR for weight with bias\r\n",
        "q6_mmr_scores_with_bias = []\r\n",
        "for each in weights_list_with_bias:\r\n",
        "  q6_mmr_scores_with_bias.append(mrr_score(combine_recommenders(trained_recommenders.recommender_list, each), validation).mean())\r\n",
        "print(q6_mmr_scores_with_bias)\r\n",
        "\r\n",
        "#get MRR with equal bias on the best performing group\r\n",
        "q6_mmr_scores_highest_group_equal_weights = []\r\n",
        "for each in highest_group_equal_weights:\r\n",
        "  q6_mmr_scores_highest_group_equal_weights.append(mrr_score(combine_recommenders(trained_recommenders.recommender_list, each), validation).mean())\r\n",
        "print(q6_mmr_scores_highest_group_equal_weights)\r\n",
        "\r\n",
        "#get MRR with bias on top two models\r\n",
        "q6_mmr_scores_two_highest_rec_equal_weights = []\r\n",
        "for each in two_highest_rec_equal_weights:\r\n",
        "  q6_mmr_scores_two_highest_rec_equal_weights.append(mrr_score(combine_recommenders(trained_recommenders.recommender_list, each), validation).mean())\r\n",
        "print(q6_mmr_scores_two_highest_rec_equal_weights)"
      ],
      "execution_count": 173,
      "outputs": [
        {
          "output_type": "stream",
          "text": [
            "0.02878363785067137\n",
            "[0.02878363785067137, 0.028197233537403624, 0.02878363785067137, 0.055491039170378835, 0.02878363785067137, 0.02878363785067137, 0.02878363785067137, 0.02878363785067137]\n",
            "[0.02878363785067137, 0.06464740306661268]\n",
            "[0.02878363785067137, 0.02878363785067137, 0.02878363785067137]\n"
          ],
          "name": "stdout"
        }
      ]
    },
    {
      "cell_type": "markdown",
      "metadata": {
        "id": "ERT-dofgHrDA"
      },
      "source": [
        "#Get Graph"
      ]
    },
    {
      "cell_type": "code",
      "metadata": {
        "id": "zFih4RDEI55Q"
      },
      "source": [
        "#flatten the list of MRR scores to prepare data for plotting\r\n",
        "flattened_list = []\r\n",
        "flattened_list.append(q6_mrr_scores_without_bias)\r\n",
        "\r\n",
        "for each in q6_mmr_scores_with_bias:\r\n",
        "  flattened_list.append(each)\r\n",
        "\r\n",
        "for each in q6_mmr_scores_highest_group_equal_weights:\r\n",
        "  flattened_list.append(each)\r\n",
        "\r\n",
        "for each in q6_mmr_scores_two_highest_rec_equal_weights:\r\n",
        "  flattened_list.append(each)"
      ],
      "execution_count": 174,
      "outputs": []
    },
    {
      "cell_type": "code",
      "metadata": {
        "id": "ri_bVJYQiV5M",
        "colab": {
          "base_uri": "https://localhost:8080/",
          "height": 313
        },
        "outputId": "50bf0a98-3e40-4052-97d6-ed61d39408f1"
      },
      "source": [
        "#Plot the graph of the MRR against experiment\r\n",
        "plt.plot(range(1,15), flattened_list)\r\n",
        "plt.ylabel('MRR Score')\r\n",
        "plt.xlabel('Bias Experiment')\r\n",
        "plt.title('MRR/Bias Experiment')\r\n"
      ],
      "execution_count": 175,
      "outputs": [
        {
          "output_type": "execute_result",
          "data": {
            "text/plain": [
              "Text(0.5, 1.0, 'MRR/Bias Experiment')"
            ]
          },
          "metadata": {
            "tags": []
          },
          "execution_count": 175
        },
        {
          "output_type": "display_data",
          "data": {
            "image/png": "[encoded data removed]",
            "text/plain": [
              "<Figure size 432x288 with 1 Axes>"
            ]
          },
          "metadata": {
            "tags": [],
            "needs_background": "light"
          }
        }
      ]
    },
    {
      "cell_type": "code",
      "metadata": {
        "id": "clUydOZ0oBOB"
      },
      "source": [
        ""
      ],
      "execution_count": 175,
      "outputs": []
    }
  ]
}