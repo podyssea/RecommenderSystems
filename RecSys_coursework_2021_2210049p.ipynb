{
  "nbformat": 4,
  "nbformat_minor": 0,
  "metadata": {
    "colab": {
      "name": "RecSys coursework 2021_2210049p.ipynb",
      "provenance": [],
      "collapsed_sections": [],
      "include_colab_link": true
    },
    "kernelspec": {
      "name": "python3",
      "display_name": "Python 3"
    }
  },
  "cells": [
    {
      "cell_type": "markdown",
      "metadata": {
        "id": "view-in-github",
        "colab_type": "text"
      },
      "source": [
        "<a href=\"https://colab.research.google.com/github/podyssea/RecommenderSystems/blob/main/RecSys_coursework_2021_2210049p.ipynb\" target=\"_parent\"><img src=\"https://colab.research.google.com/assets/colab-badge.svg\" alt=\"Open In Colab\"/></a>"
      ]
    },
    {
      "cell_type": "markdown",
      "metadata": {
        "id": "THQFNe3zdt1f"
      },
      "source": [
        "# Assessed Coursework Template Notebook\n",
        "\n",
        "This is the template notebook for the RecSys(H) 2021 coursework. It deals with data preparation and evaluation only.\n",
        "\n",
        "Please note:\n",
        " - use H1 text headings for grouping together blocks of cells. You can then hide these while working on other blocks\n",
        " - leave the cell output visible when you submit the notebook\n",
        "\n"
      ]
    },
    {
      "cell_type": "markdown",
      "metadata": {
        "id": "Ww--_kl9-ndn"
      },
      "source": [
        "## Setup block\n",
        "\n",
        "Setup the data files, Python etc."
      ]
    },
    {
      "cell_type": "code",
      "metadata": {
        "id": "iFgYpbhh0tkX",
        "colab": {
          "base_uri": "https://localhost:8080/"
        },
        "outputId": "4ec3411d-d3ed-46e7-d602-1cee6c3e9cfe"
      },
      "source": [
        "!rm -rf ratings* books* to_read* test*\n",
        "\n",
        "!curl -o ratings.csv \"http://www.dcs.gla.ac.uk/~craigm/recsysH/coursework/final-ratings.csv\" \n",
        "!curl -o books.csv \"http://www.dcs.gla.ac.uk/~craigm/recsysH/coursework/final-books.csv\"\n",
        "!curl -o to_read.csv \"http://www.dcs.gla.ac.uk/~craigm/recsysH/coursework/final-to_read.csv\"\n",
        "!curl -o test.csv \"http://www.dcs.gla.ac.uk/~craigm/recsysH/coursework/final-test.csv\""
      ],
      "execution_count": 4,
      "outputs": [
        {
          "output_type": "stream",
          "text": [
            "  % Total    % Received % Xferd  Average Speed   Time    Time     Time  Current\n",
            "                                 Dload  Upload   Total   Spent    Left  Speed\n",
            "100 7631k  100 7631k    0     0  5594k      0  0:00:01  0:00:01 --:--:-- 5598k\n",
            "  % Total    % Received % Xferd  Average Speed   Time    Time     Time  Current\n",
            "                                 Dload  Upload   Total   Spent    Left  Speed\n",
            "100 2366k  100 2366k    0     0  2606k      0 --:--:-- --:--:-- --:--:-- 2603k\n",
            "  % Total    % Received % Xferd  Average Speed   Time    Time     Time  Current\n",
            "                                 Dload  Upload   Total   Spent    Left  Speed\n",
            "100 7581k  100 7581k    0     0  4252k      0  0:00:01  0:00:01 --:--:-- 4249k\n",
            "  % Total    % Received % Xferd  Average Speed   Time    Time     Time  Current\n",
            "                                 Dload  Upload   Total   Spent    Left  Speed\n",
            "100 1895k  100 1895k    0     0  2087k      0 --:--:-- --:--:-- --:--:-- 2085k\n"
          ],
          "name": "stdout"
        }
      ]
    },
    {
      "cell_type": "code",
      "metadata": {
        "id": "1VpVnNrZ1EiX",
        "colab": {
          "base_uri": "https://localhost:8080/"
        },
        "outputId": "1d901325-a6bc-4ddb-8b16-478044bbf0fc"
      },
      "source": [
        "#Standard setup\n",
        "import pandas as pd\n",
        "import numpy as np\n",
        "import torch\n",
        "!pip install git+https://github.com/cmacdonald/spotlight.git@master#egg=spotlight\n",
        "from spotlight.interactions import Interactions\n",
        "SEED=42"
      ],
      "execution_count": 5,
      "outputs": [
        {
          "output_type": "stream",
          "text": [
            "Requirement already satisfied: spotlight from git+https://github.com/cmacdonald/spotlight.git@master#egg=spotlight in /usr/local/lib/python3.7/dist-packages (0.1.6)\n",
            "Requirement already satisfied: torch>=0.4.0 in /usr/local/lib/python3.7/dist-packages (from spotlight) (1.8.0+cu101)\n",
            "Requirement already satisfied: typing-extensions in /usr/local/lib/python3.7/dist-packages (from torch>=0.4.0->spotlight) (3.7.4.3)\n",
            "Requirement already satisfied: numpy in /usr/local/lib/python3.7/dist-packages (from torch>=0.4.0->spotlight) (1.19.5)\n"
          ],
          "name": "stdout"
        }
      ]
    },
    {
      "cell_type": "markdown",
      "metadata": {
        "id": "RtJO0e0m-hun"
      },
      "source": [
        "# data preparation"
      ]
    },
    {
      "cell_type": "code",
      "metadata": {
        "id": "qKAb25iw1MYw"
      },
      "source": [
        "#load in the csv files\n",
        "ratings_df = pd.read_csv(\"ratings.csv\")\n",
        "books_df = pd.read_csv(\"books.csv\")\n",
        "to_read_df = pd.read_csv(\"to_read.csv\")\n",
        "test = pd.read_csv(\"test.csv\")"
      ],
      "execution_count": 6,
      "outputs": []
    },
    {
      "cell_type": "code",
      "metadata": {
        "id": "W6rqfn53OhDC"
      },
      "source": [
        "#cut down the number of items and users\n",
        "counts=ratings_df[ratings_df[\"book_id\"] < 2000].groupby([\"book_id\"]).count().reset_index()\n",
        "valid_books=counts[counts[\"user_id\"] >= 10][[\"book_id\"]]\n",
        "\n",
        "books_df = books_df.merge(valid_books, on=\"book_id\")\n",
        "ratings_df = ratings_df[ratings_df[\"user_id\"] < 2000].merge(valid_books, on=\"book_id\")\n",
        "to_read_df = to_read_df[to_read_df[\"user_id\"] < 2000].merge(valid_books, on=\"book_id\")\n",
        "test = test[test[\"user_id\"] < 2000].merge(valid_books, on=\"book_id\")\n",
        "\n",
        "\n",
        "#stringify the id columns\n",
        "def str_col(df):\n",
        "  if \"user_id\" in df.columns:\n",
        "    df[\"user_id\"] = \"u\" + df.user_id.astype(str)\n",
        "  if \"book_id\" in df.columns:\n",
        "    df[\"book_id\"] = \"b\" + df.book_id.astype(str)\n",
        "\n",
        "str_col(books_df)\n",
        "str_col(ratings_df)\n",
        "str_col(to_read_df)\n",
        "str_col(test)\n",
        "\n"
      ],
      "execution_count": 7,
      "outputs": []
    },
    {
      "cell_type": "markdown",
      "metadata": {
        "id": "5Rqh9hFM6k20"
      },
      "source": [
        "# Implicit"
      ]
    },
    {
      "cell_type": "code",
      "metadata": {
        "colab": {
          "base_uri": "https://localhost:8080/",
          "height": 399
        },
        "id": "jujqfHPH56tB",
        "outputId": "9835caba-7d81-47e7-f663-d74d4a15ed0b"
      },
      "source": [
        "to_read_df"
      ],
      "execution_count": 8,
      "outputs": [
        {
          "output_type": "execute_result",
          "data": {
            "text/html": [
              "<div>\n",
              "<style scoped>\n",
              "    .dataframe tbody tr th:only-of-type {\n",
              "        vertical-align: middle;\n",
              "    }\n",
              "\n",
              "    .dataframe tbody tr th {\n",
              "        vertical-align: top;\n",
              "    }\n",
              "\n",
              "    .dataframe thead th {\n",
              "        text-align: right;\n",
              "    }\n",
              "</style>\n",
              "<table border=\"1\" class=\"dataframe\">\n",
              "  <thead>\n",
              "    <tr style=\"text-align: right;\">\n",
              "      <th></th>\n",
              "      <th>Unnamed: 0</th>\n",
              "      <th>user_id</th>\n",
              "      <th>book_id</th>\n",
              "    </tr>\n",
              "  </thead>\n",
              "  <tbody>\n",
              "    <tr>\n",
              "      <th>0</th>\n",
              "      <td>386014</td>\n",
              "      <td>u1333</td>\n",
              "      <td>b1797</td>\n",
              "    </tr>\n",
              "    <tr>\n",
              "      <th>1</th>\n",
              "      <td>36194</td>\n",
              "      <td>u765</td>\n",
              "      <td>b1797</td>\n",
              "    </tr>\n",
              "    <tr>\n",
              "      <th>2</th>\n",
              "      <td>25568</td>\n",
              "      <td>u1042</td>\n",
              "      <td>b1797</td>\n",
              "    </tr>\n",
              "    <tr>\n",
              "      <th>3</th>\n",
              "      <td>596738</td>\n",
              "      <td>u1360</td>\n",
              "      <td>b1797</td>\n",
              "    </tr>\n",
              "    <tr>\n",
              "      <th>4</th>\n",
              "      <td>52814</td>\n",
              "      <td>u1782</td>\n",
              "      <td>b1797</td>\n",
              "    </tr>\n",
              "    <tr>\n",
              "      <th>...</th>\n",
              "      <td>...</td>\n",
              "      <td>...</td>\n",
              "      <td>...</td>\n",
              "    </tr>\n",
              "    <tr>\n",
              "      <th>135610</th>\n",
              "      <td>444981</td>\n",
              "      <td>u556</td>\n",
              "      <td>b1157</td>\n",
              "    </tr>\n",
              "    <tr>\n",
              "      <th>135611</th>\n",
              "      <td>428922</td>\n",
              "      <td>u343</td>\n",
              "      <td>b1157</td>\n",
              "    </tr>\n",
              "    <tr>\n",
              "      <th>135612</th>\n",
              "      <td>457472</td>\n",
              "      <td>u1193</td>\n",
              "      <td>b1743</td>\n",
              "    </tr>\n",
              "    <tr>\n",
              "      <th>135613</th>\n",
              "      <td>487831</td>\n",
              "      <td>u1121</td>\n",
              "      <td>b1743</td>\n",
              "    </tr>\n",
              "    <tr>\n",
              "      <th>135614</th>\n",
              "      <td>466860</td>\n",
              "      <td>u1511</td>\n",
              "      <td>b1743</td>\n",
              "    </tr>\n",
              "  </tbody>\n",
              "</table>\n",
              "<p>135615 rows × 3 columns</p>\n",
              "</div>"
            ],
            "text/plain": [
              "        Unnamed: 0 user_id book_id\n",
              "0           386014   u1333   b1797\n",
              "1            36194    u765   b1797\n",
              "2            25568   u1042   b1797\n",
              "3           596738   u1360   b1797\n",
              "4            52814   u1782   b1797\n",
              "...            ...     ...     ...\n",
              "135610      444981    u556   b1157\n",
              "135611      428922    u343   b1157\n",
              "135612      457472   u1193   b1743\n",
              "135613      487831   u1121   b1743\n",
              "135614      466860   u1511   b1743\n",
              "\n",
              "[135615 rows x 3 columns]"
            ]
          },
          "metadata": {
            "tags": []
          },
          "execution_count": 8
        }
      ]
    },
    {
      "cell_type": "markdown",
      "metadata": {
        "id": "q8K38Kb86sZ9"
      },
      "source": [
        "#explicit"
      ]
    },
    {
      "cell_type": "code",
      "metadata": {
        "colab": {
          "base_uri": "https://localhost:8080/",
          "height": 399
        },
        "id": "FNVhxoEg6vX7",
        "outputId": "e4a730f0-233e-44af-9f14-a4c77c2563b2"
      },
      "source": [
        "ratings_df"
      ],
      "execution_count": 9,
      "outputs": [
        {
          "output_type": "execute_result",
          "data": {
            "text/html": [
              "<div>\n",
              "<style scoped>\n",
              "    .dataframe tbody tr th:only-of-type {\n",
              "        vertical-align: middle;\n",
              "    }\n",
              "\n",
              "    .dataframe tbody tr th {\n",
              "        vertical-align: top;\n",
              "    }\n",
              "\n",
              "    .dataframe thead th {\n",
              "        text-align: right;\n",
              "    }\n",
              "</style>\n",
              "<table border=\"1\" class=\"dataframe\">\n",
              "  <thead>\n",
              "    <tr style=\"text-align: right;\">\n",
              "      <th></th>\n",
              "      <th>Unnamed: 0</th>\n",
              "      <th>user_id</th>\n",
              "      <th>book_id</th>\n",
              "      <th>rating</th>\n",
              "    </tr>\n",
              "  </thead>\n",
              "  <tbody>\n",
              "    <tr>\n",
              "      <th>0</th>\n",
              "      <td>0</td>\n",
              "      <td>u1</td>\n",
              "      <td>b258</td>\n",
              "      <td>5</td>\n",
              "    </tr>\n",
              "    <tr>\n",
              "      <th>1</th>\n",
              "      <td>130</td>\n",
              "      <td>u11</td>\n",
              "      <td>b258</td>\n",
              "      <td>3</td>\n",
              "    </tr>\n",
              "    <tr>\n",
              "      <th>2</th>\n",
              "      <td>1998</td>\n",
              "      <td>u143</td>\n",
              "      <td>b258</td>\n",
              "      <td>4</td>\n",
              "    </tr>\n",
              "    <tr>\n",
              "      <th>3</th>\n",
              "      <td>4731</td>\n",
              "      <td>u325</td>\n",
              "      <td>b258</td>\n",
              "      <td>4</td>\n",
              "    </tr>\n",
              "    <tr>\n",
              "      <th>4</th>\n",
              "      <td>5510</td>\n",
              "      <td>u362</td>\n",
              "      <td>b258</td>\n",
              "      <td>2</td>\n",
              "    </tr>\n",
              "    <tr>\n",
              "      <th>...</th>\n",
              "      <td>...</td>\n",
              "      <td>...</td>\n",
              "      <td>...</td>\n",
              "      <td>...</td>\n",
              "    </tr>\n",
              "    <tr>\n",
              "      <th>124757</th>\n",
              "      <td>438735</td>\n",
              "      <td>u1920</td>\n",
              "      <td>b1499</td>\n",
              "      <td>4</td>\n",
              "    </tr>\n",
              "    <tr>\n",
              "      <th>124758</th>\n",
              "      <td>439348</td>\n",
              "      <td>u334</td>\n",
              "      <td>b1499</td>\n",
              "      <td>2</td>\n",
              "    </tr>\n",
              "    <tr>\n",
              "      <th>124759</th>\n",
              "      <td>439505</td>\n",
              "      <td>u927</td>\n",
              "      <td>b1499</td>\n",
              "      <td>4</td>\n",
              "    </tr>\n",
              "    <tr>\n",
              "      <th>124760</th>\n",
              "      <td>439728</td>\n",
              "      <td>u1298</td>\n",
              "      <td>b1499</td>\n",
              "      <td>4</td>\n",
              "    </tr>\n",
              "    <tr>\n",
              "      <th>124761</th>\n",
              "      <td>439730</td>\n",
              "      <td>u416</td>\n",
              "      <td>b1499</td>\n",
              "      <td>3</td>\n",
              "    </tr>\n",
              "  </tbody>\n",
              "</table>\n",
              "<p>124762 rows × 4 columns</p>\n",
              "</div>"
            ],
            "text/plain": [
              "        Unnamed: 0 user_id book_id  rating\n",
              "0                0      u1    b258       5\n",
              "1              130     u11    b258       3\n",
              "2             1998    u143    b258       4\n",
              "3             4731    u325    b258       4\n",
              "4             5510    u362    b258       2\n",
              "...            ...     ...     ...     ...\n",
              "124757      438735   u1920   b1499       4\n",
              "124758      439348    u334   b1499       2\n",
              "124759      439505    u927   b1499       4\n",
              "124760      439728   u1298   b1499       4\n",
              "124761      439730    u416   b1499       3\n",
              "\n",
              "[124762 rows x 4 columns]"
            ]
          },
          "metadata": {
            "tags": []
          },
          "execution_count": 9
        }
      ]
    },
    {
      "cell_type": "markdown",
      "metadata": {
        "id": "sHx_Q7Sz61Tj"
      },
      "source": [
        "#test"
      ]
    },
    {
      "cell_type": "code",
      "metadata": {
        "colab": {
          "base_uri": "https://localhost:8080/",
          "height": 399
        },
        "id": "GDWNC4ko62tO",
        "outputId": "d94424d8-ffe9-4395-f36f-536abee7e2f5"
      },
      "source": [
        "test"
      ],
      "execution_count": 10,
      "outputs": [
        {
          "output_type": "execute_result",
          "data": {
            "text/html": [
              "<div>\n",
              "<style scoped>\n",
              "    .dataframe tbody tr th:only-of-type {\n",
              "        vertical-align: middle;\n",
              "    }\n",
              "\n",
              "    .dataframe tbody tr th {\n",
              "        vertical-align: top;\n",
              "    }\n",
              "\n",
              "    .dataframe thead th {\n",
              "        text-align: right;\n",
              "    }\n",
              "</style>\n",
              "<table border=\"1\" class=\"dataframe\">\n",
              "  <thead>\n",
              "    <tr style=\"text-align: right;\">\n",
              "      <th></th>\n",
              "      <th>Unnamed: 0</th>\n",
              "      <th>user_id</th>\n",
              "      <th>book_id</th>\n",
              "    </tr>\n",
              "  </thead>\n",
              "  <tbody>\n",
              "    <tr>\n",
              "      <th>0</th>\n",
              "      <td>26204</td>\n",
              "      <td>u978</td>\n",
              "      <td>b323</td>\n",
              "    </tr>\n",
              "    <tr>\n",
              "      <th>1</th>\n",
              "      <td>74616</td>\n",
              "      <td>u109</td>\n",
              "      <td>b323</td>\n",
              "    </tr>\n",
              "    <tr>\n",
              "      <th>2</th>\n",
              "      <td>334583</td>\n",
              "      <td>u1721</td>\n",
              "      <td>b323</td>\n",
              "    </tr>\n",
              "    <tr>\n",
              "      <th>3</th>\n",
              "      <td>297262</td>\n",
              "      <td>u429</td>\n",
              "      <td>b323</td>\n",
              "    </tr>\n",
              "    <tr>\n",
              "      <th>4</th>\n",
              "      <td>30956</td>\n",
              "      <td>u339</td>\n",
              "      <td>b323</td>\n",
              "    </tr>\n",
              "    <tr>\n",
              "      <th>...</th>\n",
              "      <td>...</td>\n",
              "      <td>...</td>\n",
              "      <td>...</td>\n",
              "    </tr>\n",
              "    <tr>\n",
              "      <th>33912</th>\n",
              "      <td>347299</td>\n",
              "      <td>u272</td>\n",
              "      <td>b1545</td>\n",
              "    </tr>\n",
              "    <tr>\n",
              "      <th>33913</th>\n",
              "      <td>1881</td>\n",
              "      <td>u126</td>\n",
              "      <td>b1333</td>\n",
              "    </tr>\n",
              "    <tr>\n",
              "      <th>33914</th>\n",
              "      <td>400826</td>\n",
              "      <td>u1841</td>\n",
              "      <td>b1513</td>\n",
              "    </tr>\n",
              "    <tr>\n",
              "      <th>33915</th>\n",
              "      <td>518727</td>\n",
              "      <td>u1599</td>\n",
              "      <td>b1513</td>\n",
              "    </tr>\n",
              "    <tr>\n",
              "      <th>33916</th>\n",
              "      <td>54189</td>\n",
              "      <td>u1854</td>\n",
              "      <td>b1448</td>\n",
              "    </tr>\n",
              "  </tbody>\n",
              "</table>\n",
              "<p>33917 rows × 3 columns</p>\n",
              "</div>"
            ],
            "text/plain": [
              "       Unnamed: 0 user_id book_id\n",
              "0           26204    u978    b323\n",
              "1           74616    u109    b323\n",
              "2          334583   u1721    b323\n",
              "3          297262    u429    b323\n",
              "4           30956    u339    b323\n",
              "...           ...     ...     ...\n",
              "33912      347299    u272   b1545\n",
              "33913        1881    u126   b1333\n",
              "33914      400826   u1841   b1513\n",
              "33915      518727   u1599   b1513\n",
              "33916       54189   u1854   b1448\n",
              "\n",
              "[33917 rows x 3 columns]"
            ]
          },
          "metadata": {
            "tags": []
          },
          "execution_count": 10
        }
      ]
    },
    {
      "cell_type": "markdown",
      "metadata": {
        "id": "uitG5dl069Dm"
      },
      "source": [
        "#books"
      ]
    },
    {
      "cell_type": "code",
      "metadata": {
        "colab": {
          "base_uri": "https://localhost:8080/",
          "height": 943
        },
        "id": "eke1nbYq6-in",
        "outputId": "77b2a41b-3aa5-4d46-cddc-750ad1c4edb5"
      },
      "source": [
        "books_df"
      ],
      "execution_count": 11,
      "outputs": [
        {
          "output_type": "execute_result",
          "data": {
            "text/html": [
              "<div>\n",
              "<style scoped>\n",
              "    .dataframe tbody tr th:only-of-type {\n",
              "        vertical-align: middle;\n",
              "    }\n",
              "\n",
              "    .dataframe tbody tr th {\n",
              "        vertical-align: top;\n",
              "    }\n",
              "\n",
              "    .dataframe thead th {\n",
              "        text-align: right;\n",
              "    }\n",
              "</style>\n",
              "<table border=\"1\" class=\"dataframe\">\n",
              "  <thead>\n",
              "    <tr style=\"text-align: right;\">\n",
              "      <th></th>\n",
              "      <th>Unnamed: 0</th>\n",
              "      <th>book_id</th>\n",
              "      <th>goodreads_book_id</th>\n",
              "      <th>best_book_id</th>\n",
              "      <th>work_id</th>\n",
              "      <th>books_count</th>\n",
              "      <th>isbn</th>\n",
              "      <th>isbn13</th>\n",
              "      <th>authors</th>\n",
              "      <th>original_publication_year</th>\n",
              "      <th>original_title</th>\n",
              "      <th>title</th>\n",
              "      <th>language_code</th>\n",
              "      <th>average_rating</th>\n",
              "      <th>ratings_count</th>\n",
              "      <th>work_ratings_count</th>\n",
              "      <th>work_text_reviews_count</th>\n",
              "      <th>ratings_1</th>\n",
              "      <th>ratings_2</th>\n",
              "      <th>ratings_3</th>\n",
              "      <th>ratings_4</th>\n",
              "      <th>ratings_5</th>\n",
              "      <th>image_url</th>\n",
              "      <th>small_image_url</th>\n",
              "    </tr>\n",
              "  </thead>\n",
              "  <tbody>\n",
              "    <tr>\n",
              "      <th>0</th>\n",
              "      <td>0</td>\n",
              "      <td>b1</td>\n",
              "      <td>2767052</td>\n",
              "      <td>2767052</td>\n",
              "      <td>2792775</td>\n",
              "      <td>272</td>\n",
              "      <td>439023483</td>\n",
              "      <td>9.780439e+12</td>\n",
              "      <td>Suzanne Collins</td>\n",
              "      <td>2008.0</td>\n",
              "      <td>The Hunger Games</td>\n",
              "      <td>The Hunger Games (The Hunger Games, #1)</td>\n",
              "      <td>eng</td>\n",
              "      <td>4.34</td>\n",
              "      <td>4780653</td>\n",
              "      <td>4942365</td>\n",
              "      <td>155254</td>\n",
              "      <td>66715</td>\n",
              "      <td>127936</td>\n",
              "      <td>560092</td>\n",
              "      <td>1481305</td>\n",
              "      <td>2706317</td>\n",
              "      <td>https://images.gr-assets.com/books/1447303603m...</td>\n",
              "      <td>https://images.gr-assets.com/books/1447303603s...</td>\n",
              "    </tr>\n",
              "    <tr>\n",
              "      <th>1</th>\n",
              "      <td>1</td>\n",
              "      <td>b2</td>\n",
              "      <td>3</td>\n",
              "      <td>3</td>\n",
              "      <td>4640799</td>\n",
              "      <td>491</td>\n",
              "      <td>439554934</td>\n",
              "      <td>9.780440e+12</td>\n",
              "      <td>J.K. Rowling, Mary GrandPré</td>\n",
              "      <td>1997.0</td>\n",
              "      <td>Harry Potter and the Philosopher's Stone</td>\n",
              "      <td>Harry Potter and the Sorcerer's Stone (Harry P...</td>\n",
              "      <td>eng</td>\n",
              "      <td>4.44</td>\n",
              "      <td>4602479</td>\n",
              "      <td>4800065</td>\n",
              "      <td>75867</td>\n",
              "      <td>75504</td>\n",
              "      <td>101676</td>\n",
              "      <td>455024</td>\n",
              "      <td>1156318</td>\n",
              "      <td>3011543</td>\n",
              "      <td>https://images.gr-assets.com/books/1474154022m...</td>\n",
              "      <td>https://images.gr-assets.com/books/1474154022s...</td>\n",
              "    </tr>\n",
              "    <tr>\n",
              "      <th>2</th>\n",
              "      <td>2</td>\n",
              "      <td>b3</td>\n",
              "      <td>41865</td>\n",
              "      <td>41865</td>\n",
              "      <td>3212258</td>\n",
              "      <td>226</td>\n",
              "      <td>316015849</td>\n",
              "      <td>9.780316e+12</td>\n",
              "      <td>Stephenie Meyer</td>\n",
              "      <td>2005.0</td>\n",
              "      <td>Twilight</td>\n",
              "      <td>Twilight (Twilight, #1)</td>\n",
              "      <td>en-US</td>\n",
              "      <td>3.57</td>\n",
              "      <td>3866839</td>\n",
              "      <td>3916824</td>\n",
              "      <td>95009</td>\n",
              "      <td>456191</td>\n",
              "      <td>436802</td>\n",
              "      <td>793319</td>\n",
              "      <td>875073</td>\n",
              "      <td>1355439</td>\n",
              "      <td>https://images.gr-assets.com/books/1361039443m...</td>\n",
              "      <td>https://images.gr-assets.com/books/1361039443s...</td>\n",
              "    </tr>\n",
              "    <tr>\n",
              "      <th>3</th>\n",
              "      <td>3</td>\n",
              "      <td>b4</td>\n",
              "      <td>2657</td>\n",
              "      <td>2657</td>\n",
              "      <td>3275794</td>\n",
              "      <td>487</td>\n",
              "      <td>61120081</td>\n",
              "      <td>9.780061e+12</td>\n",
              "      <td>Harper Lee</td>\n",
              "      <td>1960.0</td>\n",
              "      <td>To Kill a Mockingbird</td>\n",
              "      <td>To Kill a Mockingbird</td>\n",
              "      <td>eng</td>\n",
              "      <td>4.25</td>\n",
              "      <td>3198671</td>\n",
              "      <td>3340896</td>\n",
              "      <td>72586</td>\n",
              "      <td>60427</td>\n",
              "      <td>117415</td>\n",
              "      <td>446835</td>\n",
              "      <td>1001952</td>\n",
              "      <td>1714267</td>\n",
              "      <td>https://images.gr-assets.com/books/1361975680m...</td>\n",
              "      <td>https://images.gr-assets.com/books/1361975680s...</td>\n",
              "    </tr>\n",
              "    <tr>\n",
              "      <th>4</th>\n",
              "      <td>4</td>\n",
              "      <td>b5</td>\n",
              "      <td>4671</td>\n",
              "      <td>4671</td>\n",
              "      <td>245494</td>\n",
              "      <td>1356</td>\n",
              "      <td>743273567</td>\n",
              "      <td>9.780743e+12</td>\n",
              "      <td>F. Scott Fitzgerald</td>\n",
              "      <td>1925.0</td>\n",
              "      <td>The Great Gatsby</td>\n",
              "      <td>The Great Gatsby</td>\n",
              "      <td>eng</td>\n",
              "      <td>3.89</td>\n",
              "      <td>2683664</td>\n",
              "      <td>2773745</td>\n",
              "      <td>51992</td>\n",
              "      <td>86236</td>\n",
              "      <td>197621</td>\n",
              "      <td>606158</td>\n",
              "      <td>936012</td>\n",
              "      <td>947718</td>\n",
              "      <td>https://images.gr-assets.com/books/1490528560m...</td>\n",
              "      <td>https://images.gr-assets.com/books/1490528560s...</td>\n",
              "    </tr>\n",
              "    <tr>\n",
              "      <th>...</th>\n",
              "      <td>...</td>\n",
              "      <td>...</td>\n",
              "      <td>...</td>\n",
              "      <td>...</td>\n",
              "      <td>...</td>\n",
              "      <td>...</td>\n",
              "      <td>...</td>\n",
              "      <td>...</td>\n",
              "      <td>...</td>\n",
              "      <td>...</td>\n",
              "      <td>...</td>\n",
              "      <td>...</td>\n",
              "      <td>...</td>\n",
              "      <td>...</td>\n",
              "      <td>...</td>\n",
              "      <td>...</td>\n",
              "      <td>...</td>\n",
              "      <td>...</td>\n",
              "      <td>...</td>\n",
              "      <td>...</td>\n",
              "      <td>...</td>\n",
              "      <td>...</td>\n",
              "      <td>...</td>\n",
              "      <td>...</td>\n",
              "    </tr>\n",
              "    <tr>\n",
              "      <th>1821</th>\n",
              "      <td>1989</td>\n",
              "      <td>b1990</td>\n",
              "      <td>11331421</td>\n",
              "      <td>11331421</td>\n",
              "      <td>6504537</td>\n",
              "      <td>83</td>\n",
              "      <td>1590514637</td>\n",
              "      <td>9.781591e+12</td>\n",
              "      <td>Jan-Philipp Sendker, Kevin Wiliarty</td>\n",
              "      <td>2002.0</td>\n",
              "      <td>Das Herzenhören</td>\n",
              "      <td>The Art of Hearing Heartbeats</td>\n",
              "      <td>eng</td>\n",
              "      <td>3.98</td>\n",
              "      <td>41647</td>\n",
              "      <td>50338</td>\n",
              "      <td>5650</td>\n",
              "      <td>704</td>\n",
              "      <td>2697</td>\n",
              "      <td>10330</td>\n",
              "      <td>19670</td>\n",
              "      <td>16937</td>\n",
              "      <td>https://images.gr-assets.com/books/1320437247m...</td>\n",
              "      <td>https://images.gr-assets.com/books/1320437247s...</td>\n",
              "    </tr>\n",
              "    <tr>\n",
              "      <th>1822</th>\n",
              "      <td>1990</td>\n",
              "      <td>b1991</td>\n",
              "      <td>8935689</td>\n",
              "      <td>8935689</td>\n",
              "      <td>14366</td>\n",
              "      <td>50</td>\n",
              "      <td>1857231384</td>\n",
              "      <td>9.781857e+12</td>\n",
              "      <td>Iain M. Banks</td>\n",
              "      <td>1987.0</td>\n",
              "      <td>Consider Phlebas</td>\n",
              "      <td>Consider Phlebas (Culture, #1)</td>\n",
              "      <td>eng</td>\n",
              "      <td>3.85</td>\n",
              "      <td>48649</td>\n",
              "      <td>53499</td>\n",
              "      <td>2666</td>\n",
              "      <td>1083</td>\n",
              "      <td>3656</td>\n",
              "      <td>12772</td>\n",
              "      <td>20533</td>\n",
              "      <td>15455</td>\n",
              "      <td>https://images.gr-assets.com/books/1327951890m...</td>\n",
              "      <td>https://images.gr-assets.com/books/1327951890s...</td>\n",
              "    </tr>\n",
              "    <tr>\n",
              "      <th>1823</th>\n",
              "      <td>1992</td>\n",
              "      <td>b1993</td>\n",
              "      <td>31332</td>\n",
              "      <td>31332</td>\n",
              "      <td>2925979</td>\n",
              "      <td>63</td>\n",
              "      <td>345434803</td>\n",
              "      <td>9.780345e+12</td>\n",
              "      <td>Anne Rice</td>\n",
              "      <td>1998.0</td>\n",
              "      <td>The Vampire Armand</td>\n",
              "      <td>The Vampire Armand (The Vampire Chronicles, #6)</td>\n",
              "      <td>en-US</td>\n",
              "      <td>3.75</td>\n",
              "      <td>54919</td>\n",
              "      <td>57566</td>\n",
              "      <td>756</td>\n",
              "      <td>1129</td>\n",
              "      <td>4866</td>\n",
              "      <td>17158</td>\n",
              "      <td>18670</td>\n",
              "      <td>15743</td>\n",
              "      <td>https://s.gr-assets.com/assets/nophoto/book/11...</td>\n",
              "      <td>https://s.gr-assets.com/assets/nophoto/book/50...</td>\n",
              "    </tr>\n",
              "    <tr>\n",
              "      <th>1824</th>\n",
              "      <td>1996</td>\n",
              "      <td>b1997</td>\n",
              "      <td>9565548</td>\n",
              "      <td>9565548</td>\n",
              "      <td>14452295</td>\n",
              "      <td>33</td>\n",
              "      <td>054762834X</td>\n",
              "      <td>9.780548e+12</td>\n",
              "      <td>Robin LaFevers</td>\n",
              "      <td>2012.0</td>\n",
              "      <td>Grave Mercy</td>\n",
              "      <td>Grave Mercy (His Fair Assassin, #1)</td>\n",
              "      <td>eng</td>\n",
              "      <td>3.92</td>\n",
              "      <td>70476</td>\n",
              "      <td>74683</td>\n",
              "      <td>7661</td>\n",
              "      <td>2257</td>\n",
              "      <td>4487</td>\n",
              "      <td>15591</td>\n",
              "      <td>27223</td>\n",
              "      <td>25125</td>\n",
              "      <td>https://images.gr-assets.com/books/1320269319m...</td>\n",
              "      <td>https://images.gr-assets.com/books/1320269319s...</td>\n",
              "    </tr>\n",
              "    <tr>\n",
              "      <th>1825</th>\n",
              "      <td>1998</td>\n",
              "      <td>b1999</td>\n",
              "      <td>249</td>\n",
              "      <td>249</td>\n",
              "      <td>543143</td>\n",
              "      <td>205</td>\n",
              "      <td>802131786</td>\n",
              "      <td>9.780802e+12</td>\n",
              "      <td>Henry Miller</td>\n",
              "      <td>1934.0</td>\n",
              "      <td>Tropic of Cancer</td>\n",
              "      <td>Tropic of Cancer</td>\n",
              "      <td>eng</td>\n",
              "      <td>3.71</td>\n",
              "      <td>45518</td>\n",
              "      <td>49701</td>\n",
              "      <td>2526</td>\n",
              "      <td>2313</td>\n",
              "      <td>4591</td>\n",
              "      <td>12278</td>\n",
              "      <td>16494</td>\n",
              "      <td>14025</td>\n",
              "      <td>https://images.gr-assets.com/books/1408753140m...</td>\n",
              "      <td>https://images.gr-assets.com/books/1408753140s...</td>\n",
              "    </tr>\n",
              "  </tbody>\n",
              "</table>\n",
              "<p>1826 rows × 24 columns</p>\n",
              "</div>"
            ],
            "text/plain": [
              "      Unnamed: 0  ...                                    small_image_url\n",
              "0              0  ...  https://images.gr-assets.com/books/1447303603s...\n",
              "1              1  ...  https://images.gr-assets.com/books/1474154022s...\n",
              "2              2  ...  https://images.gr-assets.com/books/1361039443s...\n",
              "3              3  ...  https://images.gr-assets.com/books/1361975680s...\n",
              "4              4  ...  https://images.gr-assets.com/books/1490528560s...\n",
              "...          ...  ...                                                ...\n",
              "1821        1989  ...  https://images.gr-assets.com/books/1320437247s...\n",
              "1822        1990  ...  https://images.gr-assets.com/books/1327951890s...\n",
              "1823        1992  ...  https://s.gr-assets.com/assets/nophoto/book/50...\n",
              "1824        1996  ...  https://images.gr-assets.com/books/1320269319s...\n",
              "1825        1998  ...  https://images.gr-assets.com/books/1408753140s...\n",
              "\n",
              "[1826 rows x 24 columns]"
            ]
          },
          "metadata": {
            "tags": []
          },
          "execution_count": 11
        }
      ]
    },
    {
      "cell_type": "code",
      "metadata": {
        "colab": {
          "base_uri": "https://localhost:8080/",
          "height": 670
        },
        "id": "g1ld1dBdoyLT",
        "outputId": "43d1d3a1-e279-4b1a-b9b5-ddcb49d357f4"
      },
      "source": [
        "books_df.sort_values('average_rating', ascending=False).head(5)"
      ],
      "execution_count": 12,
      "outputs": [
        {
          "output_type": "execute_result",
          "data": {
            "text/html": [
              "<div>\n",
              "<style scoped>\n",
              "    .dataframe tbody tr th:only-of-type {\n",
              "        vertical-align: middle;\n",
              "    }\n",
              "\n",
              "    .dataframe tbody tr th {\n",
              "        vertical-align: top;\n",
              "    }\n",
              "\n",
              "    .dataframe thead th {\n",
              "        text-align: right;\n",
              "    }\n",
              "</style>\n",
              "<table border=\"1\" class=\"dataframe\">\n",
              "  <thead>\n",
              "    <tr style=\"text-align: right;\">\n",
              "      <th></th>\n",
              "      <th>Unnamed: 0</th>\n",
              "      <th>book_id</th>\n",
              "      <th>goodreads_book_id</th>\n",
              "      <th>best_book_id</th>\n",
              "      <th>work_id</th>\n",
              "      <th>books_count</th>\n",
              "      <th>isbn</th>\n",
              "      <th>isbn13</th>\n",
              "      <th>authors</th>\n",
              "      <th>original_publication_year</th>\n",
              "      <th>original_title</th>\n",
              "      <th>title</th>\n",
              "      <th>language_code</th>\n",
              "      <th>average_rating</th>\n",
              "      <th>ratings_count</th>\n",
              "      <th>work_ratings_count</th>\n",
              "      <th>work_text_reviews_count</th>\n",
              "      <th>ratings_1</th>\n",
              "      <th>ratings_2</th>\n",
              "      <th>ratings_3</th>\n",
              "      <th>ratings_4</th>\n",
              "      <th>ratings_5</th>\n",
              "      <th>image_url</th>\n",
              "      <th>small_image_url</th>\n",
              "    </tr>\n",
              "  </thead>\n",
              "  <tbody>\n",
              "    <tr>\n",
              "      <th>839</th>\n",
              "      <td>861</td>\n",
              "      <td>b862</td>\n",
              "      <td>17332218</td>\n",
              "      <td>17332218</td>\n",
              "      <td>16482835</td>\n",
              "      <td>34</td>\n",
              "      <td>765326361</td>\n",
              "      <td>9.780765e+12</td>\n",
              "      <td>Brandon Sanderson</td>\n",
              "      <td>2014.0</td>\n",
              "      <td>Words of Radiance</td>\n",
              "      <td>Words of Radiance (The Stormlight Archive, #2)</td>\n",
              "      <td>eng</td>\n",
              "      <td>4.77</td>\n",
              "      <td>73572</td>\n",
              "      <td>108176</td>\n",
              "      <td>7261</td>\n",
              "      <td>154</td>\n",
              "      <td>404</td>\n",
              "      <td>2653</td>\n",
              "      <td>18272</td>\n",
              "      <td>86693</td>\n",
              "      <td>https://images.gr-assets.com/books/1391535251m...</td>\n",
              "      <td>https://images.gr-assets.com/books/1391535251s...</td>\n",
              "    </tr>\n",
              "    <tr>\n",
              "      <th>420</th>\n",
              "      <td>421</td>\n",
              "      <td>b422</td>\n",
              "      <td>862041</td>\n",
              "      <td>862041</td>\n",
              "      <td>2962492</td>\n",
              "      <td>76</td>\n",
              "      <td>545044251</td>\n",
              "      <td>9.780545e+12</td>\n",
              "      <td>J.K. Rowling</td>\n",
              "      <td>1998.0</td>\n",
              "      <td>Complete Harry Potter Boxed Set</td>\n",
              "      <td>Harry Potter Boxset (Harry Potter, #1-7)</td>\n",
              "      <td>eng</td>\n",
              "      <td>4.74</td>\n",
              "      <td>190050</td>\n",
              "      <td>204125</td>\n",
              "      <td>6508</td>\n",
              "      <td>1105</td>\n",
              "      <td>1285</td>\n",
              "      <td>7020</td>\n",
              "      <td>30666</td>\n",
              "      <td>164049</td>\n",
              "      <td>https://images.gr-assets.com/books/1392579059m...</td>\n",
              "      <td>https://images.gr-assets.com/books/1392579059s...</td>\n",
              "    </tr>\n",
              "    <tr>\n",
              "      <th>1243</th>\n",
              "      <td>1307</td>\n",
              "      <td>b1308</td>\n",
              "      <td>17927395</td>\n",
              "      <td>17927395</td>\n",
              "      <td>25126749</td>\n",
              "      <td>39</td>\n",
              "      <td>NaN</td>\n",
              "      <td>NaN</td>\n",
              "      <td>Sarah J. Maas</td>\n",
              "      <td>2016.0</td>\n",
              "      <td>A Court of Mist and Fury</td>\n",
              "      <td>A Court of Mist and Fury (A Court of Thorns an...</td>\n",
              "      <td>eng</td>\n",
              "      <td>4.72</td>\n",
              "      <td>108384</td>\n",
              "      <td>126491</td>\n",
              "      <td>22700</td>\n",
              "      <td>931</td>\n",
              "      <td>1420</td>\n",
              "      <td>4725</td>\n",
              "      <td>18000</td>\n",
              "      <td>101415</td>\n",
              "      <td>https://images.gr-assets.com/books/1485259138m...</td>\n",
              "      <td>https://images.gr-assets.com/books/1485259138s...</td>\n",
              "    </tr>\n",
              "    <tr>\n",
              "      <th>974</th>\n",
              "      <td>1009</td>\n",
              "      <td>b1010</td>\n",
              "      <td>43070</td>\n",
              "      <td>43070</td>\n",
              "      <td>2244438</td>\n",
              "      <td>26</td>\n",
              "      <td>836218051</td>\n",
              "      <td>9.780836e+12</td>\n",
              "      <td>Bill Watterson</td>\n",
              "      <td>1988.0</td>\n",
              "      <td>The Essential Calvin and Hobbes: A Calvin and ...</td>\n",
              "      <td>The Essential Calvin and Hobbes: A Calvin and ...</td>\n",
              "      <td>en-US</td>\n",
              "      <td>4.65</td>\n",
              "      <td>93001</td>\n",
              "      <td>95543</td>\n",
              "      <td>598</td>\n",
              "      <td>717</td>\n",
              "      <td>895</td>\n",
              "      <td>5387</td>\n",
              "      <td>17566</td>\n",
              "      <td>70978</td>\n",
              "      <td>https://s.gr-assets.com/assets/nophoto/book/11...</td>\n",
              "      <td>https://s.gr-assets.com/assets/nophoto/book/50...</td>\n",
              "    </tr>\n",
              "    <tr>\n",
              "      <th>555</th>\n",
              "      <td>561</td>\n",
              "      <td>b562</td>\n",
              "      <td>7235533</td>\n",
              "      <td>7235533</td>\n",
              "      <td>8134945</td>\n",
              "      <td>48</td>\n",
              "      <td>765326353</td>\n",
              "      <td>9.780765e+12</td>\n",
              "      <td>Brandon Sanderson</td>\n",
              "      <td>2010.0</td>\n",
              "      <td>The Way of Kings</td>\n",
              "      <td>The Way of Kings (The Stormlight Archive, #1)</td>\n",
              "      <td>eng</td>\n",
              "      <td>4.64</td>\n",
              "      <td>144822</td>\n",
              "      <td>164477</td>\n",
              "      <td>10947</td>\n",
              "      <td>1085</td>\n",
              "      <td>1827</td>\n",
              "      <td>7661</td>\n",
              "      <td>33962</td>\n",
              "      <td>119942</td>\n",
              "      <td>https://images.gr-assets.com/books/1388184640m...</td>\n",
              "      <td>https://images.gr-assets.com/books/1388184640s...</td>\n",
              "    </tr>\n",
              "  </tbody>\n",
              "</table>\n",
              "</div>"
            ],
            "text/plain": [
              "      Unnamed: 0  ...                                    small_image_url\n",
              "839          861  ...  https://images.gr-assets.com/books/1391535251s...\n",
              "420          421  ...  https://images.gr-assets.com/books/1392579059s...\n",
              "1243        1307  ...  https://images.gr-assets.com/books/1485259138s...\n",
              "974         1009  ...  https://s.gr-assets.com/assets/nophoto/book/50...\n",
              "555          561  ...  https://images.gr-assets.com/books/1388184640s...\n",
              "\n",
              "[5 rows x 24 columns]"
            ]
          },
          "metadata": {
            "tags": []
          },
          "execution_count": 12
        }
      ]
    },
    {
      "cell_type": "markdown",
      "metadata": {
        "id": "C7cgXhmYUXIn"
      },
      "source": [
        "Here we construct the Interactions objects from `ratings.csv`, `to_read.csv` and `test.csv`. We manually specify the num_users and num_items parameters to all Interaction objects, in case the test set differs from your training sets."
      ]
    },
    {
      "cell_type": "code",
      "metadata": {
        "id": "15ClgJOdTTt1",
        "colab": {
          "base_uri": "https://localhost:8080/"
        },
        "outputId": "c1d69ebc-a69c-4e6b-a978-a0c1c0cac55f"
      },
      "source": [
        "from collections import defaultdict\n",
        "from itertools import count, combinations\n",
        "\n",
        "from spotlight.cross_validation import random_train_test_split\n",
        "\n",
        "iid_map = defaultdict(count().__next__)\n",
        "\n",
        "\n",
        "rating_iids = np.array([iid_map[iid] for iid in ratings_df[\"book_id\"].values], dtype = np.int32)\n",
        "test_iids = np.array([iid_map[iid] for iid in test[\"book_id\"].values], dtype = np.int32)\n",
        "toread_iids = np.array([iid_map[iid] for iid in to_read_df[\"book_id\"].values], dtype = np.int32)\n",
        "\n",
        "\n",
        "uid_map = defaultdict(count().__next__)\n",
        "\n",
        "test_uids = np.array([uid_map[uid] for uid in test[\"user_id\"].values], dtype = np.int32)\n",
        "rating_uids = np.array([uid_map[uid] for uid in ratings_df[\"user_id\"].values], dtype = np.int32)\n",
        "toread_uids = np.array([uid_map[iid] for iid in to_read_df[\"user_id\"].values], dtype = np.int32)\n",
        "\n",
        "\n",
        "uid_rev_map = {v: k for k, v in uid_map.items()}\n",
        "iid_rev_map = {v: k for k, v in iid_map.items()}\n",
        "\n",
        "\n",
        "rating_dataset = Interactions(user_ids=rating_uids,\n",
        "                               item_ids=rating_iids,\n",
        "                               ratings=ratings_df[\"rating\"].values,\n",
        "                               num_users=len(uid_rev_map),\n",
        "                               num_items=len(iid_rev_map))\n",
        "\n",
        "toread_dataset = Interactions(user_ids=toread_uids,\n",
        "                               item_ids=toread_iids,\n",
        "                               num_users=len(uid_rev_map),\n",
        "                               num_items=len(iid_rev_map))\n",
        "\n",
        "test_dataset = Interactions(user_ids=test_uids,\n",
        "                               item_ids=test_iids,\n",
        "                               num_users=len(uid_rev_map),\n",
        "                               num_items=len(iid_rev_map))\n",
        "\n",
        "print(rating_dataset)\n",
        "print(toread_dataset)\n",
        "print(test_dataset)\n",
        "\n",
        "#here we define the validation set\n",
        "toread_dataset_train, validation = random_train_test_split(toread_dataset, random_state=np.random.RandomState(SEED))\n",
        "print(validation)\n",
        "\n",
        "num_items = test_dataset.num_items\n",
        "num_users = test_dataset.num_users"
      ],
      "execution_count": 13,
      "outputs": [
        {
          "output_type": "stream",
          "text": [
            "<Interactions dataset (1999 users x 1826 items x 124762 interactions)>\n",
            "<Interactions dataset (1999 users x 1826 items x 135615 interactions)>\n",
            "<Interactions dataset (1999 users x 1826 items x 33917 interactions)>\n",
            "<Interactions dataset (1999 users x 1826 items x 27123 interactions)>\n"
          ],
          "name": "stdout"
        }
      ]
    },
    {
      "cell_type": "code",
      "metadata": {
        "colab": {
          "base_uri": "https://localhost:8080/"
        },
        "id": "cO3KrKeICGC8",
        "outputId": "b9068717-e5f2-483b-8c81-af284543452e"
      },
      "source": [
        "print(toread_dataset_train)"
      ],
      "execution_count": 14,
      "outputs": [
        {
          "output_type": "stream",
          "text": [
            "<Interactions dataset (1999 users x 1826 items x 108492 interactions)>\n"
          ],
          "name": "stdout"
        }
      ]
    },
    {
      "cell_type": "code",
      "metadata": {
        "id": "1mJr6xPE7rgj",
        "colab": {
          "base_uri": "https://localhost:8080/"
        },
        "outputId": "7f02e609-f42f-453f-cc03-dd0419309c49"
      },
      "source": [
        "print(num_items)"
      ],
      "execution_count": 15,
      "outputs": [
        {
          "output_type": "stream",
          "text": [
            "1826\n"
          ],
          "name": "stdout"
        }
      ]
    },
    {
      "cell_type": "markdown",
      "metadata": {
        "id": "Kt4I2C5DTUL5"
      },
      "source": [
        "#Example code\n",
        "\n",
        "To evaluate soem of your hand-implemented recommender systems (e.g. Q1, Q4), you will need to instantiate objects that match the specification of a Spotlight model, which `mrr_score()` expects.\n",
        "\n",
        "\n",
        "Here is an example recommender object that returns 0 for each item, regardless of user."
      ]
    },
    {
      "cell_type": "code",
      "metadata": {
        "id": "s2eaxy_hakbC",
        "colab": {
          "base_uri": "https://localhost:8080/"
        },
        "outputId": "d8953243-cb3d-483c-8c76-7207b89d0df9"
      },
      "source": [
        "from spotlight.evaluation import mrr_score, rmse_score\n",
        "\n",
        "\n",
        "class dummymodel:\n",
        "  \n",
        "  def __init__(self, numitems):\n",
        "    self.predictions=np.zeros(numitems)\n",
        "  \n",
        "  #uid is the user we are requesting recommendations for;\n",
        "  #returns an array of scores, one for each item\n",
        "  def predict(self, uid):\n",
        "    #this model returns all zeros, regardless of userid\n",
        "    return( self.predictions )\n",
        "\n",
        "#lets evaluate how the effeciveness of dummymodel\n",
        "\n",
        "dummymodel(num_items)\n",
        "\n",
        "# print(mrr_score(dummymodel(num_items), test_dataset, train=rating_dataset, k=100).mean())\n",
        "#as expected, a recommendation model that gives 0 scores for all items obtains a MRR score of 0\n",
        "\n"
      ],
      "execution_count": 16,
      "outputs": [
        {
          "output_type": "execute_result",
          "data": {
            "text/plain": [
              "<__main__.dummymodel at 0x7f8726a70710>"
            ]
          },
          "metadata": {
            "tags": []
          },
          "execution_count": 16
        }
      ]
    },
    {
      "cell_type": "code",
      "metadata": {
        "id": "ZQTJOmS5dB3i",
        "colab": {
          "base_uri": "https://localhost:8080/"
        },
        "outputId": "d7a94317-ba55-47d2-eb8b-44dd1813fd86"
      },
      "source": [
        "\n",
        "#note that the latest copy of Craig's Spotlight displays a progress bar if you set verbose=True\n",
        "print(mrr_score(dummymodel(num_items), test_dataset, train=rating_dataset, k=100, verbose=True).mean())\n"
      ],
      "execution_count": 17,
      "outputs": [
        {
          "output_type": "stream",
          "text": [
            "1999it [00:00, 2952.28it/s]"
          ],
          "name": "stderr"
        },
        {
          "output_type": "stream",
          "text": [
            "0.0\n"
          ],
          "name": "stdout"
        },
        {
          "output_type": "stream",
          "text": [
            "\n"
          ],
          "name": "stderr"
        }
      ]
    },
    {
      "cell_type": "markdown",
      "metadata": {
        "id": "SyvGgW_3ZjLV"
      },
      "source": [
        "#Question 1\n",
        "\n",
        "Non personalised baselines for ranking books based on statistics"
      ]
    },
    {
      "cell_type": "code",
      "metadata": {
        "id": "q0aSv5xLy1Rj",
        "colab": {
          "base_uri": "https://localhost:8080/"
        },
        "outputId": "7892ba84-a326-4fe1-ec81-0d969ab53361"
      },
      "source": [
        "average_rating = ratings_df[[\"book_id\", \"rating\"]].groupby([\"book_id\"]).mean()\r\n",
        "non_personalised_ar = average_rating['rating'].tolist()\r\n",
        "\r\n",
        "class average_rating:\r\n",
        "  \r\n",
        "  def __init__(self, numitems):\r\n",
        "    self.predictions=np.ones(numitems) * non_personalised_ar\r\n",
        "  \r\n",
        "  #uid is the user we are requesting recommendations for;\r\n",
        "  #returns an array of scores, one for each item\r\n",
        "  def predict(self, uid):\r\n",
        "    #this model returns all zeros, regardless of userid\r\n",
        "    return( self.predictions )\r\n",
        "\r\n",
        "\r\n",
        "print(mrr_score(average_rating(num_items), test_dataset, train=rating_dataset, k=100, verbose=True).mean())"
      ],
      "execution_count": 18,
      "outputs": [
        {
          "output_type": "stream",
          "text": [
            "1999it [00:00, 2175.77it/s]"
          ],
          "name": "stderr"
        },
        {
          "output_type": "stream",
          "text": [
            "0.0370085786108787\n"
          ],
          "name": "stdout"
        },
        {
          "output_type": "stream",
          "text": [
            "\n"
          ],
          "name": "stderr"
        }
      ]
    },
    {
      "cell_type": "code",
      "metadata": {
        "id": "08rDcHdZzP1f",
        "colab": {
          "base_uri": "https://localhost:8080/"
        },
        "outputId": "2d2444a1-857e-4699-84c3-c78bc1d329ce"
      },
      "source": [
        "number_of_ratings = books_df[[\"book_id\", \"ratings_count\"]].groupby([\"book_id\"]).sum()\r\n",
        "non_personalised_nor = number_of_ratings['ratings_count'].tolist()\r\n",
        "\r\n",
        "class number_of_ratings:\r\n",
        "  \r\n",
        "  def __init__(self, numitems):\r\n",
        "    self.predictions=np.ones(numitems) * non_personalised_nor\r\n",
        "  \r\n",
        "  #uid is the user we are requesting recommendations for;\r\n",
        "  #returns an array of scores, one for each item\r\n",
        "  def predict(self, uid):\r\n",
        "    #this model returns all zeros, regardless of userid\r\n",
        "    return( self.predictions )\r\n",
        "\r\n",
        "\r\n",
        "print(mrr_score(number_of_ratings(num_items), test_dataset, train=rating_dataset, k=100, verbose=True).mean())"
      ],
      "execution_count": 19,
      "outputs": [
        {
          "output_type": "stream",
          "text": [
            "1999it [00:00, 2274.83it/s]"
          ],
          "name": "stderr"
        },
        {
          "output_type": "stream",
          "text": [
            "0.0458981602236436\n"
          ],
          "name": "stdout"
        },
        {
          "output_type": "stream",
          "text": [
            "\n"
          ],
          "name": "stderr"
        }
      ]
    },
    {
      "cell_type": "code",
      "metadata": {
        "id": "pjKvLxfJ1nvw",
        "colab": {
          "base_uri": "https://localhost:8080/"
        },
        "outputId": "57695c79-9f06-4093-98a3-6c1ee5b36caa"
      },
      "source": [
        "star5_ratings = books_df['ratings_5'].tolist()\r\n",
        "# star5_ratings\r\n",
        "\r\n",
        "class number_of_5_star_ratings:\r\n",
        "  \r\n",
        "  def __init__(self, numitems):\r\n",
        "    self.predictions=np.ones(numitems) * star5_ratings\r\n",
        "  \r\n",
        "  #uid is the user we are requesting recommendations for;\r\n",
        "  #returns an array of scores, one for each item\r\n",
        "  def predict(self, uid):\r\n",
        "    #this model returns all zeros, regardless of userid\r\n",
        "    return( self.predictions )\r\n",
        "    \r\n",
        "\r\n",
        "print(mrr_score(number_of_5_star_ratings(num_items), test_dataset, train=rating_dataset, k=100, verbose=True).mean())\r\n"
      ],
      "execution_count": 20,
      "outputs": [
        {
          "output_type": "stream",
          "text": [
            "1999it [00:00, 2248.80it/s]"
          ],
          "name": "stderr"
        },
        {
          "output_type": "stream",
          "text": [
            "0.09851435310152991\n"
          ],
          "name": "stdout"
        },
        {
          "output_type": "stream",
          "text": [
            "\n"
          ],
          "name": "stderr"
        }
      ]
    },
    {
      "cell_type": "code",
      "metadata": {
        "id": "dJAPojDD3ZvM",
        "colab": {
          "base_uri": "https://localhost:8080/"
        },
        "outputId": "772167c8-799d-4d01-dd5a-6d1bea2b4e2e"
      },
      "source": [
        "fractions_of_ratings = np.asarray(star5_ratings) / np.asarray(non_personalised_nor)\r\n",
        "\r\n",
        "class fractions_of_5_star:\r\n",
        "  \r\n",
        "  def __init__(self, numitems):\r\n",
        "    self.predictions=np.ones(numitems) * fractions_of_ratings\r\n",
        "  \r\n",
        "  #uid is the user we are requesting recommendations for;\r\n",
        "  #returns an array of scores, one for each item\r\n",
        "  def predict(self, uid):\r\n",
        "    #this model returns all zeros, regardless of userid\r\n",
        "    return( self.predictions )\r\n",
        "    \r\n",
        "\r\n",
        "print(mrr_score(fractions_of_5_star(num_items), test_dataset, train=rating_dataset, k=100, verbose=True).mean())"
      ],
      "execution_count": 21,
      "outputs": [
        {
          "output_type": "stream",
          "text": [
            "1999it [00:00, 2279.04it/s]"
          ],
          "name": "stderr"
        },
        {
          "output_type": "stream",
          "text": [
            "0.15971513656750713\n"
          ],
          "name": "stdout"
        },
        {
          "output_type": "stream",
          "text": [
            "\n"
          ],
          "name": "stderr"
        }
      ]
    },
    {
      "cell_type": "markdown",
      "metadata": {
        "id": "b6LgG2lCVtz0"
      },
      "source": [
        "# Question 2"
      ]
    },
    {
      "cell_type": "code",
      "metadata": {
        "id": "fhskxrunFmXg"
      },
      "source": [
        "#import necessary modules\r\n",
        "from spotlight.interactions import Interactions\r\n",
        "from spotlight.cross_validation import random_train_test_split\r\n",
        "from spotlight.factorization.explicit import ExplicitFactorizationModel\r\n",
        "from spotlight.factorization.implicit import ImplicitFactorizationModel\r\n",
        "from collections import defaultdict\r\n",
        "from itertools import count\r\n",
        "import itertools\r\n",
        "import time\r\n",
        "from scipy.stats import rankdata"
      ],
      "execution_count": 22,
      "outputs": []
    },
    {
      "cell_type": "code",
      "metadata": {
        "id": "doOsxu0wKH-d"
      },
      "source": [
        "#divide the dataset\r\n",
        "explicit_train, explicit_test = random_train_test_split(rating_dataset, random_state=np.random.RandomState(SEED))"
      ],
      "execution_count": 23,
      "outputs": []
    },
    {
      "cell_type": "code",
      "metadata": {
        "id": "H9GIhUi9Ep5h"
      },
      "source": [
        "#define the latent factors\r\n",
        "latent_factors = [8,16,32,64]"
      ],
      "execution_count": 24,
      "outputs": []
    },
    {
      "cell_type": "code",
      "metadata": {
        "colab": {
          "base_uri": "https://localhost:8080/"
        },
        "id": "J0ubnRoHNy-G",
        "outputId": "fc4a44d5-1c05-4dd3-a2d3-a0dbcfb873ad"
      },
      "source": [
        "for latent in latent_factors:\r\n",
        "    print(\"\\nstarting training for latent factor %d......)\\n\" % latent)\r\n",
        "    emodel = ExplicitFactorizationModel(n_iter=5,\r\n",
        "                                    embedding_dim=latent, #this is Spotlight default\r\n",
        "                                    use_cuda=False,\r\n",
        "                                    random_state=np.random.RandomState(SEED) # ensure results are repeatable\r\n",
        "    )\r\n",
        "\r\n",
        "    emodel.fit(explicit_train)\r\n",
        "    emodel.fit(explicit_test)\r\n",
        "\r\n",
        "    print(\"======== MRR for latent factor %d\" % latent)\r\n",
        "    print(\"=====================================================)\")\r\n",
        "    print(mrr_score(emodel, test_dataset).mean())\r\n",
        "    print(\"=====================================================)\")\r\n"
      ],
      "execution_count": 25,
      "outputs": [
        {
          "output_type": "stream",
          "text": [
            "\n",
            "starting training for latent factor 8......)\n",
            "\n",
            "======== MRR for latent factor 8\n",
            "=====================================================)\n",
            "0.01904702351175588\n",
            "=====================================================)\n",
            "\n",
            "starting training for latent factor 16......)\n",
            "\n",
            "======== MRR for latent factor 16\n",
            "=====================================================)\n",
            "0.031209850957224644\n",
            "=====================================================)\n",
            "\n",
            "starting training for latent factor 32......)\n",
            "\n",
            "======== MRR for latent factor 32\n",
            "=====================================================)\n",
            "0.04149793150543526\n",
            "=====================================================)\n",
            "\n",
            "starting training for latent factor 64......)\n",
            "\n",
            "======== MRR for latent factor 64\n",
            "=====================================================)\n",
            "0.04534092443046921\n",
            "=====================================================)\n"
          ],
          "name": "stdout"
        }
      ]
    },
    {
      "cell_type": "code",
      "metadata": {
        "colab": {
          "base_uri": "https://localhost:8080/"
        },
        "id": "DLlJO6lVTlZ9",
        "outputId": "658a1992-992d-46c9-c155-5eb5204c0f50"
      },
      "source": [
        "for latent in latent_factors:\r\n",
        "  print(\"\\nstarting training for latent factor %d......)\\n\" % latent)\r\n",
        "  imodel = ImplicitFactorizationModel(loss=\"bpr\",n_iter=5, \r\n",
        "                                      embedding_dim=latent, #this is Spotlight default\r\n",
        "                                      use_cuda=False,\r\n",
        "                                      random_state=np.random.RandomState(SEED) # ensure results are repeatable\r\n",
        "  )\r\n",
        "\r\n",
        "  imodel.fit(explicit_train)\r\n",
        "  imodel.fit(explicit_test)\r\n",
        "\r\n",
        "  print(\"======== MRR ========= for latent factor %d\" % latent)\r\n",
        "  print(\"=====================================================)\")\r\n",
        "  print(mrr_score(imodel, test_dataset).mean())\r\n",
        "  print(\"=====================================================)\")"
      ],
      "execution_count": 26,
      "outputs": [
        {
          "output_type": "stream",
          "text": [
            "\n",
            "starting training for latent factor 8......)\n",
            "\n",
            "======== MRR ========= for latent factor 8\n",
            "=====================================================)\n",
            "0.23233918546574875\n",
            "=====================================================)\n",
            "\n",
            "starting training for latent factor 16......)\n",
            "\n",
            "======== MRR ========= for latent factor 16\n",
            "=====================================================)\n",
            "0.22353637136028331\n",
            "=====================================================)\n",
            "\n",
            "starting training for latent factor 32......)\n",
            "\n",
            "======== MRR ========= for latent factor 32\n",
            "=====================================================)\n",
            "0.22433240429738677\n",
            "=====================================================)\n",
            "\n",
            "starting training for latent factor 64......)\n",
            "\n",
            "======== MRR ========= for latent factor 64\n",
            "=====================================================)\n",
            "0.20716171577852419\n",
            "=====================================================)\n"
          ],
          "name": "stdout"
        }
      ]
    },
    {
      "cell_type": "code",
      "metadata": {
        "id": "zofngZHIY61K",
        "colab": {
          "base_uri": "https://localhost:8080/"
        },
        "outputId": "60d95168-805b-4dbd-946c-be92e7d50b77"
      },
      "source": [
        "print(\"Best Model is Implicit with latent factor 8\")"
      ],
      "execution_count": 27,
      "outputs": [
        {
          "output_type": "stream",
          "text": [
            "Best Model is Implicit with latent factor 8\n"
          ],
          "name": "stdout"
        }
      ]
    },
    {
      "cell_type": "markdown",
      "metadata": {
        "id": "GdumyHtgZnMH"
      },
      "source": [
        "# Question 3 (a)"
      ]
    },
    {
      "cell_type": "code",
      "metadata": {
        "colab": {
          "base_uri": "https://localhost:8080/"
        },
        "id": "xYguO9opBn6G",
        "outputId": "5202d451-396a-43ad-dcea-c797a411bae9"
      },
      "source": [
        "for latent in latent_factors:\r\n",
        "\r\n",
        "  print(\"\\nstarting training for latent factor %d......)\\n\" % latent)\r\n",
        "  implicit_model = ImplicitFactorizationModel(loss=\"bpr\",n_iter=5, \r\n",
        "                                              embedding_dim=latent, \r\n",
        "                                              use_cuda=False, \r\n",
        "                                              random_state=np.random.RandomState(SEED))\r\n",
        "  \r\n",
        "  implicit_model.fit(toread_dataset_train, verbose=False)\r\n",
        "  implicit_model.fit(validation)\r\n",
        "\r\n",
        "  print(\"======== MRR ========= for latent factor %d\" % latent)\r\n",
        "  print(\"=====================================================)\")\r\n",
        "  print(mrr_score(implicit_model, test_dataset).mean())\r\n",
        "  print(\"=====================================================)\")"
      ],
      "execution_count": 28,
      "outputs": [
        {
          "output_type": "stream",
          "text": [
            "\n",
            "starting training for latent factor 8......)\n",
            "\n",
            "======== MRR ========= for latent factor 8\n",
            "=====================================================)\n",
            "0.22416803639915198\n",
            "=====================================================)\n",
            "\n",
            "starting training for latent factor 16......)\n",
            "\n",
            "======== MRR ========= for latent factor 16\n",
            "=====================================================)\n",
            "0.2281702359116066\n",
            "=====================================================)\n",
            "\n",
            "starting training for latent factor 32......)\n",
            "\n",
            "======== MRR ========= for latent factor 32\n",
            "=====================================================)\n",
            "0.2278224429675155\n",
            "=====================================================)\n",
            "\n",
            "starting training for latent factor 64......)\n",
            "\n",
            "======== MRR ========= for latent factor 64\n",
            "=====================================================)\n",
            "0.1951235538404123\n",
            "=====================================================)\n"
          ],
          "name": "stdout"
        }
      ]
    },
    {
      "cell_type": "code",
      "metadata": {
        "id": "VnBbymkFZmBQ",
        "colab": {
          "base_uri": "https://localhost:8080/"
        },
        "outputId": "c260c511-5bb7-4e1f-a1c2-246034a87f73"
      },
      "source": [
        "print(\"Best Model is Implicit with latent factor 16\")"
      ],
      "execution_count": 29,
      "outputs": [
        {
          "output_type": "stream",
          "text": [
            "Best Model is Implicit with latent factor 16\n"
          ],
          "name": "stdout"
        }
      ]
    },
    {
      "cell_type": "markdown",
      "metadata": {
        "id": "_AGrtKZeILSa"
      },
      "source": [
        "# Question 3 (b)"
      ]
    },
    {
      "cell_type": "code",
      "metadata": {
        "id": "mgEX1t4Bbq5I"
      },
      "source": [
        "books_df_replicate = books_df.copy()\r\n",
        "books_df_replicate.rename(columns = {\"Unnamed: 0\" : \"item_id\"}, inplace = True)\r\n"
      ],
      "execution_count": 30,
      "outputs": []
    },
    {
      "cell_type": "code",
      "metadata": {
        "id": "oYVzjYnP959r"
      },
      "source": [
        "def item_to_titles(item_ids):\r\n",
        "  return books_df_replicate.loc[books_df_replicate[\"item_id\"].isin(item_ids)][\"title\"]\r\n",
        "\r\n",
        "def find_common_titles(a,b, predictions):\r\n",
        "\r\n",
        "  previously_vs_predicted = item_to_titles(np.intersect1d(a, predictions))\r\n",
        "  print(\"These titles were predicted to be previously shelved correctly\")\r\n",
        "  print(previously_vs_predicted)\r\n",
        "\r\n",
        "  currently_vs_predicted = item_to_titles(np.intersect1d(b, predictions))\r\n",
        "  print(\"\\n\\nThese titles were predicted to be currently shelved correctly\")\r\n",
        "  print(currently_vs_predicted)\r\n",
        "  \r\n",
        "def get_predictions_for_highest_rated_user(user_id):\r\n",
        "  item_ids_indexes_prev = np.where(toread_dataset.user_ids == user_id)\r\n",
        "  previously_shelved = toread_dataset.item_ids[item_ids_indexes_prev]\r\n",
        "\r\n",
        "  item_ids_indexes_curr = np.where(test_dataset.user_ids == user_id)\r\n",
        "  currently_shelved = test_dataset.item_ids[item_ids_indexes_curr]\r\n",
        "\r\n",
        "  predictions = implicit_model.predict(user_id)\r\n",
        "  predicted_shelved = np.where(predictions > 0)[0]\r\n",
        "\r\n",
        "  shelved_items = [previously_shelved, currently_shelved, predicted_shelved]\r\n",
        "\r\n",
        "  return find_common_titles(previously_shelved, currently_shelved, predicted_shelved)\r\n",
        "\r\n",
        "#Train the best model in terms of MRR\r\n",
        "best_implicit_model = ImplicitFactorizationModel(loss=\"bpr\",n_iter=5, \r\n",
        "                                            embedding_dim=16, \r\n",
        "                                            use_cuda=False, \r\n",
        "                                            random_state=np.random.RandomState(SEED))\r\n",
        "\r\n",
        "best_implicit_model.fit(toread_dataset_train, verbose=False)\r\n",
        "best_implicit_model.fit(validation)"
      ],
      "execution_count": 31,
      "outputs": []
    },
    {
      "cell_type": "code",
      "metadata": {
        "colab": {
          "base_uri": "https://localhost:8080/"
        },
        "id": "4MXHsKGK957W",
        "outputId": "4f62ec38-376a-44ca-ddfa-43ea009d697d"
      },
      "source": [
        "results = {}\r\n",
        "combos = list(combinations(range(3), 2))\r\n",
        "shelved = [\"previously\",\"currently\",\"predicted\"]\r\n",
        "\r\n",
        "mrr_scores = mrr_score(implicit_model, test_dataset)\r\n",
        "# user_id = test_dataset.user_ids[mrr_scores.argmax()]\r\n",
        "\r\n",
        "m = max(mrr_scores)\r\n",
        "indexes_of_highest = [i for i, j in enumerate(mrr_scores) if j == m]\r\n",
        "uids = test_dataset.user_ids[indexes_of_highest]\r\n",
        "\r\n",
        "index_to_user_id = []\r\n",
        "for uid in uids:\r\n",
        "  user_id_convert = uid_rev_map.get(uid)\r\n",
        "  index_to_user_id.append(user_id_convert)\r\n",
        "\r\n",
        "print(\"To 5 highest rated users are: \", index_to_user_id[:5], \"with uids \", uids[:5])"
      ],
      "execution_count": 32,
      "outputs": [
        {
          "output_type": "stream",
          "text": [
            "To 5 highest rated users are:  ['u912', 'u1491', 'u1479', 'u240', 'u1468'] with uids  [ 24  25  75  83 101]\n"
          ],
          "name": "stdout"
        }
      ]
    },
    {
      "cell_type": "code",
      "metadata": {
        "id": "2r2Y9LePDCTI",
        "colab": {
          "base_uri": "https://localhost:8080/"
        },
        "outputId": "a871f805-0769-41df-e768-e0590862bcdc"
      },
      "source": [
        "for uid in uids[:5]:\r\n",
        "  print(\"Results for\", uid_rev_map.get(uid))\r\n",
        "  get_predictions_for_highest_rated_user(uid)\r\n",
        "  print(\"============================================================\\n\\n\\n\")"
      ],
      "execution_count": 33,
      "outputs": [
        {
          "output_type": "stream",
          "text": [
            "Results for u912\n",
            "These titles were predicted to be previously shelved correctly\n",
            "7                                  The Catcher in the Rye\n",
            "9                                     Pride and Prejudice\n",
            "16                   Catching Fire (The Hunger Games, #2)\n",
            "21                                       The Lovely Bones\n",
            "33                Fifty Shades of Grey (Fifty Shades, #1)\n",
            "                              ...                        \n",
            "896                                   Luckiest Girl Alive\n",
            "1009    The Perfect Storm: A True Story of Men Against...\n",
            "1030    SuperFreakonomics: Global Cooling, Patriotic P...\n",
            "1282                  The Blind Side: Evolution of a Game\n",
            "1492                  Deadlocked (Sookie Stackhouse, #12)\n",
            "Name: title, Length: 75, dtype: object\n",
            "\n",
            "\n",
            "These titles were predicted to be currently shelved correctly\n",
            "3                                  To Kill a Mockingbird\n",
            "10                                       The Kite Runner\n",
            "15      The Girl with the Dragon Tattoo (Millennium, #1)\n",
            "23     Harry Potter and the Goblet of Fire (Harry Pot...\n",
            "67                       The Perks of Being a Wallflower\n",
            "68                             Insurgent (Divergent, #2)\n",
            "108                                       Les Misérables\n",
            "132      Anne of Green Gables (Anne of Green Gables, #1)\n",
            "147                            Girl with a Pearl Earring\n",
            "153                                              Macbeth\n",
            "199                             And Then There Were None\n",
            "248                  Extremely Loud and Incredibly Close\n",
            "262                                   The Sun Also Rises\n",
            "268                                              Rebecca\n",
            "289                                    Cutting for Stone\n",
            "339                                            The Iliad\n",
            "374                     The Death Cure (Maze Runner, #3)\n",
            "Name: title, dtype: object\n",
            "============================================================\n",
            "\n",
            "\n",
            "\n",
            "Results for u1491\n",
            "These titles were predicted to be previously shelved correctly\n",
            "1       Harry Potter and the Sorcerer's Stone (Harry P...\n",
            "5                                  The Fault in Our Stars\n",
            "16                   Catching Fire (The Hunger Games, #2)\n",
            "32                                    Memoirs of a Geisha\n",
            "33                Fifty Shades of Grey (Fifty Shades, #1)\n",
            "                              ...                        \n",
            "826     Angus, Thongs and Full-Frontal Snogging (Confe...\n",
            "863                          Harold and the Purple Crayon\n",
            "897                                     Crank (Crank, #1)\n",
            "1491                              Saving CeeCee Honeycutt\n",
            "1639                  The Time Paradox (Artemis Fowl, #6)\n",
            "Name: title, Length: 70, dtype: object\n",
            "\n",
            "\n",
            "These titles were predicted to be currently shelved correctly\n",
            "98             Fifty Shades Darker (Fifty Shades, #2)\n",
            "110                      The Memory Keeper's Daughter\n",
            "131                The Five People You Meet in Heaven\n",
            "147                         Girl with a Pearl Earring\n",
            "183                                           Matilda\n",
            "193                           Moby-Dick or, The Whale\n",
            "263                          A Tree Grows in Brooklyn\n",
            "265                                   The Nightingale\n",
            "272                                     The Godfather\n",
            "302                          I Know This Much Is True\n",
            "346                                     We Were Liars\n",
            "360                             The Screwtape Letters\n",
            "405                                         Bel Canto\n",
            "523                                Gulliver's Travels\n",
            "538    Little House on the Prairie (Little House, #2)\n",
            "539                              The Velveteen Rabbit\n",
            "601          The Silmarillion (Middle-Earth Universe)\n",
            "639           Definitely Dead (Sookie Stackhouse, #6)\n",
            "757                  Cress (The Lunar Chronicles, #3)\n",
            "853                                  A Beautiful Mind\n",
            "Name: title, dtype: object\n",
            "============================================================\n",
            "\n",
            "\n",
            "\n",
            "Results for u1479\n",
            "These titles were predicted to be previously shelved correctly\n",
            "9                                     Pride and Prejudice\n",
            "14                              The Diary of a Young Girl\n",
            "15       The Girl with the Dragon Tattoo (Millennium, #1)\n",
            "20      Harry Potter and the Order of the Phoenix (Har...\n",
            "28                                       Romeo and Juliet\n",
            "                              ...                        \n",
            "1474                      The Electric Kool-Aid Acid Test\n",
            "1492                  Deadlocked (Sookie Stackhouse, #12)\n",
            "1585          Glass Houses (The Morganville Vampires, #1)\n",
            "1590      I Hope They Serve Beer in Hell (Tucker Max, #1)\n",
            "1629                                     Goodnight Nobody\n",
            "Name: title, Length: 93, dtype: object\n",
            "\n",
            "\n",
            "These titles were predicted to be currently shelved correctly\n",
            "50             City of Bones (The Mortal Instruments, #1)\n",
            "83                      Jurassic Park (Jurassic Park, #1)\n",
            "167                                             The Stand\n",
            "337                                        Goodnight Moon\n",
            "394               Hotel on the Corner of Bitter and Sweet\n",
            "679                                                Sphere\n",
            "715                                          The Exorcist\n",
            "757                      Cress (The Lunar Chronicles, #3)\n",
            "842                                                  Jaws\n",
            "1205                    Leviathan Wakes (The Expanse, #1)\n",
            "1238    The Road Less Traveled: A New Psychology of Lo...\n",
            "1426               One Day in the Life of Ivan Denisovich\n",
            "1579                Ghost Story (The Dresden Files,  #13)\n",
            "1645          The Black Stallion (The Black Stallion, #1)\n",
            "Name: title, dtype: object\n",
            "============================================================\n",
            "\n",
            "\n",
            "\n",
            "Results for u240\n",
            "These titles were predicted to be previously shelved correctly\n",
            "7                                  The Catcher in the Rye\n",
            "8                   Angels & Demons  (Robert Langdon, #1)\n",
            "9                                     Pride and Prejudice\n",
            "10                                        The Kite Runner\n",
            "11                              Divergent (Divergent, #1)\n",
            "20      Harry Potter and the Order of the Phoenix (Har...\n",
            "21                                       The Lovely Bones\n",
            "49                                Where the Sidewalk Ends\n",
            "53      The Hitchhiker's Guide to the Galaxy (Hitchhik...\n",
            "60                                  The Girl on the Train\n",
            "73                                     Looking for Alaska\n",
            "76                                      Holes (Holes, #1)\n",
            "77      The Devil Wears Prada (The Devil Wears Prada, #1)\n",
            "79                                      The Little Prince\n",
            "83                      Jurassic Park (Jurassic Park, #1)\n",
            "95                  Fifty Shades Freed (Fifty Shades, #3)\n",
            "97         The Girl Who Played with Fire (Millennium, #2)\n",
            "109        A Clash of Kings  (A Song of Ice and Fire, #2)\n",
            "113                                  Tuesdays with Morrie\n",
            "121     Wicked: The Life and Times of the Wicked Witch...\n",
            "172                                    A Clockwork Orange\n",
            "174     The Last Olympian (Percy Jackson and the Olymp...\n",
            "184                                      The Night Circus\n",
            "187     A Dance with Dragons (A Song of Ice and Fire, #5)\n",
            "189     Wild: From Lost to Found on the Pacific Crest ...\n",
            "200                  The Lost Symbol (Robert Langdon, #3)\n",
            "214                                      Ready Player One\n",
            "253                                        Atlas Shrugged\n",
            "289                                     Cutting for Stone\n",
            "293                                              11/22/63\n",
            "309                                       The Thorn Birds\n",
            "338                I Am Number Four (Lorien Legacies, #1)\n",
            "394               Hotel on the Corner of Bitter and Sweet\n",
            "436                                     What Alice Forgot\n",
            "438              Fall of Giants (The Century Trilogy, #1)\n",
            "441                                           Just Listen\n",
            "565                        Oryx and Crake (MaddAddam, #1)\n",
            "621                           Shatter Me (Shatter Me, #1)\n",
            "678                       Firefly Lane (Firefly Lane, #1)\n",
            "729     Let's Pretend This Never Happened: A Mostly Tr...\n",
            "760                           The Hunchback of Notre-Dame\n",
            "774     From the Mixed-Up Files of Mrs. Basil E. Frank...\n",
            "913                                  Passion (Fallen, #3)\n",
            "955                                           Attachments\n",
            "1126                         The Moon is a Harsh Mistress\n",
            "1131                                      Cold Sassy Tree\n",
            "1142    A Wind in the Door (A Wrinkle in Time Quintet,...\n",
            "1150                                    The Invisible Man\n",
            "1174                                         Loving Frank\n",
            "1191              The Path of Daggers (Wheel of Time, #8)\n",
            "1196     Red Seas Under Red Skies (Gentleman Bastard, #2)\n",
            "1205                    Leviathan Wakes (The Expanse, #1)\n",
            "1280                                              Revival\n",
            "1344    The Rise and Fall of the Third Reich: A Histor...\n",
            "1402                                         Go, Dog. Go!\n",
            "1492                  Deadlocked (Sookie Stackhouse, #12)\n",
            "1512                                 The Shoemaker's Wife\n",
            "Name: title, dtype: object\n",
            "\n",
            "\n",
            "These titles were predicted to be currently shelved correctly\n",
            "72                                The Host (The Host, #1)\n",
            "108                                        Les Misérables\n",
            "130                                   The Grapes of Wrath\n",
            "179                                            Siddhartha\n",
            "180                                         In Cold Blood\n",
            "250                     Cinder (The Lunar Chronicles, #1)\n",
            "254     Three Cups of Tea: One Man's Mission to Promot...\n",
            "326                                      Nineteen Minutes\n",
            "361     Anna and the French Kiss (Anna and the French ...\n",
            "542         Pretty Little Liars (Pretty Little Liars, #1)\n",
            "680                              Love the One You're With\n",
            "876     The Black Echo (Harry Bosch, #1; Harry Bosch U...\n",
            "1212                          The Signature of All Things\n",
            "1217                                  The Case for Christ\n",
            "1434                             The Red Badge of Courage\n",
            "Name: title, dtype: object\n",
            "============================================================\n",
            "\n",
            "\n",
            "\n",
            "Results for u1468\n",
            "These titles were predicted to be previously shelved correctly\n",
            "0                 The Hunger Games (The Hunger Games, #1)\n",
            "16                   Catching Fire (The Hunger Games, #2)\n",
            "23      Harry Potter and the Goblet of Fire (Harry Pot...\n",
            "25                 The Da Vinci Code (Robert Langdon, #2)\n",
            "26      Harry Potter and the Half-Blood Prince (Harry ...\n",
            "43                        The Notebook (The Notebook, #1)\n",
            "46                                         The Book Thief\n",
            "66                               A Thousand Splendid Suns\n",
            "72                                The Host (The Host, #1)\n",
            "77      The Devil Wears Prada (The Devil Wears Prada, #1)\n",
            "81                                          Into the Wild\n",
            "85                                         A Time to Kill\n",
            "102                             The Count of Monte Cristo\n",
            "106                                    A Walk to Remember\n",
            "111                     Me Before You (Me Before You, #1)\n",
            "116     A Wrinkle in Time (A Wrinkle in Time Quintet, #1)\n",
            "123                                                  Room\n",
            "133            City of Glass (The Mortal Instruments, #3)\n",
            "148                             If I Stay (If I Stay, #1)\n",
            "150     The Sea of Monsters (Percy Jackson and the Oly...\n",
            "182            Clockwork Angel (The Infernal Devices, #1)\n",
            "201                           Hush, Hush (Hush, Hush, #1)\n",
            "250                     Cinder (The Lunar Chronicles, #1)\n",
            "253                                        Atlas Shrugged\n",
            "257                   The Scorch Trials (Maze Runner, #2)\n",
            "258               How to Win Friends and Influence People\n",
            "270                              Like Water for Chocolate\n",
            "292        The Son of Neptune (The Heroes of Olympus, #2)\n",
            "299                                     Heart of Darkness\n",
            "327                                      The Last Lecture\n",
            "338                I Am Number Four (Lorien Legacies, #1)\n",
            "361     Anna and the French Kiss (Anna and the French ...\n",
            "389                                             The Lorax\n",
            "393                               For Whom the Bell Tolls\n",
            "440                                            Snow Crash\n",
            "492      The Clan of the Cave Bear (Earth's Children, #1)\n",
            "565                        Oryx and Crake (MaddAddam, #1)\n",
            "583                              The Master and Margarita\n",
            "584             A Wizard of Earthsea (Earthsea Cycle, #1)\n",
            "685                 Twenty Thousand Leagues Under the Sea\n",
            "715                                          The Exorcist\n",
            "720                                         Invisible Man\n",
            "725               The Girls' Guide to Hunting and Fishing\n",
            "729     Let's Pretend This Never Happened: A Mostly Tr...\n",
            "755                                          The Republic\n",
            "762                                 Specials (Uglies, #3)\n",
            "916                                          Empire Falls\n",
            "1120        The Girl in the Spider's Web (Millennium, #4)\n",
            "1150                                    The Invisible Man\n",
            "1202                                      The Beach House\n",
            "1217                                  The Case for Christ\n",
            "1242                                    How to Be a Woman\n",
            "1243    A Court of Mist and Fury (A Court of Thorns an...\n",
            "1253                                          Post Office\n",
            "1338     True Believer (Jeremy Marsh & Lexie Darnell, #1)\n",
            "1344    The Rise and Fall of the Third Reich: A Histor...\n",
            "Name: title, dtype: object\n",
            "\n",
            "\n",
            "These titles were predicted to be currently shelved correctly\n",
            "44                                             Life of Pi\n",
            "64                                    Slaughterhouse-Five\n",
            "79                                      The Little Prince\n",
            "127                                            Steve Jobs\n",
            "169                                      Digital Fortress\n",
            "179                                            Siddhartha\n",
            "242                                                Misery\n",
            "243                                         Sharp Objects\n",
            "244                                  Bridge to Terabithia\n",
            "254     Three Cups of Tea: One Man's Mission to Promot...\n",
            "274                            Foundation (Foundation #1)\n",
            "322                                               Fangirl\n",
            "374                      The Death Cure (Maze Runner, #3)\n",
            "391                 Throne of Glass (Throne of Glass, #1)\n",
            "542         Pretty Little Liars (Pretty Little Liars, #1)\n",
            "555         The Way of Kings (The Stormlight Archive, #1)\n",
            "556                     Club Dead (Sookie Stackhouse, #3)\n",
            "590     The Restaurant at the End of the Universe (Hit...\n",
            "674     Under the Banner of Heaven: A Story of Violent...\n",
            "786                           Burned (House of Night, #7)\n",
            "1181                                     What Is the What\n",
            "1282                  The Blind Side: Evolution of a Game\n",
            "Name: title, dtype: object\n",
            "============================================================\n",
            "\n",
            "\n",
            "\n"
          ],
          "name": "stdout"
        }
      ]
    },
    {
      "cell_type": "markdown",
      "metadata": {
        "id": "ngwO6En5ltlM"
      },
      "source": [
        "# Question 3c"
      ]
    },
    {
      "cell_type": "code",
      "metadata": {
        "id": "Vh2GutqB952b",
        "colab": {
          "base_uri": "https://localhost:8080/",
          "height": 670
        },
        "outputId": "bb6bfb89-ca4d-494c-d1c8-5cf421403538"
      },
      "source": [
        "books_df_sorted = books_df.sort_values('average_rating', ascending=False)\r\n",
        "books_df_sorted[:5]"
      ],
      "execution_count": 34,
      "outputs": [
        {
          "output_type": "execute_result",
          "data": {
            "text/html": [
              "<div>\n",
              "<style scoped>\n",
              "    .dataframe tbody tr th:only-of-type {\n",
              "        vertical-align: middle;\n",
              "    }\n",
              "\n",
              "    .dataframe tbody tr th {\n",
              "        vertical-align: top;\n",
              "    }\n",
              "\n",
              "    .dataframe thead th {\n",
              "        text-align: right;\n",
              "    }\n",
              "</style>\n",
              "<table border=\"1\" class=\"dataframe\">\n",
              "  <thead>\n",
              "    <tr style=\"text-align: right;\">\n",
              "      <th></th>\n",
              "      <th>Unnamed: 0</th>\n",
              "      <th>book_id</th>\n",
              "      <th>goodreads_book_id</th>\n",
              "      <th>best_book_id</th>\n",
              "      <th>work_id</th>\n",
              "      <th>books_count</th>\n",
              "      <th>isbn</th>\n",
              "      <th>isbn13</th>\n",
              "      <th>authors</th>\n",
              "      <th>original_publication_year</th>\n",
              "      <th>original_title</th>\n",
              "      <th>title</th>\n",
              "      <th>language_code</th>\n",
              "      <th>average_rating</th>\n",
              "      <th>ratings_count</th>\n",
              "      <th>work_ratings_count</th>\n",
              "      <th>work_text_reviews_count</th>\n",
              "      <th>ratings_1</th>\n",
              "      <th>ratings_2</th>\n",
              "      <th>ratings_3</th>\n",
              "      <th>ratings_4</th>\n",
              "      <th>ratings_5</th>\n",
              "      <th>image_url</th>\n",
              "      <th>small_image_url</th>\n",
              "    </tr>\n",
              "  </thead>\n",
              "  <tbody>\n",
              "    <tr>\n",
              "      <th>839</th>\n",
              "      <td>861</td>\n",
              "      <td>b862</td>\n",
              "      <td>17332218</td>\n",
              "      <td>17332218</td>\n",
              "      <td>16482835</td>\n",
              "      <td>34</td>\n",
              "      <td>765326361</td>\n",
              "      <td>9.780765e+12</td>\n",
              "      <td>Brandon Sanderson</td>\n",
              "      <td>2014.0</td>\n",
              "      <td>Words of Radiance</td>\n",
              "      <td>Words of Radiance (The Stormlight Archive, #2)</td>\n",
              "      <td>eng</td>\n",
              "      <td>4.77</td>\n",
              "      <td>73572</td>\n",
              "      <td>108176</td>\n",
              "      <td>7261</td>\n",
              "      <td>154</td>\n",
              "      <td>404</td>\n",
              "      <td>2653</td>\n",
              "      <td>18272</td>\n",
              "      <td>86693</td>\n",
              "      <td>https://images.gr-assets.com/books/1391535251m...</td>\n",
              "      <td>https://images.gr-assets.com/books/1391535251s...</td>\n",
              "    </tr>\n",
              "    <tr>\n",
              "      <th>420</th>\n",
              "      <td>421</td>\n",
              "      <td>b422</td>\n",
              "      <td>862041</td>\n",
              "      <td>862041</td>\n",
              "      <td>2962492</td>\n",
              "      <td>76</td>\n",
              "      <td>545044251</td>\n",
              "      <td>9.780545e+12</td>\n",
              "      <td>J.K. Rowling</td>\n",
              "      <td>1998.0</td>\n",
              "      <td>Complete Harry Potter Boxed Set</td>\n",
              "      <td>Harry Potter Boxset (Harry Potter, #1-7)</td>\n",
              "      <td>eng</td>\n",
              "      <td>4.74</td>\n",
              "      <td>190050</td>\n",
              "      <td>204125</td>\n",
              "      <td>6508</td>\n",
              "      <td>1105</td>\n",
              "      <td>1285</td>\n",
              "      <td>7020</td>\n",
              "      <td>30666</td>\n",
              "      <td>164049</td>\n",
              "      <td>https://images.gr-assets.com/books/1392579059m...</td>\n",
              "      <td>https://images.gr-assets.com/books/1392579059s...</td>\n",
              "    </tr>\n",
              "    <tr>\n",
              "      <th>1243</th>\n",
              "      <td>1307</td>\n",
              "      <td>b1308</td>\n",
              "      <td>17927395</td>\n",
              "      <td>17927395</td>\n",
              "      <td>25126749</td>\n",
              "      <td>39</td>\n",
              "      <td>NaN</td>\n",
              "      <td>NaN</td>\n",
              "      <td>Sarah J. Maas</td>\n",
              "      <td>2016.0</td>\n",
              "      <td>A Court of Mist and Fury</td>\n",
              "      <td>A Court of Mist and Fury (A Court of Thorns an...</td>\n",
              "      <td>eng</td>\n",
              "      <td>4.72</td>\n",
              "      <td>108384</td>\n",
              "      <td>126491</td>\n",
              "      <td>22700</td>\n",
              "      <td>931</td>\n",
              "      <td>1420</td>\n",
              "      <td>4725</td>\n",
              "      <td>18000</td>\n",
              "      <td>101415</td>\n",
              "      <td>https://images.gr-assets.com/books/1485259138m...</td>\n",
              "      <td>https://images.gr-assets.com/books/1485259138s...</td>\n",
              "    </tr>\n",
              "    <tr>\n",
              "      <th>974</th>\n",
              "      <td>1009</td>\n",
              "      <td>b1010</td>\n",
              "      <td>43070</td>\n",
              "      <td>43070</td>\n",
              "      <td>2244438</td>\n",
              "      <td>26</td>\n",
              "      <td>836218051</td>\n",
              "      <td>9.780836e+12</td>\n",
              "      <td>Bill Watterson</td>\n",
              "      <td>1988.0</td>\n",
              "      <td>The Essential Calvin and Hobbes: A Calvin and ...</td>\n",
              "      <td>The Essential Calvin and Hobbes: A Calvin and ...</td>\n",
              "      <td>en-US</td>\n",
              "      <td>4.65</td>\n",
              "      <td>93001</td>\n",
              "      <td>95543</td>\n",
              "      <td>598</td>\n",
              "      <td>717</td>\n",
              "      <td>895</td>\n",
              "      <td>5387</td>\n",
              "      <td>17566</td>\n",
              "      <td>70978</td>\n",
              "      <td>https://s.gr-assets.com/assets/nophoto/book/11...</td>\n",
              "      <td>https://s.gr-assets.com/assets/nophoto/book/50...</td>\n",
              "    </tr>\n",
              "    <tr>\n",
              "      <th>555</th>\n",
              "      <td>561</td>\n",
              "      <td>b562</td>\n",
              "      <td>7235533</td>\n",
              "      <td>7235533</td>\n",
              "      <td>8134945</td>\n",
              "      <td>48</td>\n",
              "      <td>765326353</td>\n",
              "      <td>9.780765e+12</td>\n",
              "      <td>Brandon Sanderson</td>\n",
              "      <td>2010.0</td>\n",
              "      <td>The Way of Kings</td>\n",
              "      <td>The Way of Kings (The Stormlight Archive, #1)</td>\n",
              "      <td>eng</td>\n",
              "      <td>4.64</td>\n",
              "      <td>144822</td>\n",
              "      <td>164477</td>\n",
              "      <td>10947</td>\n",
              "      <td>1085</td>\n",
              "      <td>1827</td>\n",
              "      <td>7661</td>\n",
              "      <td>33962</td>\n",
              "      <td>119942</td>\n",
              "      <td>https://images.gr-assets.com/books/1388184640m...</td>\n",
              "      <td>https://images.gr-assets.com/books/1388184640s...</td>\n",
              "    </tr>\n",
              "  </tbody>\n",
              "</table>\n",
              "</div>"
            ],
            "text/plain": [
              "      Unnamed: 0  ...                                    small_image_url\n",
              "839          861  ...  https://images.gr-assets.com/books/1391535251s...\n",
              "420          421  ...  https://images.gr-assets.com/books/1392579059s...\n",
              "1243        1307  ...  https://images.gr-assets.com/books/1485259138s...\n",
              "974         1009  ...  https://s.gr-assets.com/assets/nophoto/book/50...\n",
              "555          561  ...  https://images.gr-assets.com/books/1388184640s...\n",
              "\n",
              "[5 rows x 24 columns]"
            ]
          },
          "metadata": {
            "tags": []
          },
          "execution_count": 34
        }
      ]
    },
    {
      "cell_type": "code",
      "metadata": {
        "id": "4_2JxJKB95z4",
        "colab": {
          "base_uri": "https://localhost:8080/"
        },
        "outputId": "7719fc97-ccd9-45d9-986b-51fe3b1ac325"
      },
      "source": [
        "top_5 = books_df_sorted[['average_rating', 'book_id']][:5]\r\n",
        "top_5_bookids = top_5['book_id'].tolist()\r\n",
        "top_5_itemids = []\r\n",
        "for itemid in top_5_bookids:\r\n",
        "  print(iid_map.get(itemid))\r\n",
        "  top_5_itemids.append(iid_map.get(itemid))\r\n",
        "\r\n",
        "top_5_itemids"
      ],
      "execution_count": 35,
      "outputs": [
        {
          "output_type": "stream",
          "text": [
            "1726\n",
            "1181\n",
            "1808\n",
            "884\n",
            "1425\n"
          ],
          "name": "stdout"
        },
        {
          "output_type": "execute_result",
          "data": {
            "text/plain": [
              "[1726, 1181, 1808, 884, 1425]"
            ]
          },
          "metadata": {
            "tags": []
          },
          "execution_count": 35
        }
      ]
    },
    {
      "cell_type": "code",
      "metadata": {
        "id": "kpLNNuj895xW",
        "colab": {
          "base_uri": "https://localhost:8080/"
        },
        "outputId": "73a2c997-a359-4447-a634-32223dd6fd9f"
      },
      "source": [
        "top_5_embeddings = implicit_model._net.item_embeddings.weight[top_5_itemids]\r\n",
        "top_5_embeddings"
      ],
      "execution_count": 36,
      "outputs": [
        {
          "output_type": "execute_result",
          "data": {
            "text/plain": [
              "tensor([[ 3.9215e-01,  6.2611e-01,  1.0020e+00,  3.6695e-01, -7.8785e-02,\n",
              "          4.8278e-01, -4.8430e-01, -8.3853e-01, -8.6347e-01, -3.4951e-01,\n",
              "         -8.9406e-01,  1.2325e+00, -4.5236e-01,  3.5929e-01, -6.5597e-01,\n",
              "          2.4485e+00, -4.9889e-01,  9.2668e-01, -1.6462e-01, -1.5614e+00,\n",
              "          6.6127e-01, -4.6087e-01, -8.7617e-01,  7.9003e-01,  2.2882e-01,\n",
              "          2.5179e-01,  6.9075e-01, -4.5294e-01, -3.1196e-01,  9.0759e-01,\n",
              "         -7.0460e-01, -9.0421e-01,  7.7693e-01, -6.8810e-01, -1.3167e+00,\n",
              "          7.3482e-01,  1.8754e+00,  5.6747e-01,  1.4036e-01, -3.7531e-01,\n",
              "         -1.1994e-01, -4.1962e-01, -1.1896e+00,  2.2634e-01, -8.5787e-01,\n",
              "          3.1113e-01,  4.9792e-01,  7.6137e-02, -2.3772e-01, -2.6628e-01,\n",
              "          7.7050e-01, -7.7995e-01, -4.3699e-01, -4.7693e-01,  1.2760e+00,\n",
              "          2.2708e-01, -2.7411e-01, -6.2900e-01, -3.3540e-01, -4.0469e-02,\n",
              "          1.5615e+00,  7.5470e-01, -5.4718e-01, -1.2403e+00],\n",
              "        [-5.8638e-01,  8.6708e-01,  6.6817e-01,  4.9721e-02, -1.9877e-01,\n",
              "          3.4085e-01,  3.6403e-01, -7.6138e-01,  1.3300e-01,  3.4446e-01,\n",
              "          3.2750e-02, -3.3665e-01, -5.2414e-01,  3.3612e-01,  3.3915e-01,\n",
              "          1.0159e-01,  2.7851e-01,  2.2683e-01, -7.5261e-04,  5.0604e-01,\n",
              "         -3.6725e-01, -1.1248e+00, -8.8693e-01,  4.3072e-02,  1.2458e+00,\n",
              "          5.2344e-01,  6.4911e-01,  7.3439e-01, -5.6554e-02,  3.3194e-01,\n",
              "          7.4691e-01,  1.1022e-03,  4.2540e-01, -2.3503e-01, -3.8887e-01,\n",
              "         -2.6627e-01, -4.8105e-01, -4.9547e-02,  3.8552e-01,  5.6261e-01,\n",
              "          6.3507e-01,  7.4625e-01,  4.0892e-02,  4.4014e-01,  2.4074e-01,\n",
              "          8.5372e-04, -1.5587e-01,  3.2392e-01, -1.7919e-01,  1.3950e+00,\n",
              "         -6.1871e-01,  2.5313e-01, -2.4809e-01, -4.0072e-01, -4.5441e-01,\n",
              "         -2.3281e-01,  4.9155e-02,  1.4188e-01,  3.7615e-01, -3.7523e-01,\n",
              "         -3.1735e-01, -6.6218e-01, -1.3123e+00, -1.8360e-01],\n",
              "        [-7.9499e-01,  7.9690e-01,  1.1255e+00,  1.8034e-01,  1.1430e-01,\n",
              "         -4.8113e-01, -2.1151e-01, -4.2706e-01, -1.1862e+00,  2.5472e-01,\n",
              "          5.7618e-03, -3.7530e-01, -1.6402e+00, -4.8642e-01,  4.0010e-01,\n",
              "          5.8290e-01,  5.2376e-01,  2.7022e-01,  4.9095e-01, -3.9783e-01,\n",
              "          7.3618e-02, -4.9607e-01, -5.5082e-01,  1.3326e+00,  3.3924e-01,\n",
              "         -3.3197e-01,  1.4195e-01,  2.8706e-01,  1.6953e-01, -5.7664e-01,\n",
              "         -6.9619e-01,  2.5273e-01,  6.2869e-01, -6.8127e-01,  4.1215e-01,\n",
              "          5.3938e-01,  8.2629e-01,  6.6275e-02,  1.0712e+00,  1.8785e-01,\n",
              "         -2.1785e-01, -5.2353e-01, -1.6418e+00,  3.4296e-02,  1.2920e-01,\n",
              "          1.1328e-01,  5.0721e-01, -6.3609e-01,  4.0330e-01,  8.0833e-02,\n",
              "         -6.8000e-01, -5.3077e-01, -3.8968e-01, -1.0428e+00, -4.8171e-02,\n",
              "         -4.5919e-01,  2.8432e-01,  5.2634e-01, -3.8054e-01,  1.2333e+00,\n",
              "          7.2520e-01,  3.1076e-01, -3.3257e-01,  9.1760e-02],\n",
              "        [ 6.8653e-02, -1.7555e-02,  1.2232e-01,  8.5803e-01,  3.3829e-01,\n",
              "         -1.9855e-01, -3.5077e-01,  5.4108e-01, -3.7609e-01,  3.2054e-01,\n",
              "         -3.0974e-01, -7.2832e-01,  1.4502e-04, -1.4654e-01,  1.0488e+00,\n",
              "          6.4607e-01, -1.3957e-02, -1.7266e-01, -1.3638e-01,  2.8171e-01,\n",
              "          1.2016e-01,  5.1182e-01, -2.3703e-01,  7.4932e-01,  8.5831e-01,\n",
              "         -6.4917e-01, -3.1649e-04,  9.7138e-01, -1.3505e-01,  2.0497e-01,\n",
              "          2.5632e-01, -1.3557e+00,  8.2506e-01, -6.4712e-01,  9.9373e-01,\n",
              "          6.4542e-01,  1.4168e-01, -6.0862e-02, -5.5861e-01,  4.4368e-01,\n",
              "          6.4116e-01,  1.3343e-01, -4.4907e-01, -6.4448e-02,  6.5416e-01,\n",
              "         -8.7497e-01, -1.1801e-01, -2.5349e-01, -5.4943e-02, -3.9998e-01,\n",
              "          1.8962e-01, -1.8550e-01,  3.4988e-01,  9.0304e-03,  2.8651e-01,\n",
              "          1.4031e-01,  1.4321e-01,  5.7811e-01,  6.3120e-01,  5.7790e-01,\n",
              "         -3.5301e-01, -7.8560e-02,  4.6632e-02, -4.8346e-01],\n",
              "        [-3.8810e-01,  6.7039e-01,  2.3368e-01,  2.0861e-01, -4.7006e-01,\n",
              "         -2.3631e-01, -6.8330e-01,  1.9914e-01,  1.9339e-01, -1.5675e-02,\n",
              "         -8.6030e-01,  3.9746e-01, -1.2696e+00, -7.7300e-01, -2.3801e-01,\n",
              "          1.4861e+00, -3.6360e-01,  1.0940e+00, -7.3792e-01, -8.5623e-01,\n",
              "          8.8469e-01, -3.0214e-01,  9.1246e-02,  1.1753e+00,  7.2188e-01,\n",
              "          4.9322e-01, -2.7827e-01,  4.5043e-01, -1.2693e+00,  6.3160e-01,\n",
              "         -5.1802e-01, -1.3807e+00,  5.3201e-01, -1.8326e-01, -8.4702e-01,\n",
              "          5.5374e-01,  2.5742e+00,  4.8609e-02,  9.1510e-02, -7.0651e-01,\n",
              "          5.4125e-01, -1.6876e+00, -7.8044e-01,  2.6789e-02, -7.9177e-01,\n",
              "          1.1575e-01,  5.0598e-01, -4.6701e-01, -8.9823e-01, -3.5999e-01,\n",
              "          4.0471e-02,  1.6353e-01, -8.6770e-01,  1.9969e-01,  7.8290e-01,\n",
              "         -7.0109e-01, -4.0752e-01, -1.2853e-01, -3.6054e-01,  1.9076e-01,\n",
              "          1.4846e+00,  5.5166e-01,  6.1518e-01, -1.6367e+00]],\n",
              "       grad_fn=<IndexBackward>)"
            ]
          },
          "metadata": {
            "tags": []
          },
          "execution_count": 36
        }
      ]
    },
    {
      "cell_type": "code",
      "metadata": {
        "colab": {
          "base_uri": "https://localhost:8080/"
        },
        "id": "CQsQyV1a-62h",
        "outputId": "1567fcba-9aa7-4d5e-bf24-a8140d70e20f"
      },
      "source": [
        "from scipy import spatial\r\n",
        "similarities = []\r\n",
        "\r\n",
        "for combo in combinations(range(5),2):\r\n",
        "  i = top_5_embeddings[combo[0]].detach().numpy()\r\n",
        "  j = top_5_embeddings[combo[1]].detach().numpy()\r\n",
        "  similarities.append(1-spatial.distance.cosine(i,j))\r\n",
        "\r\n",
        "intra_list_div = 2/(5*4) * sum(similarities)\r\n",
        "print(intra_list_div)"
      ],
      "execution_count": 37,
      "outputs": [
        {
          "output_type": "stream",
          "text": [
            "0.2069293983280659\n"
          ],
          "name": "stdout"
        }
      ]
    },
    {
      "cell_type": "markdown",
      "metadata": {
        "id": "C0M8fE2p4InF"
      },
      "source": [
        "#Question 4"
      ]
    },
    {
      "cell_type": "code",
      "metadata": {
        "id": "yTJuO5tZ4KgJ"
      },
      "source": [
        "class combsumIF:  \r\n",
        "  def __init__(self):\r\n",
        "    self.explicit = self.create_train_model(rating_dataset)\r\n",
        "    self.implicit = self.create_train_model(toread_dataset_train)\r\n",
        " \r\n",
        "  def create_train_model(self,dataset):\r\n",
        "    model = ImplicitFactorizationModel(n_iter = 5, loss = \"bpr\", random_state=np.random.RandomState(SEED), embedding_dim = 16)\r\n",
        "    model.fit(dataset)\r\n",
        "    model.fit(validation)\r\n",
        "    return model\r\n",
        " \r\n",
        "  def predict(self, uid):\r\n",
        "    # returns the combined rating\r\n",
        "    return 0.5* self.explicit.predict(uid) + 0.5 * self.implicit.predict(uid)"
      ],
      "execution_count": 38,
      "outputs": []
    },
    {
      "cell_type": "code",
      "metadata": {
        "id": "R0VnLg6pIwLb"
      },
      "source": [
        "q4 = combsumIF()"
      ],
      "execution_count": 39,
      "outputs": []
    },
    {
      "cell_type": "code",
      "metadata": {
        "id": "Q4pfxaYdIwJC"
      },
      "source": [
        "q4_mrr_scores = mrr_score(q4, test_dataset)"
      ],
      "execution_count": 40,
      "outputs": []
    },
    {
      "cell_type": "code",
      "metadata": {
        "id": "ZuZerTb_AYaB",
        "colab": {
          "base_uri": "https://localhost:8080/"
        },
        "outputId": "c6262a5b-6911-4d40-dfd0-6bb71118941c"
      },
      "source": [
        "print(q4_mrr_scores)"
      ],
      "execution_count": 41,
      "outputs": [
        {
          "output_type": "stream",
          "text": [
            "[0.   0.25 0.25 ... 0.   0.   0.  ]\n"
          ],
          "name": "stdout"
        }
      ]
    },
    {
      "cell_type": "code",
      "metadata": {
        "id": "sAsXRJJZAnpV",
        "colab": {
          "base_uri": "https://localhost:8080/"
        },
        "outputId": "ed1c362a-6725-4bfa-9dce-6c1476ebec0c"
      },
      "source": [
        "#best model from q2\r\n",
        "best_implicit_q2 = ImplicitFactorizationModel(loss=\"bpr\",n_iter=5, \r\n",
        "                                    embedding_dim=8, #this is Spotlight default\r\n",
        "                                    use_cuda=False,\r\n",
        "                                    random_state=np.random.RandomState(SEED) # ensure results are repeatable\r\n",
        ")\r\n",
        "\r\n",
        "best_implicit_q2.fit(explicit_train)\r\n",
        "best_implicit_q2.fit(explicit_test)\r\n",
        "\r\n",
        "q2_mrr_scores = mrr_score(best_implicit_q2, test_dataset)\r\n",
        "print(\"======== MRR ========= for latent factor 8\")\r\n",
        "print(\"=====================================================)\")\r\n",
        "print(mrr_score(best_implicit_q2, test_dataset).mean())\r\n",
        "print(\"=====================================================)\")"
      ],
      "execution_count": 42,
      "outputs": [
        {
          "output_type": "stream",
          "text": [
            "======== MRR ========= for latent factor 8\n",
            "=====================================================)\n",
            "0.23233918546574875\n",
            "=====================================================)\n"
          ],
          "name": "stdout"
        }
      ]
    },
    {
      "cell_type": "code",
      "metadata": {
        "id": "nDbRJFTPBchx",
        "colab": {
          "base_uri": "https://localhost:8080/"
        },
        "outputId": "b0b3b52d-41dd-45a7-8436-d13c7912a868"
      },
      "source": [
        "#best model from q3\r\n",
        "best_implicit_q3 = ImplicitFactorizationModel(loss=\"bpr\",n_iter=5, \r\n",
        "                                            embedding_dim=16, \r\n",
        "                                            use_cuda=False, \r\n",
        "                                            random_state=np.random.RandomState(SEED))\r\n",
        "\r\n",
        "best_implicit_q3.fit(toread_dataset_train, verbose=False)\r\n",
        "best_implicit_q3.fit(validation)\r\n",
        "\r\n",
        "\r\n",
        "q3_mrr_scores = mrr_score(best_implicit_q3, test_dataset)\r\n",
        "print(\"======== MRR ========= for latent factor 16\")\r\n",
        "print(\"=====================================================)\")\r\n",
        "print(mrr_score(best_implicit_q3, test_dataset).mean())\r\n",
        "print(\"=====================================================)\")"
      ],
      "execution_count": 43,
      "outputs": [
        {
          "output_type": "stream",
          "text": [
            "======== MRR ========= for latent factor 16\n",
            "=====================================================)\n",
            "0.2281702359116066\n",
            "=====================================================)\n"
          ],
          "name": "stdout"
        }
      ]
    },
    {
      "cell_type": "code",
      "metadata": {
        "id": "C2Gf07w4B4mB",
        "colab": {
          "base_uri": "https://localhost:8080/"
        },
        "outputId": "85401ab8-7d5d-4385-f5b1-f7b73ddc7f78"
      },
      "source": [
        "import matplotlib.pyplot as plt\r\n",
        "\r\n",
        "#graphs\r\n",
        "diff_q2_q4 = q4_mrr_scores - q2_mrr_scores # <------best\r\n",
        "diff_q3_q4 = q4_mrr_scores - q3_mrr_scores\r\n",
        "\r\n",
        "print(\"\\n=========== FROM Q2 ==========\")\r\n",
        "print(sum(i > 0 for i in diff_q2_q4), \"are better\")\r\n",
        "print(sum(i < 0 for i in diff_q2_q4), \"are worse\")\r\n",
        "print(sum(i == 0 for i in diff_q2_q4), \"have not changed\")\r\n",
        "\r\n",
        "print(\"\\n=========== FROM Q3 ==========\")\r\n",
        "print(sum(i > 0 for i in diff_q3_q4), \"are better\")\r\n",
        "print(sum(i < 0 for i in diff_q3_q4), \"are worse\")\r\n",
        "print(sum(i == 0 for i in diff_q3_q4), \"have not changed\")"
      ],
      "execution_count": 44,
      "outputs": [
        {
          "output_type": "stream",
          "text": [
            "\n",
            "=========== FROM Q2 ==========\n",
            "669 are better\n",
            "656 are worse\n",
            "674 have not changed\n",
            "\n",
            "=========== FROM Q3 ==========\n",
            "601 are better\n",
            "507 are worse\n",
            "891 have not changed\n"
          ],
          "name": "stdout"
        }
      ]
    },
    {
      "cell_type": "code",
      "metadata": {
        "id": "92VrdbzeXQ3V",
        "colab": {
          "base_uri": "https://localhost:8080/",
          "height": 399
        },
        "outputId": "844e3cdb-8288-4ee0-a272-028a0b5c8cba"
      },
      "source": [
        "data = {'item_ids' : uid_map.keys(), 'Previous RR': q2_mrr_scores, 'New RR': q4_mrr_scores}  \r\n",
        "RR_df = pd.DataFrame(data) \r\n",
        "RR_df[\"diff\"] = RR_df['New RR'] - RR_df['Previous RR']\r\n",
        "RR_df = RR_df[RR_df['diff'] != 0]\r\n",
        "RR_df"
      ],
      "execution_count": 45,
      "outputs": [
        {
          "output_type": "execute_result",
          "data": {
            "text/html": [
              "<div>\n",
              "<style scoped>\n",
              "    .dataframe tbody tr th:only-of-type {\n",
              "        vertical-align: middle;\n",
              "    }\n",
              "\n",
              "    .dataframe tbody tr th {\n",
              "        vertical-align: top;\n",
              "    }\n",
              "\n",
              "    .dataframe thead th {\n",
              "        text-align: right;\n",
              "    }\n",
              "</style>\n",
              "<table border=\"1\" class=\"dataframe\">\n",
              "  <thead>\n",
              "    <tr style=\"text-align: right;\">\n",
              "      <th></th>\n",
              "      <th>item_ids</th>\n",
              "      <th>Previous RR</th>\n",
              "      <th>New RR</th>\n",
              "      <th>diff</th>\n",
              "    </tr>\n",
              "  </thead>\n",
              "  <tbody>\n",
              "    <tr>\n",
              "      <th>1</th>\n",
              "      <td>u109</td>\n",
              "      <td>0.000000</td>\n",
              "      <td>0.250000</td>\n",
              "      <td>0.250000</td>\n",
              "    </tr>\n",
              "    <tr>\n",
              "      <th>2</th>\n",
              "      <td>u1721</td>\n",
              "      <td>0.142857</td>\n",
              "      <td>0.250000</td>\n",
              "      <td>0.107143</td>\n",
              "    </tr>\n",
              "    <tr>\n",
              "      <th>3</th>\n",
              "      <td>u429</td>\n",
              "      <td>0.125000</td>\n",
              "      <td>0.333333</td>\n",
              "      <td>0.208333</td>\n",
              "    </tr>\n",
              "    <tr>\n",
              "      <th>4</th>\n",
              "      <td>u339</td>\n",
              "      <td>1.000000</td>\n",
              "      <td>0.166667</td>\n",
              "      <td>-0.833333</td>\n",
              "    </tr>\n",
              "    <tr>\n",
              "      <th>5</th>\n",
              "      <td>u302</td>\n",
              "      <td>0.000000</td>\n",
              "      <td>0.142857</td>\n",
              "      <td>0.142857</td>\n",
              "    </tr>\n",
              "    <tr>\n",
              "      <th>...</th>\n",
              "      <td>...</td>\n",
              "      <td>...</td>\n",
              "      <td>...</td>\n",
              "      <td>...</td>\n",
              "    </tr>\n",
              "    <tr>\n",
              "      <th>1981</th>\n",
              "      <td>u965</td>\n",
              "      <td>0.100000</td>\n",
              "      <td>0.000000</td>\n",
              "      <td>-0.100000</td>\n",
              "    </tr>\n",
              "    <tr>\n",
              "      <th>1984</th>\n",
              "      <td>u1272</td>\n",
              "      <td>0.125000</td>\n",
              "      <td>0.333333</td>\n",
              "      <td>0.208333</td>\n",
              "    </tr>\n",
              "    <tr>\n",
              "      <th>1986</th>\n",
              "      <td>u120</td>\n",
              "      <td>0.000000</td>\n",
              "      <td>0.333333</td>\n",
              "      <td>0.333333</td>\n",
              "    </tr>\n",
              "    <tr>\n",
              "      <th>1993</th>\n",
              "      <td>u1142</td>\n",
              "      <td>0.000000</td>\n",
              "      <td>1.000000</td>\n",
              "      <td>1.000000</td>\n",
              "    </tr>\n",
              "    <tr>\n",
              "      <th>1994</th>\n",
              "      <td>u1045</td>\n",
              "      <td>0.125000</td>\n",
              "      <td>0.250000</td>\n",
              "      <td>0.125000</td>\n",
              "    </tr>\n",
              "  </tbody>\n",
              "</table>\n",
              "<p>1325 rows × 4 columns</p>\n",
              "</div>"
            ],
            "text/plain": [
              "     item_ids  Previous RR    New RR      diff\n",
              "1        u109     0.000000  0.250000  0.250000\n",
              "2       u1721     0.142857  0.250000  0.107143\n",
              "3        u429     0.125000  0.333333  0.208333\n",
              "4        u339     1.000000  0.166667 -0.833333\n",
              "5        u302     0.000000  0.142857  0.142857\n",
              "...       ...          ...       ...       ...\n",
              "1981     u965     0.100000  0.000000 -0.100000\n",
              "1984    u1272     0.125000  0.333333  0.208333\n",
              "1986     u120     0.000000  0.333333  0.333333\n",
              "1993    u1142     0.000000  1.000000  1.000000\n",
              "1994    u1045     0.125000  0.250000  0.125000\n",
              "\n",
              "[1325 rows x 4 columns]"
            ]
          },
          "metadata": {
            "tags": []
          },
          "execution_count": 45
        }
      ]
    },
    {
      "cell_type": "code",
      "metadata": {
        "id": "kW8dEROCeH7b",
        "colab": {
          "base_uri": "https://localhost:8080/",
          "height": 1000
        },
        "outputId": "2b890c2a-324a-4389-af90-db663c7959a2"
      },
      "source": [
        "RR_df.plot(x ='item_ids', y='diff', kind = 'bar', figsize=(50,50))\r\n",
        "y_ticks = np.arange(-1, 1, 0.05)\r\n",
        "plt.yticks(y_ticks)\r\n",
        "plt.xticks(rotation=90)\r\n",
        "plt.show()"
      ],
      "execution_count": 46,
      "outputs": [
        {
          "output_type": "display_data",
          "data": {
            "image/png": "[encoded data removed]",
            "text/plain": [
              "<Figure size 3600x3600 with 1 Axes>"
            ]
          },
          "metadata": {
            "tags": [],
            "needs_background": "light"
          }
        }
      ]
    },
    {
      "cell_type": "markdown",
      "metadata": {
        "id": "Oje13m_ezswO"
      },
      "source": [
        "# Question 5"
      ]
    },
    {
      "cell_type": "code",
      "metadata": {
        "id": "qwTFiVHoz3rj"
      },
      "source": [
        "## Adapated from RecSys - Lab 1 Solution\r\n",
        "def calculate_lift():\r\n",
        "  positives=ratings_df[ratings_df[\"rating\"]>=4]\r\n",
        "  positives\r\n",
        "\r\n",
        "  # #join positives with itself on userId to get all pairs of books watched by a given user.\r\n",
        "\r\n",
        "  pairs=pd.merge(positives, positives, on=[\"user_id\"])\r\n",
        "  pairs\r\n",
        "\r\n",
        "  # #we only want A->B, not B->A. Use the timestamps to restrict the selected pairs\r\n",
        "  sequences=pairs[pairs['Unnamed: 0_x'] < pairs['Unnamed: 0_y']] \r\n",
        "  sequences\r\n",
        "\r\n",
        "  # #lets count the frequency of each pair of books\r\n",
        "  paircounts=sequences[[\"book_id_x\", \"book_id_y\", \"user_id\"]].groupby([\"book_id_x\", \"book_id_y\"]).count()\r\n",
        "  paircounts\r\n",
        "\r\n",
        "  # paircounts\r\n",
        "  #sort by the most popular pairs.\r\n",
        "  pairswithcounts_reset = paircounts.reset_index()\r\n",
        "  pairswithcounts = pairswithcounts_reset.rename(columns={'user_id' : 'count'}).sort_values(['count'], ascending=False)\r\n",
        "  pairswithcounts.head()\r\n",
        "\r\n",
        "  pairswithcounts.merge(books_df, left_on=[\"book_id_x\"], right_on=\"book_id\").merge(books_df, left_on=[\"book_id_y\"], right_on=\"book_id\")[[\"title_x\", \"title_y\"]]\r\n",
        "\r\n",
        "  # # pairswithcounts gives is the frequency of (X AND Y). \r\n",
        "\r\n",
        "  # #We therefore need the counts of movies\r\n",
        "  bookCounts = positives.groupby(['book_id']).count()[['user_id']].reset_index().rename(columns={'user_id' : 'count'})\r\n",
        "  bookCounts\r\n",
        "\r\n",
        "  # #lets puts all the information in the sample dataframe.\r\n",
        "  allstats = pairswithcounts.merge(bookCounts, left_on='book_id_x', right_on='book_id').merge(bookCounts, left_on='book_id_y', right_on='book_id')\r\n",
        "  allstats\r\n",
        "\r\n",
        "  # #and drop out some unused columns\r\n",
        "  allstats = allstats[['book_id_x', 'book_id_y', 'count', 'count_x', 'count_y']]\r\n",
        "  allstats\r\n",
        "\r\n",
        "  allstats = allstats.loc[:,~allstats.columns.duplicated()]\r\n",
        "  allstats\r\n",
        "\r\n",
        "  # #to calculate probabilites we need a denominator. I used the number of total ratings\r\n",
        "  num=float(ratings_df.count()[\"rating\"])\r\n",
        "\r\n",
        "  # #we can then perform artihmetic on columns\r\n",
        "  allstats[\"lift\"] = (allstats[\"count\"] / num ) / ( (allstats[\"count_x\"] / num) * (allstats[\"count_y\"] / num))\r\n",
        "  allstats[\"loglift\"] = np.log(allstats[\"lift\"])\r\n",
        "\r\n",
        "  withtitles = allstats.merge(books_df, left_on=['book_id_x'],  right_on=\"book_id\").merge(books_df, left_on=[\"book_id_y\"], right_on=\"book_id\")\r\n",
        "  # withtitles = withtitles.sort_values(['lift'], ascending=False)\r\n",
        "  withtitles\r\n",
        "\r\n",
        "\r\n",
        "  withtitles[\"support\"] = withtitles[\"count\"] / sequences[\"book_id_x\"].count()\r\n",
        "  withtitles[[\"title_x\", \"book_id_x\", \"book_id_y\", \"lift\", \"support\"]]\r\n",
        "  final = withtitles[[\"title_y\", \"title_x\", \"book_id_x\", \"book_id_y\", \"lift\", \"support\", \"count\", \"loglift\"]]\r\n",
        "  final = final.loc[:,~final.columns.duplicated()]\r\n",
        "  return final"
      ],
      "execution_count": 47,
      "outputs": []
    },
    {
      "cell_type": "code",
      "metadata": {
        "id": "dToMipXRd61v",
        "colab": {
          "base_uri": "https://localhost:8080/",
          "height": 399
        },
        "outputId": "83e9f471-18f0-449f-fe2b-c13b2283e393"
      },
      "source": [
        "calculate_lift()"
      ],
      "execution_count": 48,
      "outputs": [
        {
          "output_type": "execute_result",
          "data": {
            "text/html": [
              "<div>\n",
              "<style scoped>\n",
              "    .dataframe tbody tr th:only-of-type {\n",
              "        vertical-align: middle;\n",
              "    }\n",
              "\n",
              "    .dataframe tbody tr th {\n",
              "        vertical-align: top;\n",
              "    }\n",
              "\n",
              "    .dataframe thead th {\n",
              "        text-align: right;\n",
              "    }\n",
              "</style>\n",
              "<table border=\"1\" class=\"dataframe\">\n",
              "  <thead>\n",
              "    <tr style=\"text-align: right;\">\n",
              "      <th></th>\n",
              "      <th>title_y</th>\n",
              "      <th>title_x</th>\n",
              "      <th>book_id_x</th>\n",
              "      <th>book_id_y</th>\n",
              "      <th>lift</th>\n",
              "      <th>support</th>\n",
              "      <th>count</th>\n",
              "      <th>loglift</th>\n",
              "    </tr>\n",
              "  </thead>\n",
              "  <tbody>\n",
              "    <tr>\n",
              "      <th>0</th>\n",
              "      <td>Catching Fire (The Hunger Games, #2)</td>\n",
              "      <td>The Hunger Games (The Hunger Games, #1)</td>\n",
              "      <td>b1</td>\n",
              "      <td>b17</td>\n",
              "      <td>364.310869</td>\n",
              "      <td>1.999159e-04</td>\n",
              "      <td>365</td>\n",
              "      <td>5.898008</td>\n",
              "    </tr>\n",
              "    <tr>\n",
              "      <th>1</th>\n",
              "      <td>Catching Fire (The Hunger Games, #2)</td>\n",
              "      <td>Harry Potter and the Sorcerer's Stone (Harry P...</td>\n",
              "      <td>b2</td>\n",
              "      <td>b17</td>\n",
              "      <td>1678.391936</td>\n",
              "      <td>1.999159e-04</td>\n",
              "      <td>365</td>\n",
              "      <td>7.425591</td>\n",
              "    </tr>\n",
              "    <tr>\n",
              "      <th>2</th>\n",
              "      <td>Catching Fire (The Hunger Games, #2)</td>\n",
              "      <td>Harry Potter and the Goblet of Fire (Harry Pot...</td>\n",
              "      <td>b24</td>\n",
              "      <td>b17</td>\n",
              "      <td>1912.241959</td>\n",
              "      <td>1.999159e-04</td>\n",
              "      <td>365</td>\n",
              "      <td>7.556032</td>\n",
              "    </tr>\n",
              "    <tr>\n",
              "      <th>3</th>\n",
              "      <td>Catching Fire (The Hunger Games, #2)</td>\n",
              "      <td>Harry Potter and the Half-Blood Prince (Harry ...</td>\n",
              "      <td>b27</td>\n",
              "      <td>b17</td>\n",
              "      <td>1474.298433</td>\n",
              "      <td>1.999159e-04</td>\n",
              "      <td>365</td>\n",
              "      <td>7.295938</td>\n",
              "    </tr>\n",
              "    <tr>\n",
              "      <th>4</th>\n",
              "      <td>Catching Fire (The Hunger Games, #2)</td>\n",
              "      <td>Harry Potter and the Prisoner of Azkaban (Harr...</td>\n",
              "      <td>b18</td>\n",
              "      <td>b17</td>\n",
              "      <td>1527.715043</td>\n",
              "      <td>1.999159e-04</td>\n",
              "      <td>365</td>\n",
              "      <td>7.331528</td>\n",
              "    </tr>\n",
              "    <tr>\n",
              "      <th>...</th>\n",
              "      <td>...</td>\n",
              "      <td>...</td>\n",
              "      <td>...</td>\n",
              "      <td>...</td>\n",
              "      <td>...</td>\n",
              "      <td>...</td>\n",
              "      <td>...</td>\n",
              "      <td>...</td>\n",
              "    </tr>\n",
              "    <tr>\n",
              "      <th>721164</th>\n",
              "      <td>Piercing the Darkness (Darkness, #2)</td>\n",
              "      <td>Nights in Rodanthe</td>\n",
              "      <td>b622</td>\n",
              "      <td>b1925</td>\n",
              "      <td>17823.142857</td>\n",
              "      <td>5.477147e-07</td>\n",
              "      <td>1</td>\n",
              "      <td>9.788253</td>\n",
              "    </tr>\n",
              "    <tr>\n",
              "      <th>721165</th>\n",
              "      <td>Piercing the Darkness (Darkness, #2)</td>\n",
              "      <td>This Present Darkness (Darkness, #1)</td>\n",
              "      <td>b1218</td>\n",
              "      <td>b1925</td>\n",
              "      <td>17823.142857</td>\n",
              "      <td>5.477147e-07</td>\n",
              "      <td>1</td>\n",
              "      <td>9.788253</td>\n",
              "    </tr>\n",
              "    <tr>\n",
              "      <th>721166</th>\n",
              "      <td>Piercing the Darkness (Darkness, #2)</td>\n",
              "      <td>At First Sight (Jeremy Marsh &amp; Lexie Darnell, #2)</td>\n",
              "      <td>b1459</td>\n",
              "      <td>b1925</td>\n",
              "      <td>20793.666667</td>\n",
              "      <td>5.477147e-07</td>\n",
              "      <td>1</td>\n",
              "      <td>9.942404</td>\n",
              "    </tr>\n",
              "    <tr>\n",
              "      <th>721167</th>\n",
              "      <td>Gone (Gone, #1)</td>\n",
              "      <td>The Absolutely True Diary of a Part-Time Indian</td>\n",
              "      <td>b591</td>\n",
              "      <td>b685</td>\n",
              "      <td>1919.415385</td>\n",
              "      <td>5.477147e-07</td>\n",
              "      <td>1</td>\n",
              "      <td>7.559776</td>\n",
              "    </tr>\n",
              "    <tr>\n",
              "      <th>721168</th>\n",
              "      <td>Gone (Gone, #1)</td>\n",
              "      <td>The House of the Scorpion (Matteo Alacran, #1)</td>\n",
              "      <td>b1678</td>\n",
              "      <td>b685</td>\n",
              "      <td>8317.466667</td>\n",
              "      <td>5.477147e-07</td>\n",
              "      <td>1</td>\n",
              "      <td>9.026113</td>\n",
              "    </tr>\n",
              "  </tbody>\n",
              "</table>\n",
              "<p>721169 rows × 8 columns</p>\n",
              "</div>"
            ],
            "text/plain": [
              "                                     title_y  ...   loglift\n",
              "0       Catching Fire (The Hunger Games, #2)  ...  5.898008\n",
              "1       Catching Fire (The Hunger Games, #2)  ...  7.425591\n",
              "2       Catching Fire (The Hunger Games, #2)  ...  7.556032\n",
              "3       Catching Fire (The Hunger Games, #2)  ...  7.295938\n",
              "4       Catching Fire (The Hunger Games, #2)  ...  7.331528\n",
              "...                                      ...  ...       ...\n",
              "721164  Piercing the Darkness (Darkness, #2)  ...  9.788253\n",
              "721165  Piercing the Darkness (Darkness, #2)  ...  9.788253\n",
              "721166  Piercing the Darkness (Darkness, #2)  ...  9.942404\n",
              "721167                       Gone (Gone, #1)  ...  7.559776\n",
              "721168                       Gone (Gone, #1)  ...  9.026113\n",
              "\n",
              "[721169 rows x 8 columns]"
            ]
          },
          "metadata": {
            "tags": []
          },
          "execution_count": 48
        }
      ]
    },
    {
      "cell_type": "code",
      "metadata": {
        "id": "zvFs1TGkFMtA"
      },
      "source": [
        "class loglift:\r\n",
        "  def __init__(self, min_sup = 0):\r\n",
        "    self.minimum_support = min_sup\r\n",
        "    self.df = lifts.loc[(lifts[\"support\"] > self.minimum_support)]\r\n",
        "    self.book_ids = books_df[\"book_id\"].values\r\n",
        "    self.book_lift_scores = self.calculate_book_lift_scores()\r\n",
        " \r\n",
        "  def calculate_book_lift_scores(self): \r\n",
        "    return np.array([self.df.loc[(self.df[\"book_id_x\"] == bid) | (self.df[\"book_id_y\"] == bid)][\"loglift\"].values.sum() for bid in self.book_ids])\r\n",
        " \r\n",
        "  def predict(self, uid):\r\n",
        "    user_id = uid_rev_map[uid]\r\n",
        "    scores = []\r\n",
        "    scores = np.zeros(1826)\r\n",
        " \r\n",
        "    already_rated_books = ratings_df.loc[ratings_df[\"user_id\"] == user_id][\"book_id\"].values\r\n",
        "    lift_indices = np.array([i for i  in range(len(self.book_ids)) if self.book_ids[i] not in already_rated_books])\\\r\n",
        " \r\n",
        "    scores[lift_indices] = self.book_lift_scores[lift_indices]\r\n",
        "    return scores"
      ],
      "execution_count": 49,
      "outputs": []
    },
    {
      "cell_type": "code",
      "metadata": {
        "id": "7tj4daukIqcC"
      },
      "source": [
        "lifts = calculate_lift()"
      ],
      "execution_count": 50,
      "outputs": []
    },
    {
      "cell_type": "code",
      "metadata": {
        "id": "fCzvNtOoEVMt"
      },
      "source": [
        "q5_mrr_scores =  []\r\n",
        "\r\n",
        "min_supports = np.linspace(lifts[\"support\"].min(), lifts[\"support\"].max(), 10)\r\n",
        "\r\n",
        "for min_support in min_supports:\r\n",
        "  q5_mrr_scores.append(mrr_score(loglift(min_support), validation))"
      ],
      "execution_count": 51,
      "outputs": []
    },
    {
      "cell_type": "code",
      "metadata": {
        "id": "vi400DCVjGkB",
        "colab": {
          "base_uri": "https://localhost:8080/"
        },
        "outputId": "39590b1e-2291-4d9d-f425-edb701c6952f"
      },
      "source": [
        "print(q5_mrr_scores)"
      ],
      "execution_count": 52,
      "outputs": [
        {
          "output_type": "stream",
          "text": [
            "[array([0. , 0. , 0. , ..., 0. , 0. , 0.5]), array([0.  , 0.  , 0.25, ..., 0.  , 0.  , 0.25]), array([0.        , 0.        , 0.33333333, ..., 0.        , 0.        ,\n",
            "       0.25      ]), array([0.        , 0.        , 0.33333333, ..., 0.        , 0.        ,\n",
            "       0.25      ]), array([0.        , 0.        , 0.33333333, ..., 0.        , 0.        ,\n",
            "       0.25      ]), array([0.  , 0.  , 0.  , ..., 0.  , 0.  , 0.25]), array([0.        , 0.        , 0.        , ..., 0.        , 0.        ,\n",
            "       0.33333333]), array([0. , 0. , 0. , ..., 0. , 0. , 0.5]), array([0., 0., 0., ..., 0., 0., 0.]), array([0, 0, 0, ..., 0, 0, 0])]\n"
          ],
          "name": "stdout"
        }
      ]
    },
    {
      "cell_type": "code",
      "metadata": {
        "id": "uIuWC3YdIKnm",
        "colab": {
          "base_uri": "https://localhost:8080/"
        },
        "outputId": "e5420a7c-1fec-4d1c-baa8-0bf72b50e5a5"
      },
      "source": [
        "mean_RR = []\r\n",
        "for each in q5_mrr_scores:\r\n",
        "  mean_RR.append(each.mean())\r\n",
        "\r\n",
        "print(mean_RR)\r\n",
        "print(min_supports)"
      ],
      "execution_count": 53,
      "outputs": [
        {
          "output_type": "stream",
          "text": [
            "[0.07603543835409768, 0.05580012228336391, 0.05725779556444889, 0.05790534155966872, 0.057036851759212935, 0.06443162057219086, 0.08278440094611339, 0.054070487624764754, 0.03266216441554111, 0.0]\n",
            "[5.47714715e-07 3.26194541e-05 6.46911936e-05 9.67629330e-05\n",
            " 1.28834672e-04 1.60906412e-04 1.92978151e-04 2.25049891e-04\n",
            " 2.57121630e-04 2.89193370e-04]\n"
          ],
          "name": "stdout"
        }
      ]
    },
    {
      "cell_type": "code",
      "metadata": {
        "id": "jatkQGfMjQCC",
        "colab": {
          "base_uri": "https://localhost:8080/",
          "height": 323
        },
        "outputId": "30b42cc2-007d-44ae-f75f-a534131e1c6a"
      },
      "source": [
        "plt.plot(min_supports, mean_RR, marker = 'D')\r\n",
        "plt.xticks(min_supports, rotation = 90)\r\n",
        "plt.xlabel('Supports')\r\n",
        "plt.ylabel('MRR')\r\n",
        "\r\n",
        "best_min_support = min_supports[np.argmax(mean_RR)]"
      ],
      "execution_count": 54,
      "outputs": [
        {
          "output_type": "display_data",
          "data": {
            "image/png": "[encoded data removed]",
            "text/plain": [
              "<Figure size 432x288 with 1 Axes>"
            ]
          },
          "metadata": {
            "tags": [],
            "needs_background": "light"
          }
        }
      ]
    },
    {
      "cell_type": "code",
      "metadata": {
        "id": "SbpZ8zIek6Q5",
        "colab": {
          "base_uri": "https://localhost:8080/"
        },
        "outputId": "93c5918f-5f79-404c-c477-2b0f36652f8d"
      },
      "source": [
        "print(mrr_score(loglift(best_min_support), test_dataset).mean())"
      ],
      "execution_count": 55,
      "outputs": [
        {
          "output_type": "stream",
          "text": [
            "0.09883937505379806\n"
          ],
          "name": "stdout"
        }
      ]
    },
    {
      "cell_type": "markdown",
      "metadata": {
        "id": "EXWyeWxAzsex"
      },
      "source": [
        "# Question 6"
      ]
    },
    {
      "cell_type": "code",
      "metadata": {
        "id": "y6vL3qNlz1de"
      },
      "source": [
        "## initiliase and train recommenders once\r\n",
        "class initiliase_recommenders:\r\n",
        "  def __init__(self):\r\n",
        "    ## lowest performing models\r\n",
        "    self.average_rating = average_rating(num_items)\r\n",
        "    self.number_of_ratings = number_of_ratings(num_items)  \r\n",
        "    self.emodel = ExplicitFactorizationModel(n_iter=5,random_state=np.random.RandomState(SEED))\r\n",
        " \r\n",
        "    ## highest performing models\r\n",
        " \r\n",
        "    ## avg MRR around 0.1 \r\n",
        "    self.number_of_5_star_ratings = number_of_5_star_ratings(num_items)\r\n",
        "    self.loglift = loglift(best_min_support)\r\n",
        "    ## avg MRR around 0.15\r\n",
        "    self.fractions_of_5_star = fractions_of_5_star(num_items)\r\n",
        "    ## avg MRR > 0.2\r\n",
        "    self.imodel = ImplicitFactorizationModel(n_iter = 5, loss = \"bpr\", random_state=np.random.RandomState(SEED))\r\n",
        "    self.best_implicit_model = ImplicitFactorizationModel(n_iter = 5, loss = \"bpr\", random_state=np.random.RandomState(SEED), embedding_dim = 16)\r\n",
        " \r\n",
        "    self.train_models()\r\n",
        " \r\n",
        "    self.rec_list = self.iterate_over()\r\n",
        " \r\n",
        "  def train_models(self):\r\n",
        "    self.emodel.fit(rating_dataset)\r\n",
        "    self.imodel.fit(rating_dataset)\r\n",
        "    self.best_implicit_model.fit(toread_dataset_train)\r\n",
        " \r\n",
        "  def iterate_over(self):\r\n",
        "    recommenders = []\r\n",
        "    for attr, value in self.__dict__.items():\r\n",
        "          recommenders.append(value)\r\n",
        "    return recommenders"
      ],
      "execution_count": 60,
      "outputs": []
    },
    {
      "cell_type": "code",
      "metadata": {
        "id": "2OCvRcddVspN"
      },
      "source": [
        "class combine_recommenders:\r\n",
        "  def __init__(self, recommenders, weights = []):\r\n",
        "    self.recommenders = recommenders\r\n",
        "    self.number_of_recommenders = len(recommenders)\r\n",
        "\r\n",
        "    if len(weights) == self.number_of_recommenders:\r\n",
        "      self.weights = weights\r\n",
        "    else:\r\n",
        "      self.weights = np.ones(self.number_of_recommenders) * 1/self.number_of_recommenders\r\n",
        "\r\n",
        "  def predict(self, uid):\r\n",
        "    predictions = 0\r\n",
        "    for rec in range(self.number_of_recommenders):\r\n",
        "      predictions += self.recommenders[rec].predict(uid) * self.weights[rec]\r\n",
        "    return predictions"
      ],
      "execution_count": 61,
      "outputs": []
    },
    {
      "cell_type": "code",
      "metadata": {
        "id": "dh-vUsnaXUNX"
      },
      "source": [
        "trained_recommenders = initiliase_recommenders()"
      ],
      "execution_count": 62,
      "outputs": []
    },
    {
      "cell_type": "code",
      "metadata": {
        "id": "V-Rz2rHEgquI"
      },
      "source": [
        "def calculate_bias_weight(bias,indexes):\r\n",
        "  weights = np.ones(8) * (1-bias*len(indexes))/(8-len(indexes))\r\n",
        "  for i in indexes:\r\n",
        "    weights[i] = bias\r\n",
        "  return weights"
      ],
      "execution_count": 63,
      "outputs": []
    },
    {
      "cell_type": "markdown",
      "metadata": {
        "id": "1x-9d1Sys2gO"
      },
      "source": [
        "#Get Weights"
      ]
    },
    {
      "cell_type": "code",
      "metadata": {
        "id": "_yqgqXsGXYfF"
      },
      "source": [
        "no_of_recommenders = 8\r\n",
        "weights_list_without_bias = []\r\n",
        "recommender_indices = list(range(no_of_recommenders))\r\n",
        "weights_list_without_bias.append(np.ones(no_of_recommenders) * 1/no_of_recommenders)"
      ],
      "execution_count": 65,
      "outputs": []
    },
    {
      "cell_type": "code",
      "metadata": {
        "id": "8n6zaBRHi4vt"
      },
      "source": [
        "bias_test = 0.3\r\n",
        "weights_list_with_point3_bias = []\r\n",
        "for i in range(no_of_recommenders):\r\n",
        "  weights_list_with_point3_bias.append(calculate_bias_weight(bias_test, [i]))"
      ],
      "execution_count": 66,
      "outputs": []
    },
    {
      "cell_type": "code",
      "metadata": {
        "id": "SC3ZKL7Ui9Ye"
      },
      "source": [
        "highest_group_equal_weights = []\r\n",
        "for bias in [0.15, 0.17]:\r\n",
        "  highest_group_equal_weights.append(calculate_bias_weight(bias, recommender_indices[3:]))"
      ],
      "execution_count": 67,
      "outputs": []
    },
    {
      "cell_type": "code",
      "metadata": {
        "id": "D9QBxBxki_KI"
      },
      "source": [
        "two_highest_rec_equal_weights = []\r\n",
        "for bias in [0.2,0.3,0.4]:\r\n",
        "  two_highest_rec_equal_weights.append(calculate_bias_weight(bias, recommender_indices[6:]))"
      ],
      "execution_count": 68,
      "outputs": []
    },
    {
      "cell_type": "markdown",
      "metadata": {
        "id": "JKlfCM02ss56"
      },
      "source": [
        "#Get MRR Scores"
      ]
    },
    {
      "cell_type": "code",
      "metadata": {
        "id": "XZbUo1cojAc0"
      },
      "source": [
        "q6_mrr_scores_without_bias = mrr_score(combine_recommenders(trained_recommenders.rec_list, weights_list_without_bias), validation).mean()"
      ],
      "execution_count": 131,
      "outputs": []
    },
    {
      "cell_type": "code",
      "metadata": {
        "id": "K3v82FcQj14I",
        "outputId": "5cd82113-faa8-4625-e852-2bfa382890e2",
        "colab": {
          "base_uri": "https://localhost:8080/"
        }
      },
      "source": [
        "print(q6_mrr_scores_without_bias)"
      ],
      "execution_count": 132,
      "outputs": [
        {
          "output_type": "stream",
          "text": [
            "0.02878363785067137\n"
          ],
          "name": "stdout"
        }
      ]
    },
    {
      "cell_type": "code",
      "metadata": {
        "id": "X9O6HNXIopDJ",
        "outputId": "39a6eb78-ebc0-4332-dd5b-dce8352d70b1",
        "colab": {
          "base_uri": "https://localhost:8080/"
        }
      },
      "source": [
        ""
      ],
      "execution_count": 162,
      "outputs": [
        {
          "output_type": "stream",
          "text": [
            "[array([0.125, 0.125, 0.125, 0.125, 0.125, 0.125, 0.125, 0.125])]\n"
          ],
          "name": "stdout"
        }
      ]
    },
    {
      "cell_type": "code",
      "metadata": {
        "id": "sGMkd_AokNBi"
      },
      "source": [
        "q6_mmr_scores_with_point3_bias = []\r\n",
        "for each in weights_list_with_point3_bias:\r\n",
        "  q6_mmr_scores_with_point3_bias.append(mrr_score(combine_recommenders(trained_recommenders.rec_list, each), validation).mean())"
      ],
      "execution_count": 118,
      "outputs": []
    },
    {
      "cell_type": "code",
      "metadata": {
        "id": "p8MpKBbukXl4",
        "outputId": "327f681d-3ab0-46f9-ba52-c478990ee8b3",
        "colab": {
          "base_uri": "https://localhost:8080/"
        }
      },
      "source": [
        "print(q6_mmr_scores_with_point3_bias)"
      ],
      "execution_count": 120,
      "outputs": [
        {
          "output_type": "stream",
          "text": [
            "[0.02878363785067137, 0.028197233537403624, 0.02878363785067137, 0.055491039170378835, 0.02878363785067137, 0.02878363785067137, 0.02878363785067137, 0.02878363785067137]\n"
          ],
          "name": "stdout"
        }
      ]
    },
    {
      "cell_type": "code",
      "metadata": {
        "id": "Pz9xuOCVri1s"
      },
      "source": [
        "q6_mmr_scores_highest_group_equal_weights = []\r\n",
        "for each in highest_group_equal_weights:\r\n",
        "  q6_mmr_scores_highest_group_equal_weights.append(mrr_score(combine_recommenders(trained_recommenders.rec_list, each), validation).mean())"
      ],
      "execution_count": 84,
      "outputs": []
    },
    {
      "cell_type": "code",
      "metadata": {
        "id": "M3KQNoWf1jPD",
        "outputId": "0ce591e9-2bca-4a69-c38a-b40cb2c7528a",
        "colab": {
          "base_uri": "https://localhost:8080/"
        }
      },
      "source": [
        "print(q6_mmr_scores_highest_group_equal_weights)"
      ],
      "execution_count": 110,
      "outputs": [
        {
          "output_type": "stream",
          "text": [
            "[0.04191083637056623, 0.05952639017921659]\n"
          ],
          "name": "stdout"
        }
      ]
    },
    {
      "cell_type": "code",
      "metadata": {
        "id": "rx7tasxxGzV8"
      },
      "source": [
        "q6_mmr_scores_two_highest_rec_equal_weights = []\r\n",
        "for each in two_highest_rec_equal_weights:\r\n",
        "  q6_mmr_scores_two_highest_rec_equal_weights.append(mrr_score(combine_recommenders(trained_recommenders.rec_list, each), validation).mean())"
      ],
      "execution_count": 91,
      "outputs": []
    },
    {
      "cell_type": "code",
      "metadata": {
        "id": "X6cpKr9cHcEm",
        "outputId": "f80d75fa-f85f-488a-9c40-e3c073e92b13",
        "colab": {
          "base_uri": "https://localhost:8080/"
        }
      },
      "source": [
        "print(q6_mmr_scores_two_highest_rec_equal_weights)"
      ],
      "execution_count": 92,
      "outputs": [
        {
          "output_type": "stream",
          "text": [
            "[0.02878363785067137, 0.02878363785067137, 0.02878363785067137]\n"
          ],
          "name": "stdout"
        }
      ]
    },
    {
      "cell_type": "code",
      "metadata": {
        "id": "zFih4RDEI55Q"
      },
      "source": [
        "flattened_list = []\r\n",
        "flattened_list.append(q6_mrr_scores_without_bias)\r\n",
        "\r\n",
        "for each in q6_mmr_scores_with_point3_bias:\r\n",
        "  flattened_list.append(each)\r\n",
        "\r\n",
        "for each in q6_mmr_scores_highest_group_equal_weights:\r\n",
        "  flattened_list.append(each)\r\n",
        "\r\n",
        "for each in q6_mmr_scores_two_highest_rec_equal_weights:\r\n",
        "  flattened_list.append(each)"
      ],
      "execution_count": 172,
      "outputs": []
    },
    {
      "cell_type": "markdown",
      "metadata": {
        "id": "SbYMpuj2s61H"
      },
      "source": [
        "#Get Graph"
      ]
    },
    {
      "cell_type": "code",
      "metadata": {
        "id": "ri_bVJYQiV5M",
        "outputId": "126222a6-b898-4467-b242-0225116e9d54",
        "colab": {
          "base_uri": "https://localhost:8080/",
          "height": 313
        }
      },
      "source": [
        "plt.plot(range(1,15), flattened_list)\r\n",
        "plt.ylabel('MRR Score')\r\n",
        "plt.xlabel('Bias Experiment')\r\n",
        "plt.title('MRR/Bias Experiment')\r\n"
      ],
      "execution_count": 184,
      "outputs": [
        {
          "output_type": "execute_result",
          "data": {
            "text/plain": [
              "Text(0.5, 1.0, 'MRR/Bias Experiment')"
            ]
          },
          "metadata": {
            "tags": []
          },
          "execution_count": 184
        },
        {
          "output_type": "display_data",
          "data": {
            "image/png": "[encoded data removed]",
            "text/plain": [
              "<Figure size 432x288 with 1 Axes>"
            ]
          },
          "metadata": {
            "tags": [],
            "needs_background": "light"
          }
        }
      ]
    },
    {
      "cell_type": "code",
      "metadata": {
        "id": "clUydOZ0oBOB"
      },
      "source": [
        ""
      ],
      "execution_count": null,
      "outputs": []
    }
  ]
}