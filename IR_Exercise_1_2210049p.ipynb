{
  "nbformat": 4,
  "nbformat_minor": 0,
  "metadata": {
    "colab": {
      "name": "IR Exercise 1_2210049p.ipynb",
      "provenance": [],
      "collapsed_sections": [],
      "include_colab_link": true
    },
    "kernelspec": {
      "name": "python3",
      "display_name": "Python 3"
    }
  },
  "cells": [
    {
      "cell_type": "markdown",
      "metadata": {
        "id": "view-in-github",
        "colab_type": "text"
      },
      "source": [
        "<a href=\"https://colab.research.google.com/github/podyssea/RecommenderSystems/blob/main/IR_Exercise_1_2210049p.ipynb\" target=\"_parent\"><img src=\"https://colab.research.google.com/assets/colab-badge.svg\" alt=\"Open In Colab\"/></a>"
      ]
    },
    {
      "cell_type": "markdown",
      "metadata": {
        "id": "OrfB2Z3LfT33"
      },
      "source": [
        "# Information Retrieval Exercise 1 Notebook\n",
        "\n",
        "This is the template notebook for Exercise 1. The specification for the exercise and the corresponding Exercise 1 Quiz submission instance are available on the Moodle page of the course.\n",
        "\n",
        "## Assumed Knowledge\n",
        "\n",
        "This Exercise assumes knowedge of Pandas and PyTerrier from the introductory lab. The relevant parts of the PyTerrier documentation are:\n",
        " - [Using Terrier indices in PyTerrier](https://pyterrier.readthedocs.io/en/latest/terrier-indexing.html)\n",
        " - [Terrier Retrieval using PyTerrier](https://pyterrier.readthedocs.io/en/latest/terrier-retrieval.html), e.g. BatchRetrieve\n",
        " - [Operators on PyTerrier transformers](https://pyterrier.readthedocs.io/en/latest/operators.html)\n",
        "\n",
        "\n",
        "## Setup"
      ]
    },
    {
      "cell_type": "code",
      "metadata": {
        "id": "0m5M7WiZfNfk",
        "colab": {
          "base_uri": "https://localhost:8080/"
        },
        "outputId": "3684ab64-bb5a-41b0-9969-ade612f7e8eb"
      },
      "source": [
        "!pip install python-terrier"
      ],
      "execution_count": null,
      "outputs": [
        {
          "output_type": "stream",
          "text": [
            "Requirement already satisfied: python-terrier in /usr/local/lib/python3.6/dist-packages (0.3.1)\n",
            "Requirement already satisfied: sklearn in /usr/local/lib/python3.6/dist-packages (from python-terrier) (0.0)\n",
            "Requirement already satisfied: matchpy in /usr/local/lib/python3.6/dist-packages (from python-terrier) (0.5.3)\n",
            "Requirement already satisfied: chest in /usr/local/lib/python3.6/dist-packages (from python-terrier) (0.2.3)\n",
            "Requirement already satisfied: tqdm in /usr/local/lib/python3.6/dist-packages (from python-terrier) (4.41.1)\n",
            "Requirement already satisfied: pandas in /usr/local/lib/python3.6/dist-packages (from python-terrier) (1.1.5)\n",
            "Requirement already satisfied: numpy in /usr/local/lib/python3.6/dist-packages (from python-terrier) (1.19.5)\n",
            "Requirement already satisfied: nptyping in /usr/local/lib/python3.6/dist-packages (from python-terrier) (1.4.0)\n",
            "Requirement already satisfied: jinja2 in /usr/local/lib/python3.6/dist-packages (from python-terrier) (2.11.3)\n",
            "Requirement already satisfied: scipy in /usr/local/lib/python3.6/dist-packages (from python-terrier) (1.4.1)\n",
            "Requirement already satisfied: tabulate in /usr/local/lib/python3.6/dist-packages (from python-terrier) (0.8.7)\n",
            "Requirement already satisfied: pyjnius~=1.3.0 in /usr/local/lib/python3.6/dist-packages (from python-terrier) (1.3.0)\n",
            "Requirement already satisfied: pytrec-eval in /usr/local/lib/python3.6/dist-packages (from python-terrier) (0.5)\n",
            "Requirement already satisfied: wget in /usr/local/lib/python3.6/dist-packages (from python-terrier) (3.2)\n",
            "Requirement already satisfied: deprecation in /usr/local/lib/python3.6/dist-packages (from python-terrier) (2.1.0)\n",
            "Requirement already satisfied: requests in /usr/local/lib/python3.6/dist-packages (from python-terrier) (2.23.0)\n",
            "Requirement already satisfied: scikit-learn in /usr/local/lib/python3.6/dist-packages (from sklearn->python-terrier) (0.22.2.post1)\n",
            "Requirement already satisfied: hopcroftkarp<2.0,>=1.2 in /usr/local/lib/python3.6/dist-packages (from matchpy->python-terrier) (1.2.5)\n",
            "Requirement already satisfied: multiset<3.0,>=2.0 in /usr/local/lib/python3.6/dist-packages (from matchpy->python-terrier) (2.1.1)\n",
            "Requirement already satisfied: heapdict in /usr/local/lib/python3.6/dist-packages (from chest->python-terrier) (1.0.1)\n",
            "Requirement already satisfied: python-dateutil>=2.7.3 in /usr/local/lib/python3.6/dist-packages (from pandas->python-terrier) (2.8.1)\n",
            "Requirement already satisfied: pytz>=2017.2 in /usr/local/lib/python3.6/dist-packages (from pandas->python-terrier) (2018.9)\n",
            "Requirement already satisfied: typish>=1.7.0 in /usr/local/lib/python3.6/dist-packages (from nptyping->python-terrier) (1.9.1)\n",
            "Requirement already satisfied: MarkupSafe>=0.23 in /usr/local/lib/python3.6/dist-packages (from jinja2->python-terrier) (1.1.1)\n",
            "Requirement already satisfied: six>=1.7.0 in /usr/local/lib/python3.6/dist-packages (from pyjnius~=1.3.0->python-terrier) (1.15.0)\n",
            "Requirement already satisfied: cython in /usr/local/lib/python3.6/dist-packages (from pyjnius~=1.3.0->python-terrier) (0.29.21)\n",
            "Requirement already satisfied: packaging in /usr/local/lib/python3.6/dist-packages (from deprecation->python-terrier) (20.9)\n",
            "Requirement already satisfied: urllib3!=1.25.0,!=1.25.1,<1.26,>=1.21.1 in /usr/local/lib/python3.6/dist-packages (from requests->python-terrier) (1.24.3)\n",
            "Requirement already satisfied: idna<3,>=2.5 in /usr/local/lib/python3.6/dist-packages (from requests->python-terrier) (2.10)\n",
            "Requirement already satisfied: certifi>=2017.4.17 in /usr/local/lib/python3.6/dist-packages (from requests->python-terrier) (2020.12.5)\n",
            "Requirement already satisfied: chardet<4,>=3.0.2 in /usr/local/lib/python3.6/dist-packages (from requests->python-terrier) (3.0.4)\n",
            "Requirement already satisfied: joblib>=0.11 in /usr/local/lib/python3.6/dist-packages (from scikit-learn->sklearn->python-terrier) (1.0.0)\n",
            "Requirement already satisfied: pyparsing>=2.0.2 in /usr/local/lib/python3.6/dist-packages (from packaging->deprecation->python-terrier) (2.4.7)\n"
          ],
          "name": "stdout"
        }
      ]
    },
    {
      "cell_type": "code",
      "metadata": {
        "id": "pEJSTrbdfdK8"
      },
      "source": [
        "import pyterrier as pt\n",
        "if not pt.started():\n",
        "  pt.init()\n",
        "\n",
        "import pandas as pd\n",
        "pd.set_option('display.max_colwidth', 150)"
      ],
      "execution_count": null,
      "outputs": []
    },
    {
      "cell_type": "markdown",
      "metadata": {
        "id": "NJRbjP2_64IV"
      },
      "source": [
        "# Datasets for Ex1\n",
        "\n",
        "For Exercise 1, we'll be using the Datasets API to obtain the files we need for this exercise. PyTerrier actually provides many datasets. You can list all of them using `pt.list_datasets()`."
      ]
    },
    {
      "cell_type": "code",
      "metadata": {
        "id": "9ZJDJ6dl-X2R",
        "colab": {
          "base_uri": "https://localhost:8080/",
          "height": 643
        },
        "outputId": "72c58f61-6efa-496d-a2f3-6aa6fdbd5977"
      },
      "source": [
        "pt.list_datasets()"
      ],
      "execution_count": null,
      "outputs": [
        {
          "output_type": "execute_result",
          "data": {
            "text/html": [
              "<div>\n",
              "<style scoped>\n",
              "    .dataframe tbody tr th:only-of-type {\n",
              "        vertical-align: middle;\n",
              "    }\n",
              "\n",
              "    .dataframe tbody tr th {\n",
              "        vertical-align: top;\n",
              "    }\n",
              "\n",
              "    .dataframe thead th {\n",
              "        text-align: right;\n",
              "    }\n",
              "</style>\n",
              "<table border=\"1\" class=\"dataframe\">\n",
              "  <thead>\n",
              "    <tr style=\"text-align: right;\">\n",
              "      <th></th>\n",
              "      <th>dataset</th>\n",
              "      <th>topics</th>\n",
              "      <th>qrels</th>\n",
              "      <th>corpus</th>\n",
              "      <th>index</th>\n",
              "    </tr>\n",
              "  </thead>\n",
              "  <tbody>\n",
              "    <tr>\n",
              "      <th>0</th>\n",
              "      <td>50pct</td>\n",
              "      <td>[training, validation]</td>\n",
              "      <td>[training, validation]</td>\n",
              "      <td>None</td>\n",
              "      <td>True</td>\n",
              "    </tr>\n",
              "    <tr>\n",
              "      <th>1</th>\n",
              "      <td>antique</td>\n",
              "      <td>[train, test]</td>\n",
              "      <td>[train, test]</td>\n",
              "      <td>True</td>\n",
              "      <td>None</td>\n",
              "    </tr>\n",
              "    <tr>\n",
              "      <th>2</th>\n",
              "      <td>vaswani</td>\n",
              "      <td>True</td>\n",
              "      <td>True</td>\n",
              "      <td>True</td>\n",
              "      <td>True</td>\n",
              "    </tr>\n",
              "    <tr>\n",
              "      <th>3</th>\n",
              "      <td>trec-deep-learning-docs</td>\n",
              "      <td>[train, dev, test, test-2020, leaderboard-2020]</td>\n",
              "      <td>[train, dev, test]</td>\n",
              "      <td>True</td>\n",
              "      <td>None</td>\n",
              "    </tr>\n",
              "    <tr>\n",
              "      <th>4</th>\n",
              "      <td>trec-deep-learning-passages</td>\n",
              "      <td>[train, dev, eval, test-2019]</td>\n",
              "      <td>[train, dev, test-2019]</td>\n",
              "      <td>True</td>\n",
              "      <td>None</td>\n",
              "    </tr>\n",
              "    <tr>\n",
              "      <th>5</th>\n",
              "      <td>trec-robust-2004</td>\n",
              "      <td>True</td>\n",
              "      <td>True</td>\n",
              "      <td>None</td>\n",
              "      <td>None</td>\n",
              "    </tr>\n",
              "    <tr>\n",
              "      <th>6</th>\n",
              "      <td>trec-robust-2005</td>\n",
              "      <td>True</td>\n",
              "      <td>True</td>\n",
              "      <td>None</td>\n",
              "      <td>None</td>\n",
              "    </tr>\n",
              "    <tr>\n",
              "      <th>7</th>\n",
              "      <td>trec-terabyte</td>\n",
              "      <td>[2004, 2005, 2006, 2004-2006, 2006-np, 2005-np]</td>\n",
              "      <td>[2004, 2005, 2006, 2004-2006, 2005-np, 2006-np]</td>\n",
              "      <td>None</td>\n",
              "      <td>None</td>\n",
              "    </tr>\n",
              "    <tr>\n",
              "      <th>8</th>\n",
              "      <td>trec-precision-medicine</td>\n",
              "      <td>[2017, 2018, 2019, 2020]</td>\n",
              "      <td>[qrels-2017-abstracts, qrels-2017-abstracts-sample, qrels-2017-trials, qrels-2018-abstracts, qrels-2018-abstracts-sample, qrels-2018-trials, qrels...</td>\n",
              "      <td>None</td>\n",
              "      <td>None</td>\n",
              "    </tr>\n",
              "    <tr>\n",
              "      <th>9</th>\n",
              "      <td>trec-covid</td>\n",
              "      <td>[round1, round2, round3, round4, round5]</td>\n",
              "      <td>[round1, round2, round3, round3-cumulative, round4, round4-cumulative, round5]</td>\n",
              "      <td>[round4, round5]</td>\n",
              "      <td>None</td>\n",
              "    </tr>\n",
              "    <tr>\n",
              "      <th>10</th>\n",
              "      <td>trec-wt2g</td>\n",
              "      <td>True</td>\n",
              "      <td>True</td>\n",
              "      <td>None</td>\n",
              "      <td>None</td>\n",
              "    </tr>\n",
              "    <tr>\n",
              "      <th>11</th>\n",
              "      <td>trec-wt-2002</td>\n",
              "      <td>[td, np]</td>\n",
              "      <td>[np, td]</td>\n",
              "      <td>None</td>\n",
              "      <td>None</td>\n",
              "    </tr>\n",
              "    <tr>\n",
              "      <th>12</th>\n",
              "      <td>trec-wt-2003</td>\n",
              "      <td>[td, np]</td>\n",
              "      <td>[np, td]</td>\n",
              "      <td>None</td>\n",
              "      <td>None</td>\n",
              "    </tr>\n",
              "    <tr>\n",
              "      <th>13</th>\n",
              "      <td>trec-wt-2004</td>\n",
              "      <td>[all, np, hp, td]</td>\n",
              "      <td>[hp, td, np, all]</td>\n",
              "      <td>None</td>\n",
              "      <td>None</td>\n",
              "    </tr>\n",
              "    <tr>\n",
              "      <th>14</th>\n",
              "      <td>trec-wt-2009</td>\n",
              "      <td>True</td>\n",
              "      <td>[adhoc, adhoc.catA, adhoc.catB]</td>\n",
              "      <td>None</td>\n",
              "      <td>None</td>\n",
              "    </tr>\n",
              "    <tr>\n",
              "      <th>15</th>\n",
              "      <td>trec-wt-2010</td>\n",
              "      <td>True</td>\n",
              "      <td>[adhoc]</td>\n",
              "      <td>None</td>\n",
              "      <td>None</td>\n",
              "    </tr>\n",
              "    <tr>\n",
              "      <th>16</th>\n",
              "      <td>trec-wt-2011</td>\n",
              "      <td>True</td>\n",
              "      <td>[adhoc]</td>\n",
              "      <td>None</td>\n",
              "      <td>None</td>\n",
              "    </tr>\n",
              "    <tr>\n",
              "      <th>17</th>\n",
              "      <td>trec-wt-2012</td>\n",
              "      <td>True</td>\n",
              "      <td>[adhoc]</td>\n",
              "      <td>None</td>\n",
              "      <td>None</td>\n",
              "    </tr>\n",
              "  </tbody>\n",
              "</table>\n",
              "</div>"
            ],
            "text/plain": [
              "                        dataset  ... index\n",
              "0                         50pct  ...  True\n",
              "1                       antique  ...  None\n",
              "2                       vaswani  ...  True\n",
              "3       trec-deep-learning-docs  ...  None\n",
              "4   trec-deep-learning-passages  ...  None\n",
              "5              trec-robust-2004  ...  None\n",
              "6              trec-robust-2005  ...  None\n",
              "7                 trec-terabyte  ...  None\n",
              "8       trec-precision-medicine  ...  None\n",
              "9                    trec-covid  ...  None\n",
              "10                    trec-wt2g  ...  None\n",
              "11                 trec-wt-2002  ...  None\n",
              "12                 trec-wt-2003  ...  None\n",
              "13                 trec-wt-2004  ...  None\n",
              "14                 trec-wt-2009  ...  None\n",
              "15                 trec-wt-2010  ...  None\n",
              "16                 trec-wt-2011  ...  None\n",
              "17                 trec-wt-2012  ...  None\n",
              "\n",
              "[18 rows x 5 columns]"
            ]
          },
          "metadata": {
            "tags": []
          },
          "execution_count": 67
        }
      ]
    },
    {
      "cell_type": "markdown",
      "metadata": {
        "id": "wD3GIPfC7EHS"
      },
      "source": [
        "There are several sets of files we need for Exercise 1:\n",
        " - the index for 50% of the TREC GOV corpus. We provide this through the \"50pct\" dataset, but you will need the username and password that we assigned to you after you signed the user license agreement.\n",
        " - the topics (queries) and qrels (relevance assessments) for evaluating the performance of our search engine. These come from the \"trec-wt-2004\" dataset.\n",
        "\n",
        "Update your username and password. DO NOT SHARE your login details with other students - all they need to do is submit a signed user agreement to us.\n",
        "\n"
      ]
    },
    {
      "cell_type": "code",
      "metadata": {
        "id": "GzxpU1Kn7t8n"
      },
      "source": [
        "USERNAME = \"TODO\"\n",
        "PASSWORD = \"TODO\"\n",
        "\n",
        "dotgov_50pct = pt.get_dataset(\"50pct\", user='2210049p', password='e54de6e4')\n",
        "dotgov_topicsqrels =  pt.get_dataset(\"trec-wt-2004\")"
      ],
      "execution_count": null,
      "outputs": []
    },
    {
      "cell_type": "markdown",
      "metadata": {
        "id": "xi4PSIgmaN5K"
      },
      "source": [
        "The size of the \"50pct\" index is 800MB - this will take a minute or so for Colab to download before we load it for the first time."
      ]
    },
    {
      "cell_type": "code",
      "metadata": {
        "id": "SLGyh2OkuaXd"
      },
      "source": [
        "indexref = dotgov_50pct.get_index()\n",
        "index = pt.IndexFactory.of(indexref)\n",
        "\n"
      ],
      "execution_count": null,
      "outputs": []
    },
    {
      "cell_type": "markdown",
      "metadata": {
        "id": "L0BTGU9_aQ44"
      },
      "source": [
        "# Q1\n",
        "\n",
        "Using this setup, you now have sufficient knowledge from the introductory lab to complete Q1 of this assessed exercise, namely to get the indexing statistics of the \"50pct\" collection."
      ]
    },
    {
      "cell_type": "code",
      "metadata": {
        "id": "as_KilnWmDf2",
        "colab": {
          "base_uri": "https://localhost:8080/"
        },
        "outputId": "01007223-51b5-47fa-a139-4a2f02684fe9"
      },
      "source": [
        "#Get index statistics of collection\r\n",
        "print(index.getCollectionStatistics().toString())"
      ],
      "execution_count": null,
      "outputs": [
        {
          "output_type": "stream",
          "text": [
            "Number of documents: 807775\n",
            "Number of terms: 2043788\n",
            "Number of postings: 177737957\n",
            "Number of fields: 0\n",
            "Number of tokens: 572916194\n",
            "Field names: []\n",
            "Positions:   false\n",
            "\n"
          ],
          "name": "stdout"
        }
      ]
    },
    {
      "cell_type": "markdown",
      "metadata": {
        "id": "rzW2v-qchgIF"
      },
      "source": [
        "# Retrieval & Evaluation\n",
        "\n",
        "In our experiments, we are using three sets of topics: \"hp\", \"np\" and \"td\". We can obtain them from the `dotgov_topicsqrels` dataset as follows:"
      ]
    },
    {
      "cell_type": "code",
      "metadata": {
        "id": "qR5fkwEglDIA",
        "colab": {
          "base_uri": "https://localhost:8080/",
          "height": 194
        },
        "outputId": "3456c46f-b319-4e32-84bf-1927eaf6e2aa"
      },
      "source": [
        "topics = dotgov_topicsqrels.get_topics(variant=\"hp\")\n",
        "topics.head(5)"
      ],
      "execution_count": null,
      "outputs": [
        {
          "output_type": "execute_result",
          "data": {
            "text/html": [
              "<div>\n",
              "<style scoped>\n",
              "    .dataframe tbody tr th:only-of-type {\n",
              "        vertical-align: middle;\n",
              "    }\n",
              "\n",
              "    .dataframe tbody tr th {\n",
              "        vertical-align: top;\n",
              "    }\n",
              "\n",
              "    .dataframe thead th {\n",
              "        text-align: right;\n",
              "    }\n",
              "</style>\n",
              "<table border=\"1\" class=\"dataframe\">\n",
              "  <thead>\n",
              "    <tr style=\"text-align: right;\">\n",
              "      <th></th>\n",
              "      <th>qid</th>\n",
              "      <th>query</th>\n",
              "    </tr>\n",
              "  </thead>\n",
              "  <tbody>\n",
              "    <tr>\n",
              "      <th>0</th>\n",
              "      <td>6</td>\n",
              "      <td>philadelphia streets</td>\n",
              "    </tr>\n",
              "    <tr>\n",
              "      <th>1</th>\n",
              "      <td>7</td>\n",
              "      <td>togo embassy</td>\n",
              "    </tr>\n",
              "    <tr>\n",
              "      <th>2</th>\n",
              "      <td>9</td>\n",
              "      <td>baltimore</td>\n",
              "    </tr>\n",
              "    <tr>\n",
              "      <th>3</th>\n",
              "      <td>17</td>\n",
              "      <td>secure linux</td>\n",
              "    </tr>\n",
              "    <tr>\n",
              "      <th>4</th>\n",
              "      <td>29</td>\n",
              "      <td>grand canyon monitoring and research center</td>\n",
              "    </tr>\n",
              "  </tbody>\n",
              "</table>\n",
              "</div>"
            ],
            "text/plain": [
              "  qid                                        query\n",
              "0   6                         philadelphia streets\n",
              "1   7                                 togo embassy\n",
              "2   9                                    baltimore\n",
              "3  17                                 secure linux\n",
              "4  29  grand canyon monitoring and research center"
            ]
          },
          "metadata": {
            "tags": []
          },
          "execution_count": 71
        }
      ]
    },
    {
      "cell_type": "code",
      "metadata": {
        "id": "blrYtZW_TRlf"
      },
      "source": [
        ""
      ],
      "execution_count": null,
      "outputs": []
    },
    {
      "cell_type": "markdown",
      "metadata": {
        "id": "aDjZa_9v_vuw"
      },
      "source": [
        "Let's create a simple TF_IDF retriever - we will use this for demonstrating IR evaluation using PyTerrier."
      ]
    },
    {
      "cell_type": "code",
      "metadata": {
        "id": "vfqR_MHF7wvn"
      },
      "source": [
        "retr = pt.BatchRetrieve(index, wmodel=\"TF_IDF\")"
      ],
      "execution_count": null,
      "outputs": []
    },
    {
      "cell_type": "markdown",
      "metadata": {
        "id": "JeNYoPbrj7FN"
      },
      "source": [
        "Let's see how we can actually evaluate our TF_IDF retrieval system. Firstly, we'll need the qrels."
      ]
    },
    {
      "cell_type": "code",
      "metadata": {
        "id": "uvw_CXrak5MQ"
      },
      "source": [
        "qrels = dotgov_topicsqrels.get_qrels(variant='hp')"
      ],
      "execution_count": null,
      "outputs": []
    },
    {
      "cell_type": "markdown",
      "metadata": {
        "id": "ON8yEcWukIIA"
      },
      "source": [
        "We can use `pt.Utils.evaluate(results, qrels)` to evaluate the results    \n",
        "Args:    \n",
        " - metrics, `default = [\"map\", ndcg\"]`, select the evaluation metrics    \n",
        " - perquery, `default = False`, select whether to show the mean of the metrics over all queries or the metrics for each query"
      ]
    },
    {
      "cell_type": "code",
      "metadata": {
        "id": "LXfETppwj55p",
        "colab": {
          "base_uri": "https://localhost:8080/"
        },
        "outputId": "2b7c187d-93b6-4def-ff64-3a2c780a2035"
      },
      "source": [
        "res = retr.transform(topics)\n",
        "eval = pt.Utils.evaluate(res, qrels, metrics=[\"map\"])\n",
        "eval"
      ],
      "execution_count": null,
      "outputs": [
        {
          "output_type": "execute_result",
          "data": {
            "text/plain": [
              "{'map': 0.20894845478512017}"
            ]
          },
          "metadata": {
            "tags": []
          },
          "execution_count": 74
        }
      ]
    },
    {
      "cell_type": "markdown",
      "metadata": {
        "id": "Ph_ZxuEPJVeN"
      },
      "source": [
        "However, creating the res dataframe for each system in turn, and then evaluating it is laborious. We strongly recommend using [`pt.Experiment()`](https://pyterrier.readthedocs.io/en/latest/experiments.html) to evaluate one or more retrieval systems at once, in a declarative manner. \n",
        "\n",
        "Take the time to read the [documentation for `pt.Experiment()`](https://pyterrier.readthedocs.io/en/latest/experiments.html) to understand its available functionality. Q2-Q4 will all require that you adapt the arguments to `pt.Experiment()` and use its output in different ways."
      ]
    },
    {
      "cell_type": "code",
      "metadata": {
        "id": "hdUacQVaJVpd",
        "colab": {
          "base_uri": "https://localhost:8080/",
          "height": 76
        },
        "outputId": "14c5ddae-3f16-4c65-9377-aeaaf3d3af5b"
      },
      "source": [
        "pt.Experiment(\n",
        "    [retr],\n",
        "     dotgov_topicsqrels.get_topics(variant='hp'),\n",
        "     dotgov_topicsqrels.get_qrels(variant='hp'), \n",
        "     eval_metrics=['map']\n",
        ")"
      ],
      "execution_count": null,
      "outputs": [
        {
          "output_type": "execute_result",
          "data": {
            "text/html": [
              "<div>\n",
              "<style scoped>\n",
              "    .dataframe tbody tr th:only-of-type {\n",
              "        vertical-align: middle;\n",
              "    }\n",
              "\n",
              "    .dataframe tbody tr th {\n",
              "        vertical-align: top;\n",
              "    }\n",
              "\n",
              "    .dataframe thead th {\n",
              "        text-align: right;\n",
              "    }\n",
              "</style>\n",
              "<table border=\"1\" class=\"dataframe\">\n",
              "  <thead>\n",
              "    <tr style=\"text-align: right;\">\n",
              "      <th></th>\n",
              "      <th>name</th>\n",
              "      <th>map</th>\n",
              "    </tr>\n",
              "  </thead>\n",
              "  <tbody>\n",
              "    <tr>\n",
              "      <th>0</th>\n",
              "      <td>BR(TF_IDF)</td>\n",
              "      <td>0.208948</td>\n",
              "    </tr>\n",
              "  </tbody>\n",
              "</table>\n",
              "</div>"
            ],
            "text/plain": [
              "         name       map\n",
              "0  BR(TF_IDF)  0.208948"
            ]
          },
          "metadata": {
            "tags": []
          },
          "execution_count": 75
        }
      ]
    },
    {
      "cell_type": "markdown",
      "metadata": {
        "id": "ZZ-9Oo8ebpu9"
      },
      "source": [
        "# Q2(a)\n",
        "\n",
        "You now have enough information to complete Q2(a) of the assessed exercise. \n",
        "\n",
        "*Hint*: We encourage you to write your own functions that perform reusable operations across different topic sets."
      ]
    },
    {
      "cell_type": "code",
      "metadata": {
        "id": "DbUcLvGwGzq1"
      },
      "source": [
        "#Get the indexes for different models\r\n",
        "pl2 = pt.BatchRetrieve(index, wmodel=\"PL2\")\r\n",
        "tfidf = pt.BatchRetrieve(index, wmodel=\"TF_IDF\")\r\n",
        "bm25 = pt.BatchRetrieve(index, wmodel=\"BM25\")"
      ],
      "execution_count": null,
      "outputs": []
    },
    {
      "cell_type": "code",
      "metadata": {
        "id": "Jy99w2hnGAQl"
      },
      "source": [
        "#define two functions for comparing the baseline model with bm25 and pl2\r\n",
        "\r\n",
        "#for baseline we use TF_IDF\r\n",
        "#topic can se be set as desired\r\n",
        "def baseline_bm25(baseline_model, model2, topic):\r\n",
        "  result = pt.Experiment(\r\n",
        "    [baseline_model, model2],\r\n",
        "    dotgov_topicsqrels.get_topics(variant=topic),\r\n",
        "    dotgov_topicsqrels.get_qrels(variant=topic),\r\n",
        "    eval_metrics=[\"map\"],\r\n",
        "    names=[\"TF_IDF\", \"BM25\"],\r\n",
        "    baseline = 0)\r\n",
        "  return result\r\n",
        "\r\n",
        "\r\n",
        "def baseline_pl2(baseline_model, model2, topic):\r\n",
        "  result = pt.Experiment(\r\n",
        "    [baseline_model, model2],\r\n",
        "    dotgov_topicsqrels.get_topics(variant=topic),\r\n",
        "    dotgov_topicsqrels.get_qrels(variant=topic),\r\n",
        "    eval_metrics=[\"map\"],\r\n",
        "    names=[\"TF_IDF\", \"PL2\"],\r\n",
        "    baseline = 0)\r\n",
        "  return result"
      ],
      "execution_count": null,
      "outputs": []
    },
    {
      "cell_type": "code",
      "metadata": {
        "id": "aI1h2l4DHBhF",
        "colab": {
          "base_uri": "https://localhost:8080/",
          "height": 106
        },
        "outputId": "7d4268fb-0acf-4245-c088-98eebb2076bf"
      },
      "source": [
        "baseline_bm25(tfidf, bm25, \"hp\")"
      ],
      "execution_count": null,
      "outputs": [
        {
          "output_type": "execute_result",
          "data": {
            "text/html": [
              "<div>\n",
              "<style scoped>\n",
              "    .dataframe tbody tr th:only-of-type {\n",
              "        vertical-align: middle;\n",
              "    }\n",
              "\n",
              "    .dataframe tbody tr th {\n",
              "        vertical-align: top;\n",
              "    }\n",
              "\n",
              "    .dataframe thead th {\n",
              "        text-align: right;\n",
              "    }\n",
              "</style>\n",
              "<table border=\"1\" class=\"dataframe\">\n",
              "  <thead>\n",
              "    <tr style=\"text-align: right;\">\n",
              "      <th></th>\n",
              "      <th>name</th>\n",
              "      <th>map</th>\n",
              "      <th>map +</th>\n",
              "      <th>map -</th>\n",
              "      <th>map p-value</th>\n",
              "    </tr>\n",
              "  </thead>\n",
              "  <tbody>\n",
              "    <tr>\n",
              "      <th>0</th>\n",
              "      <td>TF_IDF</td>\n",
              "      <td>0.208948</td>\n",
              "      <td>NaN</td>\n",
              "      <td>NaN</td>\n",
              "      <td>NaN</td>\n",
              "    </tr>\n",
              "    <tr>\n",
              "      <th>1</th>\n",
              "      <td>BM25</td>\n",
              "      <td>0.218569</td>\n",
              "      <td>11.0</td>\n",
              "      <td>20.0</td>\n",
              "      <td>0.463462</td>\n",
              "    </tr>\n",
              "  </tbody>\n",
              "</table>\n",
              "</div>"
            ],
            "text/plain": [
              "     name       map  map +  map -  map p-value\n",
              "0  TF_IDF  0.208948    NaN    NaN          NaN\n",
              "1    BM25  0.218569   11.0   20.0     0.463462"
            ]
          },
          "metadata": {
            "tags": []
          },
          "execution_count": 149
        }
      ]
    },
    {
      "cell_type": "code",
      "metadata": {
        "id": "GCeWpCpcIgwz",
        "colab": {
          "base_uri": "https://localhost:8080/",
          "height": 106
        },
        "outputId": "8d6c81c0-414c-42d8-db80-4fc889a58c75"
      },
      "source": [
        "baseline_bm25(tfidf, bm25, \"np\")"
      ],
      "execution_count": null,
      "outputs": [
        {
          "output_type": "execute_result",
          "data": {
            "text/html": [
              "<div>\n",
              "<style scoped>\n",
              "    .dataframe tbody tr th:only-of-type {\n",
              "        vertical-align: middle;\n",
              "    }\n",
              "\n",
              "    .dataframe tbody tr th {\n",
              "        vertical-align: top;\n",
              "    }\n",
              "\n",
              "    .dataframe thead th {\n",
              "        text-align: right;\n",
              "    }\n",
              "</style>\n",
              "<table border=\"1\" class=\"dataframe\">\n",
              "  <thead>\n",
              "    <tr style=\"text-align: right;\">\n",
              "      <th></th>\n",
              "      <th>name</th>\n",
              "      <th>map</th>\n",
              "      <th>map +</th>\n",
              "      <th>map -</th>\n",
              "      <th>map p-value</th>\n",
              "    </tr>\n",
              "  </thead>\n",
              "  <tbody>\n",
              "    <tr>\n",
              "      <th>0</th>\n",
              "      <td>TF_IDF</td>\n",
              "      <td>0.447715</td>\n",
              "      <td>NaN</td>\n",
              "      <td>NaN</td>\n",
              "      <td>NaN</td>\n",
              "    </tr>\n",
              "    <tr>\n",
              "      <th>1</th>\n",
              "      <td>BM25</td>\n",
              "      <td>0.441566</td>\n",
              "      <td>6.0</td>\n",
              "      <td>11.0</td>\n",
              "      <td>0.066561</td>\n",
              "    </tr>\n",
              "  </tbody>\n",
              "</table>\n",
              "</div>"
            ],
            "text/plain": [
              "     name       map  map +  map -  map p-value\n",
              "0  TF_IDF  0.447715    NaN    NaN          NaN\n",
              "1    BM25  0.441566    6.0   11.0     0.066561"
            ]
          },
          "metadata": {
            "tags": []
          },
          "execution_count": 150
        }
      ]
    },
    {
      "cell_type": "code",
      "metadata": {
        "id": "q9pgCJULIgpB",
        "colab": {
          "base_uri": "https://localhost:8080/",
          "height": 106
        },
        "outputId": "6c9260a9-53db-4209-cacd-2baaa5a82030"
      },
      "source": [
        "baseline_bm25(tfidf, bm25, \"td\")"
      ],
      "execution_count": null,
      "outputs": [
        {
          "output_type": "execute_result",
          "data": {
            "text/html": [
              "<div>\n",
              "<style scoped>\n",
              "    .dataframe tbody tr th:only-of-type {\n",
              "        vertical-align: middle;\n",
              "    }\n",
              "\n",
              "    .dataframe tbody tr th {\n",
              "        vertical-align: top;\n",
              "    }\n",
              "\n",
              "    .dataframe thead th {\n",
              "        text-align: right;\n",
              "    }\n",
              "</style>\n",
              "<table border=\"1\" class=\"dataframe\">\n",
              "  <thead>\n",
              "    <tr style=\"text-align: right;\">\n",
              "      <th></th>\n",
              "      <th>name</th>\n",
              "      <th>map</th>\n",
              "      <th>map +</th>\n",
              "      <th>map -</th>\n",
              "      <th>map p-value</th>\n",
              "    </tr>\n",
              "  </thead>\n",
              "  <tbody>\n",
              "    <tr>\n",
              "      <th>0</th>\n",
              "      <td>TF_IDF</td>\n",
              "      <td>0.069793</td>\n",
              "      <td>NaN</td>\n",
              "      <td>NaN</td>\n",
              "      <td>NaN</td>\n",
              "    </tr>\n",
              "    <tr>\n",
              "      <th>1</th>\n",
              "      <td>BM25</td>\n",
              "      <td>0.070254</td>\n",
              "      <td>26.0</td>\n",
              "      <td>31.0</td>\n",
              "      <td>0.249291</td>\n",
              "    </tr>\n",
              "  </tbody>\n",
              "</table>\n",
              "</div>"
            ],
            "text/plain": [
              "     name       map  map +  map -  map p-value\n",
              "0  TF_IDF  0.069793    NaN    NaN          NaN\n",
              "1    BM25  0.070254   26.0   31.0     0.249291"
            ]
          },
          "metadata": {
            "tags": []
          },
          "execution_count": 151
        }
      ]
    },
    {
      "cell_type": "code",
      "metadata": {
        "id": "VzClwB1kIAYk",
        "colab": {
          "base_uri": "https://localhost:8080/",
          "height": 106
        },
        "outputId": "543a0ef9-3bb4-49ac-a9ba-f922e8d39299"
      },
      "source": [
        "baseline_pl2(tfidf, pl2, \"hp\")"
      ],
      "execution_count": null,
      "outputs": [
        {
          "output_type": "execute_result",
          "data": {
            "text/html": [
              "<div>\n",
              "<style scoped>\n",
              "    .dataframe tbody tr th:only-of-type {\n",
              "        vertical-align: middle;\n",
              "    }\n",
              "\n",
              "    .dataframe tbody tr th {\n",
              "        vertical-align: top;\n",
              "    }\n",
              "\n",
              "    .dataframe thead th {\n",
              "        text-align: right;\n",
              "    }\n",
              "</style>\n",
              "<table border=\"1\" class=\"dataframe\">\n",
              "  <thead>\n",
              "    <tr style=\"text-align: right;\">\n",
              "      <th></th>\n",
              "      <th>name</th>\n",
              "      <th>map</th>\n",
              "      <th>map +</th>\n",
              "      <th>map -</th>\n",
              "      <th>map p-value</th>\n",
              "    </tr>\n",
              "  </thead>\n",
              "  <tbody>\n",
              "    <tr>\n",
              "      <th>0</th>\n",
              "      <td>TF_IDF</td>\n",
              "      <td>0.208948</td>\n",
              "      <td>NaN</td>\n",
              "      <td>NaN</td>\n",
              "      <td>NaN</td>\n",
              "    </tr>\n",
              "    <tr>\n",
              "      <th>1</th>\n",
              "      <td>PL2</td>\n",
              "      <td>0.225110</td>\n",
              "      <td>17.0</td>\n",
              "      <td>36.0</td>\n",
              "      <td>0.448418</td>\n",
              "    </tr>\n",
              "  </tbody>\n",
              "</table>\n",
              "</div>"
            ],
            "text/plain": [
              "     name       map  map +  map -  map p-value\n",
              "0  TF_IDF  0.208948    NaN    NaN          NaN\n",
              "1     PL2  0.225110   17.0   36.0     0.448418"
            ]
          },
          "metadata": {
            "tags": []
          },
          "execution_count": 152
        }
      ]
    },
    {
      "cell_type": "code",
      "metadata": {
        "id": "kOJPIT2UIdWf",
        "colab": {
          "base_uri": "https://localhost:8080/",
          "height": 106
        },
        "outputId": "28c48235-cb11-4439-9deb-6a7d6084e387"
      },
      "source": [
        "baseline_pl2(tfidf, pl2, \"np\")"
      ],
      "execution_count": null,
      "outputs": [
        {
          "output_type": "execute_result",
          "data": {
            "text/html": [
              "<div>\n",
              "<style scoped>\n",
              "    .dataframe tbody tr th:only-of-type {\n",
              "        vertical-align: middle;\n",
              "    }\n",
              "\n",
              "    .dataframe tbody tr th {\n",
              "        vertical-align: top;\n",
              "    }\n",
              "\n",
              "    .dataframe thead th {\n",
              "        text-align: right;\n",
              "    }\n",
              "</style>\n",
              "<table border=\"1\" class=\"dataframe\">\n",
              "  <thead>\n",
              "    <tr style=\"text-align: right;\">\n",
              "      <th></th>\n",
              "      <th>name</th>\n",
              "      <th>map</th>\n",
              "      <th>map +</th>\n",
              "      <th>map -</th>\n",
              "      <th>map p-value</th>\n",
              "    </tr>\n",
              "  </thead>\n",
              "  <tbody>\n",
              "    <tr>\n",
              "      <th>0</th>\n",
              "      <td>TF_IDF</td>\n",
              "      <td>0.447715</td>\n",
              "      <td>NaN</td>\n",
              "      <td>NaN</td>\n",
              "      <td>NaN</td>\n",
              "    </tr>\n",
              "    <tr>\n",
              "      <th>1</th>\n",
              "      <td>PL2</td>\n",
              "      <td>0.439182</td>\n",
              "      <td>17.0</td>\n",
              "      <td>20.0</td>\n",
              "      <td>0.654736</td>\n",
              "    </tr>\n",
              "  </tbody>\n",
              "</table>\n",
              "</div>"
            ],
            "text/plain": [
              "     name       map  map +  map -  map p-value\n",
              "0  TF_IDF  0.447715    NaN    NaN          NaN\n",
              "1     PL2  0.439182   17.0   20.0     0.654736"
            ]
          },
          "metadata": {
            "tags": []
          },
          "execution_count": 153
        }
      ]
    },
    {
      "cell_type": "code",
      "metadata": {
        "id": "XAHLMbGgIdN4",
        "colab": {
          "base_uri": "https://localhost:8080/",
          "height": 106
        },
        "outputId": "5e2c7bbc-be87-497e-f71b-d48b737f593a"
      },
      "source": [
        "baseline_pl2(tfidf, pl2, \"td\")"
      ],
      "execution_count": null,
      "outputs": [
        {
          "output_type": "execute_result",
          "data": {
            "text/html": [
              "<div>\n",
              "<style scoped>\n",
              "    .dataframe tbody tr th:only-of-type {\n",
              "        vertical-align: middle;\n",
              "    }\n",
              "\n",
              "    .dataframe tbody tr th {\n",
              "        vertical-align: top;\n",
              "    }\n",
              "\n",
              "    .dataframe thead th {\n",
              "        text-align: right;\n",
              "    }\n",
              "</style>\n",
              "<table border=\"1\" class=\"dataframe\">\n",
              "  <thead>\n",
              "    <tr style=\"text-align: right;\">\n",
              "      <th></th>\n",
              "      <th>name</th>\n",
              "      <th>map</th>\n",
              "      <th>map +</th>\n",
              "      <th>map -</th>\n",
              "      <th>map p-value</th>\n",
              "    </tr>\n",
              "  </thead>\n",
              "  <tbody>\n",
              "    <tr>\n",
              "      <th>0</th>\n",
              "      <td>TF_IDF</td>\n",
              "      <td>0.069793</td>\n",
              "      <td>NaN</td>\n",
              "      <td>NaN</td>\n",
              "      <td>NaN</td>\n",
              "    </tr>\n",
              "    <tr>\n",
              "      <th>1</th>\n",
              "      <td>PL2</td>\n",
              "      <td>0.069525</td>\n",
              "      <td>39.0</td>\n",
              "      <td>36.0</td>\n",
              "      <td>0.862098</td>\n",
              "    </tr>\n",
              "  </tbody>\n",
              "</table>\n",
              "</div>"
            ],
            "text/plain": [
              "     name       map  map +  map -  map p-value\n",
              "0  TF_IDF  0.069793    NaN    NaN          NaN\n",
              "1     PL2  0.069525   39.0   36.0     0.862098"
            ]
          },
          "metadata": {
            "tags": []
          },
          "execution_count": 154
        }
      ]
    },
    {
      "cell_type": "code",
      "metadata": {
        "id": "3uPPIhZHP2O8"
      },
      "source": [
        "#define a function to return the results for the comparison of the three models\r\n",
        "# on the different topic sets hp,np,td\r\n",
        "def map(model1, model2, model3, topic):\r\n",
        "  result = pt.Experiment(\r\n",
        "    [model1, model2, model3],\r\n",
        "    dotgov_topicsqrels.get_topics(variant=topic),\r\n",
        "    dotgov_topicsqrels.get_qrels(variant=topic),\r\n",
        "    eval_metrics=[\"map\"],\r\n",
        "    names=[\"TF_IDF\", \"PL2\", \"BM25\"])\r\n",
        "  return result"
      ],
      "execution_count": null,
      "outputs": []
    },
    {
      "cell_type": "code",
      "metadata": {
        "id": "PA9oliW9S2IR",
        "colab": {
          "base_uri": "https://localhost:8080/",
          "height": 135
        },
        "outputId": "fba6e01f-ff32-47a9-d855-747cfdf507b3"
      },
      "source": [
        "hp_map = map(tfidf, pl2, bm25, \"hp\")\r\n",
        "hp_map"
      ],
      "execution_count": null,
      "outputs": [
        {
          "output_type": "execute_result",
          "data": {
            "text/html": [
              "<div>\n",
              "<style scoped>\n",
              "    .dataframe tbody tr th:only-of-type {\n",
              "        vertical-align: middle;\n",
              "    }\n",
              "\n",
              "    .dataframe tbody tr th {\n",
              "        vertical-align: top;\n",
              "    }\n",
              "\n",
              "    .dataframe thead th {\n",
              "        text-align: right;\n",
              "    }\n",
              "</style>\n",
              "<table border=\"1\" class=\"dataframe\">\n",
              "  <thead>\n",
              "    <tr style=\"text-align: right;\">\n",
              "      <th></th>\n",
              "      <th>name</th>\n",
              "      <th>map</th>\n",
              "    </tr>\n",
              "  </thead>\n",
              "  <tbody>\n",
              "    <tr>\n",
              "      <th>0</th>\n",
              "      <td>TF_IDF</td>\n",
              "      <td>0.208948</td>\n",
              "    </tr>\n",
              "    <tr>\n",
              "      <th>1</th>\n",
              "      <td>PL2</td>\n",
              "      <td>0.225110</td>\n",
              "    </tr>\n",
              "    <tr>\n",
              "      <th>2</th>\n",
              "      <td>BM25</td>\n",
              "      <td>0.218569</td>\n",
              "    </tr>\n",
              "  </tbody>\n",
              "</table>\n",
              "</div>"
            ],
            "text/plain": [
              "     name       map\n",
              "0  TF_IDF  0.208948\n",
              "1     PL2  0.225110\n",
              "2    BM25  0.218569"
            ]
          },
          "metadata": {
            "tags": []
          },
          "execution_count": 159
        }
      ]
    },
    {
      "cell_type": "code",
      "metadata": {
        "id": "V93f7-WZTjBi",
        "colab": {
          "base_uri": "https://localhost:8080/",
          "height": 135
        },
        "outputId": "86d44411-c2c9-41e7-ba0b-f23734789d54"
      },
      "source": [
        "np_map = map(tfidf, pl2, bm25, \"np\")\r\n",
        "np_map"
      ],
      "execution_count": null,
      "outputs": [
        {
          "output_type": "execute_result",
          "data": {
            "text/html": [
              "<div>\n",
              "<style scoped>\n",
              "    .dataframe tbody tr th:only-of-type {\n",
              "        vertical-align: middle;\n",
              "    }\n",
              "\n",
              "    .dataframe tbody tr th {\n",
              "        vertical-align: top;\n",
              "    }\n",
              "\n",
              "    .dataframe thead th {\n",
              "        text-align: right;\n",
              "    }\n",
              "</style>\n",
              "<table border=\"1\" class=\"dataframe\">\n",
              "  <thead>\n",
              "    <tr style=\"text-align: right;\">\n",
              "      <th></th>\n",
              "      <th>name</th>\n",
              "      <th>map</th>\n",
              "    </tr>\n",
              "  </thead>\n",
              "  <tbody>\n",
              "    <tr>\n",
              "      <th>0</th>\n",
              "      <td>TF_IDF</td>\n",
              "      <td>0.447715</td>\n",
              "    </tr>\n",
              "    <tr>\n",
              "      <th>1</th>\n",
              "      <td>PL2</td>\n",
              "      <td>0.439182</td>\n",
              "    </tr>\n",
              "    <tr>\n",
              "      <th>2</th>\n",
              "      <td>BM25</td>\n",
              "      <td>0.441566</td>\n",
              "    </tr>\n",
              "  </tbody>\n",
              "</table>\n",
              "</div>"
            ],
            "text/plain": [
              "     name       map\n",
              "0  TF_IDF  0.447715\n",
              "1     PL2  0.439182\n",
              "2    BM25  0.441566"
            ]
          },
          "metadata": {
            "tags": []
          },
          "execution_count": 160
        }
      ]
    },
    {
      "cell_type": "code",
      "metadata": {
        "id": "--NCMHNtTi40",
        "colab": {
          "base_uri": "https://localhost:8080/",
          "height": 135
        },
        "outputId": "58fe097c-3803-441a-a58b-aa4be5d530d9"
      },
      "source": [
        "td_map = map(tfidf, pl2, bm25, \"td\")\r\n",
        "td_map"
      ],
      "execution_count": null,
      "outputs": [
        {
          "output_type": "execute_result",
          "data": {
            "text/html": [
              "<div>\n",
              "<style scoped>\n",
              "    .dataframe tbody tr th:only-of-type {\n",
              "        vertical-align: middle;\n",
              "    }\n",
              "\n",
              "    .dataframe tbody tr th {\n",
              "        vertical-align: top;\n",
              "    }\n",
              "\n",
              "    .dataframe thead th {\n",
              "        text-align: right;\n",
              "    }\n",
              "</style>\n",
              "<table border=\"1\" class=\"dataframe\">\n",
              "  <thead>\n",
              "    <tr style=\"text-align: right;\">\n",
              "      <th></th>\n",
              "      <th>name</th>\n",
              "      <th>map</th>\n",
              "    </tr>\n",
              "  </thead>\n",
              "  <tbody>\n",
              "    <tr>\n",
              "      <th>0</th>\n",
              "      <td>TF_IDF</td>\n",
              "      <td>0.069793</td>\n",
              "    </tr>\n",
              "    <tr>\n",
              "      <th>1</th>\n",
              "      <td>PL2</td>\n",
              "      <td>0.069525</td>\n",
              "    </tr>\n",
              "    <tr>\n",
              "      <th>2</th>\n",
              "      <td>BM25</td>\n",
              "      <td>0.070254</td>\n",
              "    </tr>\n",
              "  </tbody>\n",
              "</table>\n",
              "</div>"
            ],
            "text/plain": [
              "     name       map\n",
              "0  TF_IDF  0.069793\n",
              "1     PL2  0.069525\n",
              "2    BM25  0.070254"
            ]
          },
          "metadata": {
            "tags": []
          },
          "execution_count": 161
        }
      ]
    },
    {
      "cell_type": "markdown",
      "metadata": {
        "id": "8qHMvDclKRKg"
      },
      "source": [
        "# Print results of MAPs of each model on each topic set"
      ]
    },
    {
      "cell_type": "code",
      "metadata": {
        "id": "XPgFP7f-UD2-",
        "colab": {
          "base_uri": "https://localhost:8080/"
        },
        "outputId": "40e3cff6-8d25-4f37-a11a-23157806838d"
      },
      "source": [
        "#print the average map of the three topic sets for TF_IDF\r\n",
        "print((hp_map[hp_map['name'] == 'TF_IDF']['map'] + \r\n",
        "np_map[hp_map['name'] == 'TF_IDF']['map'] + \r\n",
        "td_map[hp_map['name'] == 'TF_IDF']['map'])/3)"
      ],
      "execution_count": null,
      "outputs": [
        {
          "output_type": "stream",
          "text": [
            "0    0.242152\n",
            "Name: map, dtype: float64\n"
          ],
          "name": "stdout"
        }
      ]
    },
    {
      "cell_type": "code",
      "metadata": {
        "id": "fwKbZbQIWwJE",
        "colab": {
          "base_uri": "https://localhost:8080/"
        },
        "outputId": "941a4592-aeaf-4202-e532-1b9219cb25bd"
      },
      "source": [
        "#print the average map of the three topic sets for PL2\r\n",
        "print((hp_map[hp_map['name'] == 'PL2']['map'] + \r\n",
        "np_map[hp_map['name'] == 'PL2']['map'] + \r\n",
        "td_map[hp_map['name'] == 'PL2']['map'])/3)"
      ],
      "execution_count": null,
      "outputs": [
        {
          "output_type": "stream",
          "text": [
            "1    0.244606\n",
            "Name: map, dtype: float64\n"
          ],
          "name": "stdout"
        }
      ]
    },
    {
      "cell_type": "code",
      "metadata": {
        "id": "Wr010Bi8Wv-_",
        "colab": {
          "base_uri": "https://localhost:8080/"
        },
        "outputId": "eb31b470-54b4-4c91-b54f-1d1b92b13591"
      },
      "source": [
        "#print the average map of the three topic sets for BM25\r\n",
        "print((hp_map[hp_map['name'] == 'BM25']['map'] + \r\n",
        "np_map[hp_map['name'] == 'BM25']['map'] + \r\n",
        "td_map[hp_map['name'] == 'BM25']['map'])/3)"
      ],
      "execution_count": null,
      "outputs": [
        {
          "output_type": "stream",
          "text": [
            "2    0.243463\n",
            "Name: map, dtype: float64\n"
          ],
          "name": "stdout"
        }
      ]
    },
    {
      "cell_type": "markdown",
      "metadata": {
        "id": "VbIV9xcFe586"
      },
      "source": [
        "#Q2(b) \n",
        "\n",
        "Question 2(b) is concerned with drawing interpolated recall precision curves. You will need to use the `\"iprec_at_recall\"` measure.\n",
        "\n",
        "*Hint*: Matplotlib has a [`savefig()`](https://chartio.com/resources/tutorials/how-to-save-a-plot-to-a-file-using-matplotlib/#the-savefig-method) function for saving a PNG of a figure."
      ]
    },
    {
      "cell_type": "code",
      "metadata": {
        "id": "EpaAlSgpXDE6"
      },
      "source": [
        "#define a function to calculate the iprec_at_recall values for the three models\r\n",
        "#on the different topic sets individually\r\n",
        "def iprec_at_recall(model1, model2, model3, topic, metric):\r\n",
        "  result = pt.Experiment(\r\n",
        "    [model1, model2, model3],\r\n",
        "    dotgov_topicsqrels.get_topics(variant=topic),\r\n",
        "    dotgov_topicsqrels.get_qrels(variant=topic),\r\n",
        "    eval_metrics=[metric],\r\n",
        "    names=[\"TF_IDF\", \"PL2\", \"BM25\"])\r\n",
        "  return result"
      ],
      "execution_count": null,
      "outputs": []
    },
    {
      "cell_type": "code",
      "metadata": {
        "id": "RMMyvtVVXclv",
        "colab": {
          "base_uri": "https://localhost:8080/",
          "height": 155
        },
        "outputId": "62906bd4-6b7f-4150-cccf-1e8291212b1d"
      },
      "source": [
        "#hp precision-recall values for the three models\r\n",
        "hp_recall = iprec_at_recall(tfidf, pl2, bm25, \"hp\", \"iprec_at_recall\")\r\n",
        "hp_recall"
      ],
      "execution_count": null,
      "outputs": [
        {
          "output_type": "execute_result",
          "data": {
            "text/html": [
              "<div>\n",
              "<style scoped>\n",
              "    .dataframe tbody tr th:only-of-type {\n",
              "        vertical-align: middle;\n",
              "    }\n",
              "\n",
              "    .dataframe tbody tr th {\n",
              "        vertical-align: top;\n",
              "    }\n",
              "\n",
              "    .dataframe thead th {\n",
              "        text-align: right;\n",
              "    }\n",
              "</style>\n",
              "<table border=\"1\" class=\"dataframe\">\n",
              "  <thead>\n",
              "    <tr style=\"text-align: right;\">\n",
              "      <th></th>\n",
              "      <th>name</th>\n",
              "      <th>iprec_at_recall_0.00</th>\n",
              "      <th>iprec_at_recall_0.10</th>\n",
              "      <th>iprec_at_recall_0.20</th>\n",
              "      <th>iprec_at_recall_0.30</th>\n",
              "      <th>iprec_at_recall_0.40</th>\n",
              "      <th>iprec_at_recall_0.50</th>\n",
              "      <th>iprec_at_recall_0.60</th>\n",
              "      <th>iprec_at_recall_0.70</th>\n",
              "      <th>iprec_at_recall_0.80</th>\n",
              "      <th>iprec_at_recall_0.90</th>\n",
              "      <th>iprec_at_recall_1.00</th>\n",
              "    </tr>\n",
              "  </thead>\n",
              "  <tbody>\n",
              "    <tr>\n",
              "      <th>0</th>\n",
              "      <td>TF_IDF</td>\n",
              "      <td>0.213123</td>\n",
              "      <td>0.213123</td>\n",
              "      <td>0.213123</td>\n",
              "      <td>0.213123</td>\n",
              "      <td>0.213123</td>\n",
              "      <td>0.213123</td>\n",
              "      <td>0.206457</td>\n",
              "      <td>0.206457</td>\n",
              "      <td>0.206457</td>\n",
              "      <td>0.206457</td>\n",
              "      <td>0.206457</td>\n",
              "    </tr>\n",
              "    <tr>\n",
              "      <th>1</th>\n",
              "      <td>PL2</td>\n",
              "      <td>0.229183</td>\n",
              "      <td>0.229183</td>\n",
              "      <td>0.229183</td>\n",
              "      <td>0.229183</td>\n",
              "      <td>0.229183</td>\n",
              "      <td>0.229183</td>\n",
              "      <td>0.222516</td>\n",
              "      <td>0.222516</td>\n",
              "      <td>0.222516</td>\n",
              "      <td>0.222516</td>\n",
              "      <td>0.222516</td>\n",
              "    </tr>\n",
              "    <tr>\n",
              "      <th>2</th>\n",
              "      <td>BM25</td>\n",
              "      <td>0.222756</td>\n",
              "      <td>0.222756</td>\n",
              "      <td>0.222756</td>\n",
              "      <td>0.222756</td>\n",
              "      <td>0.222756</td>\n",
              "      <td>0.222756</td>\n",
              "      <td>0.216090</td>\n",
              "      <td>0.216090</td>\n",
              "      <td>0.216090</td>\n",
              "      <td>0.216090</td>\n",
              "      <td>0.216090</td>\n",
              "    </tr>\n",
              "  </tbody>\n",
              "</table>\n",
              "</div>"
            ],
            "text/plain": [
              "     name  iprec_at_recall_0.00  ...  iprec_at_recall_0.90  iprec_at_recall_1.00\n",
              "0  TF_IDF              0.213123  ...              0.206457              0.206457\n",
              "1     PL2              0.229183  ...              0.222516              0.222516\n",
              "2    BM25              0.222756  ...              0.216090              0.216090\n",
              "\n",
              "[3 rows x 12 columns]"
            ]
          },
          "metadata": {
            "tags": []
          },
          "execution_count": 166
        }
      ]
    },
    {
      "cell_type": "code",
      "metadata": {
        "id": "cAgdjp6xX9ZU",
        "colab": {
          "base_uri": "https://localhost:8080/",
          "height": 155
        },
        "outputId": "ba6fc18e-d3a1-45d4-ac4a-d00d02c040b5"
      },
      "source": [
        "#np precision-recall values for the three models\r\n",
        "np_recall = iprec_at_recall(tfidf, pl2, bm25, \"np\", \"iprec_at_recall\")\r\n",
        "np_recall"
      ],
      "execution_count": null,
      "outputs": [
        {
          "output_type": "execute_result",
          "data": {
            "text/html": [
              "<div>\n",
              "<style scoped>\n",
              "    .dataframe tbody tr th:only-of-type {\n",
              "        vertical-align: middle;\n",
              "    }\n",
              "\n",
              "    .dataframe tbody tr th {\n",
              "        vertical-align: top;\n",
              "    }\n",
              "\n",
              "    .dataframe thead th {\n",
              "        text-align: right;\n",
              "    }\n",
              "</style>\n",
              "<table border=\"1\" class=\"dataframe\">\n",
              "  <thead>\n",
              "    <tr style=\"text-align: right;\">\n",
              "      <th></th>\n",
              "      <th>name</th>\n",
              "      <th>iprec_at_recall_0.00</th>\n",
              "      <th>iprec_at_recall_0.10</th>\n",
              "      <th>iprec_at_recall_0.20</th>\n",
              "      <th>iprec_at_recall_0.30</th>\n",
              "      <th>iprec_at_recall_0.40</th>\n",
              "      <th>iprec_at_recall_0.50</th>\n",
              "      <th>iprec_at_recall_0.60</th>\n",
              "      <th>iprec_at_recall_0.70</th>\n",
              "      <th>iprec_at_recall_0.80</th>\n",
              "      <th>iprec_at_recall_0.90</th>\n",
              "      <th>iprec_at_recall_1.00</th>\n",
              "    </tr>\n",
              "  </thead>\n",
              "  <tbody>\n",
              "    <tr>\n",
              "      <th>0</th>\n",
              "      <td>TF_IDF</td>\n",
              "      <td>0.449847</td>\n",
              "      <td>0.449847</td>\n",
              "      <td>0.449847</td>\n",
              "      <td>0.449847</td>\n",
              "      <td>0.449847</td>\n",
              "      <td>0.449847</td>\n",
              "      <td>0.446609</td>\n",
              "      <td>0.446609</td>\n",
              "      <td>0.446609</td>\n",
              "      <td>0.446609</td>\n",
              "      <td>0.446609</td>\n",
              "    </tr>\n",
              "    <tr>\n",
              "      <th>1</th>\n",
              "      <td>PL2</td>\n",
              "      <td>0.443162</td>\n",
              "      <td>0.443162</td>\n",
              "      <td>0.443162</td>\n",
              "      <td>0.443162</td>\n",
              "      <td>0.443162</td>\n",
              "      <td>0.443162</td>\n",
              "      <td>0.436496</td>\n",
              "      <td>0.436496</td>\n",
              "      <td>0.436496</td>\n",
              "      <td>0.436496</td>\n",
              "      <td>0.436496</td>\n",
              "    </tr>\n",
              "    <tr>\n",
              "      <th>2</th>\n",
              "      <td>BM25</td>\n",
              "      <td>0.443682</td>\n",
              "      <td>0.443682</td>\n",
              "      <td>0.443682</td>\n",
              "      <td>0.443682</td>\n",
              "      <td>0.443682</td>\n",
              "      <td>0.443682</td>\n",
              "      <td>0.440296</td>\n",
              "      <td>0.440296</td>\n",
              "      <td>0.440296</td>\n",
              "      <td>0.440296</td>\n",
              "      <td>0.440296</td>\n",
              "    </tr>\n",
              "  </tbody>\n",
              "</table>\n",
              "</div>"
            ],
            "text/plain": [
              "     name  iprec_at_recall_0.00  ...  iprec_at_recall_0.90  iprec_at_recall_1.00\n",
              "0  TF_IDF              0.449847  ...              0.446609              0.446609\n",
              "1     PL2              0.443162  ...              0.436496              0.436496\n",
              "2    BM25              0.443682  ...              0.440296              0.440296\n",
              "\n",
              "[3 rows x 12 columns]"
            ]
          },
          "metadata": {
            "tags": []
          },
          "execution_count": 167
        }
      ]
    },
    {
      "cell_type": "code",
      "metadata": {
        "id": "MBzXdKCpX9Qt",
        "colab": {
          "base_uri": "https://localhost:8080/",
          "height": 155
        },
        "outputId": "51c44cd4-b1f6-48ce-ab20-33d465c39b93"
      },
      "source": [
        "#td precision-recall values for the three models\r\n",
        "td_recall = iprec_at_recall(tfidf, pl2, bm25, \"td\", \"iprec_at_recall\")\r\n",
        "td_recall"
      ],
      "execution_count": null,
      "outputs": [
        {
          "output_type": "execute_result",
          "data": {
            "text/html": [
              "<div>\n",
              "<style scoped>\n",
              "    .dataframe tbody tr th:only-of-type {\n",
              "        vertical-align: middle;\n",
              "    }\n",
              "\n",
              "    .dataframe tbody tr th {\n",
              "        vertical-align: top;\n",
              "    }\n",
              "\n",
              "    .dataframe thead th {\n",
              "        text-align: right;\n",
              "    }\n",
              "</style>\n",
              "<table border=\"1\" class=\"dataframe\">\n",
              "  <thead>\n",
              "    <tr style=\"text-align: right;\">\n",
              "      <th></th>\n",
              "      <th>name</th>\n",
              "      <th>iprec_at_recall_0.00</th>\n",
              "      <th>iprec_at_recall_0.10</th>\n",
              "      <th>iprec_at_recall_0.20</th>\n",
              "      <th>iprec_at_recall_0.30</th>\n",
              "      <th>iprec_at_recall_0.40</th>\n",
              "      <th>iprec_at_recall_0.50</th>\n",
              "      <th>iprec_at_recall_0.60</th>\n",
              "      <th>iprec_at_recall_0.70</th>\n",
              "      <th>iprec_at_recall_0.80</th>\n",
              "      <th>iprec_at_recall_0.90</th>\n",
              "      <th>iprec_at_recall_1.00</th>\n",
              "    </tr>\n",
              "  </thead>\n",
              "  <tbody>\n",
              "    <tr>\n",
              "      <th>0</th>\n",
              "      <td>TF_IDF</td>\n",
              "      <td>0.276114</td>\n",
              "      <td>0.175919</td>\n",
              "      <td>0.128181</td>\n",
              "      <td>0.101728</td>\n",
              "      <td>0.086377</td>\n",
              "      <td>0.057259</td>\n",
              "      <td>0.041509</td>\n",
              "      <td>0.024809</td>\n",
              "      <td>0.012481</td>\n",
              "      <td>0.006777</td>\n",
              "      <td>0.005552</td>\n",
              "    </tr>\n",
              "    <tr>\n",
              "      <th>1</th>\n",
              "      <td>PL2</td>\n",
              "      <td>0.270838</td>\n",
              "      <td>0.164414</td>\n",
              "      <td>0.124698</td>\n",
              "      <td>0.106343</td>\n",
              "      <td>0.087748</td>\n",
              "      <td>0.058264</td>\n",
              "      <td>0.043410</td>\n",
              "      <td>0.027931</td>\n",
              "      <td>0.012583</td>\n",
              "      <td>0.006585</td>\n",
              "      <td>0.005594</td>\n",
              "    </tr>\n",
              "    <tr>\n",
              "      <th>2</th>\n",
              "      <td>BM25</td>\n",
              "      <td>0.274648</td>\n",
              "      <td>0.176544</td>\n",
              "      <td>0.128443</td>\n",
              "      <td>0.103514</td>\n",
              "      <td>0.087262</td>\n",
              "      <td>0.058282</td>\n",
              "      <td>0.042106</td>\n",
              "      <td>0.025099</td>\n",
              "      <td>0.012327</td>\n",
              "      <td>0.006695</td>\n",
              "      <td>0.005591</td>\n",
              "    </tr>\n",
              "  </tbody>\n",
              "</table>\n",
              "</div>"
            ],
            "text/plain": [
              "     name  iprec_at_recall_0.00  ...  iprec_at_recall_0.90  iprec_at_recall_1.00\n",
              "0  TF_IDF              0.276114  ...              0.006777              0.005552\n",
              "1     PL2              0.270838  ...              0.006585              0.005594\n",
              "2    BM25              0.274648  ...              0.006695              0.005591\n",
              "\n",
              "[3 rows x 12 columns]"
            ]
          },
          "metadata": {
            "tags": []
          },
          "execution_count": 168
        }
      ]
    },
    {
      "cell_type": "code",
      "metadata": {
        "id": "9G-OftLxuMtz"
      },
      "source": [
        "import matplotlib.pyplot as plot\r\n",
        "from google.colab import files"
      ],
      "execution_count": null,
      "outputs": []
    },
    {
      "cell_type": "code",
      "metadata": {
        "id": "DwmffVjqmcjv"
      },
      "source": [
        "#set indexes for all dataframes produced to display the graphs for each topic set\r\n",
        "hp_recall.set_index('name', inplace=True)\r\n",
        "np_recall.set_index('name', inplace=True)\r\n",
        "td_recall.set_index('name', inplace=True)"
      ],
      "execution_count": null,
      "outputs": []
    },
    {
      "cell_type": "code",
      "metadata": {
        "id": "wf7GVUMFfE_t",
        "colab": {
          "base_uri": "https://localhost:8080/",
          "height": 374
        },
        "outputId": "82d0f133-cb2d-4ac7-8ec8-d26b61c64c2b"
      },
      "source": [
        "hp_recall.T.plot(rot=90)"
      ],
      "execution_count": null,
      "outputs": [
        {
          "output_type": "execute_result",
          "data": {
            "text/plain": [
              "<matplotlib.axes._subplots.AxesSubplot at 0x7f3be87f3c50>"
            ]
          },
          "metadata": {
            "tags": []
          },
          "execution_count": 171
        },
        {
          "output_type": "display_data",
          "data": {
            "image/png": "[encoded data removed]",
            "text/plain": [
              "<Figure size 432x288 with 1 Axes>"
            ]
          },
          "metadata": {
            "tags": [],
            "needs_background": "light"
          }
        }
      ]
    },
    {
      "cell_type": "code",
      "metadata": {
        "id": "7UF8X4_cmuTc",
        "colab": {
          "base_uri": "https://localhost:8080/",
          "height": 372
        },
        "outputId": "27fbfce8-386e-435a-f3f5-9bffbf4785ee"
      },
      "source": [
        "np_recall.T.plot(rot=90)"
      ],
      "execution_count": null,
      "outputs": [
        {
          "output_type": "execute_result",
          "data": {
            "text/plain": [
              "<matplotlib.axes._subplots.AxesSubplot at 0x7f3be87d3cc0>"
            ]
          },
          "metadata": {
            "tags": []
          },
          "execution_count": 172
        },
        {
          "output_type": "display_data",
          "data": {
            "image/png": "[encoded data removed]",
            "text/plain": [
              "<Figure size 432x288 with 1 Axes>"
            ]
          },
          "metadata": {
            "tags": [],
            "needs_background": "light"
          }
        }
      ]
    },
    {
      "cell_type": "code",
      "metadata": {
        "id": "j8ctgwbPfE0K",
        "colab": {
          "base_uri": "https://localhost:8080/",
          "height": 372
        },
        "outputId": "4b94ff55-5db9-4542-e6dd-2bb2a2e6bf03"
      },
      "source": [
        "td_recall.T.plot(rot=90)"
      ],
      "execution_count": null,
      "outputs": [
        {
          "output_type": "execute_result",
          "data": {
            "text/plain": [
              "<matplotlib.axes._subplots.AxesSubplot at 0x7f3bf0843470>"
            ]
          },
          "metadata": {
            "tags": []
          },
          "execution_count": 173
        },
        {
          "output_type": "display_data",
          "data": {
            "image/png": "[encoded data removed]",
            "text/plain": [
              "<Figure size 432x288 with 1 Axes>"
            ]
          },
          "metadata": {
            "tags": [],
            "needs_background": "light"
          }
        }
      ]
    },
    {
      "cell_type": "markdown",
      "metadata": {
        "id": "2lmdaFvk56na"
      },
      "source": [
        "# Q3 Query Expansion"
      ]
    },
    {
      "cell_type": "markdown",
      "metadata": {
        "id": "hUE4Kcn18WmR"
      },
      "source": [
        "Query expansion is one of the most well-known and effective techniques for improving the effectiveness of a search engine. We'll be using Terrier's Bo1 query expansion model.\n",
        "\n",
        "See the [relevant documentation](https://pyterrier.readthedocs.io/en/latest/rewrite.html#bo1queryexpansion) about creating a QE transformer pipeline in PyTerrier using the Bo1 model.\n",
        "\n",
        "You now have enough information to conduct Q3(a) and (b).\n",
        "\n"
      ]
    },
    {
      "cell_type": "code",
      "metadata": {
        "id": "jSYLVJWN381D"
      },
      "source": [
        "#Rewrite the bo1 query expansion on the index\r\n",
        "bo1 = pt.rewrite.Bo1QueryExpansion(index)\r\n",
        "\r\n",
        "#Pass in the pipelines of the query expansion on all models\r\n",
        "pipelineQE_PL2 = pl2 >> bo1 >> pl2\r\n",
        "pipelineQE_TFIDF = tfidf >> bo1 >> tfidf\r\n",
        "pipelineQE_BM25 = bm25 >> bo1 >> bm25"
      ],
      "execution_count": null,
      "outputs": []
    },
    {
      "cell_type": "code",
      "metadata": {
        "id": "IYtWZWdR38q-",
        "colab": {
          "base_uri": "https://localhost:8080/",
          "height": 106
        },
        "outputId": "e1ddff30-000f-4335-fd84-b6fdbb16d5a4"
      },
      "source": [
        "#Print the MAP of the PL2 query expanded with hp variant\r\n",
        "pt.Experiment(\r\n",
        "    [pl2, pipelineQE_PL2],\r\n",
        "    dotgov_topicsqrels.get_topics(variant=\"hp\"),\r\n",
        "    dotgov_topicsqrels.get_qrels(variant=\"hp\"),\r\n",
        "    eval_metrics=[\"map\"],\r\n",
        "    names=[\"PL2\", \"PL2_QE\"],\r\n",
        "    baseline = 0)"
      ],
      "execution_count": null,
      "outputs": [
        {
          "output_type": "execute_result",
          "data": {
            "text/html": [
              "<div>\n",
              "<style scoped>\n",
              "    .dataframe tbody tr th:only-of-type {\n",
              "        vertical-align: middle;\n",
              "    }\n",
              "\n",
              "    .dataframe tbody tr th {\n",
              "        vertical-align: top;\n",
              "    }\n",
              "\n",
              "    .dataframe thead th {\n",
              "        text-align: right;\n",
              "    }\n",
              "</style>\n",
              "<table border=\"1\" class=\"dataframe\">\n",
              "  <thead>\n",
              "    <tr style=\"text-align: right;\">\n",
              "      <th></th>\n",
              "      <th>name</th>\n",
              "      <th>map</th>\n",
              "      <th>map +</th>\n",
              "      <th>map -</th>\n",
              "      <th>map p-value</th>\n",
              "    </tr>\n",
              "  </thead>\n",
              "  <tbody>\n",
              "    <tr>\n",
              "      <th>0</th>\n",
              "      <td>PL2</td>\n",
              "      <td>0.22511</td>\n",
              "      <td>NaN</td>\n",
              "      <td>NaN</td>\n",
              "      <td>NaN</td>\n",
              "    </tr>\n",
              "    <tr>\n",
              "      <th>1</th>\n",
              "      <td>PL2_QE</td>\n",
              "      <td>0.24231</td>\n",
              "      <td>21.0</td>\n",
              "      <td>29.0</td>\n",
              "      <td>0.252385</td>\n",
              "    </tr>\n",
              "  </tbody>\n",
              "</table>\n",
              "</div>"
            ],
            "text/plain": [
              "     name      map  map +  map -  map p-value\n",
              "0     PL2  0.22511    NaN    NaN          NaN\n",
              "1  PL2_QE  0.24231   21.0   29.0     0.252385"
            ]
          },
          "metadata": {
            "tags": []
          },
          "execution_count": 175
        }
      ]
    },
    {
      "cell_type": "code",
      "metadata": {
        "id": "zZpJrBer38bL",
        "colab": {
          "base_uri": "https://localhost:8080/",
          "height": 106
        },
        "outputId": "3a699abe-06fa-4b04-815a-3be69e711c82"
      },
      "source": [
        "#Print the MAP of the pl2 query expanded with np variant\r\n",
        "pt.Experiment(\r\n",
        "    [pl2, pipelineQE_PL2],\r\n",
        "    dotgov_topicsqrels.get_topics(variant=\"np\"),\r\n",
        "    dotgov_topicsqrels.get_qrels(variant=\"np\"),\r\n",
        "    eval_metrics=[\"map\"],\r\n",
        "    names=[\"PL2\", \"PL2_QE\"],\r\n",
        "    baseline = 0)"
      ],
      "execution_count": null,
      "outputs": [
        {
          "output_type": "execute_result",
          "data": {
            "text/html": [
              "<div>\n",
              "<style scoped>\n",
              "    .dataframe tbody tr th:only-of-type {\n",
              "        vertical-align: middle;\n",
              "    }\n",
              "\n",
              "    .dataframe tbody tr th {\n",
              "        vertical-align: top;\n",
              "    }\n",
              "\n",
              "    .dataframe thead th {\n",
              "        text-align: right;\n",
              "    }\n",
              "</style>\n",
              "<table border=\"1\" class=\"dataframe\">\n",
              "  <thead>\n",
              "    <tr style=\"text-align: right;\">\n",
              "      <th></th>\n",
              "      <th>name</th>\n",
              "      <th>map</th>\n",
              "      <th>map +</th>\n",
              "      <th>map -</th>\n",
              "      <th>map p-value</th>\n",
              "    </tr>\n",
              "  </thead>\n",
              "  <tbody>\n",
              "    <tr>\n",
              "      <th>0</th>\n",
              "      <td>PL2</td>\n",
              "      <td>0.439182</td>\n",
              "      <td>NaN</td>\n",
              "      <td>NaN</td>\n",
              "      <td>NaN</td>\n",
              "    </tr>\n",
              "    <tr>\n",
              "      <th>1</th>\n",
              "      <td>PL2_QE</td>\n",
              "      <td>0.444161</td>\n",
              "      <td>18.0</td>\n",
              "      <td>18.0</td>\n",
              "      <td>0.847885</td>\n",
              "    </tr>\n",
              "  </tbody>\n",
              "</table>\n",
              "</div>"
            ],
            "text/plain": [
              "     name       map  map +  map -  map p-value\n",
              "0     PL2  0.439182    NaN    NaN          NaN\n",
              "1  PL2_QE  0.444161   18.0   18.0     0.847885"
            ]
          },
          "metadata": {
            "tags": []
          },
          "execution_count": 176
        }
      ]
    },
    {
      "cell_type": "code",
      "metadata": {
        "id": "8a2VEoYt74dZ",
        "colab": {
          "base_uri": "https://localhost:8080/",
          "height": 106
        },
        "outputId": "60dcce80-d594-45a7-ca71-b71863ba0594"
      },
      "source": [
        "#Print the MAP of the pl2 query expanded with td variant\r\n",
        "pt.Experiment(\r\n",
        "    [pl2, pipelineQE_PL2],\r\n",
        "    dotgov_topicsqrels.get_topics(variant=\"td\"),\r\n",
        "    dotgov_topicsqrels.get_qrels(variant=\"td\"),\r\n",
        "    eval_metrics=[\"map\"],\r\n",
        "    names=[\"PL2\", \"PL2_QE\"],\r\n",
        "    baseline = 0)"
      ],
      "execution_count": null,
      "outputs": [
        {
          "output_type": "execute_result",
          "data": {
            "text/html": [
              "<div>\n",
              "<style scoped>\n",
              "    .dataframe tbody tr th:only-of-type {\n",
              "        vertical-align: middle;\n",
              "    }\n",
              "\n",
              "    .dataframe tbody tr th {\n",
              "        vertical-align: top;\n",
              "    }\n",
              "\n",
              "    .dataframe thead th {\n",
              "        text-align: right;\n",
              "    }\n",
              "</style>\n",
              "<table border=\"1\" class=\"dataframe\">\n",
              "  <thead>\n",
              "    <tr style=\"text-align: right;\">\n",
              "      <th></th>\n",
              "      <th>name</th>\n",
              "      <th>map</th>\n",
              "      <th>map +</th>\n",
              "      <th>map -</th>\n",
              "      <th>map p-value</th>\n",
              "    </tr>\n",
              "  </thead>\n",
              "  <tbody>\n",
              "    <tr>\n",
              "      <th>0</th>\n",
              "      <td>PL2</td>\n",
              "      <td>0.069525</td>\n",
              "      <td>NaN</td>\n",
              "      <td>NaN</td>\n",
              "      <td>NaN</td>\n",
              "    </tr>\n",
              "    <tr>\n",
              "      <th>1</th>\n",
              "      <td>PL2_QE</td>\n",
              "      <td>0.067078</td>\n",
              "      <td>30.0</td>\n",
              "      <td>45.0</td>\n",
              "      <td>0.239678</td>\n",
              "    </tr>\n",
              "  </tbody>\n",
              "</table>\n",
              "</div>"
            ],
            "text/plain": [
              "     name       map  map +  map -  map p-value\n",
              "0     PL2  0.069525    NaN    NaN          NaN\n",
              "1  PL2_QE  0.067078   30.0   45.0     0.239678"
            ]
          },
          "metadata": {
            "tags": []
          },
          "execution_count": 177
        }
      ]
    },
    {
      "cell_type": "markdown",
      "metadata": {
        "id": "5yPScO7S_RcC"
      },
      "source": [
        "#Q3(b)\n",
        "\n",
        "This question calls for a query-delta bar chart (See example in Lecture 5). You will need to use the ` perquery=True` option for `pt.Experiment()`. \n",
        "\n",
        "*Hints*: \n",
        " - You may need a [self-join](https://www.w3schools.com/sql/sql_join_self.asp) on a dataframe.\n",
        " - You can iterate through a dataframe using [`dataframe.iterrows()`](https://cmdlinetips.com/2018/12/how-to-loop-through-pandas-rows-or-how-to-iterate-over-pandas-rows/)"
      ]
    },
    {
      "cell_type": "code",
      "metadata": {
        "id": "sZyZ1Fewz6BY"
      },
      "source": [
        "#create an experiment dataframe to produce the map values of\r\n",
        "#pl2 on td as per instruction per query on the query set\r\n",
        "pl2_df = pt.Experiment(\r\n",
        "    [pl2],\r\n",
        "    dotgov_topicsqrels.get_topics(variant=\"td\"),\r\n",
        "    dotgov_topicsqrels.get_qrels(variant=\"td\"),\r\n",
        "    eval_metrics=[\"map\"],\r\n",
        "    names=[\"PL2\"],\r\n",
        "    perquery=True)"
      ],
      "execution_count": null,
      "outputs": []
    },
    {
      "cell_type": "code",
      "metadata": {
        "id": "292-YYcMDG5k"
      },
      "source": [
        "#create the same experiment dataframe as above to produce the map\r\n",
        "#values of the pl2 on the td as per instruction per query after the query expansion is applied\r\n",
        "pl2_qe_df = pt.Experiment(\r\n",
        "    [pipelineQE_PL2],\r\n",
        "    dotgov_topicsqrels.get_topics(variant=\"td\"),\r\n",
        "    dotgov_topicsqrels.get_qrels(variant=\"td\"),\r\n",
        "    eval_metrics=[\"map\"],\r\n",
        "    names=[\"BR(PL2))\"],\r\n",
        "    perquery=True)"
      ],
      "execution_count": null,
      "outputs": []
    },
    {
      "cell_type": "code",
      "metadata": {
        "id": "POxRjmByF0GS"
      },
      "source": [
        "#create a new column from the QE dataframe called \r\n",
        "#values_QE on the dataframe and join it on the initial dataframe\r\n",
        "values = pl2_qe_df['value']\r\n",
        "pl2_df = pl2_df.join(values, rsuffix='_QE')"
      ],
      "execution_count": null,
      "outputs": []
    },
    {
      "cell_type": "code",
      "metadata": {
        "id": "bVob6YGeLNXT",
        "colab": {
          "base_uri": "https://localhost:8080/",
          "height": 399
        },
        "outputId": "96e3d553-11a3-4193-e7af-0a7a91638343"
      },
      "source": [
        "#display the new resulting dataframe\r\n",
        "pl2_df"
      ],
      "execution_count": null,
      "outputs": [
        {
          "output_type": "execute_result",
          "data": {
            "text/html": [
              "<div>\n",
              "<style scoped>\n",
              "    .dataframe tbody tr th:only-of-type {\n",
              "        vertical-align: middle;\n",
              "    }\n",
              "\n",
              "    .dataframe tbody tr th {\n",
              "        vertical-align: top;\n",
              "    }\n",
              "\n",
              "    .dataframe thead th {\n",
              "        text-align: right;\n",
              "    }\n",
              "</style>\n",
              "<table border=\"1\" class=\"dataframe\">\n",
              "  <thead>\n",
              "    <tr style=\"text-align: right;\">\n",
              "      <th></th>\n",
              "      <th>name</th>\n",
              "      <th>qid</th>\n",
              "      <th>measure</th>\n",
              "      <th>value</th>\n",
              "      <th>value_QE</th>\n",
              "    </tr>\n",
              "  </thead>\n",
              "  <tbody>\n",
              "    <tr>\n",
              "      <th>0</th>\n",
              "      <td>PL2</td>\n",
              "      <td>1</td>\n",
              "      <td>map</td>\n",
              "      <td>0.192260</td>\n",
              "      <td>0.142784</td>\n",
              "    </tr>\n",
              "    <tr>\n",
              "      <th>1</th>\n",
              "      <td>PL2</td>\n",
              "      <td>5</td>\n",
              "      <td>map</td>\n",
              "      <td>0.175462</td>\n",
              "      <td>0.188157</td>\n",
              "    </tr>\n",
              "    <tr>\n",
              "      <th>2</th>\n",
              "      <td>PL2</td>\n",
              "      <td>8</td>\n",
              "      <td>map</td>\n",
              "      <td>0.067678</td>\n",
              "      <td>0.057987</td>\n",
              "    </tr>\n",
              "    <tr>\n",
              "      <th>3</th>\n",
              "      <td>PL2</td>\n",
              "      <td>10</td>\n",
              "      <td>map</td>\n",
              "      <td>0.005882</td>\n",
              "      <td>0.004878</td>\n",
              "    </tr>\n",
              "    <tr>\n",
              "      <th>4</th>\n",
              "      <td>PL2</td>\n",
              "      <td>12</td>\n",
              "      <td>map</td>\n",
              "      <td>0.016414</td>\n",
              "      <td>0.014023</td>\n",
              "    </tr>\n",
              "    <tr>\n",
              "      <th>...</th>\n",
              "      <td>...</td>\n",
              "      <td>...</td>\n",
              "      <td>...</td>\n",
              "      <td>...</td>\n",
              "      <td>...</td>\n",
              "    </tr>\n",
              "    <tr>\n",
              "      <th>70</th>\n",
              "      <td>PL2</td>\n",
              "      <td>200</td>\n",
              "      <td>map</td>\n",
              "      <td>0.024660</td>\n",
              "      <td>0.030009</td>\n",
              "    </tr>\n",
              "    <tr>\n",
              "      <th>71</th>\n",
              "      <td>PL2</td>\n",
              "      <td>204</td>\n",
              "      <td>map</td>\n",
              "      <td>0.098070</td>\n",
              "      <td>0.065433</td>\n",
              "    </tr>\n",
              "    <tr>\n",
              "      <th>72</th>\n",
              "      <td>PL2</td>\n",
              "      <td>207</td>\n",
              "      <td>map</td>\n",
              "      <td>0.037714</td>\n",
              "      <td>0.040761</td>\n",
              "    </tr>\n",
              "    <tr>\n",
              "      <th>73</th>\n",
              "      <td>PL2</td>\n",
              "      <td>209</td>\n",
              "      <td>map</td>\n",
              "      <td>0.178180</td>\n",
              "      <td>0.166602</td>\n",
              "    </tr>\n",
              "    <tr>\n",
              "      <th>74</th>\n",
              "      <td>PL2</td>\n",
              "      <td>221</td>\n",
              "      <td>map</td>\n",
              "      <td>0.175377</td>\n",
              "      <td>0.144334</td>\n",
              "    </tr>\n",
              "  </tbody>\n",
              "</table>\n",
              "<p>75 rows × 5 columns</p>\n",
              "</div>"
            ],
            "text/plain": [
              "   name  qid measure     value  value_QE\n",
              "0   PL2    1     map  0.192260  0.142784\n",
              "1   PL2    5     map  0.175462  0.188157\n",
              "2   PL2    8     map  0.067678  0.057987\n",
              "3   PL2   10     map  0.005882  0.004878\n",
              "4   PL2   12     map  0.016414  0.014023\n",
              "..  ...  ...     ...       ...       ...\n",
              "70  PL2  200     map  0.024660  0.030009\n",
              "71  PL2  204     map  0.098070  0.065433\n",
              "72  PL2  207     map  0.037714  0.040761\n",
              "73  PL2  209     map  0.178180  0.166602\n",
              "74  PL2  221     map  0.175377  0.144334\n",
              "\n",
              "[75 rows x 5 columns]"
            ]
          },
          "metadata": {
            "tags": []
          },
          "execution_count": 182
        }
      ]
    },
    {
      "cell_type": "code",
      "metadata": {
        "id": "51byUJfC8cro"
      },
      "source": [
        "#subtract the old map values per query from the new ones to see +ve or -ve imporvement\r\n",
        "pl2_df['delta_value'] = pl2_df['value_QE'] - pl2_df['value']"
      ],
      "execution_count": null,
      "outputs": []
    },
    {
      "cell_type": "code",
      "metadata": {
        "id": "2eRjxuVT8z_F",
        "colab": {
          "base_uri": "https://localhost:8080/",
          "height": 399
        },
        "outputId": "8256ea3d-3501-44be-cfd8-6bc809faea7f"
      },
      "source": [
        "#display the final df\r\n",
        "pl2_df"
      ],
      "execution_count": null,
      "outputs": [
        {
          "output_type": "execute_result",
          "data": {
            "text/html": [
              "<div>\n",
              "<style scoped>\n",
              "    .dataframe tbody tr th:only-of-type {\n",
              "        vertical-align: middle;\n",
              "    }\n",
              "\n",
              "    .dataframe tbody tr th {\n",
              "        vertical-align: top;\n",
              "    }\n",
              "\n",
              "    .dataframe thead th {\n",
              "        text-align: right;\n",
              "    }\n",
              "</style>\n",
              "<table border=\"1\" class=\"dataframe\">\n",
              "  <thead>\n",
              "    <tr style=\"text-align: right;\">\n",
              "      <th></th>\n",
              "      <th>name</th>\n",
              "      <th>qid</th>\n",
              "      <th>measure</th>\n",
              "      <th>value</th>\n",
              "      <th>value_QE</th>\n",
              "      <th>delta_value</th>\n",
              "    </tr>\n",
              "  </thead>\n",
              "  <tbody>\n",
              "    <tr>\n",
              "      <th>0</th>\n",
              "      <td>PL2</td>\n",
              "      <td>1</td>\n",
              "      <td>map</td>\n",
              "      <td>0.192260</td>\n",
              "      <td>0.142784</td>\n",
              "      <td>-0.049476</td>\n",
              "    </tr>\n",
              "    <tr>\n",
              "      <th>1</th>\n",
              "      <td>PL2</td>\n",
              "      <td>5</td>\n",
              "      <td>map</td>\n",
              "      <td>0.175462</td>\n",
              "      <td>0.188157</td>\n",
              "      <td>0.012696</td>\n",
              "    </tr>\n",
              "    <tr>\n",
              "      <th>2</th>\n",
              "      <td>PL2</td>\n",
              "      <td>8</td>\n",
              "      <td>map</td>\n",
              "      <td>0.067678</td>\n",
              "      <td>0.057987</td>\n",
              "      <td>-0.009691</td>\n",
              "    </tr>\n",
              "    <tr>\n",
              "      <th>3</th>\n",
              "      <td>PL2</td>\n",
              "      <td>10</td>\n",
              "      <td>map</td>\n",
              "      <td>0.005882</td>\n",
              "      <td>0.004878</td>\n",
              "      <td>-0.001004</td>\n",
              "    </tr>\n",
              "    <tr>\n",
              "      <th>4</th>\n",
              "      <td>PL2</td>\n",
              "      <td>12</td>\n",
              "      <td>map</td>\n",
              "      <td>0.016414</td>\n",
              "      <td>0.014023</td>\n",
              "      <td>-0.002391</td>\n",
              "    </tr>\n",
              "    <tr>\n",
              "      <th>...</th>\n",
              "      <td>...</td>\n",
              "      <td>...</td>\n",
              "      <td>...</td>\n",
              "      <td>...</td>\n",
              "      <td>...</td>\n",
              "      <td>...</td>\n",
              "    </tr>\n",
              "    <tr>\n",
              "      <th>70</th>\n",
              "      <td>PL2</td>\n",
              "      <td>200</td>\n",
              "      <td>map</td>\n",
              "      <td>0.024660</td>\n",
              "      <td>0.030009</td>\n",
              "      <td>0.005349</td>\n",
              "    </tr>\n",
              "    <tr>\n",
              "      <th>71</th>\n",
              "      <td>PL2</td>\n",
              "      <td>204</td>\n",
              "      <td>map</td>\n",
              "      <td>0.098070</td>\n",
              "      <td>0.065433</td>\n",
              "      <td>-0.032636</td>\n",
              "    </tr>\n",
              "    <tr>\n",
              "      <th>72</th>\n",
              "      <td>PL2</td>\n",
              "      <td>207</td>\n",
              "      <td>map</td>\n",
              "      <td>0.037714</td>\n",
              "      <td>0.040761</td>\n",
              "      <td>0.003047</td>\n",
              "    </tr>\n",
              "    <tr>\n",
              "      <th>73</th>\n",
              "      <td>PL2</td>\n",
              "      <td>209</td>\n",
              "      <td>map</td>\n",
              "      <td>0.178180</td>\n",
              "      <td>0.166602</td>\n",
              "      <td>-0.011578</td>\n",
              "    </tr>\n",
              "    <tr>\n",
              "      <th>74</th>\n",
              "      <td>PL2</td>\n",
              "      <td>221</td>\n",
              "      <td>map</td>\n",
              "      <td>0.175377</td>\n",
              "      <td>0.144334</td>\n",
              "      <td>-0.031044</td>\n",
              "    </tr>\n",
              "  </tbody>\n",
              "</table>\n",
              "<p>75 rows × 6 columns</p>\n",
              "</div>"
            ],
            "text/plain": [
              "   name  qid measure     value  value_QE  delta_value\n",
              "0   PL2    1     map  0.192260  0.142784    -0.049476\n",
              "1   PL2    5     map  0.175462  0.188157     0.012696\n",
              "2   PL2    8     map  0.067678  0.057987    -0.009691\n",
              "3   PL2   10     map  0.005882  0.004878    -0.001004\n",
              "4   PL2   12     map  0.016414  0.014023    -0.002391\n",
              "..  ...  ...     ...       ...       ...          ...\n",
              "70  PL2  200     map  0.024660  0.030009     0.005349\n",
              "71  PL2  204     map  0.098070  0.065433    -0.032636\n",
              "72  PL2  207     map  0.037714  0.040761     0.003047\n",
              "73  PL2  209     map  0.178180  0.166602    -0.011578\n",
              "74  PL2  221     map  0.175377  0.144334    -0.031044\n",
              "\n",
              "[75 rows x 6 columns]"
            ]
          },
          "metadata": {
            "tags": []
          },
          "execution_count": 185
        }
      ]
    },
    {
      "cell_type": "code",
      "metadata": {
        "id": "etJUXinfM8Nk",
        "colab": {
          "base_uri": "https://localhost:8080/",
          "height": 458
        },
        "outputId": "6209573c-2608-46f2-9b25-86e47d975b79"
      },
      "source": [
        "#take the absolut of all the delta AP values on the dataframe which are >0.02 (2%)\r\n",
        "pl2_df[pl2_df['delta_value'].abs() > 0.02]"
      ],
      "execution_count": null,
      "outputs": [
        {
          "output_type": "execute_result",
          "data": {
            "text/html": [
              "<div>\n",
              "<style scoped>\n",
              "    .dataframe tbody tr th:only-of-type {\n",
              "        vertical-align: middle;\n",
              "    }\n",
              "\n",
              "    .dataframe tbody tr th {\n",
              "        vertical-align: top;\n",
              "    }\n",
              "\n",
              "    .dataframe thead th {\n",
              "        text-align: right;\n",
              "    }\n",
              "</style>\n",
              "<table border=\"1\" class=\"dataframe\">\n",
              "  <thead>\n",
              "    <tr style=\"text-align: right;\">\n",
              "      <th></th>\n",
              "      <th>name</th>\n",
              "      <th>qid</th>\n",
              "      <th>measure</th>\n",
              "      <th>value</th>\n",
              "      <th>value_QE</th>\n",
              "      <th>delta_value</th>\n",
              "    </tr>\n",
              "  </thead>\n",
              "  <tbody>\n",
              "    <tr>\n",
              "      <th>0</th>\n",
              "      <td>PL2</td>\n",
              "      <td>1</td>\n",
              "      <td>map</td>\n",
              "      <td>0.192260</td>\n",
              "      <td>0.142784</td>\n",
              "      <td>-0.049476</td>\n",
              "    </tr>\n",
              "    <tr>\n",
              "      <th>17</th>\n",
              "      <td>PL2</td>\n",
              "      <td>47</td>\n",
              "      <td>map</td>\n",
              "      <td>0.044539</td>\n",
              "      <td>0.071126</td>\n",
              "      <td>0.026587</td>\n",
              "    </tr>\n",
              "    <tr>\n",
              "      <th>22</th>\n",
              "      <td>PL2</td>\n",
              "      <td>58</td>\n",
              "      <td>map</td>\n",
              "      <td>0.069097</td>\n",
              "      <td>0.102276</td>\n",
              "      <td>0.033179</td>\n",
              "    </tr>\n",
              "    <tr>\n",
              "      <th>26</th>\n",
              "      <td>PL2</td>\n",
              "      <td>74</td>\n",
              "      <td>map</td>\n",
              "      <td>0.378118</td>\n",
              "      <td>0.290486</td>\n",
              "      <td>-0.087632</td>\n",
              "    </tr>\n",
              "    <tr>\n",
              "      <th>28</th>\n",
              "      <td>PL2</td>\n",
              "      <td>81</td>\n",
              "      <td>map</td>\n",
              "      <td>0.254310</td>\n",
              "      <td>0.216019</td>\n",
              "      <td>-0.038291</td>\n",
              "    </tr>\n",
              "    <tr>\n",
              "      <th>29</th>\n",
              "      <td>PL2</td>\n",
              "      <td>87</td>\n",
              "      <td>map</td>\n",
              "      <td>0.307605</td>\n",
              "      <td>0.336310</td>\n",
              "      <td>0.028705</td>\n",
              "    </tr>\n",
              "    <tr>\n",
              "      <th>31</th>\n",
              "      <td>PL2</td>\n",
              "      <td>97</td>\n",
              "      <td>map</td>\n",
              "      <td>0.219343</td>\n",
              "      <td>0.257095</td>\n",
              "      <td>0.037752</td>\n",
              "    </tr>\n",
              "    <tr>\n",
              "      <th>33</th>\n",
              "      <td>PL2</td>\n",
              "      <td>101</td>\n",
              "      <td>map</td>\n",
              "      <td>0.139559</td>\n",
              "      <td>0.161300</td>\n",
              "      <td>0.021741</td>\n",
              "    </tr>\n",
              "    <tr>\n",
              "      <th>43</th>\n",
              "      <td>PL2</td>\n",
              "      <td>133</td>\n",
              "      <td>map</td>\n",
              "      <td>0.052628</td>\n",
              "      <td>0.080159</td>\n",
              "      <td>0.027531</td>\n",
              "    </tr>\n",
              "    <tr>\n",
              "      <th>48</th>\n",
              "      <td>PL2</td>\n",
              "      <td>141</td>\n",
              "      <td>map</td>\n",
              "      <td>0.067058</td>\n",
              "      <td>0.042859</td>\n",
              "      <td>-0.024200</td>\n",
              "    </tr>\n",
              "    <tr>\n",
              "      <th>50</th>\n",
              "      <td>PL2</td>\n",
              "      <td>152</td>\n",
              "      <td>map</td>\n",
              "      <td>0.053337</td>\n",
              "      <td>0.075536</td>\n",
              "      <td>0.022199</td>\n",
              "    </tr>\n",
              "    <tr>\n",
              "      <th>56</th>\n",
              "      <td>PL2</td>\n",
              "      <td>164</td>\n",
              "      <td>map</td>\n",
              "      <td>0.254661</td>\n",
              "      <td>0.282108</td>\n",
              "      <td>0.027447</td>\n",
              "    </tr>\n",
              "    <tr>\n",
              "      <th>71</th>\n",
              "      <td>PL2</td>\n",
              "      <td>204</td>\n",
              "      <td>map</td>\n",
              "      <td>0.098070</td>\n",
              "      <td>0.065433</td>\n",
              "      <td>-0.032636</td>\n",
              "    </tr>\n",
              "    <tr>\n",
              "      <th>74</th>\n",
              "      <td>PL2</td>\n",
              "      <td>221</td>\n",
              "      <td>map</td>\n",
              "      <td>0.175377</td>\n",
              "      <td>0.144334</td>\n",
              "      <td>-0.031044</td>\n",
              "    </tr>\n",
              "  </tbody>\n",
              "</table>\n",
              "</div>"
            ],
            "text/plain": [
              "   name  qid measure     value  value_QE  delta_value\n",
              "0   PL2    1     map  0.192260  0.142784    -0.049476\n",
              "17  PL2   47     map  0.044539  0.071126     0.026587\n",
              "22  PL2   58     map  0.069097  0.102276     0.033179\n",
              "26  PL2   74     map  0.378118  0.290486    -0.087632\n",
              "28  PL2   81     map  0.254310  0.216019    -0.038291\n",
              "29  PL2   87     map  0.307605  0.336310     0.028705\n",
              "31  PL2   97     map  0.219343  0.257095     0.037752\n",
              "33  PL2  101     map  0.139559  0.161300     0.021741\n",
              "43  PL2  133     map  0.052628  0.080159     0.027531\n",
              "48  PL2  141     map  0.067058  0.042859    -0.024200\n",
              "50  PL2  152     map  0.053337  0.075536     0.022199\n",
              "56  PL2  164     map  0.254661  0.282108     0.027447\n",
              "71  PL2  204     map  0.098070  0.065433    -0.032636\n",
              "74  PL2  221     map  0.175377  0.144334    -0.031044"
            ]
          },
          "metadata": {
            "tags": []
          },
          "execution_count": 186
        }
      ]
    },
    {
      "cell_type": "code",
      "metadata": {
        "id": "zSiFRo4XhobK"
      },
      "source": [
        "#get the topics with queries\r\n",
        "topics_td = dotgov_topicsqrels.get_topics(variant=\"td\")"
      ],
      "execution_count": null,
      "outputs": []
    },
    {
      "cell_type": "code",
      "metadata": {
        "colab": {
          "base_uri": "https://localhost:8080/"
        },
        "id": "sGq7GAX3EMva",
        "outputId": "cb1e842a-da4e-4a37-e1d9-afb27a96a6f2"
      },
      "source": [
        "import numpy as np\r\n",
        "\r\n",
        "#create a list with the query qid matched to their texts to use for labelling on\r\n",
        "#on the chart\r\n",
        "query_texts = np.array(pt.get_dataset(\"trec-wt-2004\").get_topics(\"td\")[\"query\"])\r\n",
        "query_qid = np.array(pt.get_dataset(\"trec-wt-2004\").get_topics(\"td\")[\"qid\"])\r\n",
        "\r\n",
        "qid_texts = []\r\n",
        "for each in range(0,len(query_texts)):\r\n",
        "  qid_texts.append(query_qid[each] + \":\" + query_texts[each])\r\n",
        "\r\n",
        "print(qid_texts)"
      ],
      "execution_count": null,
      "outputs": [
        {
          "output_type": "stream",
          "text": [
            "['1:electoral college', '5:american music', '8:philippines', '10:well water contamination', '12:oil petroleum resources', '15:welfare reform', '19:toxic waste', '21:substance abuse', '24:child care', '30:hiv aids', '31:origin of the universe', '33:teen pregnancy', '36:the arts in education', '37:magnetism', '40:public school standards of performance', '41:historic preservation', '45:faith based initiatives', '47:medical residency', '48:federal and state statistics', '50:money laundering', '53:telecommuting', '57:religious belief', '58:automobile emissions vehicle pollution', '63:art museums', '66:intelligence analysis', '73:solar flares', '74:skin cancer', '79:international trade', '81:mosquito control', '87:chronic pain', '96:the planet mars', '97:ufos', '99:salmon', '101:migrant farm workers', '102:diet and nutrition and weight management', '103:vanity license plates', '104:space exploration', '107:small business', '111:species identification', '115:information security', '121:identity theft', '125:english as a second language', '127:gps', '133:human genome research', '134:national parks', '136:career information', '137:maps mapping cartography', '139:poetry readings and poems online', '141:international monetary fund', '148:low income housing', '152:bioengineered foods crops', '153:technology transfer', '155:federal government outsourcing', '157:federal grant programs', '160:scholarship programs', '163:bioterrorism', '164:winter weather safety', '165:national laboratories', '167:after school programs', '169:how to save energy', '170:science fairs and competitions', '176:hurricanes', '177:minority business', '178:recycling', '185:estuary conservation', '189:homeopathic medicine', '191:coral reef systems', '192:drunk driving', '194:cigarettes nicotine health', '197:vietnam war', '200:maritime trade', '204:endangered species', '207:annual parades', '209:radon', '221:homeland security']\n"
          ],
          "name": "stdout"
        }
      ]
    },
    {
      "cell_type": "code",
      "metadata": {
        "colab": {
          "base_uri": "https://localhost:8080/",
          "height": 399
        },
        "id": "iFJu4tpFEfbc",
        "outputId": "29c90060-68ae-4d58-e3b0-5cacd45fa142"
      },
      "source": [
        "#visualise the dataframe\r\n",
        "pl2_df['qid_texts'] = qid_texts\r\n",
        "pl2_df"
      ],
      "execution_count": null,
      "outputs": [
        {
          "output_type": "execute_result",
          "data": {
            "text/html": [
              "<div>\n",
              "<style scoped>\n",
              "    .dataframe tbody tr th:only-of-type {\n",
              "        vertical-align: middle;\n",
              "    }\n",
              "\n",
              "    .dataframe tbody tr th {\n",
              "        vertical-align: top;\n",
              "    }\n",
              "\n",
              "    .dataframe thead th {\n",
              "        text-align: right;\n",
              "    }\n",
              "</style>\n",
              "<table border=\"1\" class=\"dataframe\">\n",
              "  <thead>\n",
              "    <tr style=\"text-align: right;\">\n",
              "      <th></th>\n",
              "      <th>name</th>\n",
              "      <th>qid</th>\n",
              "      <th>measure</th>\n",
              "      <th>value</th>\n",
              "      <th>value_QE</th>\n",
              "      <th>delta_value</th>\n",
              "      <th>qid_texts</th>\n",
              "    </tr>\n",
              "  </thead>\n",
              "  <tbody>\n",
              "    <tr>\n",
              "      <th>0</th>\n",
              "      <td>PL2</td>\n",
              "      <td>1</td>\n",
              "      <td>map</td>\n",
              "      <td>0.192260</td>\n",
              "      <td>0.142784</td>\n",
              "      <td>-0.049476</td>\n",
              "      <td>1:electoral college</td>\n",
              "    </tr>\n",
              "    <tr>\n",
              "      <th>1</th>\n",
              "      <td>PL2</td>\n",
              "      <td>5</td>\n",
              "      <td>map</td>\n",
              "      <td>0.175462</td>\n",
              "      <td>0.188157</td>\n",
              "      <td>0.012696</td>\n",
              "      <td>5:american music</td>\n",
              "    </tr>\n",
              "    <tr>\n",
              "      <th>2</th>\n",
              "      <td>PL2</td>\n",
              "      <td>8</td>\n",
              "      <td>map</td>\n",
              "      <td>0.067678</td>\n",
              "      <td>0.057987</td>\n",
              "      <td>-0.009691</td>\n",
              "      <td>8:philippines</td>\n",
              "    </tr>\n",
              "    <tr>\n",
              "      <th>3</th>\n",
              "      <td>PL2</td>\n",
              "      <td>10</td>\n",
              "      <td>map</td>\n",
              "      <td>0.005882</td>\n",
              "      <td>0.004878</td>\n",
              "      <td>-0.001004</td>\n",
              "      <td>10:well water contamination</td>\n",
              "    </tr>\n",
              "    <tr>\n",
              "      <th>4</th>\n",
              "      <td>PL2</td>\n",
              "      <td>12</td>\n",
              "      <td>map</td>\n",
              "      <td>0.016414</td>\n",
              "      <td>0.014023</td>\n",
              "      <td>-0.002391</td>\n",
              "      <td>12:oil petroleum resources</td>\n",
              "    </tr>\n",
              "    <tr>\n",
              "      <th>...</th>\n",
              "      <td>...</td>\n",
              "      <td>...</td>\n",
              "      <td>...</td>\n",
              "      <td>...</td>\n",
              "      <td>...</td>\n",
              "      <td>...</td>\n",
              "      <td>...</td>\n",
              "    </tr>\n",
              "    <tr>\n",
              "      <th>70</th>\n",
              "      <td>PL2</td>\n",
              "      <td>200</td>\n",
              "      <td>map</td>\n",
              "      <td>0.024660</td>\n",
              "      <td>0.030009</td>\n",
              "      <td>0.005349</td>\n",
              "      <td>200:maritime trade</td>\n",
              "    </tr>\n",
              "    <tr>\n",
              "      <th>71</th>\n",
              "      <td>PL2</td>\n",
              "      <td>204</td>\n",
              "      <td>map</td>\n",
              "      <td>0.098070</td>\n",
              "      <td>0.065433</td>\n",
              "      <td>-0.032636</td>\n",
              "      <td>204:endangered species</td>\n",
              "    </tr>\n",
              "    <tr>\n",
              "      <th>72</th>\n",
              "      <td>PL2</td>\n",
              "      <td>207</td>\n",
              "      <td>map</td>\n",
              "      <td>0.037714</td>\n",
              "      <td>0.040761</td>\n",
              "      <td>0.003047</td>\n",
              "      <td>207:annual parades</td>\n",
              "    </tr>\n",
              "    <tr>\n",
              "      <th>73</th>\n",
              "      <td>PL2</td>\n",
              "      <td>209</td>\n",
              "      <td>map</td>\n",
              "      <td>0.178180</td>\n",
              "      <td>0.166602</td>\n",
              "      <td>-0.011578</td>\n",
              "      <td>209:radon</td>\n",
              "    </tr>\n",
              "    <tr>\n",
              "      <th>74</th>\n",
              "      <td>PL2</td>\n",
              "      <td>221</td>\n",
              "      <td>map</td>\n",
              "      <td>0.175377</td>\n",
              "      <td>0.144334</td>\n",
              "      <td>-0.031044</td>\n",
              "      <td>221:homeland security</td>\n",
              "    </tr>\n",
              "  </tbody>\n",
              "</table>\n",
              "<p>75 rows × 7 columns</p>\n",
              "</div>"
            ],
            "text/plain": [
              "   name  qid measure  ...  value_QE  delta_value                    qid_texts\n",
              "0   PL2    1     map  ...  0.142784    -0.049476          1:electoral college\n",
              "1   PL2    5     map  ...  0.188157     0.012696             5:american music\n",
              "2   PL2    8     map  ...  0.057987    -0.009691                8:philippines\n",
              "3   PL2   10     map  ...  0.004878    -0.001004  10:well water contamination\n",
              "4   PL2   12     map  ...  0.014023    -0.002391   12:oil petroleum resources\n",
              "..  ...  ...     ...  ...       ...          ...                          ...\n",
              "70  PL2  200     map  ...  0.030009     0.005349           200:maritime trade\n",
              "71  PL2  204     map  ...  0.065433    -0.032636       204:endangered species\n",
              "72  PL2  207     map  ...  0.040761     0.003047           207:annual parades\n",
              "73  PL2  209     map  ...  0.166602    -0.011578                    209:radon\n",
              "74  PL2  221     map  ...  0.144334    -0.031044        221:homeland security\n",
              "\n",
              "[75 rows x 7 columns]"
            ]
          },
          "metadata": {
            "tags": []
          },
          "execution_count": 190
        }
      ]
    },
    {
      "cell_type": "code",
      "metadata": {
        "colab": {
          "base_uri": "https://localhost:8080/",
          "height": 514
        },
        "id": "F8Lo7gyJEx52",
        "outputId": "01f9d549-fac8-4396-f8a5-1f87022799a3"
      },
      "source": [
        "#create the chart of the affected queries with all delta AP values >0.02\r\n",
        "pl2_df[pl2_df['delta_value'].abs() > 0.02].sort_values('delta_value', \r\n",
        "                                                           ascending=False).plot.bar(x=\"qid_texts\", \r\n",
        "                                                                                     y=\"delta_value\", \r\n",
        "                                                                                     rot=90, \r\n",
        "                                                                                     title=\"delta-bar chart\")"
      ],
      "execution_count": null,
      "outputs": [
        {
          "output_type": "execute_result",
          "data": {
            "text/plain": [
              "<matplotlib.axes._subplots.AxesSubplot at 0x7f3bdc935358>"
            ]
          },
          "metadata": {
            "tags": []
          },
          "execution_count": 192
        },
        {
          "output_type": "display_data",
          "data": {
            "image/png": "[encoded data removed]",
            "text/plain": [
              "<Figure size 432x288 with 1 Axes>"
            ]
          },
          "metadata": {
            "tags": [],
            "needs_background": "light"
          }
        }
      ]
    },
    {
      "cell_type": "code",
      "metadata": {
        "id": "tbc5UYzKOFoP",
        "colab": {
          "base_uri": "https://localhost:8080/",
          "height": 76
        },
        "outputId": "5248762a-81d5-4452-8394-8e98f73d9793"
      },
      "source": [
        "#most negatively affected query\r\n",
        "topics_td[topics_td['qid'] == '74']"
      ],
      "execution_count": null,
      "outputs": [
        {
          "output_type": "execute_result",
          "data": {
            "text/html": [
              "<div>\n",
              "<style scoped>\n",
              "    .dataframe tbody tr th:only-of-type {\n",
              "        vertical-align: middle;\n",
              "    }\n",
              "\n",
              "    .dataframe tbody tr th {\n",
              "        vertical-align: top;\n",
              "    }\n",
              "\n",
              "    .dataframe thead th {\n",
              "        text-align: right;\n",
              "    }\n",
              "</style>\n",
              "<table border=\"1\" class=\"dataframe\">\n",
              "  <thead>\n",
              "    <tr style=\"text-align: right;\">\n",
              "      <th></th>\n",
              "      <th>qid</th>\n",
              "      <th>query</th>\n",
              "    </tr>\n",
              "  </thead>\n",
              "  <tbody>\n",
              "    <tr>\n",
              "      <th>26</th>\n",
              "      <td>74</td>\n",
              "      <td>skin cancer</td>\n",
              "    </tr>\n",
              "  </tbody>\n",
              "</table>\n",
              "</div>"
            ],
            "text/plain": [
              "   qid        query\n",
              "26  74  skin cancer"
            ]
          },
          "metadata": {
            "tags": []
          },
          "execution_count": 193
        }
      ]
    },
    {
      "cell_type": "code",
      "metadata": {
        "id": "3nr-PwH3T4f7",
        "colab": {
          "base_uri": "https://localhost:8080/",
          "height": 76
        },
        "outputId": "432922b6-cc89-4cf2-8d31-853a8f6dd74c"
      },
      "source": [
        "#most positively affected query\r\n",
        "topics_td[topics_td['qid'] == '97']"
      ],
      "execution_count": null,
      "outputs": [
        {
          "output_type": "execute_result",
          "data": {
            "text/html": [
              "<div>\n",
              "<style scoped>\n",
              "    .dataframe tbody tr th:only-of-type {\n",
              "        vertical-align: middle;\n",
              "    }\n",
              "\n",
              "    .dataframe tbody tr th {\n",
              "        vertical-align: top;\n",
              "    }\n",
              "\n",
              "    .dataframe thead th {\n",
              "        text-align: right;\n",
              "    }\n",
              "</style>\n",
              "<table border=\"1\" class=\"dataframe\">\n",
              "  <thead>\n",
              "    <tr style=\"text-align: right;\">\n",
              "      <th></th>\n",
              "      <th>qid</th>\n",
              "      <th>query</th>\n",
              "    </tr>\n",
              "  </thead>\n",
              "  <tbody>\n",
              "    <tr>\n",
              "      <th>31</th>\n",
              "      <td>97</td>\n",
              "      <td>ufos</td>\n",
              "    </tr>\n",
              "  </tbody>\n",
              "</table>\n",
              "</div>"
            ],
            "text/plain": [
              "   qid query\n",
              "31  97  ufos"
            ]
          },
          "metadata": {
            "tags": []
          },
          "execution_count": 194
        }
      ]
    },
    {
      "cell_type": "code",
      "metadata": {
        "id": "pqmoWxuYUvjB"
      },
      "source": [
        ""
      ],
      "execution_count": null,
      "outputs": []
    },
    {
      "cell_type": "code",
      "metadata": {
        "colab": {
          "base_uri": "https://localhost:8080/",
          "height": 52
        },
        "id": "MwTa12qrWBI3",
        "outputId": "1604223d-248f-4e5b-c902-86b0ba6a76c8"
      },
      "source": [
        "pipelineQE_PL2.search(\"ufos\")['query'][0]"
      ],
      "execution_count": null,
      "outputs": [
        {
          "output_type": "execute_result",
          "data": {
            "application/vnd.google.colaboratory.intrinsic+json": {
              "type": "string"
            },
            "text/plain": [
              "'applypipeline:off ufo^1.782897603 unidentifi^0.293526425 roswel^0.180836979 extraterrestri^0.155083480 forc^0.149192371 fly^0.144446932 blue^0.138189354 book^0.121246517 air^0.115234556 sight^0.114460152'"
            ]
          },
          "metadata": {
            "tags": []
          },
          "execution_count": 223
        }
      ]
    },
    {
      "cell_type": "code",
      "metadata": {
        "colab": {
          "base_uri": "https://localhost:8080/",
          "height": 52
        },
        "id": "FHHpTCXiRnlH",
        "outputId": "1201b42c-618c-41f3-c5fc-e3709412ec95"
      },
      "source": [
        "pipelineQE_PL2.search(\"skin cancer\")['query'][0]"
      ],
      "execution_count": null,
      "outputs": [
        {
          "output_type": "execute_result",
          "data": {
            "application/vnd.google.colaboratory.intrinsic+json": {
              "type": "string"
            },
            "text/plain": [
              "'applypipeline:off skin^1.402936462 cancer^1.233351080 sunscreen^0.081970932 cell^0.071433646 melanoma^0.070226770 sun^0.068207895 squamou^0.067213993 carcinoma^0.063889040 uv^0.055406079 basal^0.054696254'"
            ]
          },
          "metadata": {
            "tags": []
          },
          "execution_count": 222
        }
      ]
    },
    {
      "cell_type": "markdown",
      "metadata": {
        "id": "-msK8wu79sXy"
      },
      "source": [
        "# Q4 Word Embeddings\n",
        "\n",
        "Q4 asks for a word2vec-based query expansion model. Word2vec (also called word embeddings) is a shallow neural network where semantically similar words end up with similar embedding vectors.\n",
        "\n",
        "If you haven't taken Text-as-Data, you can do some background reading about word embeddings at:\n",
        " - https://towardsdatascience.com/introduction-to-word-embedding-and-word2vec-652d0c2060fa\n",
        " - https://en.wikipedia.org/wiki/Word2vec\n",
        " - https://en.wikipedia.org/wiki/Word_embedding\n",
        "\n",
        "In general, while word2vec is still a very widely used model, note that it has been surpassed by more complex models such as BERT. But word2vec is still useful to consider in the context of query expansion.\n"
      ]
    },
    {
      "cell_type": "markdown",
      "metadata": {
        "id": "Urs_h1V5OBNk"
      },
      "source": [
        "In this part of the exercise, we will use [Gensim](https://radimrehurek.com/gensim/auto_examples/tutorials/run_word2vec.html), a Python toolkit for working with a word2vec model. \n",
        "\n",
        "We are providing a pre-trained word2vec model that Gensim will download and open - the file is very large, so this might take a few minutes to download and a couple of minutes to load. You can read on while it opens."
      ]
    },
    {
      "cell_type": "code",
      "metadata": {
        "id": "sd87GzpQafAw",
        "colab": {
          "base_uri": "https://localhost:8080/"
        },
        "outputId": "3d5c14d4-c6d5-494c-96cf-9c4e140272fe"
      },
      "source": [
        "import gensim.downloader as api\n",
        "%time model = api.load(\"glove-wiki-gigaword-300\")"
      ],
      "execution_count": null,
      "outputs": [
        {
          "output_type": "stream",
          "text": [
            "CPU times: user 1min 55s, sys: 1.15 s, total: 1min 56s\n",
            "Wall time: 1min 56s\n"
          ],
          "name": "stdout"
        }
      ]
    },
    {
      "cell_type": "markdown",
      "metadata": {
        "id": "gWW6jMYsPdVu"
      },
      "source": [
        "`model` is of type [gensim.models.keyedvectors.KeyedVectors](https://radimrehurek.com/gensim/models/keyedvectors.html#gensim.models.keyedvectors.KeyedVectors).\n",
        "\n",
        "You can think of this as a dictionary mapping string words to the vector embeddings for each word.  For example, we can get the vector for the word `'government'` as follows:"
      ]
    },
    {
      "cell_type": "code",
      "metadata": {
        "id": "-qAOz8MNPsXr",
        "colab": {
          "base_uri": "https://localhost:8080/"
        },
        "outputId": "fb8cc048-c9e8-4ae0-ccf4-f7682f8c071c"
      },
      "source": [
        "emb = model.get_vector(\"government\")\n",
        "print(emb.shape)\n",
        "print(emb)"
      ],
      "execution_count": null,
      "outputs": [
        {
          "output_type": "stream",
          "text": [
            "(300,)\n",
            "[ 2.5470e-02 -1.0216e-01 -2.8455e-01  2.8603e-01  1.9018e-01 -4.7529e-01\n",
            "  1.4468e-01  1.9805e-01 -4.2931e-02 -2.9325e+00 -6.3137e-01  9.7630e-02\n",
            "  1.0803e-01  5.4072e-01 -1.1834e-02  6.8399e-01  3.7241e-02 -3.8651e-01\n",
            "  5.1331e-01 -4.0682e-01  3.3802e-01  3.9780e-02  1.0934e+00 -2.6993e-02\n",
            " -3.2652e-01  1.8426e-01  2.5084e-02 -1.9201e-02 -1.9761e-01  4.9951e-01\n",
            " -2.3426e-01 -1.1926e-01  4.3991e-02  3.2443e-01 -2.6306e-01 -1.7991e-01\n",
            "  2.3484e-01  3.4124e-01 -3.1304e-01 -1.9777e-01 -1.9651e-01  2.8835e-01\n",
            " -1.6815e-01  3.8187e-01 -1.6562e-01 -4.0849e-01 -3.9998e-01  2.6185e-01\n",
            " -5.3972e-01  2.4353e-01  1.3366e-01 -3.0213e-01  3.7712e-01  1.8414e-01\n",
            "  7.4082e-03  1.4511e-01  3.2574e-01  1.6853e-01 -1.0872e-01  1.9417e-02\n",
            " -3.2784e-01  3.9864e-01 -7.8588e-01  2.3249e-01  2.8092e-02 -4.3737e-01\n",
            "  1.3954e-01 -4.0254e-01 -3.2712e-01  4.1180e-01  1.3976e-01  6.8819e-01\n",
            "  3.9624e-02  2.7002e-02  2.3729e-01 -6.6964e-02  5.5686e-02  2.4415e-01\n",
            "  1.2575e-03  5.1176e-01  1.3287e-01 -3.3563e-01  4.3484e-01  2.8397e-01\n",
            "  5.1968e-01  1.0791e-01 -7.4799e-02 -3.4167e-03 -1.3757e-01 -5.0712e-02\n",
            " -1.3372e-01 -1.9203e-01 -2.6988e-01  1.2323e-01  3.8608e-01 -2.7709e-02\n",
            " -8.5306e-02  3.0588e-01 -2.0863e-01  5.1200e-01  2.7791e-01 -2.6512e-01\n",
            " -3.6793e-01 -2.7299e-01  1.2325e-01  2.4941e-02 -5.6067e-01  5.3860e-02\n",
            " -6.0468e-02  1.2572e-01 -7.2452e-02 -6.5689e-01 -2.7048e-01 -5.1343e-01\n",
            "  3.5888e-01  2.4968e-01  9.2726e-02  1.1145e-01  4.1245e-01 -8.3346e-01\n",
            "  9.9315e-02 -6.8263e-02 -2.6200e-01  1.5697e-01  6.5353e-02 -6.1494e-01\n",
            "  2.0978e-01  1.9596e-01  1.0233e-02  4.2670e-01 -3.0503e-01 -7.2013e-02\n",
            " -2.5165e-02 -9.4581e-02  4.2129e-01  2.5155e-01  2.1072e-01 -2.4235e-02\n",
            "  3.6006e-01 -1.4018e-01 -9.7339e-02  4.7664e-01 -3.1374e-01  8.3262e-02\n",
            " -5.9347e-01 -1.3060e-01  1.9546e-01  2.6835e-01  4.3899e-02 -1.7273e-02\n",
            "  1.0099e+00 -1.4987e-02  1.7707e-02  3.1759e-01  2.7929e-01  4.5154e-01\n",
            "  1.0662e-02  7.6270e-02  3.9064e-02 -1.2765e-01  1.5507e-01  1.2937e-01\n",
            "  2.8904e-01  5.7720e-02 -4.1774e-01 -1.8795e-01  1.6175e-01 -1.4805e-01\n",
            " -1.9554e-03  1.1287e-01 -2.9316e-01 -2.7471e-01 -7.4981e-01  2.0245e-01\n",
            "  5.4333e-02  2.0324e-01 -4.1409e-01 -2.2466e-01 -1.5163e-01  7.4656e-01\n",
            "  9.3554e-02  2.2191e-01  1.7560e-01 -1.6155e-01 -7.8256e-02  3.3462e-01\n",
            " -1.1481e-01 -3.6853e-02  3.7746e-01 -1.0307e-01  2.1646e-01 -7.7427e-02\n",
            " -6.4254e-02  1.7607e-01  2.8693e-01  4.3777e-01  2.1964e-02  2.3730e-01\n",
            "  2.6717e-02 -1.1660e-01  2.7223e-01 -7.8559e-02  2.1517e-02 -2.8614e-02\n",
            "  1.9661e-03 -2.1028e-01 -1.5228e-01 -2.4300e-02  4.9377e-01 -8.3850e-02\n",
            " -4.5019e-02  5.1382e-02  6.9632e-02  1.0506e-01  1.6457e-01  3.2654e-01\n",
            " -6.0213e-02  2.7409e-01  1.2652e-01  6.7440e-01  6.0100e-01 -6.1608e-02\n",
            " -2.8924e-01  2.1374e-01  2.0753e-02 -1.8507e-01  4.3709e-01 -4.9838e-02\n",
            "  1.3316e-01 -3.4565e-01  2.7452e-01 -6.8051e-02  1.6351e-01  4.9942e-01\n",
            " -3.5026e-02 -5.0862e-02 -1.7264e-01 -1.8708e-01  4.8739e-01 -7.9031e-02\n",
            "  2.0715e-01 -6.5269e-02  3.7214e-01 -1.2470e-02 -6.2193e-01  9.5748e-01\n",
            "  4.7598e-01 -5.1563e-01  9.2283e-02  9.4128e-02  1.2573e-02 -1.8689e-01\n",
            "  2.2435e-01 -1.5478e-01  7.8359e-01 -1.7577e-01 -4.5908e-01  3.9201e-01\n",
            " -4.5039e-01 -1.6417e-01 -1.5380e-01 -1.8668e-01 -1.7151e-02 -5.4394e-02\n",
            "  9.7406e-02 -2.0390e-01  1.4467e-01  2.5500e-01 -1.8374e-01 -9.3682e-02\n",
            "  9.2240e-02  3.2854e-01  6.4037e-02  5.8784e-02  2.4794e-01  1.6599e-01\n",
            " -2.4789e+00  2.0171e-01  1.2950e+00 -1.8016e-01  8.4134e-01 -5.2966e-01\n",
            "  8.2971e-02 -5.5717e-02  2.7861e-01 -1.1111e-01 -2.5051e-02  3.9859e-01\n",
            " -1.1919e-01 -1.6299e-01  1.9196e-01 -2.6775e-01  2.3950e-01 -1.8337e-01\n",
            "  5.0646e-01  9.7249e-01 -1.0446e-01 -5.4483e-01 -1.3254e-01 -7.3358e-02]\n"
          ],
          "name": "stdout"
        }
      ]
    },
    {
      "cell_type": "markdown",
      "metadata": {
        "id": "kTmkl3ZjP5lr"
      },
      "source": [
        "As you can see, each word is represented by a 300-dimension vector.\n",
        "\n",
        "We can also ask `model` for the most similar words to `'government'` using [`model.most_similar()`](https://radimrehurek.com/gensim/models/keyedvectors.html#gensim.models.keyedvectors.KeyedVectors.most_similar). It returns the 10 most similar words, based on the cosine similarity of their emebddings to that of `'government'`. \n",
        "\n",
        "See also: [Example in Gensim documentation](https://radimrehurek.com/gensim/models/keyedvectors.html#what-can-i-do-with-word-vectors)."
      ]
    },
    {
      "cell_type": "code",
      "metadata": {
        "id": "Ji4egT__bQYZ",
        "colab": {
          "base_uri": "https://localhost:8080/"
        },
        "outputId": "1cffbd88-ee3f-4ed6-a4e5-fbceb827ea0b"
      },
      "source": [
        "model.most_similar(\"government\")"
      ],
      "execution_count": null,
      "outputs": [
        {
          "output_type": "execute_result",
          "data": {
            "text/plain": [
              "[('governments', 0.6940836906433105),\n",
              " ('administration', 0.6544793844223022),\n",
              " ('authorities', 0.6283242702484131),\n",
              " ('officials', 0.6262894868850708),\n",
              " ('federal', 0.6101000905036926),\n",
              " ('opposition', 0.6081914901733398),\n",
              " ('official', 0.5788125395774841),\n",
              " ('saying', 0.5778090953826904),\n",
              " ('public', 0.575609564781189),\n",
              " ('ministry', 0.5619341135025024)]"
            ]
          },
          "metadata": {
            "tags": []
          },
          "execution_count": 197
        }
      ]
    },
    {
      "cell_type": "markdown",
      "metadata": {
        "id": "ejW6i4hUQjmp"
      },
      "source": [
        "As you can see, some words are clearly related to the original word `'government'`, including some lexical variations (`'governments'`), as well as semantically similar (`\"authorities\"`) words. You can also see some words that perhaps seem unrelated - probably they are highly weighted because they appeared in similar contexts to `\"government\"` (e.g. `\"saying\"`)."
      ]
    },
    {
      "cell_type": "markdown",
      "metadata": {
        "id": "8ElGY5PwQbd8"
      },
      "source": [
        "#Q4 Word2Vec-based Query Expansion\n",
        "\n",
        "The next task is to use `model` to develop your custom transformer for a word2vec-based query expansion.\n",
        "\n",
        "*Hints*:\n",
        " - Inspired by Pandas, PyTerrier has the notion of [apply functions](https://pyterrier.readthedocs.io/en/latest/apply.html) for applying transformations.\n",
        " - What to do with out-of-vocabulary (OOV) words?\n",
        " - How many similar terms to identify for each existing query term?  \n",
        " - What is the relative importance of these new terms compared to the existing query terms? e.g. you might want to give more emphasis to the original query terms. \n",
        " - How/if to integrate the Word2Vec cosine distance into your weighting formula? \n",
        " - How to deal with special characters not recognised by the default Terrier query parser, causing a QueryParserException (e.g `/`)?\n",
        "\n",
        "You now have sufficient information to make a start on Q4."
      ]
    },
    {
      "cell_type": "code",
      "metadata": {
        "id": "E_cXVG-ZBOHd",
        "colab": {
          "base_uri": "https://localhost:8080/"
        },
        "outputId": "c4bb8d3e-ed88-4e86-fdfd-7160aee779cf"
      },
      "source": [
        "tf = pt.BatchRetrieve(index, wmodel=\"Tf\")\r\n",
        "\r\n",
        "#create a list to put all the special characters in \r\n",
        "special_characters = []\r\n",
        "\r\n",
        "#for each token in the vocabulary take only the tokens which are greater that 1 character in length\r\n",
        "for token in model.vocab:\r\n",
        "  if len(token) > 1: continue\r\n",
        "\r\n",
        "  #when finding a special character raise an error and put the character in the list\r\n",
        "  try:\r\n",
        "    query = pd.DataFrame([\r\n",
        "    [\"1\", token]\r\n",
        "    ], columns = [\"qid\", \"query\"])\r\n",
        "    tf(query)\r\n",
        "  except:\r\n",
        "    special_characters.append(token)\r\n",
        "\r\n",
        "\r\n",
        "#add the . and , in the list\r\n",
        "special_characters.extend(['.', ','])\r\n",
        "\r\n",
        "print(special_characters)"
      ],
      "execution_count": null,
      "outputs": [
        {
          "output_type": "stream",
          "text": [
            "['\"', '-', '(', ')', ':', \"'\", '?', '/', '!', '+', '~', '\\\\', '{', '}', '*', '^', '.', ',']\n"
          ],
          "name": "stdout"
        }
      ]
    },
    {
      "cell_type": "code",
      "metadata": {
        "id": "hOxsQwKKBOEz"
      },
      "source": [
        "#create a function to check if the term of the query has a special character in it\r\n",
        "#return True if yes Flase if not\r\n",
        "def containsSpecialCharacter(term, special_characters):\r\n",
        "   for char in special_characters:\r\n",
        "        if char in term:\r\n",
        "             return True\r\n",
        "   return False\r\n",
        "\r\n",
        "#create a query expanded word to vec model\r\n",
        "def w2vQE(query):\r\n",
        "\r\n",
        "  #split the query on spaces\r\n",
        "  splitted_query_terms = query[\"query\"].split(\" \")\r\n",
        "  similar_words_dict = dict()\r\n",
        "  final_query = list()\r\n",
        "\r\n",
        "  #check the similarity of each query term from the splitted list\r\n",
        "  #get the 5 most similar terms\r\n",
        "  for qt in splitted_query_terms:\r\n",
        "    try:\r\n",
        "      similar_qt = model.most_similar(qt, topn=5)\r\n",
        "    except KeyError:\r\n",
        "      continue\r\n",
        "\r\n",
        "    #for each term in the most similar terms check if the it contains a special\r\n",
        "    #character and create an entry in the most similar words dictionary\r\n",
        "    for st in similar_qt:\r\n",
        "      term, similarity = st\r\n",
        "      if not containsSpecialCharacter(term, special_characters) and term not in splitted_query_terms:\r\n",
        "        similar_words_dict[term] = max(similar_words_dict.get(term, 0), similarity)\r\n",
        "\r\n",
        "\r\n",
        "  #sort the dictionary for the most similar terms\r\n",
        "  most_similart_qt = sorted(similar_words_dict, key=similar_words_dict.get, reverse=True)[:4]\r\n",
        "\r\n",
        "  #extend the final query by giving a weight of 8 in each term\r\n",
        "  final_query.extend([ (term, 8) for term in splitted_query_terms ])\r\n",
        "  \r\n",
        "  #extend the query with the most similar terms for each query term \r\n",
        "  final_query.extend([ (term, similar_words_dict.get(term)) for term in most_similart_qt ])\r\n",
        "  final_query = \" \".join(f\"{term}^{weight}\" for term, weight in final_query)\r\n",
        "  print(final_query)\r\n",
        "\r\n",
        "  return final_query"
      ],
      "execution_count": null,
      "outputs": []
    },
    {
      "cell_type": "code",
      "metadata": {
        "colab": {
          "base_uri": "https://localhost:8080/",
          "height": 1000
        },
        "id": "DJqNKfIV3a5a",
        "outputId": "f28deeed-eb58-4081-968f-8d3f6ed19daa"
      },
      "source": [
        "#create the pipeline for the baseline model and w2v expanded model applied on the baseline\r\n",
        "pipeline_baseline_model = pt.BatchRetrieve(index, wmodel=\"PL2\")\r\n",
        "pipeline_w2v_QE = pt.apply.query(w2vQE) >> pt.BatchRetrieve(index, wmodel=\"PL2\")\r\n",
        "\r\n",
        "#produce the evaluation\r\n",
        "evaluation = pt.Experiment(\r\n",
        "    [pipeline_baseline_model, pipeline_w2v_QE],\r\n",
        "    dotgov_topicsqrels.get_topics(variant=\"td\"),\r\n",
        "    dotgov_topicsqrels.get_qrels(variant=\"td\"),\r\n",
        "    eval_metrics = [\"map\"],\r\n",
        "    names = [\"baseline PL2\", \"w2v_QE\"],\r\n",
        "    baseline = 0)\r\n",
        "\r\n",
        "display(evaluation)"
      ],
      "execution_count": null,
      "outputs": [
        {
          "output_type": "stream",
          "text": [
            "electoral^8 college^8 election^0.7704978585243225 school^0.7110487222671509 graduate^0.7072936296463013 elections^0.7058415412902832\n",
            "american^8 music^8 musical^0.6985518336296082 songs^0.6906880736351013 dance^0.6395721435546875 pop^0.6392292976379395\n",
            "philippines^8 philippine^0.7187957167625427 manila^0.6627101898193359 indonesia^0.6331609487533569 thailand^0.6072970628738403\n",
            "well^8 water^8 contamination^8 contaminated^0.7600679397583008 both^0.750908374786377 so^0.7402366995811462 and^0.7293297648429871\n",
            "oil^8 petroleum^8 resources^8 resource^0.7620533108711243 crude^0.7210761308670044 gas^0.6436548233032227 barrels^0.592186689376831\n",
            "welfare^8 reform^8 reforms^0.8570170402526855 legislation^0.6427909135818481 overhaul^0.6183046102523804 policies^0.6139261722564697\n",
            "toxic^8 waste^8 wastes^0.7162880897521973 poisonous^0.6769847273826599 recycling^0.6677147746086121 chemicals^0.6596251726150513\n",
            "substance^8 abuse^8 substances^0.6938545107841492 sexual^0.6561464071273804 abuses^0.6398009657859802 abused^0.622556209564209\n",
            "child^8 care^8 health^0.7632995843887329 children^0.7450329065322876 healthcare^0.69800865650177 parents^0.6772373914718628\n",
            "hiv^8 aids^8 infection^0.6605448722839355 malaria^0.6543203592300415 virus^0.6516638994216919 tuberculosis^0.6427618861198425\n",
            "origin^8 of^8 the^8 universe^8 origins^0.7644398808479309 which^0.6992015242576599 this^0.674702525138855 part^0.6727458238601685\n",
            "teen^8 pregnancy^8 agers^0.7678036689758301 teenage^0.7605429887771606 pregnancies^0.7584468126296997 teens^0.7393885850906372\n",
            "the^8 arts^8 in^8 education^8 educational^0.737115740776062 art^0.7138696312904358 of^0.7057957649230957 which^0.6992015242576599\n",
            "magnetism^8 gravitation^0.46271947026252747 magnetic^0.45116519927978516 mesmer^0.44094279408454895 locomotion^0.42402446269989014\n",
            "public^8 school^8 standards^8 of^8 performance^8 schools^0.7685321569442749 students^0.7240082025527954 elementary^0.719539999961853 performances^0.7153171300888062\n",
            "historic^8 preservation^8 landmark^0.7000629901885986 conservation^0.6838502287864685 historical^0.6582805514335632 heritage^0.6215863227844238\n",
            "faith^8 based^8 initiatives^8 initiative^0.7424848079681396 belief^0.7239271402359009 religion^0.6368186473846436 beliefs^0.6352269649505615\n",
            "medical^8 residency^8 hospital^0.6905071139335632 doctors^0.6857442855834961 medicine^0.6802800893783569 hospitals^0.6435331702232361\n",
            "federal^8 and^8 state^8 statistics^8 both^0.7574156522750854 well^0.7293297648429871 also^0.6769881248474121 including^0.6590251922607422\n",
            "money^8 laundering^8 funds^0.7845571637153625 cash^0.7336214780807495 counterfeiting^0.6809422969818115 evasion^0.6669658422470093\n",
            "telecommuting^8 telework^0.5256293416023254 telecommute^0.5155812501907349 teleworking^0.5087077021598816 carpooling^0.43585464358329773\n",
            "religious^8 belief^8 beliefs^0.7522315979003906 faith^0.7239271402359009 religion^0.6856170892715454 contrary^0.6799822449684143\n",
            "automobile^8 emissions^8 vehicle^8 pollution^8 greenhouse^0.8631175756454468 vehicles^0.8187400102615356 dioxide^0.7871754169464111 emission^0.7752217054367065\n",
            "art^8 museums^8 arts^0.7138696312904358 galleries^0.7056008577346802 museum^0.6879461407661438 paintings^0.6505220532417297\n",
            "intelligence^8 analysis^8 analyses^0.716506838798523 cia^0.6523701548576355 study^0.5959498882293701 data^0.5852672457695007\n",
            "solar^8 flares^8 flare^0.6922165155410767 photovoltaic^0.6298309564590454 geothermal^0.5322519540786743 renewable^0.5286965370178223\n",
            "skin^8 cancer^8 prostate^0.7622983455657959 breast^0.730385959148407 cancers^0.6897203922271729 lung^0.668143630027771\n",
            "international^8 trade^8 trading^0.5894870758056641 export^0.5760176181793213 exports^0.5721320509910583 global^0.5653973817825317\n",
            "mosquito^8 control^8 mosquitoes^0.7452313899993896 controls^0.7272661924362183 controlling^0.7038863897323608 controlled^0.6740117073059082\n",
            "chronic^8 pain^8 discomfort^0.6671744585037231 suffering^0.6570124626159668 acute^0.6518863439559937 ailments^0.6360681653022766\n",
            "the^8 planet^8 mars^8 earth^0.7586148381233215 of^0.7057957649230957 which^0.6992015242576599 planets^0.6876095533370972\n",
            "ufos^8 extraterrestrials^0.6519498825073242 ufo^0.6218308210372925 saucers^0.5136354565620422 extraterrestrial^0.5028389692306519\n",
            "salmon^8 trout^0.6639248132705688 fish^0.6541996002197266 coho^0.6121472120285034 sockeye^0.5992224812507629\n",
            "migrant^8 farm^8 workers^8 employees^0.7581697702407837 migrants^0.7275637984275818 worker^0.7067151069641113 laborers^0.699421763420105\n",
            "diet^8 and^8 nutrition^8 and^8 weight^8 management^8 both^0.7574156522750854 well^0.7293297648429871 diets^0.7251991033554077 nutritional^0.6943417191505432\n",
            "vanity^8 license^8 plates^8 licenses^0.8038688898086548 licence^0.7976067066192627 plate^0.6745118498802185 licences^0.6266502141952515\n",
            "space^8 exploration^8 explorations^0.654238224029541 drilling^0.6361725926399231 nasa^0.6323994398117065 spacecraft^0.6256126165390015\n",
            "small^8 business^8 large^0.7926890850067139 tiny^0.7299140095710754 businesses^0.7113703489303589 smaller^0.7054107189178467\n",
            "species^8 identification^8 genus^0.7202737331390381 id^0.7006529569625854 subspecies^0.6669357419013977 endangered^0.6567927002906799\n",
            "information^8 security^8 data^0.6632627248764038 knowledge^0.6094878911972046 provide^0.609447181224823 provided^0.5987662076950073\n",
            "identity^8 theft^8 identities^0.7330189943313599 burglary^0.6690073013305664 thefts^0.6689273118972778 robbery^0.6639018058776855\n",
            "english^8 as^8 a^8 second^8 language^8 third^0.9416797161102295 fourth^0.8909153342247009 first^0.8507270812988281 fifth^0.8184229135513306\n",
            "gps^8 positioning^0.721989095211029 navigation^0.5891338586807251 satellite^0.5441705584526062 handheld^0.5348377227783203\n",
            "human^8 genome^8 research^8 genomes^0.7526512145996094 institute^0.7131909132003784 sequencing^0.7001535296440125 study^0.6958290338516235\n",
            "national^8 parks^8 park^0.6222367286682129 recreation^0.5710225701332092 attractions^0.5701971054077148 amusement^0.5531487464904785\n",
            "career^8 information^8 data^0.6632627248764038 careers^0.6286183595657349 knowledge^0.6094878911972046 provide^0.609447181224823\n",
            "maps^8 mapping^8 cartography^8 map^0.7619574069976807 geodesy^0.6364534497261047 surveying^0.5687181353569031 mapped^0.5643229484558105\n",
            "poetry^8 readings^8 and^8 poems^8 online^8 poem^0.8101608753204346 internet^0.7863477468490601 web^0.7744942307472229 both^0.7574156522750854\n",
            "international^8 monetary^8 fund^8 funds^0.8334825038909912 imf^0.7042394876480103 investment^0.6422876119613647 money^0.6343483924865723\n",
            "low^8 income^8 housing^8 incomes^0.7196153402328491 high^0.711487352848053 taxes^0.6800697445869446 tax^0.6773068904876709\n",
            "bioengineered^8 foods^8 crops^8 crop^0.7781695127487183 food^0.6694070100784302 maize^0.6403647661209106 cultivation^0.6336208581924438\n",
            "technology^8 transfer^8 technologies^0.778076708316803 transfers^0.6628894805908203 tech^0.6464561223983765 technological^0.6369521617889404\n",
            "federal^8 government^8 outsourcing^8 governments^0.6940836906433105 administration^0.6544793844223022 authorities^0.6283242702484131 officials^0.6262894868850708\n",
            "federal^8 grant^8 programs^8 program^0.8722531199455261 grants^0.7199536561965942 programmes^0.719157338142395 granted^0.663909375667572\n",
            "scholarship^8 programs^8 program^0.8722531199455261 scholarships^0.7539135217666626 programmes^0.719157338142395 educational^0.6359634399414062\n",
            "bioterrorism^8 bioterror^0.6558418869972229 preparedness^0.5855550169944763 bioterrorist^0.5705873966217041 smallpox^0.5379733443260193\n",
            "winter^8 weather^8 safety^8 summer^0.7940489053726196 autumn^0.6621814966201782 spring^0.657268226146698 inclement^0.6350435018539429\n",
            "national^8 laboratories^8 labs^0.8403772711753845 laboratory^0.683320164680481 lab^0.6500808000564575 association^0.5162721872329712\n",
            "after^8 school^8 programs^8 program^0.8722531199455261 before^0.8255683183670044 schools^0.7685321569442749 following^0.767315685749054\n",
            "how^8 to^8 save^8 energy^8 what^0.8515926599502563 why^0.8015264272689819 know^0.784582257270813 so^0.7829061150550842\n",
            "science^8 fairs^8 and^8 competitions^8 both^0.7574156522750854 well^0.7293297648429871 competition^0.7214504480361938 sciences^0.6844369173049927\n",
            "hurricanes^8 hurricane^0.6844997406005859 storms^0.6517481803894043 cyclones^0.5850597620010376 storm^0.5684124231338501\n",
            "minority^8 business^8 majority^0.7228528261184692 businesses^0.7113703489303589 minorities^0.7099069952964783 industry^0.6664634943008423\n",
            "recycling^8 recycle^0.6735973358154297 waste^0.6677148342132568 composting^0.6183832883834839 garbage^0.5934619903564453\n",
            "estuary^8 conservation^8 wildlife^0.7050502896308899 preservation^0.6838501691818237 biodiversity^0.6405737400054932 environmental^0.6369131803512573\n",
            "homeopathic^8 medicine^8 medical^0.6802800893783569 ayurvedic^0.6648898124694824 medicines^0.6489320397377014 herbal^0.6077438592910767\n",
            "coral^8 reef^8 systems^8 system^0.7945240139961243 reefs^0.7812837958335876 corals^0.6438301801681519 technologies^0.5902608633041382\n",
            "drunk^8 driving^8 drunken^0.7268515825271606 intoxicated^0.7166013717651367 car^0.6442224979400635 driver^0.6349006295204163\n",
            "cigarettes^8 nicotine^8 health^8 cigarette^0.7742111682891846 care^0.7632996439933777 healthcare^0.6554956436157227 tobacco^0.6531510949134827\n",
            "vietnam^8 war^8 wars^0.6829749345779419 conflict^0.6729421615600586 laos^0.6609154939651489 vietnamese^0.6530845165252686\n",
            "maritime^8 trade^8 trading^0.5894870758056641 export^0.5760176181793213 exports^0.5721320509910583 commerce^0.5500844717025757\n",
            "endangered^8 species^8 genus^0.7202737331390381 subspecies^0.6669357419013977 mammals^0.6439858675003052 endemic^0.6191591620445251\n",
            "annual^8 parades^8 yearly^0.8131017684936523 parade^0.7330937385559082 annually^0.6647332906723022 monthly^0.6541552543640137\n",
            "radon^8 contaminants^0.472609281539917 arsenic^0.4568389058113098 radioactivity^0.45454901456832886 nikodym^0.4413159489631653\n",
            "homeland^8 security^8 forces^0.5520374774932861 military^0.5472025275230408 intelligence^0.5400707721710205 officials^0.5257765650749207\n"
          ],
          "name": "stdout"
        },
        {
          "output_type": "display_data",
          "data": {
            "text/html": [
              "<div>\n",
              "<style scoped>\n",
              "    .dataframe tbody tr th:only-of-type {\n",
              "        vertical-align: middle;\n",
              "    }\n",
              "\n",
              "    .dataframe tbody tr th {\n",
              "        vertical-align: top;\n",
              "    }\n",
              "\n",
              "    .dataframe thead th {\n",
              "        text-align: right;\n",
              "    }\n",
              "</style>\n",
              "<table border=\"1\" class=\"dataframe\">\n",
              "  <thead>\n",
              "    <tr style=\"text-align: right;\">\n",
              "      <th></th>\n",
              "      <th>name</th>\n",
              "      <th>map</th>\n",
              "      <th>map +</th>\n",
              "      <th>map -</th>\n",
              "      <th>map p-value</th>\n",
              "    </tr>\n",
              "  </thead>\n",
              "  <tbody>\n",
              "    <tr>\n",
              "      <th>0</th>\n",
              "      <td>baseline PL2</td>\n",
              "      <td>0.069525</td>\n",
              "      <td>NaN</td>\n",
              "      <td>NaN</td>\n",
              "      <td>NaN</td>\n",
              "    </tr>\n",
              "    <tr>\n",
              "      <th>1</th>\n",
              "      <td>w2v_QE</td>\n",
              "      <td>0.070093</td>\n",
              "      <td>31.0</td>\n",
              "      <td>44.0</td>\n",
              "      <td>0.630755</td>\n",
              "    </tr>\n",
              "  </tbody>\n",
              "</table>\n",
              "</div>"
            ],
            "text/plain": [
              "           name       map  map +  map -  map p-value\n",
              "0  baseline PL2  0.069525    NaN    NaN          NaN\n",
              "1        w2v_QE  0.070093   31.0   44.0     0.630755"
            ]
          },
          "metadata": {
            "tags": []
          }
        }
      ]
    },
    {
      "cell_type": "code",
      "metadata": {
        "colab": {
          "base_uri": "https://localhost:8080/"
        },
        "id": "Db0vxNTIOCsp",
        "outputId": "ef120074-d9c2-4221-9a49-32b92db2d940"
      },
      "source": [
        "#produce the evaluation\r\n",
        "evaluation_1 = pt.Experiment(\r\n",
        "    [pipeline_baseline_model],\r\n",
        "    dotgov_topicsqrels.get_topics(variant=\"td\"),\r\n",
        "    dotgov_topicsqrels.get_qrels(variant=\"td\"),\r\n",
        "    eval_metrics = [\"map\"],\r\n",
        "    names = [\"baseline PL2\"],\r\n",
        "    perquery = True)\r\n",
        "\r\n",
        "#produce the evaluation\r\n",
        "evaluation_2 = pt.Experiment(\r\n",
        "    [pipeline_w2v_QE],\r\n",
        "    dotgov_topicsqrels.get_topics(variant=\"td\"),\r\n",
        "    dotgov_topicsqrels.get_qrels(variant=\"td\"),\r\n",
        "    eval_metrics = [\"map\"],\r\n",
        "    names = [\"w2v_QE\"],\r\n",
        "    perquery = True)"
      ],
      "execution_count": null,
      "outputs": [
        {
          "output_type": "stream",
          "text": [
            "electoral^8 college^8 election^0.7704978585243225 school^0.7110487222671509 graduate^0.7072936296463013 elections^0.7058415412902832\n",
            "american^8 music^8 musical^0.6985518336296082 songs^0.6906880736351013 dance^0.6395721435546875 pop^0.6392292976379395\n",
            "philippines^8 philippine^0.7187957167625427 manila^0.6627101898193359 indonesia^0.6331609487533569 thailand^0.6072970628738403\n",
            "well^8 water^8 contamination^8 contaminated^0.7600679397583008 both^0.750908374786377 so^0.7402366995811462 and^0.7293297648429871\n",
            "oil^8 petroleum^8 resources^8 resource^0.7620533108711243 crude^0.7210761308670044 gas^0.6436548233032227 barrels^0.592186689376831\n",
            "welfare^8 reform^8 reforms^0.8570170402526855 legislation^0.6427909135818481 overhaul^0.6183046102523804 policies^0.6139261722564697\n",
            "toxic^8 waste^8 wastes^0.7162880897521973 poisonous^0.6769847273826599 recycling^0.6677147746086121 chemicals^0.6596251726150513\n",
            "substance^8 abuse^8 substances^0.6938545107841492 sexual^0.6561464071273804 abuses^0.6398009657859802 abused^0.622556209564209\n",
            "child^8 care^8 health^0.7632995843887329 children^0.7450329065322876 healthcare^0.69800865650177 parents^0.6772373914718628\n",
            "hiv^8 aids^8 infection^0.6605448722839355 malaria^0.6543203592300415 virus^0.6516638994216919 tuberculosis^0.6427618861198425\n",
            "origin^8 of^8 the^8 universe^8 origins^0.7644398808479309 which^0.6992015242576599 this^0.674702525138855 part^0.6727458238601685\n",
            "teen^8 pregnancy^8 agers^0.7678036689758301 teenage^0.7605429887771606 pregnancies^0.7584468126296997 teens^0.7393885850906372\n",
            "the^8 arts^8 in^8 education^8 educational^0.737115740776062 art^0.7138696312904358 of^0.7057957649230957 which^0.6992015242576599\n",
            "magnetism^8 gravitation^0.46271947026252747 magnetic^0.45116519927978516 mesmer^0.44094279408454895 locomotion^0.42402446269989014\n",
            "public^8 school^8 standards^8 of^8 performance^8 schools^0.7685321569442749 students^0.7240082025527954 elementary^0.719539999961853 performances^0.7153171300888062\n",
            "historic^8 preservation^8 landmark^0.7000629901885986 conservation^0.6838502287864685 historical^0.6582805514335632 heritage^0.6215863227844238\n",
            "faith^8 based^8 initiatives^8 initiative^0.7424848079681396 belief^0.7239271402359009 religion^0.6368186473846436 beliefs^0.6352269649505615\n",
            "medical^8 residency^8 hospital^0.6905071139335632 doctors^0.6857442855834961 medicine^0.6802800893783569 hospitals^0.6435331702232361\n",
            "federal^8 and^8 state^8 statistics^8 both^0.7574156522750854 well^0.7293297648429871 also^0.6769881248474121 including^0.6590251922607422\n",
            "money^8 laundering^8 funds^0.7845571637153625 cash^0.7336214780807495 counterfeiting^0.6809422969818115 evasion^0.6669658422470093\n",
            "telecommuting^8 telework^0.5256293416023254 telecommute^0.5155812501907349 teleworking^0.5087077021598816 carpooling^0.43585464358329773\n",
            "religious^8 belief^8 beliefs^0.7522315979003906 faith^0.7239271402359009 religion^0.6856170892715454 contrary^0.6799822449684143\n",
            "automobile^8 emissions^8 vehicle^8 pollution^8 greenhouse^0.8631175756454468 vehicles^0.8187400102615356 dioxide^0.7871754169464111 emission^0.7752217054367065\n",
            "art^8 museums^8 arts^0.7138696312904358 galleries^0.7056008577346802 museum^0.6879461407661438 paintings^0.6505220532417297\n",
            "intelligence^8 analysis^8 analyses^0.716506838798523 cia^0.6523701548576355 study^0.5959498882293701 data^0.5852672457695007\n",
            "solar^8 flares^8 flare^0.6922165155410767 photovoltaic^0.6298309564590454 geothermal^0.5322519540786743 renewable^0.5286965370178223\n",
            "skin^8 cancer^8 prostate^0.7622983455657959 breast^0.730385959148407 cancers^0.6897203922271729 lung^0.668143630027771\n",
            "international^8 trade^8 trading^0.5894870758056641 export^0.5760176181793213 exports^0.5721320509910583 global^0.5653973817825317\n",
            "mosquito^8 control^8 mosquitoes^0.7452313899993896 controls^0.7272661924362183 controlling^0.7038863897323608 controlled^0.6740117073059082\n",
            "chronic^8 pain^8 discomfort^0.6671744585037231 suffering^0.6570124626159668 acute^0.6518863439559937 ailments^0.6360681653022766\n",
            "the^8 planet^8 mars^8 earth^0.7586148381233215 of^0.7057957649230957 which^0.6992015242576599 planets^0.6876095533370972\n",
            "ufos^8 extraterrestrials^0.6519498825073242 ufo^0.6218308210372925 saucers^0.5136354565620422 extraterrestrial^0.5028389692306519\n",
            "salmon^8 trout^0.6639248132705688 fish^0.6541996002197266 coho^0.6121472120285034 sockeye^0.5992224812507629\n",
            "migrant^8 farm^8 workers^8 employees^0.7581697702407837 migrants^0.7275637984275818 worker^0.7067151069641113 laborers^0.699421763420105\n",
            "diet^8 and^8 nutrition^8 and^8 weight^8 management^8 both^0.7574156522750854 well^0.7293297648429871 diets^0.7251991033554077 nutritional^0.6943417191505432\n",
            "vanity^8 license^8 plates^8 licenses^0.8038688898086548 licence^0.7976067066192627 plate^0.6745118498802185 licences^0.6266502141952515\n",
            "space^8 exploration^8 explorations^0.654238224029541 drilling^0.6361725926399231 nasa^0.6323994398117065 spacecraft^0.6256126165390015\n",
            "small^8 business^8 large^0.7926890850067139 tiny^0.7299140095710754 businesses^0.7113703489303589 smaller^0.7054107189178467\n",
            "species^8 identification^8 genus^0.7202737331390381 id^0.7006529569625854 subspecies^0.6669357419013977 endangered^0.6567927002906799\n",
            "information^8 security^8 data^0.6632627248764038 knowledge^0.6094878911972046 provide^0.609447181224823 provided^0.5987662076950073\n",
            "identity^8 theft^8 identities^0.7330189943313599 burglary^0.6690073013305664 thefts^0.6689273118972778 robbery^0.6639018058776855\n",
            "english^8 as^8 a^8 second^8 language^8 third^0.9416797161102295 fourth^0.8909153342247009 first^0.8507270812988281 fifth^0.8184229135513306\n",
            "gps^8 positioning^0.721989095211029 navigation^0.5891338586807251 satellite^0.5441705584526062 handheld^0.5348377227783203\n",
            "human^8 genome^8 research^8 genomes^0.7526512145996094 institute^0.7131909132003784 sequencing^0.7001535296440125 study^0.6958290338516235\n",
            "national^8 parks^8 park^0.6222367286682129 recreation^0.5710225701332092 attractions^0.5701971054077148 amusement^0.5531487464904785\n",
            "career^8 information^8 data^0.6632627248764038 careers^0.6286183595657349 knowledge^0.6094878911972046 provide^0.609447181224823\n",
            "maps^8 mapping^8 cartography^8 map^0.7619574069976807 geodesy^0.6364534497261047 surveying^0.5687181353569031 mapped^0.5643229484558105\n",
            "poetry^8 readings^8 and^8 poems^8 online^8 poem^0.8101608753204346 internet^0.7863477468490601 web^0.7744942307472229 both^0.7574156522750854\n",
            "international^8 monetary^8 fund^8 funds^0.8334825038909912 imf^0.7042394876480103 investment^0.6422876119613647 money^0.6343483924865723\n",
            "low^8 income^8 housing^8 incomes^0.7196153402328491 high^0.711487352848053 taxes^0.6800697445869446 tax^0.6773068904876709\n",
            "bioengineered^8 foods^8 crops^8 crop^0.7781695127487183 food^0.6694070100784302 maize^0.6403647661209106 cultivation^0.6336208581924438\n",
            "technology^8 transfer^8 technologies^0.778076708316803 transfers^0.6628894805908203 tech^0.6464561223983765 technological^0.6369521617889404\n",
            "federal^8 government^8 outsourcing^8 governments^0.6940836906433105 administration^0.6544793844223022 authorities^0.6283242702484131 officials^0.6262894868850708\n",
            "federal^8 grant^8 programs^8 program^0.8722531199455261 grants^0.7199536561965942 programmes^0.719157338142395 granted^0.663909375667572\n",
            "scholarship^8 programs^8 program^0.8722531199455261 scholarships^0.7539135217666626 programmes^0.719157338142395 educational^0.6359634399414062\n",
            "bioterrorism^8 bioterror^0.6558418869972229 preparedness^0.5855550169944763 bioterrorist^0.5705873966217041 smallpox^0.5379733443260193\n",
            "winter^8 weather^8 safety^8 summer^0.7940489053726196 autumn^0.6621814966201782 spring^0.657268226146698 inclement^0.6350435018539429\n",
            "national^8 laboratories^8 labs^0.8403772711753845 laboratory^0.683320164680481 lab^0.6500808000564575 association^0.5162721872329712\n",
            "after^8 school^8 programs^8 program^0.8722531199455261 before^0.8255683183670044 schools^0.7685321569442749 following^0.767315685749054\n",
            "how^8 to^8 save^8 energy^8 what^0.8515926599502563 why^0.8015264272689819 know^0.784582257270813 so^0.7829061150550842\n",
            "science^8 fairs^8 and^8 competitions^8 both^0.7574156522750854 well^0.7293297648429871 competition^0.7214504480361938 sciences^0.6844369173049927\n",
            "hurricanes^8 hurricane^0.6844997406005859 storms^0.6517481803894043 cyclones^0.5850597620010376 storm^0.5684124231338501\n",
            "minority^8 business^8 majority^0.7228528261184692 businesses^0.7113703489303589 minorities^0.7099069952964783 industry^0.6664634943008423\n",
            "recycling^8 recycle^0.6735973358154297 waste^0.6677148342132568 composting^0.6183832883834839 garbage^0.5934619903564453\n",
            "estuary^8 conservation^8 wildlife^0.7050502896308899 preservation^0.6838501691818237 biodiversity^0.6405737400054932 environmental^0.6369131803512573\n",
            "homeopathic^8 medicine^8 medical^0.6802800893783569 ayurvedic^0.6648898124694824 medicines^0.6489320397377014 herbal^0.6077438592910767\n",
            "coral^8 reef^8 systems^8 system^0.7945240139961243 reefs^0.7812837958335876 corals^0.6438301801681519 technologies^0.5902608633041382\n",
            "drunk^8 driving^8 drunken^0.7268515825271606 intoxicated^0.7166013717651367 car^0.6442224979400635 driver^0.6349006295204163\n",
            "cigarettes^8 nicotine^8 health^8 cigarette^0.7742111682891846 care^0.7632996439933777 healthcare^0.6554956436157227 tobacco^0.6531510949134827\n",
            "vietnam^8 war^8 wars^0.6829749345779419 conflict^0.6729421615600586 laos^0.6609154939651489 vietnamese^0.6530845165252686\n",
            "maritime^8 trade^8 trading^0.5894870758056641 export^0.5760176181793213 exports^0.5721320509910583 commerce^0.5500844717025757\n",
            "endangered^8 species^8 genus^0.7202737331390381 subspecies^0.6669357419013977 mammals^0.6439858675003052 endemic^0.6191591620445251\n",
            "annual^8 parades^8 yearly^0.8131017684936523 parade^0.7330937385559082 annually^0.6647332906723022 monthly^0.6541552543640137\n",
            "radon^8 contaminants^0.472609281539917 arsenic^0.4568389058113098 radioactivity^0.45454901456832886 nikodym^0.4413159489631653\n",
            "homeland^8 security^8 forces^0.5520374774932861 military^0.5472025275230408 intelligence^0.5400707721710205 officials^0.5257765650749207\n"
          ],
          "name": "stdout"
        }
      ]
    },
    {
      "cell_type": "code",
      "metadata": {
        "colab": {
          "base_uri": "https://localhost:8080/",
          "height": 399
        },
        "id": "duauJipRPDe-",
        "outputId": "9f229f41-bd20-4a0f-ab1f-0afcd1645c8b"
      },
      "source": [
        "display(evaluation_1)"
      ],
      "execution_count": null,
      "outputs": [
        {
          "output_type": "display_data",
          "data": {
            "text/html": [
              "<div>\n",
              "<style scoped>\n",
              "    .dataframe tbody tr th:only-of-type {\n",
              "        vertical-align: middle;\n",
              "    }\n",
              "\n",
              "    .dataframe tbody tr th {\n",
              "        vertical-align: top;\n",
              "    }\n",
              "\n",
              "    .dataframe thead th {\n",
              "        text-align: right;\n",
              "    }\n",
              "</style>\n",
              "<table border=\"1\" class=\"dataframe\">\n",
              "  <thead>\n",
              "    <tr style=\"text-align: right;\">\n",
              "      <th></th>\n",
              "      <th>name</th>\n",
              "      <th>qid</th>\n",
              "      <th>measure</th>\n",
              "      <th>value</th>\n",
              "    </tr>\n",
              "  </thead>\n",
              "  <tbody>\n",
              "    <tr>\n",
              "      <th>0</th>\n",
              "      <td>baseline PL2</td>\n",
              "      <td>1</td>\n",
              "      <td>map</td>\n",
              "      <td>0.192260</td>\n",
              "    </tr>\n",
              "    <tr>\n",
              "      <th>1</th>\n",
              "      <td>baseline PL2</td>\n",
              "      <td>5</td>\n",
              "      <td>map</td>\n",
              "      <td>0.175462</td>\n",
              "    </tr>\n",
              "    <tr>\n",
              "      <th>2</th>\n",
              "      <td>baseline PL2</td>\n",
              "      <td>8</td>\n",
              "      <td>map</td>\n",
              "      <td>0.067678</td>\n",
              "    </tr>\n",
              "    <tr>\n",
              "      <th>3</th>\n",
              "      <td>baseline PL2</td>\n",
              "      <td>10</td>\n",
              "      <td>map</td>\n",
              "      <td>0.005882</td>\n",
              "    </tr>\n",
              "    <tr>\n",
              "      <th>4</th>\n",
              "      <td>baseline PL2</td>\n",
              "      <td>12</td>\n",
              "      <td>map</td>\n",
              "      <td>0.016414</td>\n",
              "    </tr>\n",
              "    <tr>\n",
              "      <th>...</th>\n",
              "      <td>...</td>\n",
              "      <td>...</td>\n",
              "      <td>...</td>\n",
              "      <td>...</td>\n",
              "    </tr>\n",
              "    <tr>\n",
              "      <th>70</th>\n",
              "      <td>baseline PL2</td>\n",
              "      <td>200</td>\n",
              "      <td>map</td>\n",
              "      <td>0.024660</td>\n",
              "    </tr>\n",
              "    <tr>\n",
              "      <th>71</th>\n",
              "      <td>baseline PL2</td>\n",
              "      <td>204</td>\n",
              "      <td>map</td>\n",
              "      <td>0.098070</td>\n",
              "    </tr>\n",
              "    <tr>\n",
              "      <th>72</th>\n",
              "      <td>baseline PL2</td>\n",
              "      <td>207</td>\n",
              "      <td>map</td>\n",
              "      <td>0.037714</td>\n",
              "    </tr>\n",
              "    <tr>\n",
              "      <th>73</th>\n",
              "      <td>baseline PL2</td>\n",
              "      <td>209</td>\n",
              "      <td>map</td>\n",
              "      <td>0.178180</td>\n",
              "    </tr>\n",
              "    <tr>\n",
              "      <th>74</th>\n",
              "      <td>baseline PL2</td>\n",
              "      <td>221</td>\n",
              "      <td>map</td>\n",
              "      <td>0.175377</td>\n",
              "    </tr>\n",
              "  </tbody>\n",
              "</table>\n",
              "<p>75 rows × 4 columns</p>\n",
              "</div>"
            ],
            "text/plain": [
              "            name  qid measure     value\n",
              "0   baseline PL2    1     map  0.192260\n",
              "1   baseline PL2    5     map  0.175462\n",
              "2   baseline PL2    8     map  0.067678\n",
              "3   baseline PL2   10     map  0.005882\n",
              "4   baseline PL2   12     map  0.016414\n",
              "..           ...  ...     ...       ...\n",
              "70  baseline PL2  200     map  0.024660\n",
              "71  baseline PL2  204     map  0.098070\n",
              "72  baseline PL2  207     map  0.037714\n",
              "73  baseline PL2  209     map  0.178180\n",
              "74  baseline PL2  221     map  0.175377\n",
              "\n",
              "[75 rows x 4 columns]"
            ]
          },
          "metadata": {
            "tags": []
          }
        }
      ]
    },
    {
      "cell_type": "code",
      "metadata": {
        "colab": {
          "base_uri": "https://localhost:8080/",
          "height": 399
        },
        "id": "D22qSx13PDSp",
        "outputId": "1ca226e4-fd2f-4107-aae4-67b51b6ba56d"
      },
      "source": [
        "display(evaluation_2)"
      ],
      "execution_count": null,
      "outputs": [
        {
          "output_type": "display_data",
          "data": {
            "text/html": [
              "<div>\n",
              "<style scoped>\n",
              "    .dataframe tbody tr th:only-of-type {\n",
              "        vertical-align: middle;\n",
              "    }\n",
              "\n",
              "    .dataframe tbody tr th {\n",
              "        vertical-align: top;\n",
              "    }\n",
              "\n",
              "    .dataframe thead th {\n",
              "        text-align: right;\n",
              "    }\n",
              "</style>\n",
              "<table border=\"1\" class=\"dataframe\">\n",
              "  <thead>\n",
              "    <tr style=\"text-align: right;\">\n",
              "      <th></th>\n",
              "      <th>name</th>\n",
              "      <th>qid</th>\n",
              "      <th>measure</th>\n",
              "      <th>value</th>\n",
              "    </tr>\n",
              "  </thead>\n",
              "  <tbody>\n",
              "    <tr>\n",
              "      <th>0</th>\n",
              "      <td>w2v_QE</td>\n",
              "      <td>1</td>\n",
              "      <td>map</td>\n",
              "      <td>0.194108</td>\n",
              "    </tr>\n",
              "    <tr>\n",
              "      <th>1</th>\n",
              "      <td>w2v_QE</td>\n",
              "      <td>5</td>\n",
              "      <td>map</td>\n",
              "      <td>0.163695</td>\n",
              "    </tr>\n",
              "    <tr>\n",
              "      <th>2</th>\n",
              "      <td>w2v_QE</td>\n",
              "      <td>8</td>\n",
              "      <td>map</td>\n",
              "      <td>0.058382</td>\n",
              "    </tr>\n",
              "    <tr>\n",
              "      <th>3</th>\n",
              "      <td>w2v_QE</td>\n",
              "      <td>10</td>\n",
              "      <td>map</td>\n",
              "      <td>0.005714</td>\n",
              "    </tr>\n",
              "    <tr>\n",
              "      <th>4</th>\n",
              "      <td>w2v_QE</td>\n",
              "      <td>12</td>\n",
              "      <td>map</td>\n",
              "      <td>0.016073</td>\n",
              "    </tr>\n",
              "    <tr>\n",
              "      <th>...</th>\n",
              "      <td>...</td>\n",
              "      <td>...</td>\n",
              "      <td>...</td>\n",
              "      <td>...</td>\n",
              "    </tr>\n",
              "    <tr>\n",
              "      <th>70</th>\n",
              "      <td>w2v_QE</td>\n",
              "      <td>200</td>\n",
              "      <td>map</td>\n",
              "      <td>0.018949</td>\n",
              "    </tr>\n",
              "    <tr>\n",
              "      <th>71</th>\n",
              "      <td>w2v_QE</td>\n",
              "      <td>204</td>\n",
              "      <td>map</td>\n",
              "      <td>0.078121</td>\n",
              "    </tr>\n",
              "    <tr>\n",
              "      <th>72</th>\n",
              "      <td>w2v_QE</td>\n",
              "      <td>207</td>\n",
              "      <td>map</td>\n",
              "      <td>0.038604</td>\n",
              "    </tr>\n",
              "    <tr>\n",
              "      <th>73</th>\n",
              "      <td>w2v_QE</td>\n",
              "      <td>209</td>\n",
              "      <td>map</td>\n",
              "      <td>0.218533</td>\n",
              "    </tr>\n",
              "    <tr>\n",
              "      <th>74</th>\n",
              "      <td>w2v_QE</td>\n",
              "      <td>221</td>\n",
              "      <td>map</td>\n",
              "      <td>0.163797</td>\n",
              "    </tr>\n",
              "  </tbody>\n",
              "</table>\n",
              "<p>75 rows × 4 columns</p>\n",
              "</div>"
            ],
            "text/plain": [
              "      name  qid measure     value\n",
              "0   w2v_QE    1     map  0.194108\n",
              "1   w2v_QE    5     map  0.163695\n",
              "2   w2v_QE    8     map  0.058382\n",
              "3   w2v_QE   10     map  0.005714\n",
              "4   w2v_QE   12     map  0.016073\n",
              "..     ...  ...     ...       ...\n",
              "70  w2v_QE  200     map  0.018949\n",
              "71  w2v_QE  204     map  0.078121\n",
              "72  w2v_QE  207     map  0.038604\n",
              "73  w2v_QE  209     map  0.218533\n",
              "74  w2v_QE  221     map  0.163797\n",
              "\n",
              "[75 rows x 4 columns]"
            ]
          },
          "metadata": {
            "tags": []
          }
        }
      ]
    },
    {
      "cell_type": "code",
      "metadata": {
        "colab": {
          "base_uri": "https://localhost:8080/"
        },
        "id": "boVvCgKgPtsZ",
        "outputId": "1a237b14-0c7a-4a77-e3ea-28a5a5104e9b"
      },
      "source": [
        "new = evaluation_1['value'] - evaluation_2['value']\r\n",
        "new.tolist()\r\n",
        "print(sum(i < 0 for i in new))\r\n",
        "print(sum(i > 0 for i in new))\r\n"
      ],
      "execution_count": null,
      "outputs": [
        {
          "output_type": "stream",
          "text": [
            "31\n",
            "44\n"
          ],
          "name": "stdout"
        }
      ]
    },
    {
      "cell_type": "code",
      "metadata": {
        "colab": {
          "base_uri": "https://localhost:8080/",
          "height": 53
        },
        "id": "LvbyRRTrRTp4",
        "outputId": "df1fb6e1-26e1-4f90-c68f-2b7151e5a011"
      },
      "source": [
        "pipeline_w2v_QE.search(\"ufos\")['query'][0]"
      ],
      "execution_count": null,
      "outputs": [
        {
          "output_type": "stream",
          "text": [
            "ufos^8 extraterrestrials^0.6519498825073242 ufo^0.6218308210372925 saucers^0.5136354565620422 extraterrestrial^0.5028389692306519\n"
          ],
          "name": "stdout"
        },
        {
          "output_type": "execute_result",
          "data": {
            "application/vnd.google.colaboratory.intrinsic+json": {
              "type": "string"
            },
            "text/plain": [
              "'ufos^8 extraterrestrials^0.6519498825073242 ufo^0.6218308210372925 saucers^0.5136354565620422 extraterrestrial^0.5028389692306519'"
            ]
          },
          "metadata": {
            "tags": []
          },
          "execution_count": 224
        }
      ]
    },
    {
      "cell_type": "markdown",
      "metadata": {
        "id": "BLuwITIISDL-"
      },
      "source": [
        "# That's all Folks\n",
        "\n",
        "**Submission Instructions:** Complete this notebook, and answer the related questions in the Exercise 1 Quiz Instance on Moodle. As part of the Quiz, you will be asked to upload your .ipynb notebook solution and answer various corresponding questions as per the exercise specification (use File... Download .ipynb).\n",
        "\n",
        "Your responses to the Quiz along with your ipynb notebook solution must be submitted by **Wednesday 24th February 2021, 4:30pm**."
      ]
    },
    {
      "cell_type": "code",
      "metadata": {
        "id": "eHguMx4ow56G"
      },
      "source": [
        ""
      ],
      "execution_count": null,
      "outputs": []
    }
  ]
}